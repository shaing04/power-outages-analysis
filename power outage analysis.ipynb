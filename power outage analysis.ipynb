{
 "cells": [
  {
   "cell_type": "markdown",
   "metadata": {},
   "source": [
    "# Power Outage Data Analysis\n",
    "\n",
    "**Name(s)**: Susana Haing, Sonali Singh\n",
    "\n",
    "**Website Link**: [Power Outage Data Analysis](https://shaing04.github.io/power-outages-analysis/)"
   ]
  },
  {
   "cell_type": "code",
   "execution_count": 71,
   "metadata": {
    "ExecuteTime": {
     "end_time": "2019-10-31T23:36:28.652554Z",
     "start_time": "2019-10-31T23:36:27.180520Z"
    }
   },
   "outputs": [],
   "source": [
    "import pandas as pd\n",
    "import numpy as np\n",
    "from pathlib import Path\n",
    "import matplotlib.pyplot as plt\n",
    "import seaborn as sns\n",
    "import scipy.stats as stats\n",
    "\n",
    "import plotly.express as px\n",
    "pd.options.plotting.backend = 'plotly'\n",
    "\n",
    "import us \n",
    "from us import states\n",
    "\n",
    "from sklearn.linear_model import LinearRegression\n",
    "from sklearn.compose import ColumnTransformer\n",
    "from sklearn.preprocessing import OneHotEncoder, StandardScaler, QuantileTransformer\n",
    "from sklearn.pipeline import Pipeline\n",
    "from sklearn.pipeline import make_pipeline\n",
    "from sklearn.compose import make_column_transformer\n",
    "from sklearn.model_selection import train_test_split\n",
    "from sklearn.metrics import mean_absolute_error, root_mean_squared_error, r2_score, mean_squared_error\n"
   ]
  },
  {
   "cell_type": "markdown",
   "metadata": {},
   "source": [
    "## Step 1: Introduction"
   ]
  },
  {
   "cell_type": "markdown",
   "metadata": {},
   "source": [
    "In this project, we examined Purdue University's Laboratory for Advancing Sustainable Critical Infrastructure [data](https://engineering.purdue.edu/LASCI/research-data/outages) of power outages in the United States from January 2000 to July 2016. \n",
    "\n",
    "The data includes information about each major power outage, including but not limited to: geographical location, climate/weather, outage cause, and the number of people affected. \n",
    "\n",
    "Our overarching research question is: How do different causes affect power outages? We will do a deeper dive into how the different causes of power outages within the dataset will affect the length of a power outage. \n",
    "\n",
    "After determining whether there exists a causal relationship, we will also build a model that will predict the length of a power outage given different features. This is important as more often than not, customers want to know how long their power outages will last, whether it was due to maintenance or an unintentional outage. Being able to provide a good estimate of how long a power outage will last based on the various circumstances such as weather and location, can allow power companies to better inform their consumers.\n",
    "\n"
   ]
  },
  {
   "cell_type": "markdown",
   "metadata": {},
   "source": [
    "For our analysis, we will be focusing on the following variables. \n",
    "\n",
    "<div id=\"div3\">\n",
    "        <br>\n",
    "        <table border=\"1\">\n",
    "            <tr class=\"heading\">\n",
    "                <th>Variable</th>\n",
    "                <th>Description</th>\n",
    "            </tr>\n",
    "            <tr class=\"row1\">\n",
    "                <td>YEAR</td>\n",
    "                <td>The year an outage occurred</td>\n",
    "            </tr>\n",
    "            <tr class=\"row2\">\n",
    "                <td>MONTH</td>\n",
    "                <td>The month an outage occurred</td>\n",
    "            </tr>\n",
    "            <tr class=\"row3\">\n",
    "                <td>U.S._STATE</td>\n",
    "                <td>The specific US State the power outage occurred in</td>\n",
    "            </tr>\n",
    "            <tr class=\"row4\">\n",
    "                <td>NERC.REGION</td>\n",
    "                <td>North American Electric Reliability Corporation regions of an outage</td>\n",
    "            </tr>\n",
    "            <tr class=\"row5\">\n",
    "                <td>CLIMATE.REGION</td>\n",
    "                <td>The 9 climate regions in the United States defined by the National Centers for Environmental Information</td>\n",
    "            </tr>\n",
    "            <tr class=\"row6\">\n",
    "                <td>OUTAGE.START.DATE</td>\n",
    "                <td>The date an outage started</td>\n",
    "            </tr>\n",
    "            <tr class=\"row7\">\n",
    "                <td>OUTAGE.START.TIME</td>\n",
    "                <td>The time an outage started</td>\n",
    "            </tr>\n",
    "            <tr class=\"row8\">\n",
    "                <td>OUTAGE.RESTORATION.DATE</td>\n",
    "                <td>The date an outage was resolved</td>\n",
    "            </tr>\n",
    "            <tr class=\"row9\">\n",
    "                <td>OUTAGE.RESTORATION.TIME</td>\n",
    "                <td>The time an outage was resolved</td>\n",
    "            </tr>\n",
    "            <tr class=\"row10\">\n",
    "                <td>CAUSE.CATEGORY</td>\n",
    "                <td>Different causes of any given power outage</td>\n",
    "            </tr>\n",
    "            <tr class=\"row11\">\n",
    "                <td>CLIMATE.CATEGORY</td>\n",
    "                <td>Whether it was cold, hot, or normal climate during the time of the outage</td>\n",
    "            </tr>\n",
    "            <tr class=\"row12\">\n",
    "                <td>OUTAGE.DURATION</td>\n",
    "                <td>The amount of time an outage lasted in minutes</td>\n",
    "            </tr>\n",
    "            <tr class=\"row13\">\n",
    "                <td>CUSTOMERS.AFFECTED</td>\n",
    "                <td>The number of customers affected by an outage</td>\n",
    "            </tr>\n",
    "            <tr class=\"row14\">\n",
    "                <td>POPDEN_URBAN</td>\n",
    "                <td>Population density of urban areas (# persons per square mile)</td>\n",
    "            </tr>\n",
    "        </table>\n",
    "    </div>"
   ]
  },
  {
   "cell_type": "markdown",
   "metadata": {},
   "source": [
    "## Step 2: Data Cleaning and Exploratory Data Analysis"
   ]
  },
  {
   "cell_type": "markdown",
   "metadata": {},
   "source": [
    "The first step in Data Cleaning and Exploratory Data Analysis, we will be dropping all other columns in the dataset except for the ones listed above. "
   ]
  },
  {
   "cell_type": "code",
   "execution_count": 72,
   "metadata": {
    "ExecuteTime": {
     "end_time": "2019-10-31T23:36:28.657068Z",
     "start_time": "2019-10-31T23:36:28.654650Z"
    }
   },
   "outputs": [],
   "source": [
    "outage = pd.read_csv('outage.csv')"
   ]
  },
  {
   "cell_type": "markdown",
   "metadata": {},
   "source": [
    "The original dataset comes with 57 total different variables, but we will focus only on the following columns for analysis and relevance sake.\n",
    "\n",
    "Additionally, rather than having the start and restoration columns be separated by date and time, we will condense them into one column each. \n",
    "So 'OUTAGE.START.DATE' and 'OUTAGE.START.TIME' will be condensed into 'OUTAGE.START', and 'OUTAGE.RESTORATION.DATE' and 'OUTAGE.RESTORATION.TIME' will be condensed into 'OUTAGE.RESTORATION'. And after condensing, we will drop the 'OUTAGE.START.DATE', 'OUTAGE.START.TIME', 'OUTAGE.RESTORATION.TIME', and 'OUTAGE.RESTORATION.DATE' columns as they are now duplicate columns.\n",
    "\n"
   ]
  },
  {
   "cell_type": "code",
   "execution_count": 73,
   "metadata": {},
   "outputs": [],
   "source": [
    "working_outages = pd.read_csv('outage.csv', header=5)\n",
    "\n",
    "columns_to_keep = [\n",
    "    'YEAR', 'MONTH', 'U.S._STATE', 'NERC.REGION', 'CLIMATE.REGION',\n",
    "    'OUTAGE.START.DATE', 'OUTAGE.START.TIME',\n",
    "    'OUTAGE.RESTORATION.DATE', 'OUTAGE.RESTORATION.TIME',\n",
    "    'CAUSE.CATEGORY', 'CLIMATE.CATEGORY', 'OUTAGE.DURATION',\n",
    "    'CUSTOMERS.AFFECTED', 'TOTAL.CUSTOMERS', 'POPDEN_URBAN'\n",
    "]\n",
    "\n",
    "outages_df = working_outages[columns_to_keep]\n",
    "\n",
    "\n",
    "outages_df = outages_df[columns_to_keep]\n",
    "outages_df = outages_df.drop(0)\n",
    "outages_df = outages_df.reset_index(drop=True)"
   ]
  },
  {
   "cell_type": "code",
   "execution_count": 74,
   "metadata": {},
   "outputs": [],
   "source": [
    "outages_df['OUTAGE.START'] = pd.to_datetime(\n",
    "    outages_df['OUTAGE.START.DATE'] + ' ' + outages_df['OUTAGE.START.TIME'],\n",
    "    format='%A, %B %d, %Y %I:%M:%S %p'  \n",
    ")\n",
    "\n",
    "outages_df['OUTAGE.RESTORATION'] = pd.to_datetime(\n",
    "    outages_df['OUTAGE.RESTORATION.DATE'] + ' ' + outages_df['OUTAGE.RESTORATION.TIME'],\n",
    "    format='%A, %B %d, %Y %I:%M:%S %p'  )\n"
   ]
  },
  {
   "cell_type": "code",
   "execution_count": 75,
   "metadata": {},
   "outputs": [],
   "source": [
    "outages_df = outages_df.drop(columns=[\n",
    "    'OUTAGE.START.DATE', \n",
    "    'OUTAGE.START.TIME', \n",
    "    'OUTAGE.RESTORATION.DATE', \n",
    "    'OUTAGE.RESTORATION.TIME'\n",
    "])"
   ]
  },
  {
   "cell_type": "code",
   "execution_count": 108,
   "metadata": {},
   "outputs": [
    {
     "data": {
      "text/html": [
       "<div>\n",
       "<style scoped>\n",
       "    .dataframe tbody tr th:only-of-type {\n",
       "        vertical-align: middle;\n",
       "    }\n",
       "\n",
       "    .dataframe tbody tr th {\n",
       "        vertical-align: top;\n",
       "    }\n",
       "\n",
       "    .dataframe thead th {\n",
       "        text-align: right;\n",
       "    }\n",
       "</style>\n",
       "<table border=\"1\" class=\"dataframe\">\n",
       "  <thead>\n",
       "    <tr style=\"text-align: right;\">\n",
       "      <th></th>\n",
       "      <th>YEAR</th>\n",
       "      <th>MONTH</th>\n",
       "      <th>U.S._STATE</th>\n",
       "      <th>NERC.REGION</th>\n",
       "      <th>CLIMATE.REGION</th>\n",
       "      <th>CAUSE.CATEGORY</th>\n",
       "      <th>CLIMATE.CATEGORY</th>\n",
       "      <th>OUTAGE.DURATION</th>\n",
       "      <th>CUSTOMERS.AFFECTED</th>\n",
       "      <th>TOTAL.CUSTOMERS</th>\n",
       "      <th>POPDEN_URBAN</th>\n",
       "      <th>OUTAGE.START</th>\n",
       "      <th>OUTAGE.RESTORATION</th>\n",
       "    </tr>\n",
       "  </thead>\n",
       "  <tbody>\n",
       "    <tr>\n",
       "      <th>0</th>\n",
       "      <td>2011.0</td>\n",
       "      <td>7.0</td>\n",
       "      <td>Minnesota</td>\n",
       "      <td>MRO</td>\n",
       "      <td>East North Central</td>\n",
       "      <td>severe weather</td>\n",
       "      <td>normal</td>\n",
       "      <td>3060</td>\n",
       "      <td>70000.0</td>\n",
       "      <td>2595696.0</td>\n",
       "      <td>2279</td>\n",
       "      <td>2011-07-01 17:00:00</td>\n",
       "      <td>2011-07-03 20:00:00</td>\n",
       "    </tr>\n",
       "    <tr>\n",
       "      <th>1</th>\n",
       "      <td>2014.0</td>\n",
       "      <td>5.0</td>\n",
       "      <td>Minnesota</td>\n",
       "      <td>MRO</td>\n",
       "      <td>East North Central</td>\n",
       "      <td>intentional attack</td>\n",
       "      <td>normal</td>\n",
       "      <td>1</td>\n",
       "      <td>NaN</td>\n",
       "      <td>2640737.0</td>\n",
       "      <td>2279</td>\n",
       "      <td>2014-05-11 18:38:00</td>\n",
       "      <td>2014-05-11 18:39:00</td>\n",
       "    </tr>\n",
       "    <tr>\n",
       "      <th>2</th>\n",
       "      <td>2010.0</td>\n",
       "      <td>10.0</td>\n",
       "      <td>Minnesota</td>\n",
       "      <td>MRO</td>\n",
       "      <td>East North Central</td>\n",
       "      <td>severe weather</td>\n",
       "      <td>cold</td>\n",
       "      <td>3000</td>\n",
       "      <td>70000.0</td>\n",
       "      <td>2586905.0</td>\n",
       "      <td>2279</td>\n",
       "      <td>2010-10-26 20:00:00</td>\n",
       "      <td>2010-10-28 22:00:00</td>\n",
       "    </tr>\n",
       "    <tr>\n",
       "      <th>3</th>\n",
       "      <td>2012.0</td>\n",
       "      <td>6.0</td>\n",
       "      <td>Minnesota</td>\n",
       "      <td>MRO</td>\n",
       "      <td>East North Central</td>\n",
       "      <td>severe weather</td>\n",
       "      <td>normal</td>\n",
       "      <td>2550</td>\n",
       "      <td>68200.0</td>\n",
       "      <td>2606813.0</td>\n",
       "      <td>2279</td>\n",
       "      <td>2012-06-19 04:30:00</td>\n",
       "      <td>2012-06-20 23:00:00</td>\n",
       "    </tr>\n",
       "    <tr>\n",
       "      <th>4</th>\n",
       "      <td>2015.0</td>\n",
       "      <td>7.0</td>\n",
       "      <td>Minnesota</td>\n",
       "      <td>MRO</td>\n",
       "      <td>East North Central</td>\n",
       "      <td>severe weather</td>\n",
       "      <td>warm</td>\n",
       "      <td>1740</td>\n",
       "      <td>250000.0</td>\n",
       "      <td>2673531.0</td>\n",
       "      <td>2279</td>\n",
       "      <td>2015-07-18 02:00:00</td>\n",
       "      <td>2015-07-19 07:00:00</td>\n",
       "    </tr>\n",
       "  </tbody>\n",
       "</table>\n",
       "</div>"
      ],
      "text/plain": [
       "     YEAR  MONTH U.S._STATE NERC.REGION      CLIMATE.REGION  \\\n",
       "0  2011.0    7.0  Minnesota         MRO  East North Central   \n",
       "1  2014.0    5.0  Minnesota         MRO  East North Central   \n",
       "2  2010.0   10.0  Minnesota         MRO  East North Central   \n",
       "3  2012.0    6.0  Minnesota         MRO  East North Central   \n",
       "4  2015.0    7.0  Minnesota         MRO  East North Central   \n",
       "\n",
       "       CAUSE.CATEGORY CLIMATE.CATEGORY OUTAGE.DURATION  CUSTOMERS.AFFECTED  \\\n",
       "0      severe weather           normal            3060             70000.0   \n",
       "1  intentional attack           normal               1                 NaN   \n",
       "2      severe weather             cold            3000             70000.0   \n",
       "3      severe weather           normal            2550             68200.0   \n",
       "4      severe weather             warm            1740            250000.0   \n",
       "\n",
       "   TOTAL.CUSTOMERS POPDEN_URBAN        OUTAGE.START  OUTAGE.RESTORATION  \n",
       "0        2595696.0         2279 2011-07-01 17:00:00 2011-07-03 20:00:00  \n",
       "1        2640737.0         2279 2014-05-11 18:38:00 2014-05-11 18:39:00  \n",
       "2        2586905.0         2279 2010-10-26 20:00:00 2010-10-28 22:00:00  \n",
       "3        2606813.0         2279 2012-06-19 04:30:00 2012-06-20 23:00:00  \n",
       "4        2673531.0         2279 2015-07-18 02:00:00 2015-07-19 07:00:00  "
      ]
     },
     "execution_count": 108,
     "metadata": {},
     "output_type": "execute_result"
    }
   ],
   "source": [
    "outages_df.head()"
   ]
  },
  {
   "cell_type": "markdown",
   "metadata": {},
   "source": [
    "Here, in the 'OUTAGE.DURATION' and 'CUSTOMERS.AFFECTED' columns, we can see that there are some rows with 0 as its values, which doesn't make any sense as there is no power outage that lasted 0 minutes and affected 0 customers, so we changed it to np.nan values so they wouldn't skew the data."
   ]
  },
  {
   "cell_type": "code",
   "execution_count": 109,
   "metadata": {},
   "outputs": [],
   "source": [
    "outages_df['OUTAGE.DURATION'] = outages_df['OUTAGE.DURATION'].replace(0, np.nan)"
   ]
  },
  {
   "cell_type": "code",
   "execution_count": null,
   "metadata": {},
   "outputs": [
    {
     "data": {
      "text/html": [
       "<div>\n",
       "<style scoped>\n",
       "    .dataframe tbody tr th:only-of-type {\n",
       "        vertical-align: middle;\n",
       "    }\n",
       "\n",
       "    .dataframe tbody tr th {\n",
       "        vertical-align: top;\n",
       "    }\n",
       "\n",
       "    .dataframe thead th {\n",
       "        text-align: right;\n",
       "    }\n",
       "</style>\n",
       "<table border=\"1\" class=\"dataframe\">\n",
       "  <thead>\n",
       "    <tr style=\"text-align: right;\">\n",
       "      <th></th>\n",
       "      <th>YEAR</th>\n",
       "      <th>MONTH</th>\n",
       "      <th>U.S._STATE</th>\n",
       "      <th>NERC.REGION</th>\n",
       "      <th>CLIMATE.REGION</th>\n",
       "      <th>CAUSE.CATEGORY</th>\n",
       "      <th>CLIMATE.CATEGORY</th>\n",
       "      <th>OUTAGE.DURATION</th>\n",
       "      <th>CUSTOMERS.AFFECTED</th>\n",
       "      <th>TOTAL.CUSTOMERS</th>\n",
       "      <th>POPDEN_URBAN</th>\n",
       "      <th>OUTAGE.START</th>\n",
       "      <th>OUTAGE.RESTORATION</th>\n",
       "    </tr>\n",
       "  </thead>\n",
       "  <tbody>\n",
       "    <tr>\n",
       "      <th>0</th>\n",
       "      <td>2011.0</td>\n",
       "      <td>7.0</td>\n",
       "      <td>Minnesota</td>\n",
       "      <td>MRO</td>\n",
       "      <td>East North Central</td>\n",
       "      <td>severe weather</td>\n",
       "      <td>normal</td>\n",
       "      <td>3060</td>\n",
       "      <td>70000.0</td>\n",
       "      <td>2595696.0</td>\n",
       "      <td>2279</td>\n",
       "      <td>2011-07-01 17:00:00</td>\n",
       "      <td>2011-07-03 20:00:00</td>\n",
       "    </tr>\n",
       "    <tr>\n",
       "      <th>1</th>\n",
       "      <td>2014.0</td>\n",
       "      <td>5.0</td>\n",
       "      <td>Minnesota</td>\n",
       "      <td>MRO</td>\n",
       "      <td>East North Central</td>\n",
       "      <td>intentional attack</td>\n",
       "      <td>normal</td>\n",
       "      <td>1</td>\n",
       "      <td>NaN</td>\n",
       "      <td>2640737.0</td>\n",
       "      <td>2279</td>\n",
       "      <td>2014-05-11 18:38:00</td>\n",
       "      <td>2014-05-11 18:39:00</td>\n",
       "    </tr>\n",
       "    <tr>\n",
       "      <th>2</th>\n",
       "      <td>2010.0</td>\n",
       "      <td>10.0</td>\n",
       "      <td>Minnesota</td>\n",
       "      <td>MRO</td>\n",
       "      <td>East North Central</td>\n",
       "      <td>severe weather</td>\n",
       "      <td>cold</td>\n",
       "      <td>3000</td>\n",
       "      <td>70000.0</td>\n",
       "      <td>2586905.0</td>\n",
       "      <td>2279</td>\n",
       "      <td>2010-10-26 20:00:00</td>\n",
       "      <td>2010-10-28 22:00:00</td>\n",
       "    </tr>\n",
       "    <tr>\n",
       "      <th>3</th>\n",
       "      <td>2012.0</td>\n",
       "      <td>6.0</td>\n",
       "      <td>Minnesota</td>\n",
       "      <td>MRO</td>\n",
       "      <td>East North Central</td>\n",
       "      <td>severe weather</td>\n",
       "      <td>normal</td>\n",
       "      <td>2550</td>\n",
       "      <td>68200.0</td>\n",
       "      <td>2606813.0</td>\n",
       "      <td>2279</td>\n",
       "      <td>2012-06-19 04:30:00</td>\n",
       "      <td>2012-06-20 23:00:00</td>\n",
       "    </tr>\n",
       "    <tr>\n",
       "      <th>4</th>\n",
       "      <td>2015.0</td>\n",
       "      <td>7.0</td>\n",
       "      <td>Minnesota</td>\n",
       "      <td>MRO</td>\n",
       "      <td>East North Central</td>\n",
       "      <td>severe weather</td>\n",
       "      <td>warm</td>\n",
       "      <td>1740</td>\n",
       "      <td>250000.0</td>\n",
       "      <td>2673531.0</td>\n",
       "      <td>2279</td>\n",
       "      <td>2015-07-18 02:00:00</td>\n",
       "      <td>2015-07-19 07:00:00</td>\n",
       "    </tr>\n",
       "  </tbody>\n",
       "</table>\n",
       "</div>"
      ],
      "text/plain": [
       "     YEAR  MONTH U.S._STATE NERC.REGION      CLIMATE.REGION  \\\n",
       "0  2011.0    7.0  Minnesota         MRO  East North Central   \n",
       "1  2014.0    5.0  Minnesota         MRO  East North Central   \n",
       "2  2010.0   10.0  Minnesota         MRO  East North Central   \n",
       "3  2012.0    6.0  Minnesota         MRO  East North Central   \n",
       "4  2015.0    7.0  Minnesota         MRO  East North Central   \n",
       "\n",
       "       CAUSE.CATEGORY CLIMATE.CATEGORY OUTAGE.DURATION  CUSTOMERS.AFFECTED  \\\n",
       "0      severe weather           normal            3060             70000.0   \n",
       "1  intentional attack           normal               1                 NaN   \n",
       "2      severe weather             cold            3000             70000.0   \n",
       "3      severe weather           normal            2550             68200.0   \n",
       "4      severe weather             warm            1740            250000.0   \n",
       "\n",
       "   TOTAL.CUSTOMERS POPDEN_URBAN        OUTAGE.START  OUTAGE.RESTORATION  \n",
       "0        2595696.0         2279 2011-07-01 17:00:00 2011-07-03 20:00:00  \n",
       "1        2640737.0         2279 2014-05-11 18:38:00 2014-05-11 18:39:00  \n",
       "2        2586905.0         2279 2010-10-26 20:00:00 2010-10-28 22:00:00  \n",
       "3        2606813.0         2279 2012-06-19 04:30:00 2012-06-20 23:00:00  \n",
       "4        2673531.0         2279 2015-07-18 02:00:00 2015-07-19 07:00:00  "
      ]
     },
     "execution_count": 111,
     "metadata": {},
     "output_type": "execute_result"
    }
   ],
   "source": []
  },
  {
   "cell_type": "code",
   "execution_count": 110,
   "metadata": {},
   "outputs": [],
   "source": [
    "outages_by_state = outages_df['U.S._STATE'].value_counts().reset_index()\n",
    "outages_by_state.columns = ['STATE', 'OUTAGE_COUNT'] "
   ]
  },
  {
   "cell_type": "markdown",
   "metadata": {},
   "source": [
    "## Univariate Analysis"
   ]
  },
  {
   "cell_type": "markdown",
   "metadata": {},
   "source": [
    "Now let's take a look at how the power outages are distributed across the 50 states. We can visualize this with a choropleth map, which will show by color, the number of power outages each state has and also show which states have the most and least number of power outages."
   ]
  },
  {
   "cell_type": "code",
   "execution_count": 78,
   "metadata": {},
   "outputs": [
    {
     "name": "stdout",
     "output_type": "stream",
     "text": [
      "        STATE  OUTAGE_COUNT STATE_CODE\n",
      "0  California           210         CA\n",
      "1       Texas           127         TX\n",
      "2  Washington            97         WA\n",
      "3    Michigan            95         MI\n",
      "4    New York            71         NY\n"
     ]
    }
   ],
   "source": [
    "state_to_code = {state.name: state.abbr for state in states.STATES}\n",
    "#print(state_to_code) \n",
    "\n",
    "outages_by_state['STATE_CODE'] = outages_by_state['STATE'].map(state_to_code)\n",
    "\n",
    "# Verify\n",
    "print(outages_by_state.head())"
   ]
  },
  {
   "cell_type": "markdown",
   "metadata": {},
   "source": []
  },
  {
   "cell_type": "code",
   "execution_count": 79,
   "metadata": {},
   "outputs": [
    {
     "data": {
      "application/vnd.plotly.v1+json": {
       "config": {
        "plotlyServerURL": "https://plot.ly"
       },
       "data": [
        {
         "coloraxis": "coloraxis",
         "geo": "geo",
         "hovertemplate": "<b>%{hovertext}</b><br><br>STATE_CODE=%{location}<br>Outages=%{z}<extra></extra>",
         "hovertext": [
          "California",
          "Texas",
          "Washington",
          "Michigan",
          "New York",
          "Maryland",
          "Pennsylvania",
          "Illinois",
          "Florida",
          "Ohio",
          "Indiana",
          "Delaware",
          "Utah",
          "Louisiana",
          "North Carolina",
          "Virginia",
          "New Jersey",
          "Tennessee",
          "Arizona",
          "Oregon",
          "Arkansas",
          "Oklahoma",
          "Wisconsin",
          "Maine",
          "Massachusetts",
          "Connecticut",
          "Georgia",
          "Missouri",
          "Minnesota",
          "Colorado",
          "New Hampshire",
          "Kentucky",
          "District of Columbia",
          "Idaho",
          "Kansas",
          "Vermont",
          "New Mexico",
          "South Carolina",
          "Iowa",
          "Nevada",
          "Alabama",
          "Wyoming",
          "Hawaii",
          "Mississippi",
          "West Virginia",
          "Nebraska",
          "Montana",
          "North Dakota",
          "South Dakota",
          "Alaska"
         ],
         "locationmode": "USA-states",
         "locations": [
          "CA",
          "TX",
          "WA",
          "MI",
          "NY",
          "MD",
          "PA",
          "IL",
          "FL",
          "OH",
          "IN",
          "DE",
          "UT",
          "LA",
          "NC",
          "VA",
          "NJ",
          "TN",
          "AZ",
          "OR",
          "AR",
          "OK",
          "WI",
          "ME",
          "MA",
          "CT",
          "GA",
          "MO",
          "MN",
          "CO",
          "NH",
          "KY",
          null,
          "ID",
          "KS",
          "VT",
          "NM",
          "SC",
          "IA",
          "NV",
          "AL",
          "WY",
          "HI",
          "MS",
          "WV",
          "NE",
          "MT",
          "ND",
          "SD",
          "AK"
         ],
         "name": "",
         "type": "choropleth",
         "z": [
          210,
          127,
          97,
          95,
          71,
          58,
          57,
          46,
          45,
          43,
          43,
          41,
          41,
          40,
          40,
          37,
          35,
          34,
          28,
          26,
          25,
          24,
          20,
          19,
          18,
          18,
          17,
          17,
          15,
          15,
          14,
          13,
          10,
          9,
          9,
          9,
          8,
          8,
          8,
          7,
          6,
          6,
          5,
          4,
          4,
          4,
          3,
          2,
          2,
          1
         ]
        }
       ],
       "layout": {
        "coloraxis": {
         "colorbar": {
          "title": {
           "text": "Outages"
          }
         },
         "colorscale": [
          [
           0,
           "rgb(243, 231, 155)"
          ],
          [
           0.16666666666666666,
           "rgb(250, 196, 132)"
          ],
          [
           0.3333333333333333,
           "rgb(248, 160, 126)"
          ],
          [
           0.5,
           "rgb(235, 127, 134)"
          ],
          [
           0.6666666666666666,
           "rgb(206, 102, 147)"
          ],
          [
           0.8333333333333334,
           "rgb(160, 89, 160)"
          ],
          [
           1,
           "rgb(92, 83, 165)"
          ]
         ]
        },
        "geo": {
         "bgcolor": "rgba(0,0,0,0)",
         "center": {},
         "domain": {
          "x": [
           0,
           1
          ],
          "y": [
           0,
           1
          ]
         },
         "scope": "usa"
        },
        "legend": {
         "tracegroupgap": 0
        },
        "margin": {
         "b": 0,
         "l": 0,
         "r": 0,
         "t": 40
        },
        "template": {
         "data": {
          "bar": [
           {
            "error_x": {
             "color": "#2a3f5f"
            },
            "error_y": {
             "color": "#2a3f5f"
            },
            "marker": {
             "line": {
              "color": "#E5ECF6",
              "width": 0.5
             },
             "pattern": {
              "fillmode": "overlay",
              "size": 10,
              "solidity": 0.2
             }
            },
            "type": "bar"
           }
          ],
          "barpolar": [
           {
            "marker": {
             "line": {
              "color": "#E5ECF6",
              "width": 0.5
             },
             "pattern": {
              "fillmode": "overlay",
              "size": 10,
              "solidity": 0.2
             }
            },
            "type": "barpolar"
           }
          ],
          "carpet": [
           {
            "aaxis": {
             "endlinecolor": "#2a3f5f",
             "gridcolor": "white",
             "linecolor": "white",
             "minorgridcolor": "white",
             "startlinecolor": "#2a3f5f"
            },
            "baxis": {
             "endlinecolor": "#2a3f5f",
             "gridcolor": "white",
             "linecolor": "white",
             "minorgridcolor": "white",
             "startlinecolor": "#2a3f5f"
            },
            "type": "carpet"
           }
          ],
          "choropleth": [
           {
            "colorbar": {
             "outlinewidth": 0,
             "ticks": ""
            },
            "type": "choropleth"
           }
          ],
          "contour": [
           {
            "colorbar": {
             "outlinewidth": 0,
             "ticks": ""
            },
            "colorscale": [
             [
              0,
              "#0d0887"
             ],
             [
              0.1111111111111111,
              "#46039f"
             ],
             [
              0.2222222222222222,
              "#7201a8"
             ],
             [
              0.3333333333333333,
              "#9c179e"
             ],
             [
              0.4444444444444444,
              "#bd3786"
             ],
             [
              0.5555555555555556,
              "#d8576b"
             ],
             [
              0.6666666666666666,
              "#ed7953"
             ],
             [
              0.7777777777777778,
              "#fb9f3a"
             ],
             [
              0.8888888888888888,
              "#fdca26"
             ],
             [
              1,
              "#f0f921"
             ]
            ],
            "type": "contour"
           }
          ],
          "contourcarpet": [
           {
            "colorbar": {
             "outlinewidth": 0,
             "ticks": ""
            },
            "type": "contourcarpet"
           }
          ],
          "heatmap": [
           {
            "colorbar": {
             "outlinewidth": 0,
             "ticks": ""
            },
            "colorscale": [
             [
              0,
              "#0d0887"
             ],
             [
              0.1111111111111111,
              "#46039f"
             ],
             [
              0.2222222222222222,
              "#7201a8"
             ],
             [
              0.3333333333333333,
              "#9c179e"
             ],
             [
              0.4444444444444444,
              "#bd3786"
             ],
             [
              0.5555555555555556,
              "#d8576b"
             ],
             [
              0.6666666666666666,
              "#ed7953"
             ],
             [
              0.7777777777777778,
              "#fb9f3a"
             ],
             [
              0.8888888888888888,
              "#fdca26"
             ],
             [
              1,
              "#f0f921"
             ]
            ],
            "type": "heatmap"
           }
          ],
          "heatmapgl": [
           {
            "colorbar": {
             "outlinewidth": 0,
             "ticks": ""
            },
            "colorscale": [
             [
              0,
              "#0d0887"
             ],
             [
              0.1111111111111111,
              "#46039f"
             ],
             [
              0.2222222222222222,
              "#7201a8"
             ],
             [
              0.3333333333333333,
              "#9c179e"
             ],
             [
              0.4444444444444444,
              "#bd3786"
             ],
             [
              0.5555555555555556,
              "#d8576b"
             ],
             [
              0.6666666666666666,
              "#ed7953"
             ],
             [
              0.7777777777777778,
              "#fb9f3a"
             ],
             [
              0.8888888888888888,
              "#fdca26"
             ],
             [
              1,
              "#f0f921"
             ]
            ],
            "type": "heatmapgl"
           }
          ],
          "histogram": [
           {
            "marker": {
             "pattern": {
              "fillmode": "overlay",
              "size": 10,
              "solidity": 0.2
             }
            },
            "type": "histogram"
           }
          ],
          "histogram2d": [
           {
            "colorbar": {
             "outlinewidth": 0,
             "ticks": ""
            },
            "colorscale": [
             [
              0,
              "#0d0887"
             ],
             [
              0.1111111111111111,
              "#46039f"
             ],
             [
              0.2222222222222222,
              "#7201a8"
             ],
             [
              0.3333333333333333,
              "#9c179e"
             ],
             [
              0.4444444444444444,
              "#bd3786"
             ],
             [
              0.5555555555555556,
              "#d8576b"
             ],
             [
              0.6666666666666666,
              "#ed7953"
             ],
             [
              0.7777777777777778,
              "#fb9f3a"
             ],
             [
              0.8888888888888888,
              "#fdca26"
             ],
             [
              1,
              "#f0f921"
             ]
            ],
            "type": "histogram2d"
           }
          ],
          "histogram2dcontour": [
           {
            "colorbar": {
             "outlinewidth": 0,
             "ticks": ""
            },
            "colorscale": [
             [
              0,
              "#0d0887"
             ],
             [
              0.1111111111111111,
              "#46039f"
             ],
             [
              0.2222222222222222,
              "#7201a8"
             ],
             [
              0.3333333333333333,
              "#9c179e"
             ],
             [
              0.4444444444444444,
              "#bd3786"
             ],
             [
              0.5555555555555556,
              "#d8576b"
             ],
             [
              0.6666666666666666,
              "#ed7953"
             ],
             [
              0.7777777777777778,
              "#fb9f3a"
             ],
             [
              0.8888888888888888,
              "#fdca26"
             ],
             [
              1,
              "#f0f921"
             ]
            ],
            "type": "histogram2dcontour"
           }
          ],
          "mesh3d": [
           {
            "colorbar": {
             "outlinewidth": 0,
             "ticks": ""
            },
            "type": "mesh3d"
           }
          ],
          "parcoords": [
           {
            "line": {
             "colorbar": {
              "outlinewidth": 0,
              "ticks": ""
             }
            },
            "type": "parcoords"
           }
          ],
          "pie": [
           {
            "automargin": true,
            "type": "pie"
           }
          ],
          "scatter": [
           {
            "fillpattern": {
             "fillmode": "overlay",
             "size": 10,
             "solidity": 0.2
            },
            "type": "scatter"
           }
          ],
          "scatter3d": [
           {
            "line": {
             "colorbar": {
              "outlinewidth": 0,
              "ticks": ""
             }
            },
            "marker": {
             "colorbar": {
              "outlinewidth": 0,
              "ticks": ""
             }
            },
            "type": "scatter3d"
           }
          ],
          "scattercarpet": [
           {
            "marker": {
             "colorbar": {
              "outlinewidth": 0,
              "ticks": ""
             }
            },
            "type": "scattercarpet"
           }
          ],
          "scattergeo": [
           {
            "marker": {
             "colorbar": {
              "outlinewidth": 0,
              "ticks": ""
             }
            },
            "type": "scattergeo"
           }
          ],
          "scattergl": [
           {
            "marker": {
             "colorbar": {
              "outlinewidth": 0,
              "ticks": ""
             }
            },
            "type": "scattergl"
           }
          ],
          "scattermapbox": [
           {
            "marker": {
             "colorbar": {
              "outlinewidth": 0,
              "ticks": ""
             }
            },
            "type": "scattermapbox"
           }
          ],
          "scatterpolar": [
           {
            "marker": {
             "colorbar": {
              "outlinewidth": 0,
              "ticks": ""
             }
            },
            "type": "scatterpolar"
           }
          ],
          "scatterpolargl": [
           {
            "marker": {
             "colorbar": {
              "outlinewidth": 0,
              "ticks": ""
             }
            },
            "type": "scatterpolargl"
           }
          ],
          "scatterternary": [
           {
            "marker": {
             "colorbar": {
              "outlinewidth": 0,
              "ticks": ""
             }
            },
            "type": "scatterternary"
           }
          ],
          "surface": [
           {
            "colorbar": {
             "outlinewidth": 0,
             "ticks": ""
            },
            "colorscale": [
             [
              0,
              "#0d0887"
             ],
             [
              0.1111111111111111,
              "#46039f"
             ],
             [
              0.2222222222222222,
              "#7201a8"
             ],
             [
              0.3333333333333333,
              "#9c179e"
             ],
             [
              0.4444444444444444,
              "#bd3786"
             ],
             [
              0.5555555555555556,
              "#d8576b"
             ],
             [
              0.6666666666666666,
              "#ed7953"
             ],
             [
              0.7777777777777778,
              "#fb9f3a"
             ],
             [
              0.8888888888888888,
              "#fdca26"
             ],
             [
              1,
              "#f0f921"
             ]
            ],
            "type": "surface"
           }
          ],
          "table": [
           {
            "cells": {
             "fill": {
              "color": "#EBF0F8"
             },
             "line": {
              "color": "white"
             }
            },
            "header": {
             "fill": {
              "color": "#C8D4E3"
             },
             "line": {
              "color": "white"
             }
            },
            "type": "table"
           }
          ]
         },
         "layout": {
          "annotationdefaults": {
           "arrowcolor": "#2a3f5f",
           "arrowhead": 0,
           "arrowwidth": 1
          },
          "autotypenumbers": "strict",
          "coloraxis": {
           "colorbar": {
            "outlinewidth": 0,
            "ticks": ""
           }
          },
          "colorscale": {
           "diverging": [
            [
             0,
             "#8e0152"
            ],
            [
             0.1,
             "#c51b7d"
            ],
            [
             0.2,
             "#de77ae"
            ],
            [
             0.3,
             "#f1b6da"
            ],
            [
             0.4,
             "#fde0ef"
            ],
            [
             0.5,
             "#f7f7f7"
            ],
            [
             0.6,
             "#e6f5d0"
            ],
            [
             0.7,
             "#b8e186"
            ],
            [
             0.8,
             "#7fbc41"
            ],
            [
             0.9,
             "#4d9221"
            ],
            [
             1,
             "#276419"
            ]
           ],
           "sequential": [
            [
             0,
             "#0d0887"
            ],
            [
             0.1111111111111111,
             "#46039f"
            ],
            [
             0.2222222222222222,
             "#7201a8"
            ],
            [
             0.3333333333333333,
             "#9c179e"
            ],
            [
             0.4444444444444444,
             "#bd3786"
            ],
            [
             0.5555555555555556,
             "#d8576b"
            ],
            [
             0.6666666666666666,
             "#ed7953"
            ],
            [
             0.7777777777777778,
             "#fb9f3a"
            ],
            [
             0.8888888888888888,
             "#fdca26"
            ],
            [
             1,
             "#f0f921"
            ]
           ],
           "sequentialminus": [
            [
             0,
             "#0d0887"
            ],
            [
             0.1111111111111111,
             "#46039f"
            ],
            [
             0.2222222222222222,
             "#7201a8"
            ],
            [
             0.3333333333333333,
             "#9c179e"
            ],
            [
             0.4444444444444444,
             "#bd3786"
            ],
            [
             0.5555555555555556,
             "#d8576b"
            ],
            [
             0.6666666666666666,
             "#ed7953"
            ],
            [
             0.7777777777777778,
             "#fb9f3a"
            ],
            [
             0.8888888888888888,
             "#fdca26"
            ],
            [
             1,
             "#f0f921"
            ]
           ]
          },
          "colorway": [
           "#636efa",
           "#EF553B",
           "#00cc96",
           "#ab63fa",
           "#FFA15A",
           "#19d3f3",
           "#FF6692",
           "#B6E880",
           "#FF97FF",
           "#FECB52"
          ],
          "font": {
           "color": "#2a3f5f"
          },
          "geo": {
           "bgcolor": "white",
           "lakecolor": "white",
           "landcolor": "#E5ECF6",
           "showlakes": true,
           "showland": true,
           "subunitcolor": "white"
          },
          "hoverlabel": {
           "align": "left"
          },
          "hovermode": "closest",
          "mapbox": {
           "style": "light"
          },
          "paper_bgcolor": "white",
          "plot_bgcolor": "#E5ECF6",
          "polar": {
           "angularaxis": {
            "gridcolor": "white",
            "linecolor": "white",
            "ticks": ""
           },
           "bgcolor": "#E5ECF6",
           "radialaxis": {
            "gridcolor": "white",
            "linecolor": "white",
            "ticks": ""
           }
          },
          "scene": {
           "xaxis": {
            "backgroundcolor": "#E5ECF6",
            "gridcolor": "white",
            "gridwidth": 2,
            "linecolor": "white",
            "showbackground": true,
            "ticks": "",
            "zerolinecolor": "white"
           },
           "yaxis": {
            "backgroundcolor": "#E5ECF6",
            "gridcolor": "white",
            "gridwidth": 2,
            "linecolor": "white",
            "showbackground": true,
            "ticks": "",
            "zerolinecolor": "white"
           },
           "zaxis": {
            "backgroundcolor": "#E5ECF6",
            "gridcolor": "white",
            "gridwidth": 2,
            "linecolor": "white",
            "showbackground": true,
            "ticks": "",
            "zerolinecolor": "white"
           }
          },
          "shapedefaults": {
           "line": {
            "color": "#2a3f5f"
           }
          },
          "ternary": {
           "aaxis": {
            "gridcolor": "white",
            "linecolor": "white",
            "ticks": ""
           },
           "baxis": {
            "gridcolor": "white",
            "linecolor": "white",
            "ticks": ""
           },
           "bgcolor": "#E5ECF6",
           "caxis": {
            "gridcolor": "white",
            "linecolor": "white",
            "ticks": ""
           }
          },
          "title": {
           "x": 0.05
          },
          "xaxis": {
           "automargin": true,
           "gridcolor": "white",
           "linecolor": "white",
           "ticks": "",
           "title": {
            "standoff": 15
           },
           "zerolinecolor": "white",
           "zerolinewidth": 2
          },
          "yaxis": {
           "automargin": true,
           "gridcolor": "white",
           "linecolor": "white",
           "ticks": "",
           "title": {
            "standoff": 15
           },
           "zerolinecolor": "white",
           "zerolinewidth": 2
          }
         }
        },
        "title": {
         "text": "Power Outages by U.S. State"
        }
       }
      }
     },
     "metadata": {},
     "output_type": "display_data"
    }
   ],
   "source": [
    "fig = px.choropleth(\n",
    "    outages_by_state,\n",
    "    locations = 'STATE_CODE',     \n",
    "    locationmode = 'USA-states',   \n",
    "    color = 'OUTAGE_COUNT',        # Color by outage count\n",
    "    scope = 'usa',             \n",
    "    color_continuous_scale = 'sunset', \n",
    "    title = 'Power Outages by U.S. State',\n",
    "    hover_name = 'STATE',  \n",
    "    labels = {'OUTAGE_COUNT': 'Outages'}\n",
    ")\n",
    "\n",
    "fig.update_layout(\n",
    "    geo = dict(bgcolor='rgba(0,0,0,0)'), \n",
    "    margin = {\"r\": 0, \"t\": 40, \"l\": 0, \"b\": 0}\n",
    ")\n",
    "\n",
    "fig.show()"
   ]
  },
  {
   "cell_type": "markdown",
   "metadata": {},
   "source": [
    "Next, we wanted to see how the number of power outages have changed over time. "
   ]
  },
  {
   "cell_type": "code",
   "execution_count": 80,
   "metadata": {},
   "outputs": [
    {
     "data": {
      "application/vnd.plotly.v1+json": {
       "config": {
        "plotlyServerURL": "https://plot.ly"
       },
       "data": [
        {
         "hovertemplate": "Year=%{x}<br>Number of Outages=%{y}<extra></extra>",
         "legendgroup": "",
         "line": {
          "color": "#636efa",
          "dash": "solid"
         },
         "marker": {
          "symbol": "circle"
         },
         "mode": "lines",
         "name": "",
         "orientation": "v",
         "showlegend": false,
         "type": "scatter",
         "x": [
          2000,
          2001,
          2002,
          2003,
          2004,
          2005,
          2006,
          2007,
          2008,
          2009,
          2010,
          2011,
          2012,
          2013,
          2014,
          2015,
          2016
         ],
         "xaxis": "x",
         "y": [
          26,
          15,
          17,
          46,
          71,
          55,
          67,
          56,
          111,
          78,
          106,
          269,
          174,
          153,
          112,
          119,
          59
         ],
         "yaxis": "y"
        }
       ],
       "layout": {
        "legend": {
         "tracegroupgap": 0
        },
        "template": {
         "data": {
          "bar": [
           {
            "error_x": {
             "color": "#2a3f5f"
            },
            "error_y": {
             "color": "#2a3f5f"
            },
            "marker": {
             "line": {
              "color": "#E5ECF6",
              "width": 0.5
             },
             "pattern": {
              "fillmode": "overlay",
              "size": 10,
              "solidity": 0.2
             }
            },
            "type": "bar"
           }
          ],
          "barpolar": [
           {
            "marker": {
             "line": {
              "color": "#E5ECF6",
              "width": 0.5
             },
             "pattern": {
              "fillmode": "overlay",
              "size": 10,
              "solidity": 0.2
             }
            },
            "type": "barpolar"
           }
          ],
          "carpet": [
           {
            "aaxis": {
             "endlinecolor": "#2a3f5f",
             "gridcolor": "white",
             "linecolor": "white",
             "minorgridcolor": "white",
             "startlinecolor": "#2a3f5f"
            },
            "baxis": {
             "endlinecolor": "#2a3f5f",
             "gridcolor": "white",
             "linecolor": "white",
             "minorgridcolor": "white",
             "startlinecolor": "#2a3f5f"
            },
            "type": "carpet"
           }
          ],
          "choropleth": [
           {
            "colorbar": {
             "outlinewidth": 0,
             "ticks": ""
            },
            "type": "choropleth"
           }
          ],
          "contour": [
           {
            "colorbar": {
             "outlinewidth": 0,
             "ticks": ""
            },
            "colorscale": [
             [
              0,
              "#0d0887"
             ],
             [
              0.1111111111111111,
              "#46039f"
             ],
             [
              0.2222222222222222,
              "#7201a8"
             ],
             [
              0.3333333333333333,
              "#9c179e"
             ],
             [
              0.4444444444444444,
              "#bd3786"
             ],
             [
              0.5555555555555556,
              "#d8576b"
             ],
             [
              0.6666666666666666,
              "#ed7953"
             ],
             [
              0.7777777777777778,
              "#fb9f3a"
             ],
             [
              0.8888888888888888,
              "#fdca26"
             ],
             [
              1,
              "#f0f921"
             ]
            ],
            "type": "contour"
           }
          ],
          "contourcarpet": [
           {
            "colorbar": {
             "outlinewidth": 0,
             "ticks": ""
            },
            "type": "contourcarpet"
           }
          ],
          "heatmap": [
           {
            "colorbar": {
             "outlinewidth": 0,
             "ticks": ""
            },
            "colorscale": [
             [
              0,
              "#0d0887"
             ],
             [
              0.1111111111111111,
              "#46039f"
             ],
             [
              0.2222222222222222,
              "#7201a8"
             ],
             [
              0.3333333333333333,
              "#9c179e"
             ],
             [
              0.4444444444444444,
              "#bd3786"
             ],
             [
              0.5555555555555556,
              "#d8576b"
             ],
             [
              0.6666666666666666,
              "#ed7953"
             ],
             [
              0.7777777777777778,
              "#fb9f3a"
             ],
             [
              0.8888888888888888,
              "#fdca26"
             ],
             [
              1,
              "#f0f921"
             ]
            ],
            "type": "heatmap"
           }
          ],
          "heatmapgl": [
           {
            "colorbar": {
             "outlinewidth": 0,
             "ticks": ""
            },
            "colorscale": [
             [
              0,
              "#0d0887"
             ],
             [
              0.1111111111111111,
              "#46039f"
             ],
             [
              0.2222222222222222,
              "#7201a8"
             ],
             [
              0.3333333333333333,
              "#9c179e"
             ],
             [
              0.4444444444444444,
              "#bd3786"
             ],
             [
              0.5555555555555556,
              "#d8576b"
             ],
             [
              0.6666666666666666,
              "#ed7953"
             ],
             [
              0.7777777777777778,
              "#fb9f3a"
             ],
             [
              0.8888888888888888,
              "#fdca26"
             ],
             [
              1,
              "#f0f921"
             ]
            ],
            "type": "heatmapgl"
           }
          ],
          "histogram": [
           {
            "marker": {
             "pattern": {
              "fillmode": "overlay",
              "size": 10,
              "solidity": 0.2
             }
            },
            "type": "histogram"
           }
          ],
          "histogram2d": [
           {
            "colorbar": {
             "outlinewidth": 0,
             "ticks": ""
            },
            "colorscale": [
             [
              0,
              "#0d0887"
             ],
             [
              0.1111111111111111,
              "#46039f"
             ],
             [
              0.2222222222222222,
              "#7201a8"
             ],
             [
              0.3333333333333333,
              "#9c179e"
             ],
             [
              0.4444444444444444,
              "#bd3786"
             ],
             [
              0.5555555555555556,
              "#d8576b"
             ],
             [
              0.6666666666666666,
              "#ed7953"
             ],
             [
              0.7777777777777778,
              "#fb9f3a"
             ],
             [
              0.8888888888888888,
              "#fdca26"
             ],
             [
              1,
              "#f0f921"
             ]
            ],
            "type": "histogram2d"
           }
          ],
          "histogram2dcontour": [
           {
            "colorbar": {
             "outlinewidth": 0,
             "ticks": ""
            },
            "colorscale": [
             [
              0,
              "#0d0887"
             ],
             [
              0.1111111111111111,
              "#46039f"
             ],
             [
              0.2222222222222222,
              "#7201a8"
             ],
             [
              0.3333333333333333,
              "#9c179e"
             ],
             [
              0.4444444444444444,
              "#bd3786"
             ],
             [
              0.5555555555555556,
              "#d8576b"
             ],
             [
              0.6666666666666666,
              "#ed7953"
             ],
             [
              0.7777777777777778,
              "#fb9f3a"
             ],
             [
              0.8888888888888888,
              "#fdca26"
             ],
             [
              1,
              "#f0f921"
             ]
            ],
            "type": "histogram2dcontour"
           }
          ],
          "mesh3d": [
           {
            "colorbar": {
             "outlinewidth": 0,
             "ticks": ""
            },
            "type": "mesh3d"
           }
          ],
          "parcoords": [
           {
            "line": {
             "colorbar": {
              "outlinewidth": 0,
              "ticks": ""
             }
            },
            "type": "parcoords"
           }
          ],
          "pie": [
           {
            "automargin": true,
            "type": "pie"
           }
          ],
          "scatter": [
           {
            "fillpattern": {
             "fillmode": "overlay",
             "size": 10,
             "solidity": 0.2
            },
            "type": "scatter"
           }
          ],
          "scatter3d": [
           {
            "line": {
             "colorbar": {
              "outlinewidth": 0,
              "ticks": ""
             }
            },
            "marker": {
             "colorbar": {
              "outlinewidth": 0,
              "ticks": ""
             }
            },
            "type": "scatter3d"
           }
          ],
          "scattercarpet": [
           {
            "marker": {
             "colorbar": {
              "outlinewidth": 0,
              "ticks": ""
             }
            },
            "type": "scattercarpet"
           }
          ],
          "scattergeo": [
           {
            "marker": {
             "colorbar": {
              "outlinewidth": 0,
              "ticks": ""
             }
            },
            "type": "scattergeo"
           }
          ],
          "scattergl": [
           {
            "marker": {
             "colorbar": {
              "outlinewidth": 0,
              "ticks": ""
             }
            },
            "type": "scattergl"
           }
          ],
          "scattermapbox": [
           {
            "marker": {
             "colorbar": {
              "outlinewidth": 0,
              "ticks": ""
             }
            },
            "type": "scattermapbox"
           }
          ],
          "scatterpolar": [
           {
            "marker": {
             "colorbar": {
              "outlinewidth": 0,
              "ticks": ""
             }
            },
            "type": "scatterpolar"
           }
          ],
          "scatterpolargl": [
           {
            "marker": {
             "colorbar": {
              "outlinewidth": 0,
              "ticks": ""
             }
            },
            "type": "scatterpolargl"
           }
          ],
          "scatterternary": [
           {
            "marker": {
             "colorbar": {
              "outlinewidth": 0,
              "ticks": ""
             }
            },
            "type": "scatterternary"
           }
          ],
          "surface": [
           {
            "colorbar": {
             "outlinewidth": 0,
             "ticks": ""
            },
            "colorscale": [
             [
              0,
              "#0d0887"
             ],
             [
              0.1111111111111111,
              "#46039f"
             ],
             [
              0.2222222222222222,
              "#7201a8"
             ],
             [
              0.3333333333333333,
              "#9c179e"
             ],
             [
              0.4444444444444444,
              "#bd3786"
             ],
             [
              0.5555555555555556,
              "#d8576b"
             ],
             [
              0.6666666666666666,
              "#ed7953"
             ],
             [
              0.7777777777777778,
              "#fb9f3a"
             ],
             [
              0.8888888888888888,
              "#fdca26"
             ],
             [
              1,
              "#f0f921"
             ]
            ],
            "type": "surface"
           }
          ],
          "table": [
           {
            "cells": {
             "fill": {
              "color": "#EBF0F8"
             },
             "line": {
              "color": "white"
             }
            },
            "header": {
             "fill": {
              "color": "#C8D4E3"
             },
             "line": {
              "color": "white"
             }
            },
            "type": "table"
           }
          ]
         },
         "layout": {
          "annotationdefaults": {
           "arrowcolor": "#2a3f5f",
           "arrowhead": 0,
           "arrowwidth": 1
          },
          "autotypenumbers": "strict",
          "coloraxis": {
           "colorbar": {
            "outlinewidth": 0,
            "ticks": ""
           }
          },
          "colorscale": {
           "diverging": [
            [
             0,
             "#8e0152"
            ],
            [
             0.1,
             "#c51b7d"
            ],
            [
             0.2,
             "#de77ae"
            ],
            [
             0.3,
             "#f1b6da"
            ],
            [
             0.4,
             "#fde0ef"
            ],
            [
             0.5,
             "#f7f7f7"
            ],
            [
             0.6,
             "#e6f5d0"
            ],
            [
             0.7,
             "#b8e186"
            ],
            [
             0.8,
             "#7fbc41"
            ],
            [
             0.9,
             "#4d9221"
            ],
            [
             1,
             "#276419"
            ]
           ],
           "sequential": [
            [
             0,
             "#0d0887"
            ],
            [
             0.1111111111111111,
             "#46039f"
            ],
            [
             0.2222222222222222,
             "#7201a8"
            ],
            [
             0.3333333333333333,
             "#9c179e"
            ],
            [
             0.4444444444444444,
             "#bd3786"
            ],
            [
             0.5555555555555556,
             "#d8576b"
            ],
            [
             0.6666666666666666,
             "#ed7953"
            ],
            [
             0.7777777777777778,
             "#fb9f3a"
            ],
            [
             0.8888888888888888,
             "#fdca26"
            ],
            [
             1,
             "#f0f921"
            ]
           ],
           "sequentialminus": [
            [
             0,
             "#0d0887"
            ],
            [
             0.1111111111111111,
             "#46039f"
            ],
            [
             0.2222222222222222,
             "#7201a8"
            ],
            [
             0.3333333333333333,
             "#9c179e"
            ],
            [
             0.4444444444444444,
             "#bd3786"
            ],
            [
             0.5555555555555556,
             "#d8576b"
            ],
            [
             0.6666666666666666,
             "#ed7953"
            ],
            [
             0.7777777777777778,
             "#fb9f3a"
            ],
            [
             0.8888888888888888,
             "#fdca26"
            ],
            [
             1,
             "#f0f921"
            ]
           ]
          },
          "colorway": [
           "#636efa",
           "#EF553B",
           "#00cc96",
           "#ab63fa",
           "#FFA15A",
           "#19d3f3",
           "#FF6692",
           "#B6E880",
           "#FF97FF",
           "#FECB52"
          ],
          "font": {
           "color": "#2a3f5f"
          },
          "geo": {
           "bgcolor": "white",
           "lakecolor": "white",
           "landcolor": "#E5ECF6",
           "showlakes": true,
           "showland": true,
           "subunitcolor": "white"
          },
          "hoverlabel": {
           "align": "left"
          },
          "hovermode": "closest",
          "mapbox": {
           "style": "light"
          },
          "paper_bgcolor": "white",
          "plot_bgcolor": "#E5ECF6",
          "polar": {
           "angularaxis": {
            "gridcolor": "white",
            "linecolor": "white",
            "ticks": ""
           },
           "bgcolor": "#E5ECF6",
           "radialaxis": {
            "gridcolor": "white",
            "linecolor": "white",
            "ticks": ""
           }
          },
          "scene": {
           "xaxis": {
            "backgroundcolor": "#E5ECF6",
            "gridcolor": "white",
            "gridwidth": 2,
            "linecolor": "white",
            "showbackground": true,
            "ticks": "",
            "zerolinecolor": "white"
           },
           "yaxis": {
            "backgroundcolor": "#E5ECF6",
            "gridcolor": "white",
            "gridwidth": 2,
            "linecolor": "white",
            "showbackground": true,
            "ticks": "",
            "zerolinecolor": "white"
           },
           "zaxis": {
            "backgroundcolor": "#E5ECF6",
            "gridcolor": "white",
            "gridwidth": 2,
            "linecolor": "white",
            "showbackground": true,
            "ticks": "",
            "zerolinecolor": "white"
           }
          },
          "shapedefaults": {
           "line": {
            "color": "#2a3f5f"
           }
          },
          "ternary": {
           "aaxis": {
            "gridcolor": "white",
            "linecolor": "white",
            "ticks": ""
           },
           "baxis": {
            "gridcolor": "white",
            "linecolor": "white",
            "ticks": ""
           },
           "bgcolor": "#E5ECF6",
           "caxis": {
            "gridcolor": "white",
            "linecolor": "white",
            "ticks": ""
           }
          },
          "title": {
           "x": 0.05
          },
          "xaxis": {
           "automargin": true,
           "gridcolor": "white",
           "linecolor": "white",
           "ticks": "",
           "title": {
            "standoff": 15
           },
           "zerolinecolor": "white",
           "zerolinewidth": 2
          },
          "yaxis": {
           "automargin": true,
           "gridcolor": "white",
           "linecolor": "white",
           "ticks": "",
           "title": {
            "standoff": 15
           },
           "zerolinecolor": "white",
           "zerolinewidth": 2
          }
         }
        },
        "title": {
         "text": "Power Outages Over Time"
        },
        "xaxis": {
         "anchor": "y",
         "domain": [
          0,
          1
         ],
         "title": {
          "text": "Year"
         }
        },
        "yaxis": {
         "anchor": "x",
         "domain": [
          0,
          1
         ],
         "title": {
          "text": "Number of Outages"
         }
        }
       }
      }
     },
     "metadata": {},
     "output_type": "display_data"
    }
   ],
   "source": [
    "outages_per_year = outages_df['YEAR'].value_counts().sort_index().reset_index()\n",
    "outages_per_year.columns = ['Year', 'Number of Outages']\n",
    "\n",
    "fig = px.line(outages_per_year, x = 'Year', y = 'Number of Outages', title = 'Power Outages Over Time')\n",
    "\n",
    "fig.show()"
   ]
  },
  {
   "cell_type": "markdown",
   "metadata": {},
   "source": [
    "We also wanted to see the number of power outages across the different climate regions. "
   ]
  },
  {
   "cell_type": "code",
   "execution_count": 81,
   "metadata": {},
   "outputs": [
    {
     "data": {
      "application/vnd.plotly.v1+json": {
       "config": {
        "plotlyServerURL": "https://plot.ly"
       },
       "data": [
        {
         "alignmentgroup": "True",
         "hovertemplate": "Climate Region=%{x}<br>Number of Outages=%{text}<extra></extra>",
         "legendgroup": "Northeast",
         "marker": {
          "color": "#636efa",
          "pattern": {
           "shape": ""
          }
         },
         "name": "Northeast",
         "offsetgroup": "Northeast",
         "orientation": "v",
         "showlegend": true,
         "text": [
          350
         ],
         "textposition": "auto",
         "type": "bar",
         "x": [
          "Northeast"
         ],
         "xaxis": "x",
         "y": [
          350
         ],
         "yaxis": "y"
        },
        {
         "alignmentgroup": "True",
         "hovertemplate": "Climate Region=%{x}<br>Number of Outages=%{text}<extra></extra>",
         "legendgroup": "South",
         "marker": {
          "color": "#EF553B",
          "pattern": {
           "shape": ""
          }
         },
         "name": "South",
         "offsetgroup": "South",
         "orientation": "v",
         "showlegend": true,
         "text": [
          229
         ],
         "textposition": "auto",
         "type": "bar",
         "x": [
          "South"
         ],
         "xaxis": "x",
         "y": [
          229
         ],
         "yaxis": "y"
        },
        {
         "alignmentgroup": "True",
         "hovertemplate": "Climate Region=%{x}<br>Number of Outages=%{text}<extra></extra>",
         "legendgroup": "West",
         "marker": {
          "color": "#00cc96",
          "pattern": {
           "shape": ""
          }
         },
         "name": "West",
         "offsetgroup": "West",
         "orientation": "v",
         "showlegend": true,
         "text": [
          217
         ],
         "textposition": "auto",
         "type": "bar",
         "x": [
          "West"
         ],
         "xaxis": "x",
         "y": [
          217
         ],
         "yaxis": "y"
        },
        {
         "alignmentgroup": "True",
         "hovertemplate": "Climate Region=%{x}<br>Number of Outages=%{text}<extra></extra>",
         "legendgroup": "Central",
         "marker": {
          "color": "#ab63fa",
          "pattern": {
           "shape": ""
          }
         },
         "name": "Central",
         "offsetgroup": "Central",
         "orientation": "v",
         "showlegend": true,
         "text": [
          200
         ],
         "textposition": "auto",
         "type": "bar",
         "x": [
          "Central"
         ],
         "xaxis": "x",
         "y": [
          200
         ],
         "yaxis": "y"
        },
        {
         "alignmentgroup": "True",
         "hovertemplate": "Climate Region=%{x}<br>Number of Outages=%{text}<extra></extra>",
         "legendgroup": "Southeast",
         "marker": {
          "color": "#FFA15A",
          "pattern": {
           "shape": ""
          }
         },
         "name": "Southeast",
         "offsetgroup": "Southeast",
         "orientation": "v",
         "showlegend": true,
         "text": [
          153
         ],
         "textposition": "auto",
         "type": "bar",
         "x": [
          "Southeast"
         ],
         "xaxis": "x",
         "y": [
          153
         ],
         "yaxis": "y"
        },
        {
         "alignmentgroup": "True",
         "hovertemplate": "Climate Region=%{x}<br>Number of Outages=%{text}<extra></extra>",
         "legendgroup": "East North Central",
         "marker": {
          "color": "#19d3f3",
          "pattern": {
           "shape": ""
          }
         },
         "name": "East North Central",
         "offsetgroup": "East North Central",
         "orientation": "v",
         "showlegend": true,
         "text": [
          138
         ],
         "textposition": "auto",
         "type": "bar",
         "x": [
          "East North Central"
         ],
         "xaxis": "x",
         "y": [
          138
         ],
         "yaxis": "y"
        },
        {
         "alignmentgroup": "True",
         "hovertemplate": "Climate Region=%{x}<br>Number of Outages=%{text}<extra></extra>",
         "legendgroup": "Northwest",
         "marker": {
          "color": "#FF6692",
          "pattern": {
           "shape": ""
          }
         },
         "name": "Northwest",
         "offsetgroup": "Northwest",
         "orientation": "v",
         "showlegend": true,
         "text": [
          132
         ],
         "textposition": "auto",
         "type": "bar",
         "x": [
          "Northwest"
         ],
         "xaxis": "x",
         "y": [
          132
         ],
         "yaxis": "y"
        },
        {
         "alignmentgroup": "True",
         "hovertemplate": "Climate Region=%{x}<br>Number of Outages=%{text}<extra></extra>",
         "legendgroup": "Southwest",
         "marker": {
          "color": "#B6E880",
          "pattern": {
           "shape": ""
          }
         },
         "name": "Southwest",
         "offsetgroup": "Southwest",
         "orientation": "v",
         "showlegend": true,
         "text": [
          92
         ],
         "textposition": "auto",
         "type": "bar",
         "x": [
          "Southwest"
         ],
         "xaxis": "x",
         "y": [
          92
         ],
         "yaxis": "y"
        },
        {
         "alignmentgroup": "True",
         "hovertemplate": "Climate Region=%{x}<br>Number of Outages=%{text}<extra></extra>",
         "legendgroup": "West North Central",
         "marker": {
          "color": "#FF97FF",
          "pattern": {
           "shape": ""
          }
         },
         "name": "West North Central",
         "offsetgroup": "West North Central",
         "orientation": "v",
         "showlegend": true,
         "text": [
          17
         ],
         "textposition": "auto",
         "type": "bar",
         "x": [
          "West North Central"
         ],
         "xaxis": "x",
         "y": [
          17
         ],
         "yaxis": "y"
        }
       ],
       "layout": {
        "barmode": "relative",
        "legend": {
         "title": {
          "text": "Climate Region"
         },
         "tracegroupgap": 0
        },
        "template": {
         "data": {
          "bar": [
           {
            "error_x": {
             "color": "#2a3f5f"
            },
            "error_y": {
             "color": "#2a3f5f"
            },
            "marker": {
             "line": {
              "color": "#E5ECF6",
              "width": 0.5
             },
             "pattern": {
              "fillmode": "overlay",
              "size": 10,
              "solidity": 0.2
             }
            },
            "type": "bar"
           }
          ],
          "barpolar": [
           {
            "marker": {
             "line": {
              "color": "#E5ECF6",
              "width": 0.5
             },
             "pattern": {
              "fillmode": "overlay",
              "size": 10,
              "solidity": 0.2
             }
            },
            "type": "barpolar"
           }
          ],
          "carpet": [
           {
            "aaxis": {
             "endlinecolor": "#2a3f5f",
             "gridcolor": "white",
             "linecolor": "white",
             "minorgridcolor": "white",
             "startlinecolor": "#2a3f5f"
            },
            "baxis": {
             "endlinecolor": "#2a3f5f",
             "gridcolor": "white",
             "linecolor": "white",
             "minorgridcolor": "white",
             "startlinecolor": "#2a3f5f"
            },
            "type": "carpet"
           }
          ],
          "choropleth": [
           {
            "colorbar": {
             "outlinewidth": 0,
             "ticks": ""
            },
            "type": "choropleth"
           }
          ],
          "contour": [
           {
            "colorbar": {
             "outlinewidth": 0,
             "ticks": ""
            },
            "colorscale": [
             [
              0,
              "#0d0887"
             ],
             [
              0.1111111111111111,
              "#46039f"
             ],
             [
              0.2222222222222222,
              "#7201a8"
             ],
             [
              0.3333333333333333,
              "#9c179e"
             ],
             [
              0.4444444444444444,
              "#bd3786"
             ],
             [
              0.5555555555555556,
              "#d8576b"
             ],
             [
              0.6666666666666666,
              "#ed7953"
             ],
             [
              0.7777777777777778,
              "#fb9f3a"
             ],
             [
              0.8888888888888888,
              "#fdca26"
             ],
             [
              1,
              "#f0f921"
             ]
            ],
            "type": "contour"
           }
          ],
          "contourcarpet": [
           {
            "colorbar": {
             "outlinewidth": 0,
             "ticks": ""
            },
            "type": "contourcarpet"
           }
          ],
          "heatmap": [
           {
            "colorbar": {
             "outlinewidth": 0,
             "ticks": ""
            },
            "colorscale": [
             [
              0,
              "#0d0887"
             ],
             [
              0.1111111111111111,
              "#46039f"
             ],
             [
              0.2222222222222222,
              "#7201a8"
             ],
             [
              0.3333333333333333,
              "#9c179e"
             ],
             [
              0.4444444444444444,
              "#bd3786"
             ],
             [
              0.5555555555555556,
              "#d8576b"
             ],
             [
              0.6666666666666666,
              "#ed7953"
             ],
             [
              0.7777777777777778,
              "#fb9f3a"
             ],
             [
              0.8888888888888888,
              "#fdca26"
             ],
             [
              1,
              "#f0f921"
             ]
            ],
            "type": "heatmap"
           }
          ],
          "heatmapgl": [
           {
            "colorbar": {
             "outlinewidth": 0,
             "ticks": ""
            },
            "colorscale": [
             [
              0,
              "#0d0887"
             ],
             [
              0.1111111111111111,
              "#46039f"
             ],
             [
              0.2222222222222222,
              "#7201a8"
             ],
             [
              0.3333333333333333,
              "#9c179e"
             ],
             [
              0.4444444444444444,
              "#bd3786"
             ],
             [
              0.5555555555555556,
              "#d8576b"
             ],
             [
              0.6666666666666666,
              "#ed7953"
             ],
             [
              0.7777777777777778,
              "#fb9f3a"
             ],
             [
              0.8888888888888888,
              "#fdca26"
             ],
             [
              1,
              "#f0f921"
             ]
            ],
            "type": "heatmapgl"
           }
          ],
          "histogram": [
           {
            "marker": {
             "pattern": {
              "fillmode": "overlay",
              "size": 10,
              "solidity": 0.2
             }
            },
            "type": "histogram"
           }
          ],
          "histogram2d": [
           {
            "colorbar": {
             "outlinewidth": 0,
             "ticks": ""
            },
            "colorscale": [
             [
              0,
              "#0d0887"
             ],
             [
              0.1111111111111111,
              "#46039f"
             ],
             [
              0.2222222222222222,
              "#7201a8"
             ],
             [
              0.3333333333333333,
              "#9c179e"
             ],
             [
              0.4444444444444444,
              "#bd3786"
             ],
             [
              0.5555555555555556,
              "#d8576b"
             ],
             [
              0.6666666666666666,
              "#ed7953"
             ],
             [
              0.7777777777777778,
              "#fb9f3a"
             ],
             [
              0.8888888888888888,
              "#fdca26"
             ],
             [
              1,
              "#f0f921"
             ]
            ],
            "type": "histogram2d"
           }
          ],
          "histogram2dcontour": [
           {
            "colorbar": {
             "outlinewidth": 0,
             "ticks": ""
            },
            "colorscale": [
             [
              0,
              "#0d0887"
             ],
             [
              0.1111111111111111,
              "#46039f"
             ],
             [
              0.2222222222222222,
              "#7201a8"
             ],
             [
              0.3333333333333333,
              "#9c179e"
             ],
             [
              0.4444444444444444,
              "#bd3786"
             ],
             [
              0.5555555555555556,
              "#d8576b"
             ],
             [
              0.6666666666666666,
              "#ed7953"
             ],
             [
              0.7777777777777778,
              "#fb9f3a"
             ],
             [
              0.8888888888888888,
              "#fdca26"
             ],
             [
              1,
              "#f0f921"
             ]
            ],
            "type": "histogram2dcontour"
           }
          ],
          "mesh3d": [
           {
            "colorbar": {
             "outlinewidth": 0,
             "ticks": ""
            },
            "type": "mesh3d"
           }
          ],
          "parcoords": [
           {
            "line": {
             "colorbar": {
              "outlinewidth": 0,
              "ticks": ""
             }
            },
            "type": "parcoords"
           }
          ],
          "pie": [
           {
            "automargin": true,
            "type": "pie"
           }
          ],
          "scatter": [
           {
            "fillpattern": {
             "fillmode": "overlay",
             "size": 10,
             "solidity": 0.2
            },
            "type": "scatter"
           }
          ],
          "scatter3d": [
           {
            "line": {
             "colorbar": {
              "outlinewidth": 0,
              "ticks": ""
             }
            },
            "marker": {
             "colorbar": {
              "outlinewidth": 0,
              "ticks": ""
             }
            },
            "type": "scatter3d"
           }
          ],
          "scattercarpet": [
           {
            "marker": {
             "colorbar": {
              "outlinewidth": 0,
              "ticks": ""
             }
            },
            "type": "scattercarpet"
           }
          ],
          "scattergeo": [
           {
            "marker": {
             "colorbar": {
              "outlinewidth": 0,
              "ticks": ""
             }
            },
            "type": "scattergeo"
           }
          ],
          "scattergl": [
           {
            "marker": {
             "colorbar": {
              "outlinewidth": 0,
              "ticks": ""
             }
            },
            "type": "scattergl"
           }
          ],
          "scattermapbox": [
           {
            "marker": {
             "colorbar": {
              "outlinewidth": 0,
              "ticks": ""
             }
            },
            "type": "scattermapbox"
           }
          ],
          "scatterpolar": [
           {
            "marker": {
             "colorbar": {
              "outlinewidth": 0,
              "ticks": ""
             }
            },
            "type": "scatterpolar"
           }
          ],
          "scatterpolargl": [
           {
            "marker": {
             "colorbar": {
              "outlinewidth": 0,
              "ticks": ""
             }
            },
            "type": "scatterpolargl"
           }
          ],
          "scatterternary": [
           {
            "marker": {
             "colorbar": {
              "outlinewidth": 0,
              "ticks": ""
             }
            },
            "type": "scatterternary"
           }
          ],
          "surface": [
           {
            "colorbar": {
             "outlinewidth": 0,
             "ticks": ""
            },
            "colorscale": [
             [
              0,
              "#0d0887"
             ],
             [
              0.1111111111111111,
              "#46039f"
             ],
             [
              0.2222222222222222,
              "#7201a8"
             ],
             [
              0.3333333333333333,
              "#9c179e"
             ],
             [
              0.4444444444444444,
              "#bd3786"
             ],
             [
              0.5555555555555556,
              "#d8576b"
             ],
             [
              0.6666666666666666,
              "#ed7953"
             ],
             [
              0.7777777777777778,
              "#fb9f3a"
             ],
             [
              0.8888888888888888,
              "#fdca26"
             ],
             [
              1,
              "#f0f921"
             ]
            ],
            "type": "surface"
           }
          ],
          "table": [
           {
            "cells": {
             "fill": {
              "color": "#EBF0F8"
             },
             "line": {
              "color": "white"
             }
            },
            "header": {
             "fill": {
              "color": "#C8D4E3"
             },
             "line": {
              "color": "white"
             }
            },
            "type": "table"
           }
          ]
         },
         "layout": {
          "annotationdefaults": {
           "arrowcolor": "#2a3f5f",
           "arrowhead": 0,
           "arrowwidth": 1
          },
          "autotypenumbers": "strict",
          "coloraxis": {
           "colorbar": {
            "outlinewidth": 0,
            "ticks": ""
           }
          },
          "colorscale": {
           "diverging": [
            [
             0,
             "#8e0152"
            ],
            [
             0.1,
             "#c51b7d"
            ],
            [
             0.2,
             "#de77ae"
            ],
            [
             0.3,
             "#f1b6da"
            ],
            [
             0.4,
             "#fde0ef"
            ],
            [
             0.5,
             "#f7f7f7"
            ],
            [
             0.6,
             "#e6f5d0"
            ],
            [
             0.7,
             "#b8e186"
            ],
            [
             0.8,
             "#7fbc41"
            ],
            [
             0.9,
             "#4d9221"
            ],
            [
             1,
             "#276419"
            ]
           ],
           "sequential": [
            [
             0,
             "#0d0887"
            ],
            [
             0.1111111111111111,
             "#46039f"
            ],
            [
             0.2222222222222222,
             "#7201a8"
            ],
            [
             0.3333333333333333,
             "#9c179e"
            ],
            [
             0.4444444444444444,
             "#bd3786"
            ],
            [
             0.5555555555555556,
             "#d8576b"
            ],
            [
             0.6666666666666666,
             "#ed7953"
            ],
            [
             0.7777777777777778,
             "#fb9f3a"
            ],
            [
             0.8888888888888888,
             "#fdca26"
            ],
            [
             1,
             "#f0f921"
            ]
           ],
           "sequentialminus": [
            [
             0,
             "#0d0887"
            ],
            [
             0.1111111111111111,
             "#46039f"
            ],
            [
             0.2222222222222222,
             "#7201a8"
            ],
            [
             0.3333333333333333,
             "#9c179e"
            ],
            [
             0.4444444444444444,
             "#bd3786"
            ],
            [
             0.5555555555555556,
             "#d8576b"
            ],
            [
             0.6666666666666666,
             "#ed7953"
            ],
            [
             0.7777777777777778,
             "#fb9f3a"
            ],
            [
             0.8888888888888888,
             "#fdca26"
            ],
            [
             1,
             "#f0f921"
            ]
           ]
          },
          "colorway": [
           "#636efa",
           "#EF553B",
           "#00cc96",
           "#ab63fa",
           "#FFA15A",
           "#19d3f3",
           "#FF6692",
           "#B6E880",
           "#FF97FF",
           "#FECB52"
          ],
          "font": {
           "color": "#2a3f5f"
          },
          "geo": {
           "bgcolor": "white",
           "lakecolor": "white",
           "landcolor": "#E5ECF6",
           "showlakes": true,
           "showland": true,
           "subunitcolor": "white"
          },
          "hoverlabel": {
           "align": "left"
          },
          "hovermode": "closest",
          "mapbox": {
           "style": "light"
          },
          "paper_bgcolor": "white",
          "plot_bgcolor": "#E5ECF6",
          "polar": {
           "angularaxis": {
            "gridcolor": "white",
            "linecolor": "white",
            "ticks": ""
           },
           "bgcolor": "#E5ECF6",
           "radialaxis": {
            "gridcolor": "white",
            "linecolor": "white",
            "ticks": ""
           }
          },
          "scene": {
           "xaxis": {
            "backgroundcolor": "#E5ECF6",
            "gridcolor": "white",
            "gridwidth": 2,
            "linecolor": "white",
            "showbackground": true,
            "ticks": "",
            "zerolinecolor": "white"
           },
           "yaxis": {
            "backgroundcolor": "#E5ECF6",
            "gridcolor": "white",
            "gridwidth": 2,
            "linecolor": "white",
            "showbackground": true,
            "ticks": "",
            "zerolinecolor": "white"
           },
           "zaxis": {
            "backgroundcolor": "#E5ECF6",
            "gridcolor": "white",
            "gridwidth": 2,
            "linecolor": "white",
            "showbackground": true,
            "ticks": "",
            "zerolinecolor": "white"
           }
          },
          "shapedefaults": {
           "line": {
            "color": "#2a3f5f"
           }
          },
          "ternary": {
           "aaxis": {
            "gridcolor": "white",
            "linecolor": "white",
            "ticks": ""
           },
           "baxis": {
            "gridcolor": "white",
            "linecolor": "white",
            "ticks": ""
           },
           "bgcolor": "#E5ECF6",
           "caxis": {
            "gridcolor": "white",
            "linecolor": "white",
            "ticks": ""
           }
          },
          "title": {
           "x": 0.05
          },
          "xaxis": {
           "automargin": true,
           "gridcolor": "white",
           "linecolor": "white",
           "ticks": "",
           "title": {
            "standoff": 15
           },
           "zerolinecolor": "white",
           "zerolinewidth": 2
          },
          "yaxis": {
           "automargin": true,
           "gridcolor": "white",
           "linecolor": "white",
           "ticks": "",
           "title": {
            "standoff": 15
           },
           "zerolinecolor": "white",
           "zerolinewidth": 2
          }
         }
        },
        "title": {
         "text": "Power Outages by Climate Region"
        },
        "xaxis": {
         "anchor": "y",
         "categoryarray": [
          "Northeast",
          "South",
          "West",
          "Central",
          "Southeast",
          "East North Central",
          "Northwest",
          "Southwest",
          "West North Central"
         ],
         "categoryorder": "array",
         "domain": [
          0,
          1
         ],
         "title": {
          "text": "Climate Region"
         }
        },
        "yaxis": {
         "anchor": "x",
         "domain": [
          0,
          1
         ],
         "title": {
          "text": "Number of Outages"
         }
        }
       }
      }
     },
     "metadata": {},
     "output_type": "display_data"
    }
   ],
   "source": [
    "outages_by_region = outages_df['CLIMATE.REGION'].value_counts().reset_index()\n",
    "outages_by_region.columns = ['Climate Region', 'Number of Outages']\n",
    "\n",
    "fig = px.bar(outages_by_region, x = 'Climate Region', y = 'Number of Outages', title = 'Power Outages by Climate Region', color = 'Climate Region', text = 'Number of Outages')\n",
    "\n",
    "fig.show()"
   ]
  },
  {
   "cell_type": "markdown",
   "metadata": {},
   "source": [
    "## Bivariate Analysis"
   ]
  },
  {
   "cell_type": "markdown",
   "metadata": {},
   "source": [
    "First, we wanted to take a look at how the 'OUTAGE.DURATIONS' were distributed across the different 'CLIMATE.REGION's."
   ]
  },
  {
   "cell_type": "code",
   "execution_count": 82,
   "metadata": {},
   "outputs": [
    {
     "data": {
      "application/vnd.plotly.v1+json": {
       "config": {
        "plotlyServerURL": "https://plot.ly"
       },
       "data": [
        {
         "hovertemplate": "CLIMATE.REGION=%{x}<br>OUTAGE.DURATION=%{y}<extra></extra>",
         "legendgroup": "East North Central",
         "marker": {
          "color": "#636efa",
          "symbol": "circle"
         },
         "mode": "markers",
         "name": "East North Central",
         "showlegend": true,
         "type": "scattergl",
         "x": [
          "East North Central",
          "East North Central",
          "East North Central",
          "East North Central",
          "East North Central",
          "East North Central",
          "East North Central",
          "East North Central",
          "East North Central",
          "East North Central",
          "East North Central",
          "East North Central",
          "East North Central",
          "East North Central",
          "East North Central",
          "East North Central",
          "East North Central",
          "East North Central",
          "East North Central",
          "East North Central",
          "East North Central",
          "East North Central",
          "East North Central",
          "East North Central",
          "East North Central",
          "East North Central",
          "East North Central",
          "East North Central",
          "East North Central",
          "East North Central",
          "East North Central",
          "East North Central",
          "East North Central",
          "East North Central",
          "East North Central",
          "East North Central",
          "East North Central",
          "East North Central",
          "East North Central",
          "East North Central",
          "East North Central",
          "East North Central",
          "East North Central",
          "East North Central",
          "East North Central",
          "East North Central",
          "East North Central",
          "East North Central",
          "East North Central",
          "East North Central",
          "East North Central",
          "East North Central",
          "East North Central",
          "East North Central",
          "East North Central",
          "East North Central",
          "East North Central",
          "East North Central",
          "East North Central",
          "East North Central",
          "East North Central",
          "East North Central",
          "East North Central",
          "East North Central",
          "East North Central",
          "East North Central",
          "East North Central",
          "East North Central",
          "East North Central",
          "East North Central",
          "East North Central",
          "East North Central",
          "East North Central",
          "East North Central",
          "East North Central",
          "East North Central",
          "East North Central",
          "East North Central",
          "East North Central",
          "East North Central",
          "East North Central",
          "East North Central",
          "East North Central",
          "East North Central",
          "East North Central",
          "East North Central",
          "East North Central",
          "East North Central",
          "East North Central",
          "East North Central",
          "East North Central",
          "East North Central",
          "East North Central",
          "East North Central",
          "East North Central",
          "East North Central",
          "East North Central",
          "East North Central",
          "East North Central",
          "East North Central",
          "East North Central",
          "East North Central",
          "East North Central",
          "East North Central",
          "East North Central",
          "East North Central",
          "East North Central",
          "East North Central",
          "East North Central",
          "East North Central",
          "East North Central",
          "East North Central",
          "East North Central",
          "East North Central",
          "East North Central",
          "East North Central",
          "East North Central",
          "East North Central",
          "East North Central",
          "East North Central",
          "East North Central",
          "East North Central",
          "East North Central",
          "East North Central",
          "East North Central",
          "East North Central",
          "East North Central",
          "East North Central",
          "East North Central",
          "East North Central",
          "East North Central",
          "East North Central",
          "East North Central",
          "East North Central",
          "East North Central",
          "East North Central",
          "East North Central",
          "East North Central"
         ],
         "xaxis": "x",
         "y": [
          "3060",
          "1",
          "3000",
          "2550",
          "1740",
          "1860",
          "2970",
          "3960",
          "155",
          "3621",
          "7740",
          "8880",
          "0",
          "1322",
          "60",
          null,
          "135",
          "3000",
          "32",
          "108653",
          "8468",
          "960",
          "44",
          "1605",
          "4410",
          "388",
          "480",
          "1219",
          "90",
          "18660",
          "538",
          "104",
          "60",
          "1272",
          "60",
          "3090",
          "6510",
          "5820",
          "1078",
          "1513",
          "4830",
          "3051",
          "4200",
          "2085",
          "5730",
          "4290",
          "2670",
          "3540",
          "3637",
          "1710",
          "4320",
          "3915",
          "3120",
          "4590",
          "7530",
          "5034",
          "8160",
          "3300",
          "4320",
          "1770",
          "9857",
          "4080",
          "5670",
          "5700",
          "1995",
          "300",
          "5115",
          "2670",
          "7650",
          "4338",
          "761",
          "5760",
          "2820",
          "4110",
          "3360",
          "3015",
          "232",
          "11525",
          "6420",
          "46080",
          "5700",
          "5610",
          "78377",
          "270",
          "4050",
          "5865",
          "1",
          "2325",
          "4170",
          "4485",
          "2694",
          "168",
          "5580",
          "705",
          "11850",
          "3494",
          "4560",
          "2760",
          "5760",
          "8922",
          "6030",
          "7800",
          "4242",
          "3120",
          "5700",
          "900",
          "1046",
          "7620",
          "3630",
          "1260",
          "5840",
          "5790",
          "2820",
          "600",
          "4259",
          "2939",
          "7080",
          "3600",
          "1588",
          "4260",
          "2700",
          "200",
          "8430",
          "85",
          "9150",
          "1019",
          "420",
          "1140",
          "7440",
          "4458",
          "251",
          "347",
          "1637",
          "21360",
          "2161",
          "2880",
          "1044",
          "8670"
         ],
         "yaxis": "y"
        },
        {
         "hovertemplate": "CLIMATE.REGION=%{x}<br>OUTAGE.DURATION=%{y}<extra></extra>",
         "legendgroup": "Central",
         "marker": {
          "color": "#EF553B",
          "symbol": "circle"
         },
         "mode": "markers",
         "name": "Central",
         "showlegend": true,
         "type": "scattergl",
         "x": [
          "Central",
          "Central",
          "Central",
          "Central",
          "Central",
          "Central",
          "Central",
          "Central",
          "Central",
          "Central",
          "Central",
          "Central",
          "Central",
          "Central",
          "Central",
          "Central",
          "Central",
          "Central",
          "Central",
          "Central",
          "Central",
          "Central",
          "Central",
          "Central",
          "Central",
          "Central",
          "Central",
          "Central",
          "Central",
          "Central",
          "Central",
          "Central",
          "Central",
          "Central",
          "Central",
          "Central",
          "Central",
          "Central",
          "Central",
          "Central",
          "Central",
          "Central",
          "Central",
          "Central",
          "Central",
          "Central",
          "Central",
          "Central",
          "Central",
          "Central",
          "Central",
          "Central",
          "Central",
          "Central",
          "Central",
          "Central",
          "Central",
          "Central",
          "Central",
          "Central",
          "Central",
          "Central",
          "Central",
          "Central",
          "Central",
          "Central",
          "Central",
          "Central",
          "Central",
          "Central",
          "Central",
          "Central",
          "Central",
          "Central",
          "Central",
          "Central",
          "Central",
          "Central",
          "Central",
          "Central",
          "Central",
          "Central",
          "Central",
          "Central",
          "Central",
          "Central",
          "Central",
          "Central",
          "Central",
          "Central",
          "Central",
          "Central",
          "Central",
          "Central",
          "Central",
          "Central",
          "Central",
          "Central",
          "Central",
          "Central",
          "Central",
          "Central",
          "Central",
          "Central",
          "Central",
          "Central",
          "Central",
          "Central",
          "Central",
          "Central",
          "Central",
          "Central",
          "Central",
          "Central",
          "Central",
          "Central",
          "Central",
          "Central",
          "Central",
          "Central",
          "Central",
          "Central",
          "Central",
          "Central",
          "Central",
          "Central",
          "Central",
          "Central",
          "Central",
          "Central",
          "Central",
          "Central",
          "Central",
          "Central",
          "Central",
          "Central",
          "Central",
          "Central",
          "Central",
          "Central",
          "Central",
          "Central",
          "Central",
          "Central",
          "Central",
          "Central",
          "Central",
          "Central",
          "Central",
          "Central",
          "Central",
          "Central",
          "Central",
          "Central",
          "Central",
          "Central",
          "Central",
          "Central",
          "Central",
          "Central",
          "Central",
          "Central",
          "Central",
          "Central",
          "Central",
          "Central",
          "Central",
          "Central",
          "Central",
          "Central",
          "Central",
          "Central",
          "Central",
          "Central",
          "Central",
          "Central",
          "Central",
          "Central",
          "Central",
          "Central",
          "Central",
          "Central",
          "Central",
          "Central",
          "Central",
          "Central",
          "Central",
          "Central",
          "Central",
          "Central",
          "Central",
          "Central",
          "Central",
          "Central",
          "Central",
          "Central",
          "Central",
          "Central",
          "Central",
          "Central"
         ],
         "xaxis": "x",
         "y": [
          "19",
          "0",
          "21",
          "196",
          "840",
          "935",
          "1260",
          null,
          "619",
          "150",
          "762",
          "0",
          "660",
          "1",
          "2700",
          "1",
          "4921",
          "95",
          "251",
          "4125",
          "2550",
          null,
          "1200",
          "310",
          "2818",
          "5054",
          "136",
          "528",
          "150",
          "46",
          "1",
          "1920",
          null,
          "32",
          "1",
          "1000",
          "17339",
          "9576",
          "1060",
          "12240",
          "5250",
          "4320",
          "120",
          "233",
          null,
          "65",
          "2120",
          "96",
          "3",
          "4320",
          "65",
          "2146",
          "96",
          "4032",
          "2580",
          "6",
          "569",
          "0",
          "15950",
          "200",
          "1980",
          "4045",
          "2730",
          "3314",
          "7319",
          "1",
          "47",
          "1440",
          "276",
          "0",
          "0",
          "3646",
          "1130",
          "2880",
          "513",
          "35",
          "23773",
          "10",
          "3872",
          "23187",
          "12240",
          "1450",
          "2680",
          null,
          "7609",
          "150",
          "3000",
          "420",
          "479",
          "1680",
          "2700",
          "149",
          "1110",
          "2790",
          "659",
          "1320",
          "1830",
          "3000",
          null,
          "870",
          "810",
          "1336",
          "1695",
          "360",
          "360",
          "120",
          "3000",
          "1290",
          "1530",
          "2370",
          "1200",
          "1200",
          "90",
          "120",
          "1200",
          "2761",
          "720",
          "1120",
          "2100",
          "960",
          "450",
          "1440",
          "1020",
          "0",
          "2010",
          "120",
          "9230",
          "1440",
          "1",
          "1680",
          "1579",
          "652",
          "108",
          "300",
          "1020",
          "3570",
          "6492",
          "23700",
          "10499",
          "15180",
          "4920",
          null,
          "4920",
          "420",
          "0",
          "7",
          "21",
          "340",
          "4200",
          "805",
          "5040",
          "7430",
          "5490",
          "165",
          "3630",
          "11640",
          "1590",
          "3137",
          "1440",
          "7920",
          "360",
          "0",
          "1440",
          "1372",
          "6480",
          "2190",
          "285",
          "75",
          "1843",
          "1",
          "11531",
          "1420",
          "0",
          "930",
          "11420",
          "0",
          "352",
          "0",
          "960",
          "1733",
          "3690",
          "10619",
          "634",
          "65",
          "810",
          "4150",
          "4740",
          "25",
          "0",
          null,
          "2070",
          "870",
          "12652",
          "2880",
          "120",
          "1199",
          null,
          "1470",
          "4140",
          "15420"
         ],
         "yaxis": "y"
        },
        {
         "hovertemplate": "CLIMATE.REGION=%{x}<br>OUTAGE.DURATION=%{y}<extra></extra>",
         "legendgroup": "South",
         "marker": {
          "color": "#00cc96",
          "symbol": "circle"
         },
         "mode": "markers",
         "name": "South",
         "showlegend": true,
         "type": "scattergl",
         "x": [
          "South",
          "South",
          "South",
          "South",
          "South",
          "South",
          "South",
          "South",
          "South",
          "South",
          "South",
          "South",
          "South",
          "South",
          "South",
          "South",
          "South",
          "South",
          "South",
          "South",
          "South",
          "South",
          "South",
          "South",
          "South",
          "South",
          "South",
          "South",
          "South",
          "South",
          "South",
          "South",
          "South",
          "South",
          "South",
          "South",
          "South",
          "South",
          "South",
          "South",
          "South",
          "South",
          "South",
          "South",
          "South",
          "South",
          "South",
          "South",
          "South",
          "South",
          "South",
          "South",
          "South",
          "South",
          "South",
          "South",
          "South",
          "South",
          "South",
          "South",
          "South",
          "South",
          "South",
          "South",
          "South",
          "South",
          "South",
          "South",
          "South",
          "South",
          "South",
          "South",
          "South",
          "South",
          "South",
          "South",
          "South",
          "South",
          "South",
          "South",
          "South",
          "South",
          "South",
          "South",
          "South",
          "South",
          "South",
          "South",
          "South",
          "South",
          "South",
          "South",
          "South",
          "South",
          "South",
          "South",
          "South",
          "South",
          "South",
          "South",
          "South",
          "South",
          "South",
          "South",
          "South",
          "South",
          "South",
          "South",
          "South",
          "South",
          "South",
          "South",
          "South",
          "South",
          "South",
          "South",
          "South",
          "South",
          "South",
          "South",
          "South",
          "South",
          "South",
          "South",
          "South",
          "South",
          "South",
          "South",
          "South",
          "South",
          "South",
          "South",
          "South",
          "South",
          "South",
          "South",
          "South",
          "South",
          "South",
          "South",
          "South",
          "South",
          "South",
          "South",
          "South",
          "South",
          "South",
          "South",
          "South",
          "South",
          "South",
          "South",
          "South",
          "South",
          "South",
          "South",
          "South",
          "South",
          "South",
          "South",
          "South",
          "South",
          "South",
          "South",
          "South",
          "South",
          "South",
          "South",
          "South",
          "South",
          "South",
          "South",
          "South",
          "South",
          "South",
          "South",
          "South",
          "South",
          "South",
          "South",
          "South",
          "South",
          "South",
          "South",
          "South",
          "South",
          "South",
          "South",
          "South",
          "South",
          "South",
          "South",
          "South",
          "South",
          "South",
          "South",
          "South",
          "South",
          "South",
          "South",
          "South",
          "South",
          "South",
          "South",
          "South",
          "South",
          "South",
          "South",
          "South",
          "South",
          "South",
          "South",
          "South",
          "South",
          "South",
          "South",
          "South",
          "South",
          "South",
          "South",
          "South",
          "South",
          "South",
          "South",
          "South",
          "South",
          "South",
          "South",
          "South"
         ],
         "xaxis": "x",
         "y": [
          "373",
          "1203",
          "868",
          "1455",
          "206",
          "1195",
          "1559",
          "900",
          "2690",
          "5115",
          "5",
          "189",
          "2142",
          "360",
          null,
          "225",
          "2340",
          "480",
          "9486",
          "480",
          "3000",
          "300",
          "3020",
          "766",
          null,
          "1335",
          "197",
          "245",
          "3255",
          "12180",
          "1077",
          "600",
          "186",
          "690",
          "27698",
          "402",
          "2420",
          "327",
          "1",
          "1860",
          "220",
          "455",
          "318",
          "757",
          "847",
          "410",
          "215",
          "5",
          "570",
          "12124",
          "2655",
          "20160",
          "1440",
          "600",
          "39",
          "181",
          "1185",
          "1500",
          "0",
          "271",
          "1860",
          "1200",
          "2159",
          "6300",
          null,
          "1620",
          "224",
          "70",
          "1697",
          "95",
          "2220",
          null,
          "7809",
          "1200",
          "121",
          "63",
          "5595",
          "1",
          "557",
          "240",
          "3360",
          "685",
          "2280",
          "210",
          "167",
          "1920",
          "3569",
          "3300",
          "10",
          "1560",
          "840",
          "240",
          "990",
          "6000",
          "17865",
          "1282",
          "1080",
          "7540",
          "1320",
          "1110",
          "27698",
          "130",
          "3040",
          "394",
          "10140",
          "20160",
          "21540",
          "45",
          "1",
          "1200",
          "550",
          "900",
          "885",
          "940",
          null,
          "3050",
          "1830",
          "6000",
          "1500",
          "150",
          "1955",
          "2220",
          "330",
          "74",
          "420",
          "1440",
          "255",
          "30",
          "300",
          "1",
          "5",
          "28170",
          "300",
          "8054",
          "2775",
          "2775",
          "2160",
          "2100",
          "2775",
          "3180",
          "2775",
          "1440",
          "430",
          "2129",
          "1755",
          null,
          "692",
          "732",
          "7",
          "510",
          "420",
          "13215",
          "557",
          "300",
          "17812",
          "20416",
          "6240",
          "467",
          "3067",
          "3060",
          "355",
          "430",
          "300",
          "227",
          "52",
          null,
          "2880",
          "18804",
          "1867",
          "1690",
          "295",
          "10274",
          "3",
          "2700",
          "105",
          "240",
          "210",
          "1",
          "1201",
          "30",
          "2806",
          "1226",
          "300",
          "206",
          "270",
          "2880",
          "513",
          "8160",
          "3314",
          "414",
          "126",
          "60",
          "285",
          "110",
          "62",
          "2363",
          "1042",
          "110",
          "11880",
          "2245",
          "984",
          "7200",
          "1381",
          "148",
          "13972",
          null,
          "796",
          "300",
          null,
          "2612",
          "3000",
          "431",
          "5310",
          "1732",
          "0",
          "6685",
          "3300",
          "280",
          "117",
          "2895",
          null,
          "187",
          "1406",
          "348",
          "13650",
          "90",
          "913",
          null,
          "14040"
         ],
         "yaxis": "y"
        },
        {
         "hovertemplate": "CLIMATE.REGION=%{x}<br>OUTAGE.DURATION=%{y}<extra></extra>",
         "legendgroup": "Southeast",
         "marker": {
          "color": "#ab63fa",
          "symbol": "circle"
         },
         "mode": "markers",
         "name": "Southeast",
         "showlegend": true,
         "type": "scattergl",
         "x": [
          "Southeast",
          "Southeast",
          "Southeast",
          "Southeast",
          "Southeast",
          "Southeast",
          "Southeast",
          "Southeast",
          "Southeast",
          "Southeast",
          "Southeast",
          "Southeast",
          "Southeast",
          "Southeast",
          "Southeast",
          "Southeast",
          "Southeast",
          "Southeast",
          "Southeast",
          "Southeast",
          "Southeast",
          "Southeast",
          "Southeast",
          "Southeast",
          "Southeast",
          "Southeast",
          "Southeast",
          "Southeast",
          "Southeast",
          "Southeast",
          "Southeast",
          "Southeast",
          "Southeast",
          "Southeast",
          "Southeast",
          "Southeast",
          "Southeast",
          "Southeast",
          "Southeast",
          "Southeast",
          "Southeast",
          "Southeast",
          "Southeast",
          "Southeast",
          "Southeast",
          "Southeast",
          "Southeast",
          "Southeast",
          "Southeast",
          "Southeast",
          "Southeast",
          "Southeast",
          "Southeast",
          "Southeast",
          "Southeast",
          "Southeast",
          "Southeast",
          "Southeast",
          "Southeast",
          "Southeast",
          "Southeast",
          "Southeast",
          "Southeast",
          "Southeast",
          "Southeast",
          "Southeast",
          "Southeast",
          "Southeast",
          "Southeast",
          "Southeast",
          "Southeast",
          "Southeast",
          "Southeast",
          "Southeast",
          "Southeast",
          "Southeast",
          "Southeast",
          "Southeast",
          "Southeast",
          "Southeast",
          "Southeast",
          "Southeast",
          "Southeast",
          "Southeast",
          "Southeast",
          "Southeast",
          "Southeast",
          "Southeast",
          "Southeast",
          "Southeast",
          "Southeast",
          "Southeast",
          "Southeast",
          "Southeast",
          "Southeast",
          "Southeast",
          "Southeast",
          "Southeast",
          "Southeast",
          "Southeast",
          "Southeast",
          "Southeast",
          "Southeast",
          "Southeast",
          "Southeast",
          "Southeast",
          "Southeast",
          "Southeast",
          "Southeast",
          "Southeast",
          "Southeast",
          "Southeast",
          "Southeast",
          "Southeast",
          "Southeast",
          "Southeast",
          "Southeast",
          "Southeast",
          "Southeast",
          "Southeast",
          "Southeast",
          "Southeast",
          "Southeast",
          "Southeast",
          "Southeast",
          "Southeast",
          "Southeast",
          "Southeast",
          "Southeast",
          "Southeast",
          "Southeast",
          "Southeast",
          "Southeast",
          "Southeast",
          "Southeast",
          "Southeast",
          "Southeast",
          "Southeast",
          "Southeast",
          "Southeast",
          "Southeast",
          "Southeast",
          "Southeast",
          "Southeast",
          "Southeast",
          "Southeast",
          "Southeast",
          "Southeast",
          "Southeast",
          "Southeast",
          "Southeast",
          "Southeast",
          "Southeast"
         ],
         "xaxis": "x",
         "y": [
          "390",
          null,
          "3264",
          "1230",
          "803",
          "77",
          "11280",
          "1440",
          "180",
          "1574",
          "45",
          "563",
          "388",
          "373",
          "4510",
          "290",
          "1950",
          "270",
          "1355",
          "1318",
          "2490",
          "1265",
          "195",
          "3120",
          "3388",
          "1025",
          "990",
          "240",
          "1485",
          "129",
          "0",
          "1528",
          "1890",
          "2551",
          "985",
          "405",
          "1698",
          "167",
          "1460",
          "182",
          "4113",
          null,
          "885",
          "15",
          "42",
          "1050",
          "488",
          "2415",
          "180",
          "4177",
          "7440",
          "3480",
          "6600",
          "300",
          "17",
          "240",
          "17520",
          "8189",
          "182",
          "5820",
          "83",
          "230",
          "2009",
          "720",
          "155",
          "4320",
          "4320",
          "480",
          "1005",
          "221",
          "372",
          "13430",
          "4320",
          "91",
          "1419",
          "3600",
          "10080",
          "5071",
          "152",
          "6840",
          "221",
          "24780",
          "38",
          "61",
          "7560",
          "90",
          "10380",
          "396",
          "2040",
          "12060",
          "1080",
          "1680",
          "13920",
          "14101",
          "1099",
          "2460",
          "540",
          "52",
          "816",
          "424",
          "180",
          "0",
          "448",
          "2",
          "624",
          "2435",
          "131",
          null,
          "208",
          "103",
          "1355",
          "1523",
          "90",
          "1205",
          "385",
          "144",
          "235",
          "241",
          "6787",
          "1337",
          "1673",
          "3366",
          "2640",
          "1826",
          "570",
          "1565",
          "2691",
          "1072",
          "115",
          "816",
          "168",
          "30",
          "160",
          "485",
          "1508",
          "1301",
          "810",
          "1380",
          "1800",
          "1560",
          "2054",
          "1452",
          "1865",
          "1999",
          "120",
          "1950",
          "360",
          "1087",
          "1200",
          "4122",
          "360",
          "645",
          "108"
         ],
         "yaxis": "y"
        },
        {
         "hovertemplate": "CLIMATE.REGION=%{x}<br>OUTAGE.DURATION=%{y}<extra></extra>",
         "legendgroup": "Northwest",
         "marker": {
          "color": "#FFA15A",
          "symbol": "circle"
         },
         "mode": "markers",
         "name": "Northwest",
         "showlegend": true,
         "type": "scattergl",
         "x": [
          "Northwest",
          "Northwest",
          "Northwest",
          "Northwest",
          "Northwest",
          "Northwest",
          "Northwest",
          "Northwest",
          "Northwest",
          "Northwest",
          "Northwest",
          "Northwest",
          "Northwest",
          "Northwest",
          "Northwest",
          "Northwest",
          "Northwest",
          "Northwest",
          "Northwest",
          "Northwest",
          "Northwest",
          "Northwest",
          "Northwest",
          "Northwest",
          "Northwest",
          "Northwest",
          "Northwest",
          "Northwest",
          "Northwest",
          "Northwest",
          "Northwest",
          "Northwest",
          "Northwest",
          "Northwest",
          "Northwest",
          "Northwest",
          "Northwest",
          "Northwest",
          "Northwest",
          "Northwest",
          "Northwest",
          "Northwest",
          "Northwest",
          "Northwest",
          "Northwest",
          "Northwest",
          "Northwest",
          "Northwest",
          "Northwest",
          "Northwest",
          "Northwest",
          "Northwest",
          "Northwest",
          "Northwest",
          "Northwest",
          "Northwest",
          "Northwest",
          "Northwest",
          "Northwest",
          "Northwest",
          "Northwest",
          "Northwest",
          "Northwest",
          "Northwest",
          "Northwest",
          "Northwest",
          "Northwest",
          "Northwest",
          "Northwest",
          "Northwest",
          "Northwest",
          "Northwest",
          "Northwest",
          "Northwest",
          "Northwest",
          "Northwest",
          "Northwest",
          "Northwest",
          "Northwest",
          "Northwest",
          "Northwest",
          "Northwest",
          "Northwest",
          "Northwest",
          "Northwest",
          "Northwest",
          "Northwest",
          "Northwest",
          "Northwest",
          "Northwest",
          "Northwest",
          "Northwest",
          "Northwest",
          "Northwest",
          "Northwest",
          "Northwest",
          "Northwest",
          "Northwest",
          "Northwest",
          "Northwest",
          "Northwest",
          "Northwest",
          "Northwest",
          "Northwest",
          "Northwest",
          "Northwest",
          "Northwest",
          "Northwest",
          "Northwest",
          "Northwest",
          "Northwest",
          "Northwest",
          "Northwest",
          "Northwest",
          "Northwest",
          "Northwest",
          "Northwest",
          "Northwest",
          "Northwest",
          "Northwest",
          "Northwest",
          "Northwest",
          "Northwest",
          "Northwest",
          "Northwest",
          "Northwest",
          "Northwest",
          "Northwest",
          "Northwest",
          "Northwest",
          "Northwest",
          "Northwest"
         ],
         "xaxis": "x",
         "y": [
          "1240",
          "465",
          "0",
          "2460",
          "1183",
          "8880",
          "394",
          "219",
          "487",
          "19",
          "28",
          "0",
          "1",
          "5340",
          "8940",
          "467",
          "0",
          "1920",
          "0",
          "25",
          "420",
          "2040",
          "0",
          "1",
          "1423",
          "60",
          "1620",
          "3300",
          "385",
          "663",
          "123",
          "1276",
          "1919",
          null,
          "440",
          "6690",
          null,
          "0",
          null,
          "717",
          "1204",
          "292",
          "313",
          "1",
          "5",
          "6276",
          "0",
          "74",
          "0",
          null,
          "248",
          "1",
          "2700",
          "25",
          "126",
          "1",
          "255",
          "1207",
          "0",
          "0",
          "245",
          "476",
          null,
          null,
          null,
          "1",
          "2639",
          "502",
          "548",
          "369",
          "6480",
          "15",
          "5",
          null,
          "1",
          "0",
          "432",
          "21",
          "1697",
          "0",
          "2615",
          "9630",
          "3507",
          "2820",
          "314",
          "5855",
          "0",
          "0",
          "1",
          "22769",
          "70",
          "4285",
          "355",
          "0",
          "2520",
          "0",
          "180",
          "1526",
          "60",
          "210",
          "2",
          "1350",
          "73",
          "1",
          "200",
          "0",
          null,
          "4380",
          "0",
          "120",
          "2680",
          "840",
          "989",
          "4313",
          "214",
          "4",
          "164",
          "91",
          "1050",
          "838",
          "60",
          "1",
          "1",
          "224",
          "0",
          "95",
          "360",
          "1548",
          "870",
          "0",
          null,
          "220"
         ],
         "yaxis": "y"
        },
        {
         "hovertemplate": "CLIMATE.REGION=%{x}<br>OUTAGE.DURATION=%{y}<extra></extra>",
         "legendgroup": "Southwest",
         "marker": {
          "color": "#19d3f3",
          "symbol": "circle"
         },
         "mode": "markers",
         "name": "Southwest",
         "showlegend": true,
         "type": "scattergl",
         "x": [
          "Southwest",
          "Southwest",
          "Southwest",
          "Southwest",
          "Southwest",
          "Southwest",
          "Southwest",
          "Southwest",
          "Southwest",
          "Southwest",
          "Southwest",
          "Southwest",
          "Southwest",
          "Southwest",
          "Southwest",
          "Southwest",
          "Southwest",
          "Southwest",
          "Southwest",
          "Southwest",
          "Southwest",
          "Southwest",
          "Southwest",
          "Southwest",
          "Southwest",
          "Southwest",
          "Southwest",
          "Southwest",
          "Southwest",
          "Southwest",
          "Southwest",
          "Southwest",
          "Southwest",
          "Southwest",
          "Southwest",
          "Southwest",
          "Southwest",
          "Southwest",
          "Southwest",
          "Southwest",
          "Southwest",
          "Southwest",
          "Southwest",
          "Southwest",
          "Southwest",
          "Southwest",
          "Southwest",
          "Southwest",
          "Southwest",
          "Southwest",
          "Southwest",
          "Southwest",
          "Southwest",
          "Southwest",
          "Southwest",
          "Southwest",
          "Southwest",
          "Southwest",
          "Southwest",
          "Southwest",
          "Southwest",
          "Southwest",
          "Southwest",
          "Southwest",
          "Southwest",
          "Southwest",
          "Southwest",
          "Southwest",
          "Southwest",
          "Southwest",
          "Southwest",
          "Southwest",
          "Southwest",
          "Southwest",
          "Southwest",
          "Southwest",
          "Southwest",
          "Southwest",
          "Southwest",
          "Southwest",
          "Southwest",
          "Southwest",
          "Southwest",
          "Southwest",
          "Southwest",
          "Southwest",
          "Southwest",
          "Southwest",
          "Southwest",
          "Southwest",
          "Southwest",
          "Southwest"
         ],
         "xaxis": "x",
         "y": [
          "554",
          "50",
          "70",
          "180",
          "3842",
          "35",
          "1",
          "189",
          "49320",
          "4200",
          "353",
          "1",
          "87",
          "66",
          null,
          "1",
          "227",
          null,
          "1440",
          "1",
          "2700",
          null,
          "49320",
          "2",
          "215",
          "451",
          "418",
          "100",
          "0",
          "120",
          "1",
          "1",
          "1",
          "1",
          "1",
          "1",
          "60",
          "113",
          "204",
          "31",
          "57",
          "13",
          "2",
          "11",
          "283",
          "0",
          "1",
          "871",
          "1631",
          "56",
          "15",
          "15",
          "20",
          "60",
          "1",
          "95",
          "300",
          "1",
          "3186",
          "575",
          "2275",
          "15",
          "1",
          "44",
          "21",
          "1",
          "114",
          "1",
          "60",
          "314",
          "30",
          "0",
          "92",
          "390",
          "161",
          "60",
          "76",
          "2",
          "175",
          null,
          "2040",
          "2710",
          "284",
          "105",
          "4019",
          "1",
          "391",
          "439",
          "5",
          "201",
          "2140",
          "103"
         ],
         "yaxis": "y"
        },
        {
         "hovertemplate": "CLIMATE.REGION=%{x}<br>OUTAGE.DURATION=%{y}<extra></extra>",
         "legendgroup": "Northeast",
         "marker": {
          "color": "#FF6692",
          "symbol": "circle"
         },
         "mode": "markers",
         "name": "Northeast",
         "showlegend": true,
         "type": "scattergl",
         "x": [
          "Northeast",
          "Northeast",
          "Northeast",
          "Northeast",
          "Northeast",
          "Northeast",
          "Northeast",
          "Northeast",
          "Northeast",
          "Northeast",
          "Northeast",
          "Northeast",
          "Northeast",
          "Northeast",
          "Northeast",
          "Northeast",
          "Northeast",
          "Northeast",
          "Northeast",
          "Northeast",
          "Northeast",
          "Northeast",
          "Northeast",
          "Northeast",
          "Northeast",
          "Northeast",
          "Northeast",
          "Northeast",
          "Northeast",
          "Northeast",
          "Northeast",
          "Northeast",
          "Northeast",
          "Northeast",
          "Northeast",
          "Northeast",
          "Northeast",
          "Northeast",
          "Northeast",
          "Northeast",
          "Northeast",
          "Northeast",
          "Northeast",
          "Northeast",
          "Northeast",
          "Northeast",
          "Northeast",
          "Northeast",
          "Northeast",
          "Northeast",
          "Northeast",
          "Northeast",
          "Northeast",
          "Northeast",
          "Northeast",
          "Northeast",
          "Northeast",
          "Northeast",
          "Northeast",
          "Northeast",
          "Northeast",
          "Northeast",
          "Northeast",
          "Northeast",
          "Northeast",
          "Northeast",
          "Northeast",
          "Northeast",
          "Northeast",
          "Northeast",
          "Northeast",
          "Northeast",
          "Northeast",
          "Northeast",
          "Northeast",
          "Northeast",
          "Northeast",
          "Northeast",
          "Northeast",
          "Northeast",
          "Northeast",
          "Northeast",
          "Northeast",
          "Northeast",
          "Northeast",
          "Northeast",
          "Northeast",
          "Northeast",
          "Northeast",
          "Northeast",
          "Northeast",
          "Northeast",
          "Northeast",
          "Northeast",
          "Northeast",
          "Northeast",
          "Northeast",
          "Northeast",
          "Northeast",
          "Northeast",
          "Northeast",
          "Northeast",
          "Northeast",
          "Northeast",
          "Northeast",
          "Northeast",
          "Northeast",
          "Northeast",
          "Northeast",
          "Northeast",
          "Northeast",
          "Northeast",
          "Northeast",
          "Northeast",
          "Northeast",
          "Northeast",
          "Northeast",
          "Northeast",
          "Northeast",
          "Northeast",
          "Northeast",
          "Northeast",
          "Northeast",
          "Northeast",
          "Northeast",
          "Northeast",
          "Northeast",
          "Northeast",
          "Northeast",
          "Northeast",
          "Northeast",
          "Northeast",
          "Northeast",
          "Northeast",
          "Northeast",
          "Northeast",
          "Northeast",
          "Northeast",
          "Northeast",
          "Northeast",
          "Northeast",
          "Northeast",
          "Northeast",
          "Northeast",
          "Northeast",
          "Northeast",
          "Northeast",
          "Northeast",
          "Northeast",
          "Northeast",
          "Northeast",
          "Northeast",
          "Northeast",
          "Northeast",
          "Northeast",
          "Northeast",
          "Northeast",
          "Northeast",
          "Northeast",
          "Northeast",
          "Northeast",
          "Northeast",
          "Northeast",
          "Northeast",
          "Northeast",
          "Northeast",
          "Northeast",
          "Northeast",
          "Northeast",
          "Northeast",
          "Northeast",
          "Northeast",
          "Northeast",
          "Northeast",
          "Northeast",
          "Northeast",
          "Northeast",
          "Northeast",
          "Northeast",
          "Northeast",
          "Northeast",
          "Northeast",
          "Northeast",
          "Northeast",
          "Northeast",
          "Northeast",
          "Northeast",
          "Northeast",
          "Northeast",
          "Northeast",
          "Northeast",
          "Northeast",
          "Northeast",
          "Northeast",
          "Northeast",
          "Northeast",
          "Northeast",
          "Northeast",
          "Northeast",
          "Northeast",
          "Northeast",
          "Northeast",
          "Northeast",
          "Northeast",
          "Northeast",
          "Northeast",
          "Northeast",
          "Northeast",
          "Northeast",
          "Northeast",
          "Northeast",
          "Northeast",
          "Northeast",
          "Northeast",
          "Northeast",
          "Northeast",
          "Northeast",
          "Northeast",
          "Northeast",
          "Northeast",
          "Northeast",
          "Northeast",
          "Northeast",
          "Northeast",
          "Northeast",
          "Northeast",
          "Northeast",
          "Northeast",
          "Northeast",
          "Northeast",
          "Northeast",
          "Northeast",
          "Northeast",
          "Northeast",
          "Northeast",
          "Northeast",
          "Northeast",
          "Northeast",
          "Northeast",
          "Northeast",
          "Northeast",
          "Northeast",
          "Northeast",
          "Northeast",
          "Northeast",
          "Northeast",
          "Northeast",
          "Northeast",
          "Northeast",
          "Northeast",
          "Northeast",
          "Northeast",
          "Northeast",
          "Northeast",
          "Northeast",
          "Northeast",
          "Northeast",
          "Northeast",
          "Northeast",
          "Northeast",
          "Northeast",
          "Northeast",
          "Northeast",
          "Northeast",
          "Northeast",
          "Northeast",
          "Northeast",
          "Northeast",
          "Northeast",
          "Northeast",
          "Northeast",
          "Northeast",
          "Northeast",
          "Northeast",
          "Northeast",
          "Northeast",
          "Northeast",
          "Northeast",
          "Northeast",
          "Northeast",
          "Northeast",
          "Northeast",
          "Northeast",
          "Northeast",
          "Northeast",
          "Northeast",
          "Northeast",
          "Northeast",
          "Northeast",
          "Northeast",
          "Northeast",
          "Northeast",
          "Northeast",
          "Northeast",
          "Northeast",
          "Northeast",
          "Northeast",
          "Northeast",
          "Northeast",
          "Northeast",
          "Northeast",
          "Northeast",
          "Northeast",
          "Northeast",
          "Northeast",
          "Northeast",
          "Northeast",
          "Northeast",
          "Northeast",
          "Northeast",
          "Northeast",
          "Northeast",
          "Northeast",
          "Northeast",
          "Northeast",
          "Northeast",
          "Northeast",
          "Northeast",
          "Northeast",
          "Northeast",
          "Northeast",
          "Northeast",
          "Northeast",
          "Northeast",
          "Northeast",
          "Northeast",
          "Northeast",
          "Northeast",
          "Northeast",
          "Northeast",
          "Northeast",
          "Northeast",
          "Northeast",
          "Northeast",
          "Northeast",
          "Northeast",
          "Northeast",
          "Northeast",
          "Northeast",
          "Northeast",
          "Northeast",
          "Northeast",
          "Northeast",
          "Northeast",
          "Northeast",
          "Northeast",
          "Northeast",
          "Northeast",
          "Northeast",
          "Northeast"
         ],
         "xaxis": "x",
         "y": [
          "2021",
          "1671",
          "3938",
          "4470",
          "2279",
          "4440",
          "2760",
          "0",
          "1",
          "0",
          "1",
          "1840",
          "428",
          "331",
          "1980",
          "1",
          "1",
          "1950",
          "3037",
          "1",
          "1",
          "1196",
          "5628",
          "1440",
          "7700",
          "2",
          "12890",
          "4232",
          "95",
          "2610",
          "4320",
          "17",
          "113",
          "0",
          "2507",
          "0",
          "1",
          "4920",
          "1",
          "4080",
          "0",
          "960",
          "185",
          "1320",
          "1673",
          "2855",
          "3060",
          "565",
          "1",
          "1",
          "7298",
          "5790",
          "3040",
          "11700",
          "7987",
          "304",
          "4517",
          "0",
          "3058",
          "13381",
          "2865",
          "152",
          "380",
          "9450",
          "7803",
          "5579",
          "8979",
          "4800",
          "3060",
          "4792",
          "3894",
          "1757",
          "2880",
          "2985",
          "164",
          "3232",
          "2319",
          "4338",
          "2880",
          "1714",
          "90",
          "59",
          "4139",
          "10530",
          "6938",
          "930",
          "278",
          "299",
          "5320",
          "2880",
          "1",
          "4260",
          "6713",
          "5160",
          "1440",
          "78",
          "7523",
          "2668",
          "1",
          "376",
          "1324",
          "6940",
          "2684",
          "54",
          "100",
          "720",
          "2880",
          "3189",
          "2790",
          "13679",
          "2843",
          "13488",
          "1642",
          "7709",
          "7080",
          "1",
          "132",
          "4140",
          "2880",
          null,
          "11430",
          "3599",
          "0",
          "2941",
          null,
          "6090",
          "1365",
          "375",
          "2520",
          "10080",
          "76",
          "0",
          "3720",
          "333",
          "0",
          "353",
          "11337",
          "0",
          "0",
          "7020",
          "11058",
          null,
          "9360",
          "3300",
          "3339",
          "2880",
          "11580",
          "9600",
          "13201",
          "9719",
          "9886",
          "2425",
          "390",
          "14500",
          "6660",
          "159",
          "54",
          "30",
          "8077",
          "855",
          "50",
          "0",
          "1",
          "1",
          "0",
          "0",
          "0",
          "457",
          "1",
          "1",
          "0",
          "30",
          "1",
          "1",
          "65",
          "1",
          "0",
          "0",
          "0",
          "1",
          null,
          "1",
          "0",
          "1",
          "1",
          "110",
          "39",
          "1",
          "1",
          "1",
          "1",
          "1",
          "1",
          "507",
          "213",
          "4254",
          "1",
          "1",
          "53",
          "0",
          "0",
          "2089",
          "20280",
          "14639",
          "2880",
          "681",
          "494",
          "1",
          "5355",
          "0",
          "3943",
          "3300",
          "191",
          "0",
          "73",
          "4680",
          "17310",
          "10080",
          "10726",
          "1",
          "5",
          "2515",
          "25920",
          "2730",
          "9480",
          "5400",
          "30",
          "3584",
          "3600",
          "5850",
          "4710",
          "1",
          "1732",
          "0",
          "23040",
          "1800",
          "6074",
          null,
          "49",
          "2299",
          "5760",
          "420",
          "7320",
          "2880",
          "448",
          "2520",
          "18717",
          "5513",
          "21",
          "2100",
          "3120",
          "8221",
          "3240",
          "2880",
          "255",
          "2355",
          "161",
          "50",
          "258",
          "13140",
          "8640",
          "18240",
          "15492",
          "8268",
          "0",
          "300",
          "14400",
          "7962",
          "2400",
          "11296",
          "48",
          "60480",
          "1",
          "1",
          "160",
          "20",
          "1",
          "1",
          "70",
          "50",
          "15",
          "0",
          "1",
          "1440",
          "4560",
          "1",
          "1",
          "110",
          "210",
          "120",
          "0",
          "4260",
          "76",
          "210",
          "3305",
          "5880",
          "145",
          "60",
          "2640",
          "480",
          "31",
          "1",
          "0",
          "0",
          "103",
          "4745",
          "307",
          "1656",
          "3525",
          "374",
          "1068",
          "1569",
          "114",
          "115",
          "15",
          "2891",
          "1",
          "1676",
          "0",
          "0",
          "3604",
          "195",
          "1",
          "0",
          "2108",
          "198",
          "3667",
          "1037",
          "673",
          null,
          "2652",
          "300",
          "881",
          "618",
          "1187",
          "950",
          "2535",
          "27",
          "108",
          "73",
          "200",
          "5",
          "75",
          "0",
          "77",
          "660",
          "0",
          "92",
          "30",
          "33"
         ],
         "yaxis": "y"
        },
        {
         "hovertemplate": "CLIMATE.REGION=%{x}<br>OUTAGE.DURATION=%{y}<extra></extra>",
         "legendgroup": "West North Central",
         "marker": {
          "color": "#B6E880",
          "symbol": "circle"
         },
         "mode": "markers",
         "name": "West North Central",
         "showlegend": true,
         "type": "scattergl",
         "x": [
          "West North Central",
          "West North Central",
          "West North Central",
          "West North Central",
          "West North Central",
          "West North Central",
          "West North Central",
          "West North Central",
          "West North Central",
          "West North Central",
          "West North Central",
          "West North Central",
          "West North Central",
          "West North Central",
          "West North Central",
          "West North Central",
          "West North Central"
         ],
         "xaxis": "x",
         "y": [
          "56",
          "93",
          "13",
          "159",
          "60",
          "4",
          "9600",
          "106",
          "0",
          "0",
          "1",
          "32",
          "61",
          "720",
          null,
          "59",
          "181"
         ],
         "yaxis": "y"
        },
        {
         "hovertemplate": "CLIMATE.REGION=%{x}<br>OUTAGE.DURATION=%{y}<extra></extra>",
         "legendgroup": "West",
         "marker": {
          "color": "#FF97FF",
          "symbol": "circle"
         },
         "mode": "markers",
         "name": "West",
         "showlegend": true,
         "type": "scattergl",
         "x": [
          "West",
          "West",
          "West",
          "West",
          "West",
          "West",
          "West",
          "West",
          "West",
          "West",
          "West",
          "West",
          "West",
          "West",
          "West",
          "West",
          "West",
          "West",
          "West",
          "West",
          "West",
          "West",
          "West",
          "West",
          "West",
          "West",
          "West",
          "West",
          "West",
          "West",
          "West",
          "West",
          "West",
          "West",
          "West",
          "West",
          "West",
          "West",
          "West",
          "West",
          "West",
          "West",
          "West",
          "West",
          "West",
          "West",
          "West",
          "West",
          "West",
          "West",
          "West",
          "West",
          "West",
          "West",
          "West",
          "West",
          "West",
          "West",
          "West",
          "West",
          "West",
          "West",
          "West",
          "West",
          "West",
          "West",
          "West",
          "West",
          "West",
          "West",
          "West",
          "West",
          "West",
          "West",
          "West",
          "West",
          "West",
          "West",
          "West",
          "West",
          "West",
          "West",
          "West",
          "West",
          "West",
          "West",
          "West",
          "West",
          "West",
          "West",
          "West",
          "West",
          "West",
          "West",
          "West",
          "West",
          "West",
          "West",
          "West",
          "West",
          "West",
          "West",
          "West",
          "West",
          "West",
          "West",
          "West",
          "West",
          "West",
          "West",
          "West",
          "West",
          "West",
          "West",
          "West",
          "West",
          "West",
          "West",
          "West",
          "West",
          "West",
          "West",
          "West",
          "West",
          "West",
          "West",
          "West",
          "West",
          "West",
          "West",
          "West",
          "West",
          "West",
          "West",
          "West",
          "West",
          "West",
          "West",
          "West",
          "West",
          "West",
          "West",
          "West",
          "West",
          "West",
          "West",
          "West",
          "West",
          "West",
          "West",
          "West",
          "West",
          "West",
          "West",
          "West",
          "West",
          "West",
          "West",
          "West",
          "West",
          "West",
          "West",
          "West",
          "West",
          "West",
          "West",
          "West",
          "West",
          "West",
          "West",
          "West",
          "West",
          "West",
          "West",
          "West",
          "West",
          "West",
          "West",
          "West",
          "West",
          "West",
          "West",
          "West",
          "West",
          "West",
          "West",
          "West",
          "West",
          "West",
          "West",
          "West",
          "West",
          "West",
          "West",
          "West",
          "West",
          "West",
          "West",
          "West",
          "West",
          "West",
          "West",
          "West",
          "West",
          "West",
          "West",
          "West",
          "West",
          "West",
          "West",
          "West",
          "West",
          "West",
          "West",
          "West",
          "West",
          "West"
         ],
         "xaxis": "x",
         "y": [
          "420",
          "155",
          "437",
          "247",
          "540",
          "1135",
          "437",
          "180",
          "171",
          "656",
          "84",
          "202",
          "255",
          "1054",
          "1",
          "1254",
          "1456",
          "177",
          "106",
          "32",
          "2464",
          "55",
          "144",
          "70",
          "64",
          "8873",
          "945",
          null,
          "523",
          "56",
          "3",
          "8472",
          "155",
          "33",
          "749",
          "159",
          null,
          "270",
          "2790",
          "224",
          "1470",
          "334",
          "2050",
          "370",
          "26",
          "797",
          "12",
          "195",
          "1",
          "230",
          "125",
          "15",
          "316",
          "365",
          "1560",
          "4740",
          "294",
          "455",
          "2878",
          "336",
          "295",
          "480",
          "25",
          null,
          "223",
          "2645",
          "2016",
          "7371",
          "360",
          "3408",
          "3698",
          "4890",
          "1",
          "871",
          "2759",
          "250",
          "3301",
          "249",
          "164",
          "435",
          "420",
          "854",
          "5160",
          "133",
          "15180",
          "2055",
          "451",
          "140",
          "199",
          "721",
          "179",
          "1524",
          "78",
          "268",
          "39",
          "1",
          "14190",
          "47",
          "161",
          "900",
          "6070",
          "697",
          "234",
          "14",
          "5910",
          null,
          "34390",
          "40",
          "166",
          "182",
          "829",
          "15",
          "64",
          "13",
          "245",
          "1080",
          null,
          "390",
          "47",
          "269",
          null,
          "400",
          "660",
          "213",
          null,
          "761",
          "8100",
          "180",
          "124",
          "4320",
          "2820",
          "3100",
          "49427",
          "989",
          "125",
          "44",
          "26",
          "245",
          null,
          "98",
          "1",
          "0",
          "135",
          "50",
          "1008",
          "53",
          "554",
          "1260",
          "2895",
          "89",
          "98",
          "865",
          "128",
          "230",
          "252",
          "130",
          "5",
          "157",
          "6914",
          "11",
          "13",
          "2880",
          "270",
          "962",
          "47",
          null,
          "20",
          "108",
          "9855",
          "75",
          "17",
          "21",
          "1950",
          "11867",
          "141",
          "959",
          "1035",
          "617",
          "1230",
          "572",
          "324",
          "1835",
          "6780",
          "900",
          null,
          "37",
          "72",
          "1",
          "251",
          "620",
          "89",
          "909",
          "236",
          "326",
          "300",
          "751",
          "122",
          "214",
          "193",
          "8",
          "5227",
          null,
          "1414",
          "448",
          "4605",
          "4080",
          null,
          "1914",
          "759",
          "1",
          "1895",
          "274",
          "1",
          "1534",
          "1",
          "60",
          "108"
         ],
         "yaxis": "y"
        }
       ],
       "layout": {
        "legend": {
         "title": {
          "text": "CLIMATE.REGION"
         },
         "tracegroupgap": 0
        },
        "template": {
         "data": {
          "bar": [
           {
            "error_x": {
             "color": "#2a3f5f"
            },
            "error_y": {
             "color": "#2a3f5f"
            },
            "marker": {
             "line": {
              "color": "#E5ECF6",
              "width": 0.5
             },
             "pattern": {
              "fillmode": "overlay",
              "size": 10,
              "solidity": 0.2
             }
            },
            "type": "bar"
           }
          ],
          "barpolar": [
           {
            "marker": {
             "line": {
              "color": "#E5ECF6",
              "width": 0.5
             },
             "pattern": {
              "fillmode": "overlay",
              "size": 10,
              "solidity": 0.2
             }
            },
            "type": "barpolar"
           }
          ],
          "carpet": [
           {
            "aaxis": {
             "endlinecolor": "#2a3f5f",
             "gridcolor": "white",
             "linecolor": "white",
             "minorgridcolor": "white",
             "startlinecolor": "#2a3f5f"
            },
            "baxis": {
             "endlinecolor": "#2a3f5f",
             "gridcolor": "white",
             "linecolor": "white",
             "minorgridcolor": "white",
             "startlinecolor": "#2a3f5f"
            },
            "type": "carpet"
           }
          ],
          "choropleth": [
           {
            "colorbar": {
             "outlinewidth": 0,
             "ticks": ""
            },
            "type": "choropleth"
           }
          ],
          "contour": [
           {
            "colorbar": {
             "outlinewidth": 0,
             "ticks": ""
            },
            "colorscale": [
             [
              0,
              "#0d0887"
             ],
             [
              0.1111111111111111,
              "#46039f"
             ],
             [
              0.2222222222222222,
              "#7201a8"
             ],
             [
              0.3333333333333333,
              "#9c179e"
             ],
             [
              0.4444444444444444,
              "#bd3786"
             ],
             [
              0.5555555555555556,
              "#d8576b"
             ],
             [
              0.6666666666666666,
              "#ed7953"
             ],
             [
              0.7777777777777778,
              "#fb9f3a"
             ],
             [
              0.8888888888888888,
              "#fdca26"
             ],
             [
              1,
              "#f0f921"
             ]
            ],
            "type": "contour"
           }
          ],
          "contourcarpet": [
           {
            "colorbar": {
             "outlinewidth": 0,
             "ticks": ""
            },
            "type": "contourcarpet"
           }
          ],
          "heatmap": [
           {
            "colorbar": {
             "outlinewidth": 0,
             "ticks": ""
            },
            "colorscale": [
             [
              0,
              "#0d0887"
             ],
             [
              0.1111111111111111,
              "#46039f"
             ],
             [
              0.2222222222222222,
              "#7201a8"
             ],
             [
              0.3333333333333333,
              "#9c179e"
             ],
             [
              0.4444444444444444,
              "#bd3786"
             ],
             [
              0.5555555555555556,
              "#d8576b"
             ],
             [
              0.6666666666666666,
              "#ed7953"
             ],
             [
              0.7777777777777778,
              "#fb9f3a"
             ],
             [
              0.8888888888888888,
              "#fdca26"
             ],
             [
              1,
              "#f0f921"
             ]
            ],
            "type": "heatmap"
           }
          ],
          "heatmapgl": [
           {
            "colorbar": {
             "outlinewidth": 0,
             "ticks": ""
            },
            "colorscale": [
             [
              0,
              "#0d0887"
             ],
             [
              0.1111111111111111,
              "#46039f"
             ],
             [
              0.2222222222222222,
              "#7201a8"
             ],
             [
              0.3333333333333333,
              "#9c179e"
             ],
             [
              0.4444444444444444,
              "#bd3786"
             ],
             [
              0.5555555555555556,
              "#d8576b"
             ],
             [
              0.6666666666666666,
              "#ed7953"
             ],
             [
              0.7777777777777778,
              "#fb9f3a"
             ],
             [
              0.8888888888888888,
              "#fdca26"
             ],
             [
              1,
              "#f0f921"
             ]
            ],
            "type": "heatmapgl"
           }
          ],
          "histogram": [
           {
            "marker": {
             "pattern": {
              "fillmode": "overlay",
              "size": 10,
              "solidity": 0.2
             }
            },
            "type": "histogram"
           }
          ],
          "histogram2d": [
           {
            "colorbar": {
             "outlinewidth": 0,
             "ticks": ""
            },
            "colorscale": [
             [
              0,
              "#0d0887"
             ],
             [
              0.1111111111111111,
              "#46039f"
             ],
             [
              0.2222222222222222,
              "#7201a8"
             ],
             [
              0.3333333333333333,
              "#9c179e"
             ],
             [
              0.4444444444444444,
              "#bd3786"
             ],
             [
              0.5555555555555556,
              "#d8576b"
             ],
             [
              0.6666666666666666,
              "#ed7953"
             ],
             [
              0.7777777777777778,
              "#fb9f3a"
             ],
             [
              0.8888888888888888,
              "#fdca26"
             ],
             [
              1,
              "#f0f921"
             ]
            ],
            "type": "histogram2d"
           }
          ],
          "histogram2dcontour": [
           {
            "colorbar": {
             "outlinewidth": 0,
             "ticks": ""
            },
            "colorscale": [
             [
              0,
              "#0d0887"
             ],
             [
              0.1111111111111111,
              "#46039f"
             ],
             [
              0.2222222222222222,
              "#7201a8"
             ],
             [
              0.3333333333333333,
              "#9c179e"
             ],
             [
              0.4444444444444444,
              "#bd3786"
             ],
             [
              0.5555555555555556,
              "#d8576b"
             ],
             [
              0.6666666666666666,
              "#ed7953"
             ],
             [
              0.7777777777777778,
              "#fb9f3a"
             ],
             [
              0.8888888888888888,
              "#fdca26"
             ],
             [
              1,
              "#f0f921"
             ]
            ],
            "type": "histogram2dcontour"
           }
          ],
          "mesh3d": [
           {
            "colorbar": {
             "outlinewidth": 0,
             "ticks": ""
            },
            "type": "mesh3d"
           }
          ],
          "parcoords": [
           {
            "line": {
             "colorbar": {
              "outlinewidth": 0,
              "ticks": ""
             }
            },
            "type": "parcoords"
           }
          ],
          "pie": [
           {
            "automargin": true,
            "type": "pie"
           }
          ],
          "scatter": [
           {
            "fillpattern": {
             "fillmode": "overlay",
             "size": 10,
             "solidity": 0.2
            },
            "type": "scatter"
           }
          ],
          "scatter3d": [
           {
            "line": {
             "colorbar": {
              "outlinewidth": 0,
              "ticks": ""
             }
            },
            "marker": {
             "colorbar": {
              "outlinewidth": 0,
              "ticks": ""
             }
            },
            "type": "scatter3d"
           }
          ],
          "scattercarpet": [
           {
            "marker": {
             "colorbar": {
              "outlinewidth": 0,
              "ticks": ""
             }
            },
            "type": "scattercarpet"
           }
          ],
          "scattergeo": [
           {
            "marker": {
             "colorbar": {
              "outlinewidth": 0,
              "ticks": ""
             }
            },
            "type": "scattergeo"
           }
          ],
          "scattergl": [
           {
            "marker": {
             "colorbar": {
              "outlinewidth": 0,
              "ticks": ""
             }
            },
            "type": "scattergl"
           }
          ],
          "scattermapbox": [
           {
            "marker": {
             "colorbar": {
              "outlinewidth": 0,
              "ticks": ""
             }
            },
            "type": "scattermapbox"
           }
          ],
          "scatterpolar": [
           {
            "marker": {
             "colorbar": {
              "outlinewidth": 0,
              "ticks": ""
             }
            },
            "type": "scatterpolar"
           }
          ],
          "scatterpolargl": [
           {
            "marker": {
             "colorbar": {
              "outlinewidth": 0,
              "ticks": ""
             }
            },
            "type": "scatterpolargl"
           }
          ],
          "scatterternary": [
           {
            "marker": {
             "colorbar": {
              "outlinewidth": 0,
              "ticks": ""
             }
            },
            "type": "scatterternary"
           }
          ],
          "surface": [
           {
            "colorbar": {
             "outlinewidth": 0,
             "ticks": ""
            },
            "colorscale": [
             [
              0,
              "#0d0887"
             ],
             [
              0.1111111111111111,
              "#46039f"
             ],
             [
              0.2222222222222222,
              "#7201a8"
             ],
             [
              0.3333333333333333,
              "#9c179e"
             ],
             [
              0.4444444444444444,
              "#bd3786"
             ],
             [
              0.5555555555555556,
              "#d8576b"
             ],
             [
              0.6666666666666666,
              "#ed7953"
             ],
             [
              0.7777777777777778,
              "#fb9f3a"
             ],
             [
              0.8888888888888888,
              "#fdca26"
             ],
             [
              1,
              "#f0f921"
             ]
            ],
            "type": "surface"
           }
          ],
          "table": [
           {
            "cells": {
             "fill": {
              "color": "#EBF0F8"
             },
             "line": {
              "color": "white"
             }
            },
            "header": {
             "fill": {
              "color": "#C8D4E3"
             },
             "line": {
              "color": "white"
             }
            },
            "type": "table"
           }
          ]
         },
         "layout": {
          "annotationdefaults": {
           "arrowcolor": "#2a3f5f",
           "arrowhead": 0,
           "arrowwidth": 1
          },
          "autotypenumbers": "strict",
          "coloraxis": {
           "colorbar": {
            "outlinewidth": 0,
            "ticks": ""
           }
          },
          "colorscale": {
           "diverging": [
            [
             0,
             "#8e0152"
            ],
            [
             0.1,
             "#c51b7d"
            ],
            [
             0.2,
             "#de77ae"
            ],
            [
             0.3,
             "#f1b6da"
            ],
            [
             0.4,
             "#fde0ef"
            ],
            [
             0.5,
             "#f7f7f7"
            ],
            [
             0.6,
             "#e6f5d0"
            ],
            [
             0.7,
             "#b8e186"
            ],
            [
             0.8,
             "#7fbc41"
            ],
            [
             0.9,
             "#4d9221"
            ],
            [
             1,
             "#276419"
            ]
           ],
           "sequential": [
            [
             0,
             "#0d0887"
            ],
            [
             0.1111111111111111,
             "#46039f"
            ],
            [
             0.2222222222222222,
             "#7201a8"
            ],
            [
             0.3333333333333333,
             "#9c179e"
            ],
            [
             0.4444444444444444,
             "#bd3786"
            ],
            [
             0.5555555555555556,
             "#d8576b"
            ],
            [
             0.6666666666666666,
             "#ed7953"
            ],
            [
             0.7777777777777778,
             "#fb9f3a"
            ],
            [
             0.8888888888888888,
             "#fdca26"
            ],
            [
             1,
             "#f0f921"
            ]
           ],
           "sequentialminus": [
            [
             0,
             "#0d0887"
            ],
            [
             0.1111111111111111,
             "#46039f"
            ],
            [
             0.2222222222222222,
             "#7201a8"
            ],
            [
             0.3333333333333333,
             "#9c179e"
            ],
            [
             0.4444444444444444,
             "#bd3786"
            ],
            [
             0.5555555555555556,
             "#d8576b"
            ],
            [
             0.6666666666666666,
             "#ed7953"
            ],
            [
             0.7777777777777778,
             "#fb9f3a"
            ],
            [
             0.8888888888888888,
             "#fdca26"
            ],
            [
             1,
             "#f0f921"
            ]
           ]
          },
          "colorway": [
           "#636efa",
           "#EF553B",
           "#00cc96",
           "#ab63fa",
           "#FFA15A",
           "#19d3f3",
           "#FF6692",
           "#B6E880",
           "#FF97FF",
           "#FECB52"
          ],
          "font": {
           "color": "#2a3f5f"
          },
          "geo": {
           "bgcolor": "white",
           "lakecolor": "white",
           "landcolor": "#E5ECF6",
           "showlakes": true,
           "showland": true,
           "subunitcolor": "white"
          },
          "hoverlabel": {
           "align": "left"
          },
          "hovermode": "closest",
          "mapbox": {
           "style": "light"
          },
          "paper_bgcolor": "white",
          "plot_bgcolor": "#E5ECF6",
          "polar": {
           "angularaxis": {
            "gridcolor": "white",
            "linecolor": "white",
            "ticks": ""
           },
           "bgcolor": "#E5ECF6",
           "radialaxis": {
            "gridcolor": "white",
            "linecolor": "white",
            "ticks": ""
           }
          },
          "scene": {
           "xaxis": {
            "backgroundcolor": "#E5ECF6",
            "gridcolor": "white",
            "gridwidth": 2,
            "linecolor": "white",
            "showbackground": true,
            "ticks": "",
            "zerolinecolor": "white"
           },
           "yaxis": {
            "backgroundcolor": "#E5ECF6",
            "gridcolor": "white",
            "gridwidth": 2,
            "linecolor": "white",
            "showbackground": true,
            "ticks": "",
            "zerolinecolor": "white"
           },
           "zaxis": {
            "backgroundcolor": "#E5ECF6",
            "gridcolor": "white",
            "gridwidth": 2,
            "linecolor": "white",
            "showbackground": true,
            "ticks": "",
            "zerolinecolor": "white"
           }
          },
          "shapedefaults": {
           "line": {
            "color": "#2a3f5f"
           }
          },
          "ternary": {
           "aaxis": {
            "gridcolor": "white",
            "linecolor": "white",
            "ticks": ""
           },
           "baxis": {
            "gridcolor": "white",
            "linecolor": "white",
            "ticks": ""
           },
           "bgcolor": "#E5ECF6",
           "caxis": {
            "gridcolor": "white",
            "linecolor": "white",
            "ticks": ""
           }
          },
          "title": {
           "x": 0.05
          },
          "xaxis": {
           "automargin": true,
           "gridcolor": "white",
           "linecolor": "white",
           "ticks": "",
           "title": {
            "standoff": 15
           },
           "zerolinecolor": "white",
           "zerolinewidth": 2
          },
          "yaxis": {
           "automargin": true,
           "gridcolor": "white",
           "linecolor": "white",
           "ticks": "",
           "title": {
            "standoff": 15
           },
           "zerolinecolor": "white",
           "zerolinewidth": 2
          }
         }
        },
        "title": {
         "text": "Outage Duration by Climate Region"
        },
        "xaxis": {
         "anchor": "y",
         "categoryarray": [
          "East North Central",
          "Central",
          "South",
          "Southeast",
          "Northwest",
          "Southwest",
          "Northeast",
          "West North Central",
          "West",
          null
         ],
         "categoryorder": "array",
         "domain": [
          0,
          1
         ],
         "title": {
          "text": "CLIMATE.REGION"
         }
        },
        "yaxis": {
         "anchor": "x",
         "domain": [
          0,
          1
         ],
         "title": {
          "text": "OUTAGE.DURATION"
         }
        }
       }
      }
     },
     "metadata": {},
     "output_type": "display_data"
    }
   ],
   "source": [
    "fig = px.scatter(outages_df, x = 'CLIMATE.REGION', y = 'OUTAGE.DURATION', title = 'Outage Duration by Climate Region', color = 'CLIMATE.REGION')\n",
    "\n",
    "fig.show()"
   ]
  },
  {
   "cell_type": "markdown",
   "metadata": {},
   "source": [
    "note: add another bivariate analysis later"
   ]
  },
  {
   "cell_type": "code",
   "execution_count": null,
   "metadata": {},
   "outputs": [],
   "source": []
  },
  {
   "cell_type": "markdown",
   "metadata": {},
   "source": [
    "## Step 3: Assessment of Missingness"
   ]
  },
  {
   "cell_type": "code",
   "execution_count": 83,
   "metadata": {
    "ExecuteTime": {
     "end_time": "2019-10-31T23:36:28.662099Z",
     "start_time": "2019-10-31T23:36:28.660016Z"
    }
   },
   "outputs": [],
   "source": [
    "df = outages_df.copy()"
   ]
  },
  {
   "cell_type": "code",
   "execution_count": 84,
   "metadata": {},
   "outputs": [
    {
     "data": {
      "image/png": "[encoded data removed]",
      "text/plain": [
       "<Figure size 1200x500 with 2 Axes>"
      ]
     },
     "metadata": {},
     "output_type": "display_data"
    }
   ],
   "source": [
    "df['OUTAGE.DURATION'] = pd.to_numeric(\n",
    "    df['OUTAGE.DURATION'], errors='coerce'\n",
    ")\n",
    "\n",
    "df['OUTAGE.DURATION_HOURS'] = df['OUTAGE.DURATION'] / 60\n",
    "\n",
    "mask   = df['CAUSE.CATEGORY'] == 'severe weather'\n",
    "severe = df.loc[mask,  'OUTAGE.DURATION_HOURS'].dropna()\n",
    "other  = df.loc[~mask, 'OUTAGE.DURATION_HOURS'].dropna()\n",
    "\n",
    "plt.style.use('ggplot')\n",
    "\n",
    "\n",
    "fig, axes = plt.subplots(1, 2, figsize=(12, 5))\n",
    "\n",
    "# ─── Boxplot ───\n",
    "axes[0].boxplot(\n",
    "    [severe, other],\n",
    "    notch=True,\n",
    "    patch_artist=True,\n",
    "    boxprops=dict(facecolor='lightsteelblue', edgecolor='gray'),\n",
    "    medianprops=dict(color='firebrick')\n",
    ")\n",
    "axes[0].set_xticklabels(['Severe Weather', 'Other Causes'], fontsize=11)\n",
    "axes[0].set_ylabel('Outage Duration (hours)', fontsize=12)\n",
    "axes[0].set_title('Outage Duration by Cause', fontsize=14)\n",
    "\n",
    "# ─── Histogram ───\n",
    "bins = np.linspace(0, df['OUTAGE.DURATION_HOURS'].max(), 30)\n",
    "axes[1].hist(severe, bins=bins, alpha=0.7, label='Severe Weather')\n",
    "axes[1].hist(other,  bins=bins, alpha=0.7, label='Other Causes')\n",
    "axes[1].set_xlabel('Outage Duration (hours)', fontsize=12)\n",
    "axes[1].set_title('Distribution of Outage Durations', fontsize=14)\n",
    "axes[1].legend(fontsize=10)\n",
    "\n",
    "# 7) Tidy up\n",
    "plt.tight_layout()\n",
    "plt.show()\n",
    "\n",
    "# Hypothesis Recap\n",
    "#   • Null (H₀): Severe‐weather outages have the same mean duration as all other outages.\n",
    "#   • Alternative (H₁): Severe‐weather outages have a different mean duration than other outages.\n",
    "#   • Test Statistic: Two‐sample t‐statistic on the difference of means (and we also examined the KS \n",
    "# statistic to compare full distributions).\n",
    "#\n",
    "# ──────────────────────────────────────────────────────────────────────────────\n",
    "#\n",
    "# Figure 1: Outage Duration by Cause (Boxplot)\n",
    "#\n",
    "# What you see: Two side-by-side notched boxplots—one for “Severe Weather” outages \n",
    "# and one for “Other Causes.” Each box shows the interquartile range (IQR), the \n",
    "# horizontal line is the median, and the notch gives a visual 95% CI around the median.\n",
    "#\n",
    "#   • Severe Weather: The median sits noticeably higher, with a wider IQR, indicating \n",
    "#     longer typical outages under severe‐weather events.\n",
    "#   • Other Causes: A lower median and tighter IQR reflect generally shorter and more \n",
    "#     consistent outage lengths.\n",
    "#   • Outliers: Both groups have extreme events (dots far above the whiskers), but \n",
    "#     the severe‐weather group reaches higher maximums.\n",
    "#\n",
    "# Interpretation: Because the box for “Severe Weather” is both shifted upward and \n",
    "# notched away from the “Other Causes” box, we have visual evidence that severe‐weather \n",
    "# outages tend to last longer on average—supporting rejection of H₀.\n",
    "#\n",
    "# ──────────────────────────────────────────────────────────────────────────────\n",
    "#\n",
    "# Figure 2: Distribution of Outage Durations (Histogram)\n",
    "#\n",
    "# What you see: Overlaid histograms for the two groups on the same bins (0–1,800 hours). \n",
    "# The red bars are severe‐weather durations, and the blue bars are other causes.\n",
    "#\n",
    "#   • Red curve (Severe Weather): A right-shifted peak around ~50–100 hours with a long \n",
    "#     tail extending beyond 500 hours.\n",
    "#   • Blue curve (Other Causes): A sharper spike near 20–40 hours and a very thin tail, \n",
    "#     indicating most outages are short.\n",
    "#\n",
    "# Interpretation: The severe‐weather histogram is clearly shifted to the right and has \n",
    "# heavier tails—further confirming that outages during severe weather are both longer \n",
    "# and more variable than those from other causes.\n",
    "#\n",
    "# ──────────────────────────────────────────────────────────────────────────────\n",
    "#\n",
    "# Together, these two figures—boxplot and histogram—provide both a summary (medians/IQRs) \n",
    "# and a full‐distribution view, each reinforcing our finding that severe‐weather outages \n",
    "# last significantly longer than other outages.\n",
    "\n"
   ]
  },
  {
   "cell_type": "code",
   "execution_count": 85,
   "metadata": {},
   "outputs": [
    {
     "data": {
      "image/png": "[encoded data removed]",
      "text/plain": [
       "<Figure size 800x500 with 1 Axes>"
      ]
     },
     "metadata": {},
     "output_type": "display_data"
    }
   ],
   "source": [
    "others = df.loc[\n",
    "    df['CAUSE.CATEGORY'] != 'severe weather',\n",
    "    'CAUSE.CATEGORY'\n",
    "]\n",
    "\n",
    "# 3) Compute the relative frequency of each remaining cause\n",
    "prop_other = others.value_counts(normalize=True).sort_values()\n",
    "\n",
    "# 4) Plot a horizontal bar chart using Matplotlib\n",
    "plt.style.use('ggplot')\n",
    "fig, ax = plt.subplots(figsize=(8, 5))\n",
    "ax.barh(prop_other.index, prop_other.values, color='steelblue', edgecolor='white')\n",
    "\n",
    "# 5) Add axis labels and a title\n",
    "ax.set_xlabel('Proportion of Other Outages', fontsize=12)\n",
    "ax.set_ylabel('Cause Category', fontsize=12)\n",
    "ax.set_title('Breakdown of Outage Causes (Excluding Severe Weather)', fontsize=14)\n",
    "\n",
    "# 6) Annotate each bar with its percentage\n",
    "for i, pct in enumerate(prop_other.values):\n",
    "    ax.text(pct + 0.005, i, f\"{pct:.1%}\", va='center', fontsize=10)\n",
    "\n",
    "plt.tight_layout()\n",
    "plt.show()\n",
    "\n",
    "\n",
    "# The above code reads your outage data, filters out “severe weather,” \n",
    "# computes the share of each remaining cause, and displays a horizontal \n",
    "# bar chart with percentage labels:\n",
    "#   • Intentional attack accounts for over 50% of the non-severe‐weather outages.\n",
    "#   • System operability disruption is next at ~16%.\n",
    "#   • The smaller slices (<10%) are public appeal, equipment failure, \n",
    "#     fuel supply emergency, and islanding.\n",
    "#\n",
    "# Feel free to embed this figure with a caption like:\n",
    "#\n",
    "#   Figure: Breakdown of outage causes (excluding severe weather). \n",
    "#   “Intentional attack” is the largest category, making up 54.2% of these outages."
   ]
  },
  {
   "cell_type": "markdown",
   "metadata": {},
   "source": [
    "## Step 4: Hypothesis Testing"
   ]
  },
  {
   "cell_type": "markdown",
   "metadata": {
    "ExecuteTime": {
     "end_time": "2019-10-31T23:36:28.666489Z",
     "start_time": "2019-10-31T23:36:28.664381Z"
    }
   },
   "source": [
    "We will be testing if the 'CAUSE.CATEGORY' has an affect on the length of a power outages. In particular, we will be testing if Severe Weather has an affect, and if it doesn't, we will test which 'CAUSE.CATEGORY' does have an affect."
   ]
  },
  {
   "cell_type": "markdown",
   "metadata": {},
   "source": [
    "**Null Hypothesis:** Severe weather has no effect on the length of a power outage.\n",
    "\n",
    "**Alternative Hypothesis:** Severe weather has an effect on the length of a power outage (either causing a shorter or longer poewr outage)."
   ]
  },
  {
   "cell_type": "code",
   "execution_count": 86,
   "metadata": {},
   "outputs": [
    {
     "data": {
      "text/html": [
       "<div>\n",
       "<style scoped>\n",
       "    .dataframe tbody tr th:only-of-type {\n",
       "        vertical-align: middle;\n",
       "    }\n",
       "\n",
       "    .dataframe tbody tr th {\n",
       "        vertical-align: top;\n",
       "    }\n",
       "\n",
       "    .dataframe thead th {\n",
       "        text-align: right;\n",
       "    }\n",
       "</style>\n",
       "<table border=\"1\" class=\"dataframe\">\n",
       "  <thead>\n",
       "    <tr style=\"text-align: right;\">\n",
       "      <th></th>\n",
       "      <th>YEAR</th>\n",
       "      <th>MONTH</th>\n",
       "      <th>U.S._STATE</th>\n",
       "      <th>NERC.REGION</th>\n",
       "      <th>CLIMATE.REGION</th>\n",
       "      <th>CAUSE.CATEGORY</th>\n",
       "      <th>CLIMATE.CATEGORY</th>\n",
       "      <th>OUTAGE.DURATION</th>\n",
       "      <th>CUSTOMERS.AFFECTED</th>\n",
       "      <th>TOTAL.CUSTOMERS</th>\n",
       "      <th>POPDEN_URBAN</th>\n",
       "      <th>OUTAGE.START</th>\n",
       "      <th>OUTAGE.RESTORATION</th>\n",
       "    </tr>\n",
       "  </thead>\n",
       "  <tbody>\n",
       "    <tr>\n",
       "      <th>0</th>\n",
       "      <td>2011.0</td>\n",
       "      <td>7.0</td>\n",
       "      <td>Minnesota</td>\n",
       "      <td>MRO</td>\n",
       "      <td>East North Central</td>\n",
       "      <td>severe weather</td>\n",
       "      <td>normal</td>\n",
       "      <td>3060.0</td>\n",
       "      <td>70000.0</td>\n",
       "      <td>2595696.0</td>\n",
       "      <td>2279</td>\n",
       "      <td>2011-07-01 17:00:00</td>\n",
       "      <td>2011-07-03 20:00:00</td>\n",
       "    </tr>\n",
       "    <tr>\n",
       "      <th>1</th>\n",
       "      <td>2014.0</td>\n",
       "      <td>5.0</td>\n",
       "      <td>Minnesota</td>\n",
       "      <td>MRO</td>\n",
       "      <td>East North Central</td>\n",
       "      <td>intentional attack</td>\n",
       "      <td>normal</td>\n",
       "      <td>1.0</td>\n",
       "      <td>NaN</td>\n",
       "      <td>2640737.0</td>\n",
       "      <td>2279</td>\n",
       "      <td>2014-05-11 18:38:00</td>\n",
       "      <td>2014-05-11 18:39:00</td>\n",
       "    </tr>\n",
       "    <tr>\n",
       "      <th>2</th>\n",
       "      <td>2010.0</td>\n",
       "      <td>10.0</td>\n",
       "      <td>Minnesota</td>\n",
       "      <td>MRO</td>\n",
       "      <td>East North Central</td>\n",
       "      <td>severe weather</td>\n",
       "      <td>cold</td>\n",
       "      <td>3000.0</td>\n",
       "      <td>70000.0</td>\n",
       "      <td>2586905.0</td>\n",
       "      <td>2279</td>\n",
       "      <td>2010-10-26 20:00:00</td>\n",
       "      <td>2010-10-28 22:00:00</td>\n",
       "    </tr>\n",
       "    <tr>\n",
       "      <th>3</th>\n",
       "      <td>2012.0</td>\n",
       "      <td>6.0</td>\n",
       "      <td>Minnesota</td>\n",
       "      <td>MRO</td>\n",
       "      <td>East North Central</td>\n",
       "      <td>severe weather</td>\n",
       "      <td>normal</td>\n",
       "      <td>2550.0</td>\n",
       "      <td>68200.0</td>\n",
       "      <td>2606813.0</td>\n",
       "      <td>2279</td>\n",
       "      <td>2012-06-19 04:30:00</td>\n",
       "      <td>2012-06-20 23:00:00</td>\n",
       "    </tr>\n",
       "    <tr>\n",
       "      <th>4</th>\n",
       "      <td>2015.0</td>\n",
       "      <td>7.0</td>\n",
       "      <td>Minnesota</td>\n",
       "      <td>MRO</td>\n",
       "      <td>East North Central</td>\n",
       "      <td>severe weather</td>\n",
       "      <td>warm</td>\n",
       "      <td>1740.0</td>\n",
       "      <td>250000.0</td>\n",
       "      <td>2673531.0</td>\n",
       "      <td>2279</td>\n",
       "      <td>2015-07-18 02:00:00</td>\n",
       "      <td>2015-07-19 07:00:00</td>\n",
       "    </tr>\n",
       "  </tbody>\n",
       "</table>\n",
       "</div>"
      ],
      "text/plain": [
       "     YEAR  MONTH U.S._STATE NERC.REGION      CLIMATE.REGION  \\\n",
       "0  2011.0    7.0  Minnesota         MRO  East North Central   \n",
       "1  2014.0    5.0  Minnesota         MRO  East North Central   \n",
       "2  2010.0   10.0  Minnesota         MRO  East North Central   \n",
       "3  2012.0    6.0  Minnesota         MRO  East North Central   \n",
       "4  2015.0    7.0  Minnesota         MRO  East North Central   \n",
       "\n",
       "       CAUSE.CATEGORY CLIMATE.CATEGORY  OUTAGE.DURATION  CUSTOMERS.AFFECTED  \\\n",
       "0      severe weather           normal           3060.0             70000.0   \n",
       "1  intentional attack           normal              1.0                 NaN   \n",
       "2      severe weather             cold           3000.0             70000.0   \n",
       "3      severe weather           normal           2550.0             68200.0   \n",
       "4      severe weather             warm           1740.0            250000.0   \n",
       "\n",
       "   TOTAL.CUSTOMERS POPDEN_URBAN        OUTAGE.START  OUTAGE.RESTORATION  \n",
       "0        2595696.0         2279 2011-07-01 17:00:00 2011-07-03 20:00:00  \n",
       "1        2640737.0         2279 2014-05-11 18:38:00 2014-05-11 18:39:00  \n",
       "2        2586905.0         2279 2010-10-26 20:00:00 2010-10-28 22:00:00  \n",
       "3        2606813.0         2279 2012-06-19 04:30:00 2012-06-20 23:00:00  \n",
       "4        2673531.0         2279 2015-07-18 02:00:00 2015-07-19 07:00:00  "
      ]
     },
     "execution_count": 86,
     "metadata": {},
     "output_type": "execute_result"
    }
   ],
   "source": [
    "hypothesis_df = outages_df.copy()\n",
    "hypothesis_df['OUTAGE.DURATION'] = pd.to_numeric(\n",
    "    hypothesis_df['OUTAGE.DURATION'], errors='coerce'\n",
    ")\n",
    "\n",
    "hypothesis_df.head()"
   ]
  },
  {
   "cell_type": "markdown",
   "metadata": {},
   "source": [
    "# Permutation Test"
   ]
  },
  {
   "cell_type": "code",
   "execution_count": 87,
   "metadata": {},
   "outputs": [
    {
     "name": "stdout",
     "output_type": "stream",
     "text": [
      "Observed Difference (Severe - Non Severe): 2537.81 minutes\n"
     ]
    }
   ],
   "source": [
    "severe_weather = hypothesis_df[hypothesis_df['CAUSE.CATEGORY'] == 'severe weather']['OUTAGE.DURATION']\n",
    "non_severe = hypothesis_df[hypothesis_df['CAUSE.CATEGORY'] != 'severe weather']['OUTAGE.DURATION']\n",
    "\n",
    "severe_weather = severe_weather.dropna()\n",
    "non_severe = non_severe.dropna()\n",
    "\n",
    "\n",
    "observed_diff = severe_weather.mean() - non_severe.mean()\n",
    "print(f\"Observed Difference (Severe - Non Severe): {observed_diff:.2f} minutes\")"
   ]
  },
  {
   "cell_type": "code",
   "execution_count": 88,
   "metadata": {},
   "outputs": [
    {
     "name": "stdout",
     "output_type": "stream",
     "text": [
      "Observed difference: 2537.81 minutes\n",
      "Permutation p-value: 0.0000\n",
      "Conclusion: REJECT null hypothesis\n",
      "Severe weather does significantly affect outage duration\n"
     ]
    }
   ],
   "source": [
    "combined = np.concatenate([severe, non_severe])\n",
    "n_perm = 10000\n",
    "perm_diffs = np.zeros(n_perm)\n",
    "\n",
    "for i in range(n_perm):\n",
    "    shuffled = np.random.permutation(combined)\n",
    "    perm_diffs[i] = shuffled[:len(severe)].mean() - shuffled[len(severe):].mean()\n",
    "\n",
    "p_val = (np.abs(perm_diffs) >= np.abs(observed_diff)).mean()\n",
    "\n",
    "print(f\"Observed difference: {observed_diff:.2f} minutes\")\n",
    "print(f\"Permutation p-value: {p_val:.4f}\")\n",
    "print(f\"Conclusion: {'REJECT' if p_val < 0.05 else 'DO NOT REJECT'} null hypothesis\")\n",
    "print(f\"Severe weather {'does' if p_val < 0.05 else 'does NOT'} significantly affect outage duration\")"
   ]
  },
  {
   "cell_type": "code",
   "execution_count": 89,
   "metadata": {},
   "outputs": [
    {
     "data": {
      "image/png": "[encoded data removed]",
      "text/plain": [
       "<Figure size 1000x600 with 1 Axes>"
      ]
     },
     "metadata": {},
     "output_type": "display_data"
    }
   ],
   "source": [
    "plt.figure(figsize=(10, 6))\n",
    "plt.hist(perm_diffs, bins=50, edgecolor='k', alpha=0.7, label='Permutation Differences', color ='lightblue')\n",
    "plt.axvline(observed_diff, color='red', linestyle='--', linewidth=2, label='Observed Difference')\n",
    "plt.axvline(-observed_diff, color='red', linestyle='--', linewidth=2)  \n",
    "plt.xlabel('Difference in Means (Severe - Non Severe)')\n",
    "plt.ylabel('Frequency')\n",
    "plt.title(f'Permutation Test: p-value = {p_val:.4f}')\n",
    "plt.legend()\n",
    "plt.show()"
   ]
  },
  {
   "cell_type": "markdown",
   "metadata": {},
   "source": [
    "## Step 5: Framing a Prediction Problem"
   ]
  },
  {
   "cell_type": "markdown",
   "metadata": {},
   "source": [
    "Our model will attempt to predict the length of a power outage duration in a regression model. \n",
    "\n",
    "The metric we plan to use to evaluate the model is the Mean Absolute Error as we will be able to see how the average prediction error in minutes. \n",
    "\n",
    "At the time of prediction,we will know the Cause Category, NERC Region, Climate Category, Month, Year, and US State. "
   ]
  },
  {
   "cell_type": "markdown",
   "metadata": {},
   "source": [
    "## Step 6: Baseline Model"
   ]
  },
  {
   "cell_type": "code",
   "execution_count": 90,
   "metadata": {
    "ExecuteTime": {
     "end_time": "2019-10-31T23:36:28.662099Z",
     "start_time": "2019-10-31T23:36:28.660016Z"
    }
   },
   "outputs": [],
   "source": [
    "features = ['NERC.REGION', 'CLIMATE.REGION', 'CAUSE.CATEGORY', 'U.S._STATE', 'MONTH', 'YEAR']\n",
    "target = 'OUTAGE.DURATION'"
   ]
  },
  {
   "cell_type": "code",
   "execution_count": 91,
   "metadata": {},
   "outputs": [
    {
     "data": {
      "text/html": [
       "<style>#sk-container-id-9 {\n",
       "  /* Definition of color scheme common for light and dark mode */\n",
       "  --sklearn-color-text: black;\n",
       "  --sklearn-color-line: gray;\n",
       "  /* Definition of color scheme for unfitted estimators */\n",
       "  --sklearn-color-unfitted-level-0: #fff5e6;\n",
       "  --sklearn-color-unfitted-level-1: #f6e4d2;\n",
       "  --sklearn-color-unfitted-level-2: #ffe0b3;\n",
       "  --sklearn-color-unfitted-level-3: chocolate;\n",
       "  /* Definition of color scheme for fitted estimators */\n",
       "  --sklearn-color-fitted-level-0: #f0f8ff;\n",
       "  --sklearn-color-fitted-level-1: #d4ebff;\n",
       "  --sklearn-color-fitted-level-2: #b3dbfd;\n",
       "  --sklearn-color-fitted-level-3: cornflowerblue;\n",
       "\n",
       "  /* Specific color for light theme */\n",
       "  --sklearn-color-text-on-default-background: var(--sg-text-color, var(--theme-code-foreground, var(--jp-content-font-color1, black)));\n",
       "  --sklearn-color-background: var(--sg-background-color, var(--theme-background, var(--jp-layout-color0, white)));\n",
       "  --sklearn-color-border-box: var(--sg-text-color, var(--theme-code-foreground, var(--jp-content-font-color1, black)));\n",
       "  --sklearn-color-icon: #696969;\n",
       "\n",
       "  @media (prefers-color-scheme: dark) {\n",
       "    /* Redefinition of color scheme for dark theme */\n",
       "    --sklearn-color-text-on-default-background: var(--sg-text-color, var(--theme-code-foreground, var(--jp-content-font-color1, white)));\n",
       "    --sklearn-color-background: var(--sg-background-color, var(--theme-background, var(--jp-layout-color0, #111)));\n",
       "    --sklearn-color-border-box: var(--sg-text-color, var(--theme-code-foreground, var(--jp-content-font-color1, white)));\n",
       "    --sklearn-color-icon: #878787;\n",
       "  }\n",
       "}\n",
       "\n",
       "#sk-container-id-9 {\n",
       "  color: var(--sklearn-color-text);\n",
       "}\n",
       "\n",
       "#sk-container-id-9 pre {\n",
       "  padding: 0;\n",
       "}\n",
       "\n",
       "#sk-container-id-9 input.sk-hidden--visually {\n",
       "  border: 0;\n",
       "  clip: rect(1px 1px 1px 1px);\n",
       "  clip: rect(1px, 1px, 1px, 1px);\n",
       "  height: 1px;\n",
       "  margin: -1px;\n",
       "  overflow: hidden;\n",
       "  padding: 0;\n",
       "  position: absolute;\n",
       "  width: 1px;\n",
       "}\n",
       "\n",
       "#sk-container-id-9 div.sk-dashed-wrapped {\n",
       "  border: 1px dashed var(--sklearn-color-line);\n",
       "  margin: 0 0.4em 0.5em 0.4em;\n",
       "  box-sizing: border-box;\n",
       "  padding-bottom: 0.4em;\n",
       "  background-color: var(--sklearn-color-background);\n",
       "}\n",
       "\n",
       "#sk-container-id-9 div.sk-container {\n",
       "  /* jupyter's `normalize.less` sets `[hidden] { display: none; }`\n",
       "     but bootstrap.min.css set `[hidden] { display: none !important; }`\n",
       "     so we also need the `!important` here to be able to override the\n",
       "     default hidden behavior on the sphinx rendered scikit-learn.org.\n",
       "     See: https://github.com/scikit-learn/scikit-learn/issues/21755 */\n",
       "  display: inline-block !important;\n",
       "  position: relative;\n",
       "}\n",
       "\n",
       "#sk-container-id-9 div.sk-text-repr-fallback {\n",
       "  display: none;\n",
       "}\n",
       "\n",
       "div.sk-parallel-item,\n",
       "div.sk-serial,\n",
       "div.sk-item {\n",
       "  /* draw centered vertical line to link estimators */\n",
       "  background-image: linear-gradient(var(--sklearn-color-text-on-default-background), var(--sklearn-color-text-on-default-background));\n",
       "  background-size: 2px 100%;\n",
       "  background-repeat: no-repeat;\n",
       "  background-position: center center;\n",
       "}\n",
       "\n",
       "/* Parallel-specific style estimator block */\n",
       "\n",
       "#sk-container-id-9 div.sk-parallel-item::after {\n",
       "  content: \"\";\n",
       "  width: 100%;\n",
       "  border-bottom: 2px solid var(--sklearn-color-text-on-default-background);\n",
       "  flex-grow: 1;\n",
       "}\n",
       "\n",
       "#sk-container-id-9 div.sk-parallel {\n",
       "  display: flex;\n",
       "  align-items: stretch;\n",
       "  justify-content: center;\n",
       "  background-color: var(--sklearn-color-background);\n",
       "  position: relative;\n",
       "}\n",
       "\n",
       "#sk-container-id-9 div.sk-parallel-item {\n",
       "  display: flex;\n",
       "  flex-direction: column;\n",
       "}\n",
       "\n",
       "#sk-container-id-9 div.sk-parallel-item:first-child::after {\n",
       "  align-self: flex-end;\n",
       "  width: 50%;\n",
       "}\n",
       "\n",
       "#sk-container-id-9 div.sk-parallel-item:last-child::after {\n",
       "  align-self: flex-start;\n",
       "  width: 50%;\n",
       "}\n",
       "\n",
       "#sk-container-id-9 div.sk-parallel-item:only-child::after {\n",
       "  width: 0;\n",
       "}\n",
       "\n",
       "/* Serial-specific style estimator block */\n",
       "\n",
       "#sk-container-id-9 div.sk-serial {\n",
       "  display: flex;\n",
       "  flex-direction: column;\n",
       "  align-items: center;\n",
       "  background-color: var(--sklearn-color-background);\n",
       "  padding-right: 1em;\n",
       "  padding-left: 1em;\n",
       "}\n",
       "\n",
       "\n",
       "/* Toggleable style: style used for estimator/Pipeline/ColumnTransformer box that is\n",
       "clickable and can be expanded/collapsed.\n",
       "- Pipeline and ColumnTransformer use this feature and define the default style\n",
       "- Estimators will overwrite some part of the style using the `sk-estimator` class\n",
       "*/\n",
       "\n",
       "/* Pipeline and ColumnTransformer style (default) */\n",
       "\n",
       "#sk-container-id-9 div.sk-toggleable {\n",
       "  /* Default theme specific background. It is overwritten whether we have a\n",
       "  specific estimator or a Pipeline/ColumnTransformer */\n",
       "  background-color: var(--sklearn-color-background);\n",
       "}\n",
       "\n",
       "/* Toggleable label */\n",
       "#sk-container-id-9 label.sk-toggleable__label {\n",
       "  cursor: pointer;\n",
       "  display: block;\n",
       "  width: 100%;\n",
       "  margin-bottom: 0;\n",
       "  padding: 0.5em;\n",
       "  box-sizing: border-box;\n",
       "  text-align: center;\n",
       "}\n",
       "\n",
       "#sk-container-id-9 label.sk-toggleable__label-arrow:before {\n",
       "  /* Arrow on the left of the label */\n",
       "  content: \"▸\";\n",
       "  float: left;\n",
       "  margin-right: 0.25em;\n",
       "  color: var(--sklearn-color-icon);\n",
       "}\n",
       "\n",
       "#sk-container-id-9 label.sk-toggleable__label-arrow:hover:before {\n",
       "  color: var(--sklearn-color-text);\n",
       "}\n",
       "\n",
       "/* Toggleable content - dropdown */\n",
       "\n",
       "#sk-container-id-9 div.sk-toggleable__content {\n",
       "  max-height: 0;\n",
       "  max-width: 0;\n",
       "  overflow: hidden;\n",
       "  text-align: left;\n",
       "  /* unfitted */\n",
       "  background-color: var(--sklearn-color-unfitted-level-0);\n",
       "}\n",
       "\n",
       "#sk-container-id-9 div.sk-toggleable__content.fitted {\n",
       "  /* fitted */\n",
       "  background-color: var(--sklearn-color-fitted-level-0);\n",
       "}\n",
       "\n",
       "#sk-container-id-9 div.sk-toggleable__content pre {\n",
       "  margin: 0.2em;\n",
       "  border-radius: 0.25em;\n",
       "  color: var(--sklearn-color-text);\n",
       "  /* unfitted */\n",
       "  background-color: var(--sklearn-color-unfitted-level-0);\n",
       "}\n",
       "\n",
       "#sk-container-id-9 div.sk-toggleable__content.fitted pre {\n",
       "  /* unfitted */\n",
       "  background-color: var(--sklearn-color-fitted-level-0);\n",
       "}\n",
       "\n",
       "#sk-container-id-9 input.sk-toggleable__control:checked~div.sk-toggleable__content {\n",
       "  /* Expand drop-down */\n",
       "  max-height: 200px;\n",
       "  max-width: 100%;\n",
       "  overflow: auto;\n",
       "}\n",
       "\n",
       "#sk-container-id-9 input.sk-toggleable__control:checked~label.sk-toggleable__label-arrow:before {\n",
       "  content: \"▾\";\n",
       "}\n",
       "\n",
       "/* Pipeline/ColumnTransformer-specific style */\n",
       "\n",
       "#sk-container-id-9 div.sk-label input.sk-toggleable__control:checked~label.sk-toggleable__label {\n",
       "  color: var(--sklearn-color-text);\n",
       "  background-color: var(--sklearn-color-unfitted-level-2);\n",
       "}\n",
       "\n",
       "#sk-container-id-9 div.sk-label.fitted input.sk-toggleable__control:checked~label.sk-toggleable__label {\n",
       "  background-color: var(--sklearn-color-fitted-level-2);\n",
       "}\n",
       "\n",
       "/* Estimator-specific style */\n",
       "\n",
       "/* Colorize estimator box */\n",
       "#sk-container-id-9 div.sk-estimator input.sk-toggleable__control:checked~label.sk-toggleable__label {\n",
       "  /* unfitted */\n",
       "  background-color: var(--sklearn-color-unfitted-level-2);\n",
       "}\n",
       "\n",
       "#sk-container-id-9 div.sk-estimator.fitted input.sk-toggleable__control:checked~label.sk-toggleable__label {\n",
       "  /* fitted */\n",
       "  background-color: var(--sklearn-color-fitted-level-2);\n",
       "}\n",
       "\n",
       "#sk-container-id-9 div.sk-label label.sk-toggleable__label,\n",
       "#sk-container-id-9 div.sk-label label {\n",
       "  /* The background is the default theme color */\n",
       "  color: var(--sklearn-color-text-on-default-background);\n",
       "}\n",
       "\n",
       "/* On hover, darken the color of the background */\n",
       "#sk-container-id-9 div.sk-label:hover label.sk-toggleable__label {\n",
       "  color: var(--sklearn-color-text);\n",
       "  background-color: var(--sklearn-color-unfitted-level-2);\n",
       "}\n",
       "\n",
       "/* Label box, darken color on hover, fitted */\n",
       "#sk-container-id-9 div.sk-label.fitted:hover label.sk-toggleable__label.fitted {\n",
       "  color: var(--sklearn-color-text);\n",
       "  background-color: var(--sklearn-color-fitted-level-2);\n",
       "}\n",
       "\n",
       "/* Estimator label */\n",
       "\n",
       "#sk-container-id-9 div.sk-label label {\n",
       "  font-family: monospace;\n",
       "  font-weight: bold;\n",
       "  display: inline-block;\n",
       "  line-height: 1.2em;\n",
       "}\n",
       "\n",
       "#sk-container-id-9 div.sk-label-container {\n",
       "  text-align: center;\n",
       "}\n",
       "\n",
       "/* Estimator-specific */\n",
       "#sk-container-id-9 div.sk-estimator {\n",
       "  font-family: monospace;\n",
       "  border: 1px dotted var(--sklearn-color-border-box);\n",
       "  border-radius: 0.25em;\n",
       "  box-sizing: border-box;\n",
       "  margin-bottom: 0.5em;\n",
       "  /* unfitted */\n",
       "  background-color: var(--sklearn-color-unfitted-level-0);\n",
       "}\n",
       "\n",
       "#sk-container-id-9 div.sk-estimator.fitted {\n",
       "  /* fitted */\n",
       "  background-color: var(--sklearn-color-fitted-level-0);\n",
       "}\n",
       "\n",
       "/* on hover */\n",
       "#sk-container-id-9 div.sk-estimator:hover {\n",
       "  /* unfitted */\n",
       "  background-color: var(--sklearn-color-unfitted-level-2);\n",
       "}\n",
       "\n",
       "#sk-container-id-9 div.sk-estimator.fitted:hover {\n",
       "  /* fitted */\n",
       "  background-color: var(--sklearn-color-fitted-level-2);\n",
       "}\n",
       "\n",
       "/* Specification for estimator info (e.g. \"i\" and \"?\") */\n",
       "\n",
       "/* Common style for \"i\" and \"?\" */\n",
       "\n",
       ".sk-estimator-doc-link,\n",
       "a:link.sk-estimator-doc-link,\n",
       "a:visited.sk-estimator-doc-link {\n",
       "  float: right;\n",
       "  font-size: smaller;\n",
       "  line-height: 1em;\n",
       "  font-family: monospace;\n",
       "  background-color: var(--sklearn-color-background);\n",
       "  border-radius: 1em;\n",
       "  height: 1em;\n",
       "  width: 1em;\n",
       "  text-decoration: none !important;\n",
       "  margin-left: 1ex;\n",
       "  /* unfitted */\n",
       "  border: var(--sklearn-color-unfitted-level-1) 1pt solid;\n",
       "  color: var(--sklearn-color-unfitted-level-1);\n",
       "}\n",
       "\n",
       ".sk-estimator-doc-link.fitted,\n",
       "a:link.sk-estimator-doc-link.fitted,\n",
       "a:visited.sk-estimator-doc-link.fitted {\n",
       "  /* fitted */\n",
       "  border: var(--sklearn-color-fitted-level-1) 1pt solid;\n",
       "  color: var(--sklearn-color-fitted-level-1);\n",
       "}\n",
       "\n",
       "/* On hover */\n",
       "div.sk-estimator:hover .sk-estimator-doc-link:hover,\n",
       ".sk-estimator-doc-link:hover,\n",
       "div.sk-label-container:hover .sk-estimator-doc-link:hover,\n",
       ".sk-estimator-doc-link:hover {\n",
       "  /* unfitted */\n",
       "  background-color: var(--sklearn-color-unfitted-level-3);\n",
       "  color: var(--sklearn-color-background);\n",
       "  text-decoration: none;\n",
       "}\n",
       "\n",
       "div.sk-estimator.fitted:hover .sk-estimator-doc-link.fitted:hover,\n",
       ".sk-estimator-doc-link.fitted:hover,\n",
       "div.sk-label-container:hover .sk-estimator-doc-link.fitted:hover,\n",
       ".sk-estimator-doc-link.fitted:hover {\n",
       "  /* fitted */\n",
       "  background-color: var(--sklearn-color-fitted-level-3);\n",
       "  color: var(--sklearn-color-background);\n",
       "  text-decoration: none;\n",
       "}\n",
       "\n",
       "/* Span, style for the box shown on hovering the info icon */\n",
       ".sk-estimator-doc-link span {\n",
       "  display: none;\n",
       "  z-index: 9999;\n",
       "  position: relative;\n",
       "  font-weight: normal;\n",
       "  right: .2ex;\n",
       "  padding: .5ex;\n",
       "  margin: .5ex;\n",
       "  width: min-content;\n",
       "  min-width: 20ex;\n",
       "  max-width: 50ex;\n",
       "  color: var(--sklearn-color-text);\n",
       "  box-shadow: 2pt 2pt 4pt #999;\n",
       "  /* unfitted */\n",
       "  background: var(--sklearn-color-unfitted-level-0);\n",
       "  border: .5pt solid var(--sklearn-color-unfitted-level-3);\n",
       "}\n",
       "\n",
       ".sk-estimator-doc-link.fitted span {\n",
       "  /* fitted */\n",
       "  background: var(--sklearn-color-fitted-level-0);\n",
       "  border: var(--sklearn-color-fitted-level-3);\n",
       "}\n",
       "\n",
       ".sk-estimator-doc-link:hover span {\n",
       "  display: block;\n",
       "}\n",
       "\n",
       "/* \"?\"-specific style due to the `<a>` HTML tag */\n",
       "\n",
       "#sk-container-id-9 a.estimator_doc_link {\n",
       "  float: right;\n",
       "  font-size: 1rem;\n",
       "  line-height: 1em;\n",
       "  font-family: monospace;\n",
       "  background-color: var(--sklearn-color-background);\n",
       "  border-radius: 1rem;\n",
       "  height: 1rem;\n",
       "  width: 1rem;\n",
       "  text-decoration: none;\n",
       "  /* unfitted */\n",
       "  color: var(--sklearn-color-unfitted-level-1);\n",
       "  border: var(--sklearn-color-unfitted-level-1) 1pt solid;\n",
       "}\n",
       "\n",
       "#sk-container-id-9 a.estimator_doc_link.fitted {\n",
       "  /* fitted */\n",
       "  border: var(--sklearn-color-fitted-level-1) 1pt solid;\n",
       "  color: var(--sklearn-color-fitted-level-1);\n",
       "}\n",
       "\n",
       "/* On hover */\n",
       "#sk-container-id-9 a.estimator_doc_link:hover {\n",
       "  /* unfitted */\n",
       "  background-color: var(--sklearn-color-unfitted-level-3);\n",
       "  color: var(--sklearn-color-background);\n",
       "  text-decoration: none;\n",
       "}\n",
       "\n",
       "#sk-container-id-9 a.estimator_doc_link.fitted:hover {\n",
       "  /* fitted */\n",
       "  background-color: var(--sklearn-color-fitted-level-3);\n",
       "}\n",
       "</style><div id=\"sk-container-id-9\" class=\"sk-top-container\"><div class=\"sk-text-repr-fallback\"><pre>ColumnTransformer(transformers=[(&#x27;cat&#x27;, OneHotEncoder(handle_unknown=&#x27;ignore&#x27;),\n",
       "                                 [&#x27;CAUSE.CATEGORY&#x27;, &#x27;NERC.REGION&#x27;,\n",
       "                                  &#x27;CLIMATE.CATEGORY&#x27;, &#x27;U.S._STATE&#x27;]),\n",
       "                                (&#x27;num&#x27;, StandardScaler(), [&#x27;MONTH&#x27;, &#x27;YEAR&#x27;])])</pre><b>In a Jupyter environment, please rerun this cell to show the HTML representation or trust the notebook. <br />On GitHub, the HTML representation is unable to render, please try loading this page with nbviewer.org.</b></div><div class=\"sk-container\" hidden><div class=\"sk-item sk-dashed-wrapped\"><div class=\"sk-label-container\"><div class=\"sk-label  sk-toggleable\"><input class=\"sk-toggleable__control sk-hidden--visually\" id=\"sk-estimator-id-37\" type=\"checkbox\" ><label for=\"sk-estimator-id-37\" class=\"sk-toggleable__label  sk-toggleable__label-arrow \">&nbsp;&nbsp;ColumnTransformer<a class=\"sk-estimator-doc-link \" rel=\"noreferrer\" target=\"_blank\" href=\"https://scikit-learn.org/1.5/modules/generated/sklearn.compose.ColumnTransformer.html\">?<span>Documentation for ColumnTransformer</span></a><span class=\"sk-estimator-doc-link \">i<span>Not fitted</span></span></label><div class=\"sk-toggleable__content \"><pre>ColumnTransformer(transformers=[(&#x27;cat&#x27;, OneHotEncoder(handle_unknown=&#x27;ignore&#x27;),\n",
       "                                 [&#x27;CAUSE.CATEGORY&#x27;, &#x27;NERC.REGION&#x27;,\n",
       "                                  &#x27;CLIMATE.CATEGORY&#x27;, &#x27;U.S._STATE&#x27;]),\n",
       "                                (&#x27;num&#x27;, StandardScaler(), [&#x27;MONTH&#x27;, &#x27;YEAR&#x27;])])</pre></div> </div></div><div class=\"sk-parallel\"><div class=\"sk-parallel-item\"><div class=\"sk-item\"><div class=\"sk-label-container\"><div class=\"sk-label  sk-toggleable\"><input class=\"sk-toggleable__control sk-hidden--visually\" id=\"sk-estimator-id-38\" type=\"checkbox\" ><label for=\"sk-estimator-id-38\" class=\"sk-toggleable__label  sk-toggleable__label-arrow \">cat</label><div class=\"sk-toggleable__content \"><pre>[&#x27;CAUSE.CATEGORY&#x27;, &#x27;NERC.REGION&#x27;, &#x27;CLIMATE.CATEGORY&#x27;, &#x27;U.S._STATE&#x27;]</pre></div> </div></div><div class=\"sk-serial\"><div class=\"sk-item\"><div class=\"sk-estimator  sk-toggleable\"><input class=\"sk-toggleable__control sk-hidden--visually\" id=\"sk-estimator-id-39\" type=\"checkbox\" ><label for=\"sk-estimator-id-39\" class=\"sk-toggleable__label  sk-toggleable__label-arrow \">&nbsp;OneHotEncoder<a class=\"sk-estimator-doc-link \" rel=\"noreferrer\" target=\"_blank\" href=\"https://scikit-learn.org/1.5/modules/generated/sklearn.preprocessing.OneHotEncoder.html\">?<span>Documentation for OneHotEncoder</span></a></label><div class=\"sk-toggleable__content \"><pre>OneHotEncoder(handle_unknown=&#x27;ignore&#x27;)</pre></div> </div></div></div></div></div><div class=\"sk-parallel-item\"><div class=\"sk-item\"><div class=\"sk-label-container\"><div class=\"sk-label  sk-toggleable\"><input class=\"sk-toggleable__control sk-hidden--visually\" id=\"sk-estimator-id-40\" type=\"checkbox\" ><label for=\"sk-estimator-id-40\" class=\"sk-toggleable__label  sk-toggleable__label-arrow \">num</label><div class=\"sk-toggleable__content \"><pre>[&#x27;MONTH&#x27;, &#x27;YEAR&#x27;]</pre></div> </div></div><div class=\"sk-serial\"><div class=\"sk-item\"><div class=\"sk-estimator  sk-toggleable\"><input class=\"sk-toggleable__control sk-hidden--visually\" id=\"sk-estimator-id-41\" type=\"checkbox\" ><label for=\"sk-estimator-id-41\" class=\"sk-toggleable__label  sk-toggleable__label-arrow \">&nbsp;StandardScaler<a class=\"sk-estimator-doc-link \" rel=\"noreferrer\" target=\"_blank\" href=\"https://scikit-learn.org/1.5/modules/generated/sklearn.preprocessing.StandardScaler.html\">?<span>Documentation for StandardScaler</span></a></label><div class=\"sk-toggleable__content \"><pre>StandardScaler()</pre></div> </div></div></div></div></div></div></div></div></div>"
      ],
      "text/plain": [
       "ColumnTransformer(transformers=[('cat', OneHotEncoder(handle_unknown='ignore'),\n",
       "                                 ['CAUSE.CATEGORY', 'NERC.REGION',\n",
       "                                  'CLIMATE.CATEGORY', 'U.S._STATE']),\n",
       "                                ('num', StandardScaler(), ['MONTH', 'YEAR'])])"
      ]
     },
     "execution_count": 91,
     "metadata": {},
     "output_type": "execute_result"
    }
   ],
   "source": [
    "categorical_cols = ['CAUSE.CATEGORY', 'NERC.REGION', 'CLIMATE.CATEGORY', 'U.S._STATE']\n",
    "numerical_cols = ['MONTH', 'YEAR']  \n",
    "\n",
    "preprocessor = ColumnTransformer(\n",
    "    transformers=[\n",
    "        ('cat', OneHotEncoder(handle_unknown='ignore'), categorical_cols),\n",
    "        ('num', StandardScaler(), numerical_cols)\n",
    "    ]\n",
    ")\n",
    "\n",
    "preprocessor"
   ]
  },
  {
   "cell_type": "code",
   "execution_count": 92,
   "metadata": {},
   "outputs": [
    {
     "data": {
      "text/html": [
       "<style>#sk-container-id-10 {\n",
       "  /* Definition of color scheme common for light and dark mode */\n",
       "  --sklearn-color-text: black;\n",
       "  --sklearn-color-line: gray;\n",
       "  /* Definition of color scheme for unfitted estimators */\n",
       "  --sklearn-color-unfitted-level-0: #fff5e6;\n",
       "  --sklearn-color-unfitted-level-1: #f6e4d2;\n",
       "  --sklearn-color-unfitted-level-2: #ffe0b3;\n",
       "  --sklearn-color-unfitted-level-3: chocolate;\n",
       "  /* Definition of color scheme for fitted estimators */\n",
       "  --sklearn-color-fitted-level-0: #f0f8ff;\n",
       "  --sklearn-color-fitted-level-1: #d4ebff;\n",
       "  --sklearn-color-fitted-level-2: #b3dbfd;\n",
       "  --sklearn-color-fitted-level-3: cornflowerblue;\n",
       "\n",
       "  /* Specific color for light theme */\n",
       "  --sklearn-color-text-on-default-background: var(--sg-text-color, var(--theme-code-foreground, var(--jp-content-font-color1, black)));\n",
       "  --sklearn-color-background: var(--sg-background-color, var(--theme-background, var(--jp-layout-color0, white)));\n",
       "  --sklearn-color-border-box: var(--sg-text-color, var(--theme-code-foreground, var(--jp-content-font-color1, black)));\n",
       "  --sklearn-color-icon: #696969;\n",
       "\n",
       "  @media (prefers-color-scheme: dark) {\n",
       "    /* Redefinition of color scheme for dark theme */\n",
       "    --sklearn-color-text-on-default-background: var(--sg-text-color, var(--theme-code-foreground, var(--jp-content-font-color1, white)));\n",
       "    --sklearn-color-background: var(--sg-background-color, var(--theme-background, var(--jp-layout-color0, #111)));\n",
       "    --sklearn-color-border-box: var(--sg-text-color, var(--theme-code-foreground, var(--jp-content-font-color1, white)));\n",
       "    --sklearn-color-icon: #878787;\n",
       "  }\n",
       "}\n",
       "\n",
       "#sk-container-id-10 {\n",
       "  color: var(--sklearn-color-text);\n",
       "}\n",
       "\n",
       "#sk-container-id-10 pre {\n",
       "  padding: 0;\n",
       "}\n",
       "\n",
       "#sk-container-id-10 input.sk-hidden--visually {\n",
       "  border: 0;\n",
       "  clip: rect(1px 1px 1px 1px);\n",
       "  clip: rect(1px, 1px, 1px, 1px);\n",
       "  height: 1px;\n",
       "  margin: -1px;\n",
       "  overflow: hidden;\n",
       "  padding: 0;\n",
       "  position: absolute;\n",
       "  width: 1px;\n",
       "}\n",
       "\n",
       "#sk-container-id-10 div.sk-dashed-wrapped {\n",
       "  border: 1px dashed var(--sklearn-color-line);\n",
       "  margin: 0 0.4em 0.5em 0.4em;\n",
       "  box-sizing: border-box;\n",
       "  padding-bottom: 0.4em;\n",
       "  background-color: var(--sklearn-color-background);\n",
       "}\n",
       "\n",
       "#sk-container-id-10 div.sk-container {\n",
       "  /* jupyter's `normalize.less` sets `[hidden] { display: none; }`\n",
       "     but bootstrap.min.css set `[hidden] { display: none !important; }`\n",
       "     so we also need the `!important` here to be able to override the\n",
       "     default hidden behavior on the sphinx rendered scikit-learn.org.\n",
       "     See: https://github.com/scikit-learn/scikit-learn/issues/21755 */\n",
       "  display: inline-block !important;\n",
       "  position: relative;\n",
       "}\n",
       "\n",
       "#sk-container-id-10 div.sk-text-repr-fallback {\n",
       "  display: none;\n",
       "}\n",
       "\n",
       "div.sk-parallel-item,\n",
       "div.sk-serial,\n",
       "div.sk-item {\n",
       "  /* draw centered vertical line to link estimators */\n",
       "  background-image: linear-gradient(var(--sklearn-color-text-on-default-background), var(--sklearn-color-text-on-default-background));\n",
       "  background-size: 2px 100%;\n",
       "  background-repeat: no-repeat;\n",
       "  background-position: center center;\n",
       "}\n",
       "\n",
       "/* Parallel-specific style estimator block */\n",
       "\n",
       "#sk-container-id-10 div.sk-parallel-item::after {\n",
       "  content: \"\";\n",
       "  width: 100%;\n",
       "  border-bottom: 2px solid var(--sklearn-color-text-on-default-background);\n",
       "  flex-grow: 1;\n",
       "}\n",
       "\n",
       "#sk-container-id-10 div.sk-parallel {\n",
       "  display: flex;\n",
       "  align-items: stretch;\n",
       "  justify-content: center;\n",
       "  background-color: var(--sklearn-color-background);\n",
       "  position: relative;\n",
       "}\n",
       "\n",
       "#sk-container-id-10 div.sk-parallel-item {\n",
       "  display: flex;\n",
       "  flex-direction: column;\n",
       "}\n",
       "\n",
       "#sk-container-id-10 div.sk-parallel-item:first-child::after {\n",
       "  align-self: flex-end;\n",
       "  width: 50%;\n",
       "}\n",
       "\n",
       "#sk-container-id-10 div.sk-parallel-item:last-child::after {\n",
       "  align-self: flex-start;\n",
       "  width: 50%;\n",
       "}\n",
       "\n",
       "#sk-container-id-10 div.sk-parallel-item:only-child::after {\n",
       "  width: 0;\n",
       "}\n",
       "\n",
       "/* Serial-specific style estimator block */\n",
       "\n",
       "#sk-container-id-10 div.sk-serial {\n",
       "  display: flex;\n",
       "  flex-direction: column;\n",
       "  align-items: center;\n",
       "  background-color: var(--sklearn-color-background);\n",
       "  padding-right: 1em;\n",
       "  padding-left: 1em;\n",
       "}\n",
       "\n",
       "\n",
       "/* Toggleable style: style used for estimator/Pipeline/ColumnTransformer box that is\n",
       "clickable and can be expanded/collapsed.\n",
       "- Pipeline and ColumnTransformer use this feature and define the default style\n",
       "- Estimators will overwrite some part of the style using the `sk-estimator` class\n",
       "*/\n",
       "\n",
       "/* Pipeline and ColumnTransformer style (default) */\n",
       "\n",
       "#sk-container-id-10 div.sk-toggleable {\n",
       "  /* Default theme specific background. It is overwritten whether we have a\n",
       "  specific estimator or a Pipeline/ColumnTransformer */\n",
       "  background-color: var(--sklearn-color-background);\n",
       "}\n",
       "\n",
       "/* Toggleable label */\n",
       "#sk-container-id-10 label.sk-toggleable__label {\n",
       "  cursor: pointer;\n",
       "  display: block;\n",
       "  width: 100%;\n",
       "  margin-bottom: 0;\n",
       "  padding: 0.5em;\n",
       "  box-sizing: border-box;\n",
       "  text-align: center;\n",
       "}\n",
       "\n",
       "#sk-container-id-10 label.sk-toggleable__label-arrow:before {\n",
       "  /* Arrow on the left of the label */\n",
       "  content: \"▸\";\n",
       "  float: left;\n",
       "  margin-right: 0.25em;\n",
       "  color: var(--sklearn-color-icon);\n",
       "}\n",
       "\n",
       "#sk-container-id-10 label.sk-toggleable__label-arrow:hover:before {\n",
       "  color: var(--sklearn-color-text);\n",
       "}\n",
       "\n",
       "/* Toggleable content - dropdown */\n",
       "\n",
       "#sk-container-id-10 div.sk-toggleable__content {\n",
       "  max-height: 0;\n",
       "  max-width: 0;\n",
       "  overflow: hidden;\n",
       "  text-align: left;\n",
       "  /* unfitted */\n",
       "  background-color: var(--sklearn-color-unfitted-level-0);\n",
       "}\n",
       "\n",
       "#sk-container-id-10 div.sk-toggleable__content.fitted {\n",
       "  /* fitted */\n",
       "  background-color: var(--sklearn-color-fitted-level-0);\n",
       "}\n",
       "\n",
       "#sk-container-id-10 div.sk-toggleable__content pre {\n",
       "  margin: 0.2em;\n",
       "  border-radius: 0.25em;\n",
       "  color: var(--sklearn-color-text);\n",
       "  /* unfitted */\n",
       "  background-color: var(--sklearn-color-unfitted-level-0);\n",
       "}\n",
       "\n",
       "#sk-container-id-10 div.sk-toggleable__content.fitted pre {\n",
       "  /* unfitted */\n",
       "  background-color: var(--sklearn-color-fitted-level-0);\n",
       "}\n",
       "\n",
       "#sk-container-id-10 input.sk-toggleable__control:checked~div.sk-toggleable__content {\n",
       "  /* Expand drop-down */\n",
       "  max-height: 200px;\n",
       "  max-width: 100%;\n",
       "  overflow: auto;\n",
       "}\n",
       "\n",
       "#sk-container-id-10 input.sk-toggleable__control:checked~label.sk-toggleable__label-arrow:before {\n",
       "  content: \"▾\";\n",
       "}\n",
       "\n",
       "/* Pipeline/ColumnTransformer-specific style */\n",
       "\n",
       "#sk-container-id-10 div.sk-label input.sk-toggleable__control:checked~label.sk-toggleable__label {\n",
       "  color: var(--sklearn-color-text);\n",
       "  background-color: var(--sklearn-color-unfitted-level-2);\n",
       "}\n",
       "\n",
       "#sk-container-id-10 div.sk-label.fitted input.sk-toggleable__control:checked~label.sk-toggleable__label {\n",
       "  background-color: var(--sklearn-color-fitted-level-2);\n",
       "}\n",
       "\n",
       "/* Estimator-specific style */\n",
       "\n",
       "/* Colorize estimator box */\n",
       "#sk-container-id-10 div.sk-estimator input.sk-toggleable__control:checked~label.sk-toggleable__label {\n",
       "  /* unfitted */\n",
       "  background-color: var(--sklearn-color-unfitted-level-2);\n",
       "}\n",
       "\n",
       "#sk-container-id-10 div.sk-estimator.fitted input.sk-toggleable__control:checked~label.sk-toggleable__label {\n",
       "  /* fitted */\n",
       "  background-color: var(--sklearn-color-fitted-level-2);\n",
       "}\n",
       "\n",
       "#sk-container-id-10 div.sk-label label.sk-toggleable__label,\n",
       "#sk-container-id-10 div.sk-label label {\n",
       "  /* The background is the default theme color */\n",
       "  color: var(--sklearn-color-text-on-default-background);\n",
       "}\n",
       "\n",
       "/* On hover, darken the color of the background */\n",
       "#sk-container-id-10 div.sk-label:hover label.sk-toggleable__label {\n",
       "  color: var(--sklearn-color-text);\n",
       "  background-color: var(--sklearn-color-unfitted-level-2);\n",
       "}\n",
       "\n",
       "/* Label box, darken color on hover, fitted */\n",
       "#sk-container-id-10 div.sk-label.fitted:hover label.sk-toggleable__label.fitted {\n",
       "  color: var(--sklearn-color-text);\n",
       "  background-color: var(--sklearn-color-fitted-level-2);\n",
       "}\n",
       "\n",
       "/* Estimator label */\n",
       "\n",
       "#sk-container-id-10 div.sk-label label {\n",
       "  font-family: monospace;\n",
       "  font-weight: bold;\n",
       "  display: inline-block;\n",
       "  line-height: 1.2em;\n",
       "}\n",
       "\n",
       "#sk-container-id-10 div.sk-label-container {\n",
       "  text-align: center;\n",
       "}\n",
       "\n",
       "/* Estimator-specific */\n",
       "#sk-container-id-10 div.sk-estimator {\n",
       "  font-family: monospace;\n",
       "  border: 1px dotted var(--sklearn-color-border-box);\n",
       "  border-radius: 0.25em;\n",
       "  box-sizing: border-box;\n",
       "  margin-bottom: 0.5em;\n",
       "  /* unfitted */\n",
       "  background-color: var(--sklearn-color-unfitted-level-0);\n",
       "}\n",
       "\n",
       "#sk-container-id-10 div.sk-estimator.fitted {\n",
       "  /* fitted */\n",
       "  background-color: var(--sklearn-color-fitted-level-0);\n",
       "}\n",
       "\n",
       "/* on hover */\n",
       "#sk-container-id-10 div.sk-estimator:hover {\n",
       "  /* unfitted */\n",
       "  background-color: var(--sklearn-color-unfitted-level-2);\n",
       "}\n",
       "\n",
       "#sk-container-id-10 div.sk-estimator.fitted:hover {\n",
       "  /* fitted */\n",
       "  background-color: var(--sklearn-color-fitted-level-2);\n",
       "}\n",
       "\n",
       "/* Specification for estimator info (e.g. \"i\" and \"?\") */\n",
       "\n",
       "/* Common style for \"i\" and \"?\" */\n",
       "\n",
       ".sk-estimator-doc-link,\n",
       "a:link.sk-estimator-doc-link,\n",
       "a:visited.sk-estimator-doc-link {\n",
       "  float: right;\n",
       "  font-size: smaller;\n",
       "  line-height: 1em;\n",
       "  font-family: monospace;\n",
       "  background-color: var(--sklearn-color-background);\n",
       "  border-radius: 1em;\n",
       "  height: 1em;\n",
       "  width: 1em;\n",
       "  text-decoration: none !important;\n",
       "  margin-left: 1ex;\n",
       "  /* unfitted */\n",
       "  border: var(--sklearn-color-unfitted-level-1) 1pt solid;\n",
       "  color: var(--sklearn-color-unfitted-level-1);\n",
       "}\n",
       "\n",
       ".sk-estimator-doc-link.fitted,\n",
       "a:link.sk-estimator-doc-link.fitted,\n",
       "a:visited.sk-estimator-doc-link.fitted {\n",
       "  /* fitted */\n",
       "  border: var(--sklearn-color-fitted-level-1) 1pt solid;\n",
       "  color: var(--sklearn-color-fitted-level-1);\n",
       "}\n",
       "\n",
       "/* On hover */\n",
       "div.sk-estimator:hover .sk-estimator-doc-link:hover,\n",
       ".sk-estimator-doc-link:hover,\n",
       "div.sk-label-container:hover .sk-estimator-doc-link:hover,\n",
       ".sk-estimator-doc-link:hover {\n",
       "  /* unfitted */\n",
       "  background-color: var(--sklearn-color-unfitted-level-3);\n",
       "  color: var(--sklearn-color-background);\n",
       "  text-decoration: none;\n",
       "}\n",
       "\n",
       "div.sk-estimator.fitted:hover .sk-estimator-doc-link.fitted:hover,\n",
       ".sk-estimator-doc-link.fitted:hover,\n",
       "div.sk-label-container:hover .sk-estimator-doc-link.fitted:hover,\n",
       ".sk-estimator-doc-link.fitted:hover {\n",
       "  /* fitted */\n",
       "  background-color: var(--sklearn-color-fitted-level-3);\n",
       "  color: var(--sklearn-color-background);\n",
       "  text-decoration: none;\n",
       "}\n",
       "\n",
       "/* Span, style for the box shown on hovering the info icon */\n",
       ".sk-estimator-doc-link span {\n",
       "  display: none;\n",
       "  z-index: 9999;\n",
       "  position: relative;\n",
       "  font-weight: normal;\n",
       "  right: .2ex;\n",
       "  padding: .5ex;\n",
       "  margin: .5ex;\n",
       "  width: min-content;\n",
       "  min-width: 20ex;\n",
       "  max-width: 50ex;\n",
       "  color: var(--sklearn-color-text);\n",
       "  box-shadow: 2pt 2pt 4pt #999;\n",
       "  /* unfitted */\n",
       "  background: var(--sklearn-color-unfitted-level-0);\n",
       "  border: .5pt solid var(--sklearn-color-unfitted-level-3);\n",
       "}\n",
       "\n",
       ".sk-estimator-doc-link.fitted span {\n",
       "  /* fitted */\n",
       "  background: var(--sklearn-color-fitted-level-0);\n",
       "  border: var(--sklearn-color-fitted-level-3);\n",
       "}\n",
       "\n",
       ".sk-estimator-doc-link:hover span {\n",
       "  display: block;\n",
       "}\n",
       "\n",
       "/* \"?\"-specific style due to the `<a>` HTML tag */\n",
       "\n",
       "#sk-container-id-10 a.estimator_doc_link {\n",
       "  float: right;\n",
       "  font-size: 1rem;\n",
       "  line-height: 1em;\n",
       "  font-family: monospace;\n",
       "  background-color: var(--sklearn-color-background);\n",
       "  border-radius: 1rem;\n",
       "  height: 1rem;\n",
       "  width: 1rem;\n",
       "  text-decoration: none;\n",
       "  /* unfitted */\n",
       "  color: var(--sklearn-color-unfitted-level-1);\n",
       "  border: var(--sklearn-color-unfitted-level-1) 1pt solid;\n",
       "}\n",
       "\n",
       "#sk-container-id-10 a.estimator_doc_link.fitted {\n",
       "  /* fitted */\n",
       "  border: var(--sklearn-color-fitted-level-1) 1pt solid;\n",
       "  color: var(--sklearn-color-fitted-level-1);\n",
       "}\n",
       "\n",
       "/* On hover */\n",
       "#sk-container-id-10 a.estimator_doc_link:hover {\n",
       "  /* unfitted */\n",
       "  background-color: var(--sklearn-color-unfitted-level-3);\n",
       "  color: var(--sklearn-color-background);\n",
       "  text-decoration: none;\n",
       "}\n",
       "\n",
       "#sk-container-id-10 a.estimator_doc_link.fitted:hover {\n",
       "  /* fitted */\n",
       "  background-color: var(--sklearn-color-fitted-level-3);\n",
       "}\n",
       "</style><div id=\"sk-container-id-10\" class=\"sk-top-container\"><div class=\"sk-text-repr-fallback\"><pre>Pipeline(steps=[(&#x27;preprocessor&#x27;,\n",
       "                 ColumnTransformer(transformers=[(&#x27;cat&#x27;,\n",
       "                                                  OneHotEncoder(handle_unknown=&#x27;ignore&#x27;),\n",
       "                                                  [&#x27;CAUSE.CATEGORY&#x27;,\n",
       "                                                   &#x27;NERC.REGION&#x27;,\n",
       "                                                   &#x27;CLIMATE.CATEGORY&#x27;,\n",
       "                                                   &#x27;U.S._STATE&#x27;]),\n",
       "                                                 (&#x27;num&#x27;, StandardScaler(),\n",
       "                                                  [&#x27;MONTH&#x27;, &#x27;YEAR&#x27;])])),\n",
       "                (&#x27;lin-reg&#x27;, LinearRegression())])</pre><b>In a Jupyter environment, please rerun this cell to show the HTML representation or trust the notebook. <br />On GitHub, the HTML representation is unable to render, please try loading this page with nbviewer.org.</b></div><div class=\"sk-container\" hidden><div class=\"sk-item sk-dashed-wrapped\"><div class=\"sk-label-container\"><div class=\"sk-label  sk-toggleable\"><input class=\"sk-toggleable__control sk-hidden--visually\" id=\"sk-estimator-id-42\" type=\"checkbox\" ><label for=\"sk-estimator-id-42\" class=\"sk-toggleable__label  sk-toggleable__label-arrow \">&nbsp;&nbsp;Pipeline<a class=\"sk-estimator-doc-link \" rel=\"noreferrer\" target=\"_blank\" href=\"https://scikit-learn.org/1.5/modules/generated/sklearn.pipeline.Pipeline.html\">?<span>Documentation for Pipeline</span></a><span class=\"sk-estimator-doc-link \">i<span>Not fitted</span></span></label><div class=\"sk-toggleable__content \"><pre>Pipeline(steps=[(&#x27;preprocessor&#x27;,\n",
       "                 ColumnTransformer(transformers=[(&#x27;cat&#x27;,\n",
       "                                                  OneHotEncoder(handle_unknown=&#x27;ignore&#x27;),\n",
       "                                                  [&#x27;CAUSE.CATEGORY&#x27;,\n",
       "                                                   &#x27;NERC.REGION&#x27;,\n",
       "                                                   &#x27;CLIMATE.CATEGORY&#x27;,\n",
       "                                                   &#x27;U.S._STATE&#x27;]),\n",
       "                                                 (&#x27;num&#x27;, StandardScaler(),\n",
       "                                                  [&#x27;MONTH&#x27;, &#x27;YEAR&#x27;])])),\n",
       "                (&#x27;lin-reg&#x27;, LinearRegression())])</pre></div> </div></div><div class=\"sk-serial\"><div class=\"sk-item sk-dashed-wrapped\"><div class=\"sk-label-container\"><div class=\"sk-label  sk-toggleable\"><input class=\"sk-toggleable__control sk-hidden--visually\" id=\"sk-estimator-id-43\" type=\"checkbox\" ><label for=\"sk-estimator-id-43\" class=\"sk-toggleable__label  sk-toggleable__label-arrow \">&nbsp;preprocessor: ColumnTransformer<a class=\"sk-estimator-doc-link \" rel=\"noreferrer\" target=\"_blank\" href=\"https://scikit-learn.org/1.5/modules/generated/sklearn.compose.ColumnTransformer.html\">?<span>Documentation for preprocessor: ColumnTransformer</span></a></label><div class=\"sk-toggleable__content \"><pre>ColumnTransformer(transformers=[(&#x27;cat&#x27;, OneHotEncoder(handle_unknown=&#x27;ignore&#x27;),\n",
       "                                 [&#x27;CAUSE.CATEGORY&#x27;, &#x27;NERC.REGION&#x27;,\n",
       "                                  &#x27;CLIMATE.CATEGORY&#x27;, &#x27;U.S._STATE&#x27;]),\n",
       "                                (&#x27;num&#x27;, StandardScaler(), [&#x27;MONTH&#x27;, &#x27;YEAR&#x27;])])</pre></div> </div></div><div class=\"sk-parallel\"><div class=\"sk-parallel-item\"><div class=\"sk-item\"><div class=\"sk-label-container\"><div class=\"sk-label  sk-toggleable\"><input class=\"sk-toggleable__control sk-hidden--visually\" id=\"sk-estimator-id-44\" type=\"checkbox\" ><label for=\"sk-estimator-id-44\" class=\"sk-toggleable__label  sk-toggleable__label-arrow \">cat</label><div class=\"sk-toggleable__content \"><pre>[&#x27;CAUSE.CATEGORY&#x27;, &#x27;NERC.REGION&#x27;, &#x27;CLIMATE.CATEGORY&#x27;, &#x27;U.S._STATE&#x27;]</pre></div> </div></div><div class=\"sk-serial\"><div class=\"sk-item\"><div class=\"sk-estimator  sk-toggleable\"><input class=\"sk-toggleable__control sk-hidden--visually\" id=\"sk-estimator-id-45\" type=\"checkbox\" ><label for=\"sk-estimator-id-45\" class=\"sk-toggleable__label  sk-toggleable__label-arrow \">&nbsp;OneHotEncoder<a class=\"sk-estimator-doc-link \" rel=\"noreferrer\" target=\"_blank\" href=\"https://scikit-learn.org/1.5/modules/generated/sklearn.preprocessing.OneHotEncoder.html\">?<span>Documentation for OneHotEncoder</span></a></label><div class=\"sk-toggleable__content \"><pre>OneHotEncoder(handle_unknown=&#x27;ignore&#x27;)</pre></div> </div></div></div></div></div><div class=\"sk-parallel-item\"><div class=\"sk-item\"><div class=\"sk-label-container\"><div class=\"sk-label  sk-toggleable\"><input class=\"sk-toggleable__control sk-hidden--visually\" id=\"sk-estimator-id-46\" type=\"checkbox\" ><label for=\"sk-estimator-id-46\" class=\"sk-toggleable__label  sk-toggleable__label-arrow \">num</label><div class=\"sk-toggleable__content \"><pre>[&#x27;MONTH&#x27;, &#x27;YEAR&#x27;]</pre></div> </div></div><div class=\"sk-serial\"><div class=\"sk-item\"><div class=\"sk-estimator  sk-toggleable\"><input class=\"sk-toggleable__control sk-hidden--visually\" id=\"sk-estimator-id-47\" type=\"checkbox\" ><label for=\"sk-estimator-id-47\" class=\"sk-toggleable__label  sk-toggleable__label-arrow \">&nbsp;StandardScaler<a class=\"sk-estimator-doc-link \" rel=\"noreferrer\" target=\"_blank\" href=\"https://scikit-learn.org/1.5/modules/generated/sklearn.preprocessing.StandardScaler.html\">?<span>Documentation for StandardScaler</span></a></label><div class=\"sk-toggleable__content \"><pre>StandardScaler()</pre></div> </div></div></div></div></div></div></div><div class=\"sk-item\"><div class=\"sk-estimator  sk-toggleable\"><input class=\"sk-toggleable__control sk-hidden--visually\" id=\"sk-estimator-id-48\" type=\"checkbox\" ><label for=\"sk-estimator-id-48\" class=\"sk-toggleable__label  sk-toggleable__label-arrow \">&nbsp;LinearRegression<a class=\"sk-estimator-doc-link \" rel=\"noreferrer\" target=\"_blank\" href=\"https://scikit-learn.org/1.5/modules/generated/sklearn.linear_model.LinearRegression.html\">?<span>Documentation for LinearRegression</span></a></label><div class=\"sk-toggleable__content \"><pre>LinearRegression()</pre></div> </div></div></div></div></div></div>"
      ],
      "text/plain": [
       "Pipeline(steps=[('preprocessor',\n",
       "                 ColumnTransformer(transformers=[('cat',\n",
       "                                                  OneHotEncoder(handle_unknown='ignore'),\n",
       "                                                  ['CAUSE.CATEGORY',\n",
       "                                                   'NERC.REGION',\n",
       "                                                   'CLIMATE.CATEGORY',\n",
       "                                                   'U.S._STATE']),\n",
       "                                                 ('num', StandardScaler(),\n",
       "                                                  ['MONTH', 'YEAR'])])),\n",
       "                ('lin-reg', LinearRegression())])"
      ]
     },
     "execution_count": 92,
     "metadata": {},
     "output_type": "execute_result"
    }
   ],
   "source": [
    "pl = Pipeline([\n",
    "    ('preprocessor', preprocessor), \n",
    "    ('lin-reg', LinearRegression())\n",
    "])\n",
    "\n",
    "pl"
   ]
  },
  {
   "cell_type": "code",
   "execution_count": 93,
   "metadata": {},
   "outputs": [
    {
     "data": {
      "text/html": [
       "<style>#sk-container-id-11 {\n",
       "  /* Definition of color scheme common for light and dark mode */\n",
       "  --sklearn-color-text: black;\n",
       "  --sklearn-color-line: gray;\n",
       "  /* Definition of color scheme for unfitted estimators */\n",
       "  --sklearn-color-unfitted-level-0: #fff5e6;\n",
       "  --sklearn-color-unfitted-level-1: #f6e4d2;\n",
       "  --sklearn-color-unfitted-level-2: #ffe0b3;\n",
       "  --sklearn-color-unfitted-level-3: chocolate;\n",
       "  /* Definition of color scheme for fitted estimators */\n",
       "  --sklearn-color-fitted-level-0: #f0f8ff;\n",
       "  --sklearn-color-fitted-level-1: #d4ebff;\n",
       "  --sklearn-color-fitted-level-2: #b3dbfd;\n",
       "  --sklearn-color-fitted-level-3: cornflowerblue;\n",
       "\n",
       "  /* Specific color for light theme */\n",
       "  --sklearn-color-text-on-default-background: var(--sg-text-color, var(--theme-code-foreground, var(--jp-content-font-color1, black)));\n",
       "  --sklearn-color-background: var(--sg-background-color, var(--theme-background, var(--jp-layout-color0, white)));\n",
       "  --sklearn-color-border-box: var(--sg-text-color, var(--theme-code-foreground, var(--jp-content-font-color1, black)));\n",
       "  --sklearn-color-icon: #696969;\n",
       "\n",
       "  @media (prefers-color-scheme: dark) {\n",
       "    /* Redefinition of color scheme for dark theme */\n",
       "    --sklearn-color-text-on-default-background: var(--sg-text-color, var(--theme-code-foreground, var(--jp-content-font-color1, white)));\n",
       "    --sklearn-color-background: var(--sg-background-color, var(--theme-background, var(--jp-layout-color0, #111)));\n",
       "    --sklearn-color-border-box: var(--sg-text-color, var(--theme-code-foreground, var(--jp-content-font-color1, white)));\n",
       "    --sklearn-color-icon: #878787;\n",
       "  }\n",
       "}\n",
       "\n",
       "#sk-container-id-11 {\n",
       "  color: var(--sklearn-color-text);\n",
       "}\n",
       "\n",
       "#sk-container-id-11 pre {\n",
       "  padding: 0;\n",
       "}\n",
       "\n",
       "#sk-container-id-11 input.sk-hidden--visually {\n",
       "  border: 0;\n",
       "  clip: rect(1px 1px 1px 1px);\n",
       "  clip: rect(1px, 1px, 1px, 1px);\n",
       "  height: 1px;\n",
       "  margin: -1px;\n",
       "  overflow: hidden;\n",
       "  padding: 0;\n",
       "  position: absolute;\n",
       "  width: 1px;\n",
       "}\n",
       "\n",
       "#sk-container-id-11 div.sk-dashed-wrapped {\n",
       "  border: 1px dashed var(--sklearn-color-line);\n",
       "  margin: 0 0.4em 0.5em 0.4em;\n",
       "  box-sizing: border-box;\n",
       "  padding-bottom: 0.4em;\n",
       "  background-color: var(--sklearn-color-background);\n",
       "}\n",
       "\n",
       "#sk-container-id-11 div.sk-container {\n",
       "  /* jupyter's `normalize.less` sets `[hidden] { display: none; }`\n",
       "     but bootstrap.min.css set `[hidden] { display: none !important; }`\n",
       "     so we also need the `!important` here to be able to override the\n",
       "     default hidden behavior on the sphinx rendered scikit-learn.org.\n",
       "     See: https://github.com/scikit-learn/scikit-learn/issues/21755 */\n",
       "  display: inline-block !important;\n",
       "  position: relative;\n",
       "}\n",
       "\n",
       "#sk-container-id-11 div.sk-text-repr-fallback {\n",
       "  display: none;\n",
       "}\n",
       "\n",
       "div.sk-parallel-item,\n",
       "div.sk-serial,\n",
       "div.sk-item {\n",
       "  /* draw centered vertical line to link estimators */\n",
       "  background-image: linear-gradient(var(--sklearn-color-text-on-default-background), var(--sklearn-color-text-on-default-background));\n",
       "  background-size: 2px 100%;\n",
       "  background-repeat: no-repeat;\n",
       "  background-position: center center;\n",
       "}\n",
       "\n",
       "/* Parallel-specific style estimator block */\n",
       "\n",
       "#sk-container-id-11 div.sk-parallel-item::after {\n",
       "  content: \"\";\n",
       "  width: 100%;\n",
       "  border-bottom: 2px solid var(--sklearn-color-text-on-default-background);\n",
       "  flex-grow: 1;\n",
       "}\n",
       "\n",
       "#sk-container-id-11 div.sk-parallel {\n",
       "  display: flex;\n",
       "  align-items: stretch;\n",
       "  justify-content: center;\n",
       "  background-color: var(--sklearn-color-background);\n",
       "  position: relative;\n",
       "}\n",
       "\n",
       "#sk-container-id-11 div.sk-parallel-item {\n",
       "  display: flex;\n",
       "  flex-direction: column;\n",
       "}\n",
       "\n",
       "#sk-container-id-11 div.sk-parallel-item:first-child::after {\n",
       "  align-self: flex-end;\n",
       "  width: 50%;\n",
       "}\n",
       "\n",
       "#sk-container-id-11 div.sk-parallel-item:last-child::after {\n",
       "  align-self: flex-start;\n",
       "  width: 50%;\n",
       "}\n",
       "\n",
       "#sk-container-id-11 div.sk-parallel-item:only-child::after {\n",
       "  width: 0;\n",
       "}\n",
       "\n",
       "/* Serial-specific style estimator block */\n",
       "\n",
       "#sk-container-id-11 div.sk-serial {\n",
       "  display: flex;\n",
       "  flex-direction: column;\n",
       "  align-items: center;\n",
       "  background-color: var(--sklearn-color-background);\n",
       "  padding-right: 1em;\n",
       "  padding-left: 1em;\n",
       "}\n",
       "\n",
       "\n",
       "/* Toggleable style: style used for estimator/Pipeline/ColumnTransformer box that is\n",
       "clickable and can be expanded/collapsed.\n",
       "- Pipeline and ColumnTransformer use this feature and define the default style\n",
       "- Estimators will overwrite some part of the style using the `sk-estimator` class\n",
       "*/\n",
       "\n",
       "/* Pipeline and ColumnTransformer style (default) */\n",
       "\n",
       "#sk-container-id-11 div.sk-toggleable {\n",
       "  /* Default theme specific background. It is overwritten whether we have a\n",
       "  specific estimator or a Pipeline/ColumnTransformer */\n",
       "  background-color: var(--sklearn-color-background);\n",
       "}\n",
       "\n",
       "/* Toggleable label */\n",
       "#sk-container-id-11 label.sk-toggleable__label {\n",
       "  cursor: pointer;\n",
       "  display: block;\n",
       "  width: 100%;\n",
       "  margin-bottom: 0;\n",
       "  padding: 0.5em;\n",
       "  box-sizing: border-box;\n",
       "  text-align: center;\n",
       "}\n",
       "\n",
       "#sk-container-id-11 label.sk-toggleable__label-arrow:before {\n",
       "  /* Arrow on the left of the label */\n",
       "  content: \"▸\";\n",
       "  float: left;\n",
       "  margin-right: 0.25em;\n",
       "  color: var(--sklearn-color-icon);\n",
       "}\n",
       "\n",
       "#sk-container-id-11 label.sk-toggleable__label-arrow:hover:before {\n",
       "  color: var(--sklearn-color-text);\n",
       "}\n",
       "\n",
       "/* Toggleable content - dropdown */\n",
       "\n",
       "#sk-container-id-11 div.sk-toggleable__content {\n",
       "  max-height: 0;\n",
       "  max-width: 0;\n",
       "  overflow: hidden;\n",
       "  text-align: left;\n",
       "  /* unfitted */\n",
       "  background-color: var(--sklearn-color-unfitted-level-0);\n",
       "}\n",
       "\n",
       "#sk-container-id-11 div.sk-toggleable__content.fitted {\n",
       "  /* fitted */\n",
       "  background-color: var(--sklearn-color-fitted-level-0);\n",
       "}\n",
       "\n",
       "#sk-container-id-11 div.sk-toggleable__content pre {\n",
       "  margin: 0.2em;\n",
       "  border-radius: 0.25em;\n",
       "  color: var(--sklearn-color-text);\n",
       "  /* unfitted */\n",
       "  background-color: var(--sklearn-color-unfitted-level-0);\n",
       "}\n",
       "\n",
       "#sk-container-id-11 div.sk-toggleable__content.fitted pre {\n",
       "  /* unfitted */\n",
       "  background-color: var(--sklearn-color-fitted-level-0);\n",
       "}\n",
       "\n",
       "#sk-container-id-11 input.sk-toggleable__control:checked~div.sk-toggleable__content {\n",
       "  /* Expand drop-down */\n",
       "  max-height: 200px;\n",
       "  max-width: 100%;\n",
       "  overflow: auto;\n",
       "}\n",
       "\n",
       "#sk-container-id-11 input.sk-toggleable__control:checked~label.sk-toggleable__label-arrow:before {\n",
       "  content: \"▾\";\n",
       "}\n",
       "\n",
       "/* Pipeline/ColumnTransformer-specific style */\n",
       "\n",
       "#sk-container-id-11 div.sk-label input.sk-toggleable__control:checked~label.sk-toggleable__label {\n",
       "  color: var(--sklearn-color-text);\n",
       "  background-color: var(--sklearn-color-unfitted-level-2);\n",
       "}\n",
       "\n",
       "#sk-container-id-11 div.sk-label.fitted input.sk-toggleable__control:checked~label.sk-toggleable__label {\n",
       "  background-color: var(--sklearn-color-fitted-level-2);\n",
       "}\n",
       "\n",
       "/* Estimator-specific style */\n",
       "\n",
       "/* Colorize estimator box */\n",
       "#sk-container-id-11 div.sk-estimator input.sk-toggleable__control:checked~label.sk-toggleable__label {\n",
       "  /* unfitted */\n",
       "  background-color: var(--sklearn-color-unfitted-level-2);\n",
       "}\n",
       "\n",
       "#sk-container-id-11 div.sk-estimator.fitted input.sk-toggleable__control:checked~label.sk-toggleable__label {\n",
       "  /* fitted */\n",
       "  background-color: var(--sklearn-color-fitted-level-2);\n",
       "}\n",
       "\n",
       "#sk-container-id-11 div.sk-label label.sk-toggleable__label,\n",
       "#sk-container-id-11 div.sk-label label {\n",
       "  /* The background is the default theme color */\n",
       "  color: var(--sklearn-color-text-on-default-background);\n",
       "}\n",
       "\n",
       "/* On hover, darken the color of the background */\n",
       "#sk-container-id-11 div.sk-label:hover label.sk-toggleable__label {\n",
       "  color: var(--sklearn-color-text);\n",
       "  background-color: var(--sklearn-color-unfitted-level-2);\n",
       "}\n",
       "\n",
       "/* Label box, darken color on hover, fitted */\n",
       "#sk-container-id-11 div.sk-label.fitted:hover label.sk-toggleable__label.fitted {\n",
       "  color: var(--sklearn-color-text);\n",
       "  background-color: var(--sklearn-color-fitted-level-2);\n",
       "}\n",
       "\n",
       "/* Estimator label */\n",
       "\n",
       "#sk-container-id-11 div.sk-label label {\n",
       "  font-family: monospace;\n",
       "  font-weight: bold;\n",
       "  display: inline-block;\n",
       "  line-height: 1.2em;\n",
       "}\n",
       "\n",
       "#sk-container-id-11 div.sk-label-container {\n",
       "  text-align: center;\n",
       "}\n",
       "\n",
       "/* Estimator-specific */\n",
       "#sk-container-id-11 div.sk-estimator {\n",
       "  font-family: monospace;\n",
       "  border: 1px dotted var(--sklearn-color-border-box);\n",
       "  border-radius: 0.25em;\n",
       "  box-sizing: border-box;\n",
       "  margin-bottom: 0.5em;\n",
       "  /* unfitted */\n",
       "  background-color: var(--sklearn-color-unfitted-level-0);\n",
       "}\n",
       "\n",
       "#sk-container-id-11 div.sk-estimator.fitted {\n",
       "  /* fitted */\n",
       "  background-color: var(--sklearn-color-fitted-level-0);\n",
       "}\n",
       "\n",
       "/* on hover */\n",
       "#sk-container-id-11 div.sk-estimator:hover {\n",
       "  /* unfitted */\n",
       "  background-color: var(--sklearn-color-unfitted-level-2);\n",
       "}\n",
       "\n",
       "#sk-container-id-11 div.sk-estimator.fitted:hover {\n",
       "  /* fitted */\n",
       "  background-color: var(--sklearn-color-fitted-level-2);\n",
       "}\n",
       "\n",
       "/* Specification for estimator info (e.g. \"i\" and \"?\") */\n",
       "\n",
       "/* Common style for \"i\" and \"?\" */\n",
       "\n",
       ".sk-estimator-doc-link,\n",
       "a:link.sk-estimator-doc-link,\n",
       "a:visited.sk-estimator-doc-link {\n",
       "  float: right;\n",
       "  font-size: smaller;\n",
       "  line-height: 1em;\n",
       "  font-family: monospace;\n",
       "  background-color: var(--sklearn-color-background);\n",
       "  border-radius: 1em;\n",
       "  height: 1em;\n",
       "  width: 1em;\n",
       "  text-decoration: none !important;\n",
       "  margin-left: 1ex;\n",
       "  /* unfitted */\n",
       "  border: var(--sklearn-color-unfitted-level-1) 1pt solid;\n",
       "  color: var(--sklearn-color-unfitted-level-1);\n",
       "}\n",
       "\n",
       ".sk-estimator-doc-link.fitted,\n",
       "a:link.sk-estimator-doc-link.fitted,\n",
       "a:visited.sk-estimator-doc-link.fitted {\n",
       "  /* fitted */\n",
       "  border: var(--sklearn-color-fitted-level-1) 1pt solid;\n",
       "  color: var(--sklearn-color-fitted-level-1);\n",
       "}\n",
       "\n",
       "/* On hover */\n",
       "div.sk-estimator:hover .sk-estimator-doc-link:hover,\n",
       ".sk-estimator-doc-link:hover,\n",
       "div.sk-label-container:hover .sk-estimator-doc-link:hover,\n",
       ".sk-estimator-doc-link:hover {\n",
       "  /* unfitted */\n",
       "  background-color: var(--sklearn-color-unfitted-level-3);\n",
       "  color: var(--sklearn-color-background);\n",
       "  text-decoration: none;\n",
       "}\n",
       "\n",
       "div.sk-estimator.fitted:hover .sk-estimator-doc-link.fitted:hover,\n",
       ".sk-estimator-doc-link.fitted:hover,\n",
       "div.sk-label-container:hover .sk-estimator-doc-link.fitted:hover,\n",
       ".sk-estimator-doc-link.fitted:hover {\n",
       "  /* fitted */\n",
       "  background-color: var(--sklearn-color-fitted-level-3);\n",
       "  color: var(--sklearn-color-background);\n",
       "  text-decoration: none;\n",
       "}\n",
       "\n",
       "/* Span, style for the box shown on hovering the info icon */\n",
       ".sk-estimator-doc-link span {\n",
       "  display: none;\n",
       "  z-index: 9999;\n",
       "  position: relative;\n",
       "  font-weight: normal;\n",
       "  right: .2ex;\n",
       "  padding: .5ex;\n",
       "  margin: .5ex;\n",
       "  width: min-content;\n",
       "  min-width: 20ex;\n",
       "  max-width: 50ex;\n",
       "  color: var(--sklearn-color-text);\n",
       "  box-shadow: 2pt 2pt 4pt #999;\n",
       "  /* unfitted */\n",
       "  background: var(--sklearn-color-unfitted-level-0);\n",
       "  border: .5pt solid var(--sklearn-color-unfitted-level-3);\n",
       "}\n",
       "\n",
       ".sk-estimator-doc-link.fitted span {\n",
       "  /* fitted */\n",
       "  background: var(--sklearn-color-fitted-level-0);\n",
       "  border: var(--sklearn-color-fitted-level-3);\n",
       "}\n",
       "\n",
       ".sk-estimator-doc-link:hover span {\n",
       "  display: block;\n",
       "}\n",
       "\n",
       "/* \"?\"-specific style due to the `<a>` HTML tag */\n",
       "\n",
       "#sk-container-id-11 a.estimator_doc_link {\n",
       "  float: right;\n",
       "  font-size: 1rem;\n",
       "  line-height: 1em;\n",
       "  font-family: monospace;\n",
       "  background-color: var(--sklearn-color-background);\n",
       "  border-radius: 1rem;\n",
       "  height: 1rem;\n",
       "  width: 1rem;\n",
       "  text-decoration: none;\n",
       "  /* unfitted */\n",
       "  color: var(--sklearn-color-unfitted-level-1);\n",
       "  border: var(--sklearn-color-unfitted-level-1) 1pt solid;\n",
       "}\n",
       "\n",
       "#sk-container-id-11 a.estimator_doc_link.fitted {\n",
       "  /* fitted */\n",
       "  border: var(--sklearn-color-fitted-level-1) 1pt solid;\n",
       "  color: var(--sklearn-color-fitted-level-1);\n",
       "}\n",
       "\n",
       "/* On hover */\n",
       "#sk-container-id-11 a.estimator_doc_link:hover {\n",
       "  /* unfitted */\n",
       "  background-color: var(--sklearn-color-unfitted-level-3);\n",
       "  color: var(--sklearn-color-background);\n",
       "  text-decoration: none;\n",
       "}\n",
       "\n",
       "#sk-container-id-11 a.estimator_doc_link.fitted:hover {\n",
       "  /* fitted */\n",
       "  background-color: var(--sklearn-color-fitted-level-3);\n",
       "}\n",
       "</style><div id=\"sk-container-id-11\" class=\"sk-top-container\"><div class=\"sk-text-repr-fallback\"><pre>Pipeline(steps=[(&#x27;onehotencoder&#x27;, OneHotEncoder(handle_unknown=&#x27;ignore&#x27;)),\n",
       "                (&#x27;linearregression&#x27;, LinearRegression())])</pre><b>In a Jupyter environment, please rerun this cell to show the HTML representation or trust the notebook. <br />On GitHub, the HTML representation is unable to render, please try loading this page with nbviewer.org.</b></div><div class=\"sk-container\" hidden><div class=\"sk-item sk-dashed-wrapped\"><div class=\"sk-label-container\"><div class=\"sk-label fitted sk-toggleable\"><input class=\"sk-toggleable__control sk-hidden--visually\" id=\"sk-estimator-id-49\" type=\"checkbox\" ><label for=\"sk-estimator-id-49\" class=\"sk-toggleable__label fitted sk-toggleable__label-arrow fitted\">&nbsp;&nbsp;Pipeline<a class=\"sk-estimator-doc-link fitted\" rel=\"noreferrer\" target=\"_blank\" href=\"https://scikit-learn.org/1.5/modules/generated/sklearn.pipeline.Pipeline.html\">?<span>Documentation for Pipeline</span></a><span class=\"sk-estimator-doc-link fitted\">i<span>Fitted</span></span></label><div class=\"sk-toggleable__content fitted\"><pre>Pipeline(steps=[(&#x27;onehotencoder&#x27;, OneHotEncoder(handle_unknown=&#x27;ignore&#x27;)),\n",
       "                (&#x27;linearregression&#x27;, LinearRegression())])</pre></div> </div></div><div class=\"sk-serial\"><div class=\"sk-item\"><div class=\"sk-estimator fitted sk-toggleable\"><input class=\"sk-toggleable__control sk-hidden--visually\" id=\"sk-estimator-id-50\" type=\"checkbox\" ><label for=\"sk-estimator-id-50\" class=\"sk-toggleable__label fitted sk-toggleable__label-arrow fitted\">&nbsp;OneHotEncoder<a class=\"sk-estimator-doc-link fitted\" rel=\"noreferrer\" target=\"_blank\" href=\"https://scikit-learn.org/1.5/modules/generated/sklearn.preprocessing.OneHotEncoder.html\">?<span>Documentation for OneHotEncoder</span></a></label><div class=\"sk-toggleable__content fitted\"><pre>OneHotEncoder(handle_unknown=&#x27;ignore&#x27;)</pre></div> </div></div><div class=\"sk-item\"><div class=\"sk-estimator fitted sk-toggleable\"><input class=\"sk-toggleable__control sk-hidden--visually\" id=\"sk-estimator-id-51\" type=\"checkbox\" ><label for=\"sk-estimator-id-51\" class=\"sk-toggleable__label fitted sk-toggleable__label-arrow fitted\">&nbsp;LinearRegression<a class=\"sk-estimator-doc-link fitted\" rel=\"noreferrer\" target=\"_blank\" href=\"https://scikit-learn.org/1.5/modules/generated/sklearn.linear_model.LinearRegression.html\">?<span>Documentation for LinearRegression</span></a></label><div class=\"sk-toggleable__content fitted\"><pre>LinearRegression()</pre></div> </div></div></div></div></div></div>"
      ],
      "text/plain": [
       "Pipeline(steps=[('onehotencoder', OneHotEncoder(handle_unknown='ignore')),\n",
       "                ('linearregression', LinearRegression())])"
      ]
     },
     "execution_count": 93,
     "metadata": {},
     "output_type": "execute_result"
    }
   ],
   "source": [
    "clean_df = outages_df.dropna(subset=[target] + features)\n",
    "x = clean_df[features]\n",
    "y = clean_df[target]\n",
    "\n",
    "model_with_std = make_pipeline(\n",
    "    OneHotEncoder(handle_unknown='ignore'),  \n",
    "    LinearRegression()\n",
    ")\n",
    "model_with_std.fit(x, y)"
   ]
  },
  {
   "cell_type": "code",
   "execution_count": 94,
   "metadata": {},
   "outputs": [],
   "source": [
    "X_train, X_test, y_train, y_test = train_test_split(\n",
    "    x, y, test_size=0.2, random_state=42\n",
    ")"
   ]
  },
  {
   "cell_type": "code",
   "execution_count": 95,
   "metadata": {},
   "outputs": [
    {
     "data": {
      "text/html": [
       "<style>#sk-container-id-12 {\n",
       "  /* Definition of color scheme common for light and dark mode */\n",
       "  --sklearn-color-text: black;\n",
       "  --sklearn-color-line: gray;\n",
       "  /* Definition of color scheme for unfitted estimators */\n",
       "  --sklearn-color-unfitted-level-0: #fff5e6;\n",
       "  --sklearn-color-unfitted-level-1: #f6e4d2;\n",
       "  --sklearn-color-unfitted-level-2: #ffe0b3;\n",
       "  --sklearn-color-unfitted-level-3: chocolate;\n",
       "  /* Definition of color scheme for fitted estimators */\n",
       "  --sklearn-color-fitted-level-0: #f0f8ff;\n",
       "  --sklearn-color-fitted-level-1: #d4ebff;\n",
       "  --sklearn-color-fitted-level-2: #b3dbfd;\n",
       "  --sklearn-color-fitted-level-3: cornflowerblue;\n",
       "\n",
       "  /* Specific color for light theme */\n",
       "  --sklearn-color-text-on-default-background: var(--sg-text-color, var(--theme-code-foreground, var(--jp-content-font-color1, black)));\n",
       "  --sklearn-color-background: var(--sg-background-color, var(--theme-background, var(--jp-layout-color0, white)));\n",
       "  --sklearn-color-border-box: var(--sg-text-color, var(--theme-code-foreground, var(--jp-content-font-color1, black)));\n",
       "  --sklearn-color-icon: #696969;\n",
       "\n",
       "  @media (prefers-color-scheme: dark) {\n",
       "    /* Redefinition of color scheme for dark theme */\n",
       "    --sklearn-color-text-on-default-background: var(--sg-text-color, var(--theme-code-foreground, var(--jp-content-font-color1, white)));\n",
       "    --sklearn-color-background: var(--sg-background-color, var(--theme-background, var(--jp-layout-color0, #111)));\n",
       "    --sklearn-color-border-box: var(--sg-text-color, var(--theme-code-foreground, var(--jp-content-font-color1, white)));\n",
       "    --sklearn-color-icon: #878787;\n",
       "  }\n",
       "}\n",
       "\n",
       "#sk-container-id-12 {\n",
       "  color: var(--sklearn-color-text);\n",
       "}\n",
       "\n",
       "#sk-container-id-12 pre {\n",
       "  padding: 0;\n",
       "}\n",
       "\n",
       "#sk-container-id-12 input.sk-hidden--visually {\n",
       "  border: 0;\n",
       "  clip: rect(1px 1px 1px 1px);\n",
       "  clip: rect(1px, 1px, 1px, 1px);\n",
       "  height: 1px;\n",
       "  margin: -1px;\n",
       "  overflow: hidden;\n",
       "  padding: 0;\n",
       "  position: absolute;\n",
       "  width: 1px;\n",
       "}\n",
       "\n",
       "#sk-container-id-12 div.sk-dashed-wrapped {\n",
       "  border: 1px dashed var(--sklearn-color-line);\n",
       "  margin: 0 0.4em 0.5em 0.4em;\n",
       "  box-sizing: border-box;\n",
       "  padding-bottom: 0.4em;\n",
       "  background-color: var(--sklearn-color-background);\n",
       "}\n",
       "\n",
       "#sk-container-id-12 div.sk-container {\n",
       "  /* jupyter's `normalize.less` sets `[hidden] { display: none; }`\n",
       "     but bootstrap.min.css set `[hidden] { display: none !important; }`\n",
       "     so we also need the `!important` here to be able to override the\n",
       "     default hidden behavior on the sphinx rendered scikit-learn.org.\n",
       "     See: https://github.com/scikit-learn/scikit-learn/issues/21755 */\n",
       "  display: inline-block !important;\n",
       "  position: relative;\n",
       "}\n",
       "\n",
       "#sk-container-id-12 div.sk-text-repr-fallback {\n",
       "  display: none;\n",
       "}\n",
       "\n",
       "div.sk-parallel-item,\n",
       "div.sk-serial,\n",
       "div.sk-item {\n",
       "  /* draw centered vertical line to link estimators */\n",
       "  background-image: linear-gradient(var(--sklearn-color-text-on-default-background), var(--sklearn-color-text-on-default-background));\n",
       "  background-size: 2px 100%;\n",
       "  background-repeat: no-repeat;\n",
       "  background-position: center center;\n",
       "}\n",
       "\n",
       "/* Parallel-specific style estimator block */\n",
       "\n",
       "#sk-container-id-12 div.sk-parallel-item::after {\n",
       "  content: \"\";\n",
       "  width: 100%;\n",
       "  border-bottom: 2px solid var(--sklearn-color-text-on-default-background);\n",
       "  flex-grow: 1;\n",
       "}\n",
       "\n",
       "#sk-container-id-12 div.sk-parallel {\n",
       "  display: flex;\n",
       "  align-items: stretch;\n",
       "  justify-content: center;\n",
       "  background-color: var(--sklearn-color-background);\n",
       "  position: relative;\n",
       "}\n",
       "\n",
       "#sk-container-id-12 div.sk-parallel-item {\n",
       "  display: flex;\n",
       "  flex-direction: column;\n",
       "}\n",
       "\n",
       "#sk-container-id-12 div.sk-parallel-item:first-child::after {\n",
       "  align-self: flex-end;\n",
       "  width: 50%;\n",
       "}\n",
       "\n",
       "#sk-container-id-12 div.sk-parallel-item:last-child::after {\n",
       "  align-self: flex-start;\n",
       "  width: 50%;\n",
       "}\n",
       "\n",
       "#sk-container-id-12 div.sk-parallel-item:only-child::after {\n",
       "  width: 0;\n",
       "}\n",
       "\n",
       "/* Serial-specific style estimator block */\n",
       "\n",
       "#sk-container-id-12 div.sk-serial {\n",
       "  display: flex;\n",
       "  flex-direction: column;\n",
       "  align-items: center;\n",
       "  background-color: var(--sklearn-color-background);\n",
       "  padding-right: 1em;\n",
       "  padding-left: 1em;\n",
       "}\n",
       "\n",
       "\n",
       "/* Toggleable style: style used for estimator/Pipeline/ColumnTransformer box that is\n",
       "clickable and can be expanded/collapsed.\n",
       "- Pipeline and ColumnTransformer use this feature and define the default style\n",
       "- Estimators will overwrite some part of the style using the `sk-estimator` class\n",
       "*/\n",
       "\n",
       "/* Pipeline and ColumnTransformer style (default) */\n",
       "\n",
       "#sk-container-id-12 div.sk-toggleable {\n",
       "  /* Default theme specific background. It is overwritten whether we have a\n",
       "  specific estimator or a Pipeline/ColumnTransformer */\n",
       "  background-color: var(--sklearn-color-background);\n",
       "}\n",
       "\n",
       "/* Toggleable label */\n",
       "#sk-container-id-12 label.sk-toggleable__label {\n",
       "  cursor: pointer;\n",
       "  display: block;\n",
       "  width: 100%;\n",
       "  margin-bottom: 0;\n",
       "  padding: 0.5em;\n",
       "  box-sizing: border-box;\n",
       "  text-align: center;\n",
       "}\n",
       "\n",
       "#sk-container-id-12 label.sk-toggleable__label-arrow:before {\n",
       "  /* Arrow on the left of the label */\n",
       "  content: \"▸\";\n",
       "  float: left;\n",
       "  margin-right: 0.25em;\n",
       "  color: var(--sklearn-color-icon);\n",
       "}\n",
       "\n",
       "#sk-container-id-12 label.sk-toggleable__label-arrow:hover:before {\n",
       "  color: var(--sklearn-color-text);\n",
       "}\n",
       "\n",
       "/* Toggleable content - dropdown */\n",
       "\n",
       "#sk-container-id-12 div.sk-toggleable__content {\n",
       "  max-height: 0;\n",
       "  max-width: 0;\n",
       "  overflow: hidden;\n",
       "  text-align: left;\n",
       "  /* unfitted */\n",
       "  background-color: var(--sklearn-color-unfitted-level-0);\n",
       "}\n",
       "\n",
       "#sk-container-id-12 div.sk-toggleable__content.fitted {\n",
       "  /* fitted */\n",
       "  background-color: var(--sklearn-color-fitted-level-0);\n",
       "}\n",
       "\n",
       "#sk-container-id-12 div.sk-toggleable__content pre {\n",
       "  margin: 0.2em;\n",
       "  border-radius: 0.25em;\n",
       "  color: var(--sklearn-color-text);\n",
       "  /* unfitted */\n",
       "  background-color: var(--sklearn-color-unfitted-level-0);\n",
       "}\n",
       "\n",
       "#sk-container-id-12 div.sk-toggleable__content.fitted pre {\n",
       "  /* unfitted */\n",
       "  background-color: var(--sklearn-color-fitted-level-0);\n",
       "}\n",
       "\n",
       "#sk-container-id-12 input.sk-toggleable__control:checked~div.sk-toggleable__content {\n",
       "  /* Expand drop-down */\n",
       "  max-height: 200px;\n",
       "  max-width: 100%;\n",
       "  overflow: auto;\n",
       "}\n",
       "\n",
       "#sk-container-id-12 input.sk-toggleable__control:checked~label.sk-toggleable__label-arrow:before {\n",
       "  content: \"▾\";\n",
       "}\n",
       "\n",
       "/* Pipeline/ColumnTransformer-specific style */\n",
       "\n",
       "#sk-container-id-12 div.sk-label input.sk-toggleable__control:checked~label.sk-toggleable__label {\n",
       "  color: var(--sklearn-color-text);\n",
       "  background-color: var(--sklearn-color-unfitted-level-2);\n",
       "}\n",
       "\n",
       "#sk-container-id-12 div.sk-label.fitted input.sk-toggleable__control:checked~label.sk-toggleable__label {\n",
       "  background-color: var(--sklearn-color-fitted-level-2);\n",
       "}\n",
       "\n",
       "/* Estimator-specific style */\n",
       "\n",
       "/* Colorize estimator box */\n",
       "#sk-container-id-12 div.sk-estimator input.sk-toggleable__control:checked~label.sk-toggleable__label {\n",
       "  /* unfitted */\n",
       "  background-color: var(--sklearn-color-unfitted-level-2);\n",
       "}\n",
       "\n",
       "#sk-container-id-12 div.sk-estimator.fitted input.sk-toggleable__control:checked~label.sk-toggleable__label {\n",
       "  /* fitted */\n",
       "  background-color: var(--sklearn-color-fitted-level-2);\n",
       "}\n",
       "\n",
       "#sk-container-id-12 div.sk-label label.sk-toggleable__label,\n",
       "#sk-container-id-12 div.sk-label label {\n",
       "  /* The background is the default theme color */\n",
       "  color: var(--sklearn-color-text-on-default-background);\n",
       "}\n",
       "\n",
       "/* On hover, darken the color of the background */\n",
       "#sk-container-id-12 div.sk-label:hover label.sk-toggleable__label {\n",
       "  color: var(--sklearn-color-text);\n",
       "  background-color: var(--sklearn-color-unfitted-level-2);\n",
       "}\n",
       "\n",
       "/* Label box, darken color on hover, fitted */\n",
       "#sk-container-id-12 div.sk-label.fitted:hover label.sk-toggleable__label.fitted {\n",
       "  color: var(--sklearn-color-text);\n",
       "  background-color: var(--sklearn-color-fitted-level-2);\n",
       "}\n",
       "\n",
       "/* Estimator label */\n",
       "\n",
       "#sk-container-id-12 div.sk-label label {\n",
       "  font-family: monospace;\n",
       "  font-weight: bold;\n",
       "  display: inline-block;\n",
       "  line-height: 1.2em;\n",
       "}\n",
       "\n",
       "#sk-container-id-12 div.sk-label-container {\n",
       "  text-align: center;\n",
       "}\n",
       "\n",
       "/* Estimator-specific */\n",
       "#sk-container-id-12 div.sk-estimator {\n",
       "  font-family: monospace;\n",
       "  border: 1px dotted var(--sklearn-color-border-box);\n",
       "  border-radius: 0.25em;\n",
       "  box-sizing: border-box;\n",
       "  margin-bottom: 0.5em;\n",
       "  /* unfitted */\n",
       "  background-color: var(--sklearn-color-unfitted-level-0);\n",
       "}\n",
       "\n",
       "#sk-container-id-12 div.sk-estimator.fitted {\n",
       "  /* fitted */\n",
       "  background-color: var(--sklearn-color-fitted-level-0);\n",
       "}\n",
       "\n",
       "/* on hover */\n",
       "#sk-container-id-12 div.sk-estimator:hover {\n",
       "  /* unfitted */\n",
       "  background-color: var(--sklearn-color-unfitted-level-2);\n",
       "}\n",
       "\n",
       "#sk-container-id-12 div.sk-estimator.fitted:hover {\n",
       "  /* fitted */\n",
       "  background-color: var(--sklearn-color-fitted-level-2);\n",
       "}\n",
       "\n",
       "/* Specification for estimator info (e.g. \"i\" and \"?\") */\n",
       "\n",
       "/* Common style for \"i\" and \"?\" */\n",
       "\n",
       ".sk-estimator-doc-link,\n",
       "a:link.sk-estimator-doc-link,\n",
       "a:visited.sk-estimator-doc-link {\n",
       "  float: right;\n",
       "  font-size: smaller;\n",
       "  line-height: 1em;\n",
       "  font-family: monospace;\n",
       "  background-color: var(--sklearn-color-background);\n",
       "  border-radius: 1em;\n",
       "  height: 1em;\n",
       "  width: 1em;\n",
       "  text-decoration: none !important;\n",
       "  margin-left: 1ex;\n",
       "  /* unfitted */\n",
       "  border: var(--sklearn-color-unfitted-level-1) 1pt solid;\n",
       "  color: var(--sklearn-color-unfitted-level-1);\n",
       "}\n",
       "\n",
       ".sk-estimator-doc-link.fitted,\n",
       "a:link.sk-estimator-doc-link.fitted,\n",
       "a:visited.sk-estimator-doc-link.fitted {\n",
       "  /* fitted */\n",
       "  border: var(--sklearn-color-fitted-level-1) 1pt solid;\n",
       "  color: var(--sklearn-color-fitted-level-1);\n",
       "}\n",
       "\n",
       "/* On hover */\n",
       "div.sk-estimator:hover .sk-estimator-doc-link:hover,\n",
       ".sk-estimator-doc-link:hover,\n",
       "div.sk-label-container:hover .sk-estimator-doc-link:hover,\n",
       ".sk-estimator-doc-link:hover {\n",
       "  /* unfitted */\n",
       "  background-color: var(--sklearn-color-unfitted-level-3);\n",
       "  color: var(--sklearn-color-background);\n",
       "  text-decoration: none;\n",
       "}\n",
       "\n",
       "div.sk-estimator.fitted:hover .sk-estimator-doc-link.fitted:hover,\n",
       ".sk-estimator-doc-link.fitted:hover,\n",
       "div.sk-label-container:hover .sk-estimator-doc-link.fitted:hover,\n",
       ".sk-estimator-doc-link.fitted:hover {\n",
       "  /* fitted */\n",
       "  background-color: var(--sklearn-color-fitted-level-3);\n",
       "  color: var(--sklearn-color-background);\n",
       "  text-decoration: none;\n",
       "}\n",
       "\n",
       "/* Span, style for the box shown on hovering the info icon */\n",
       ".sk-estimator-doc-link span {\n",
       "  display: none;\n",
       "  z-index: 9999;\n",
       "  position: relative;\n",
       "  font-weight: normal;\n",
       "  right: .2ex;\n",
       "  padding: .5ex;\n",
       "  margin: .5ex;\n",
       "  width: min-content;\n",
       "  min-width: 20ex;\n",
       "  max-width: 50ex;\n",
       "  color: var(--sklearn-color-text);\n",
       "  box-shadow: 2pt 2pt 4pt #999;\n",
       "  /* unfitted */\n",
       "  background: var(--sklearn-color-unfitted-level-0);\n",
       "  border: .5pt solid var(--sklearn-color-unfitted-level-3);\n",
       "}\n",
       "\n",
       ".sk-estimator-doc-link.fitted span {\n",
       "  /* fitted */\n",
       "  background: var(--sklearn-color-fitted-level-0);\n",
       "  border: var(--sklearn-color-fitted-level-3);\n",
       "}\n",
       "\n",
       ".sk-estimator-doc-link:hover span {\n",
       "  display: block;\n",
       "}\n",
       "\n",
       "/* \"?\"-specific style due to the `<a>` HTML tag */\n",
       "\n",
       "#sk-container-id-12 a.estimator_doc_link {\n",
       "  float: right;\n",
       "  font-size: 1rem;\n",
       "  line-height: 1em;\n",
       "  font-family: monospace;\n",
       "  background-color: var(--sklearn-color-background);\n",
       "  border-radius: 1rem;\n",
       "  height: 1rem;\n",
       "  width: 1rem;\n",
       "  text-decoration: none;\n",
       "  /* unfitted */\n",
       "  color: var(--sklearn-color-unfitted-level-1);\n",
       "  border: var(--sklearn-color-unfitted-level-1) 1pt solid;\n",
       "}\n",
       "\n",
       "#sk-container-id-12 a.estimator_doc_link.fitted {\n",
       "  /* fitted */\n",
       "  border: var(--sklearn-color-fitted-level-1) 1pt solid;\n",
       "  color: var(--sklearn-color-fitted-level-1);\n",
       "}\n",
       "\n",
       "/* On hover */\n",
       "#sk-container-id-12 a.estimator_doc_link:hover {\n",
       "  /* unfitted */\n",
       "  background-color: var(--sklearn-color-unfitted-level-3);\n",
       "  color: var(--sklearn-color-background);\n",
       "  text-decoration: none;\n",
       "}\n",
       "\n",
       "#sk-container-id-12 a.estimator_doc_link.fitted:hover {\n",
       "  /* fitted */\n",
       "  background-color: var(--sklearn-color-fitted-level-3);\n",
       "}\n",
       "</style><div id=\"sk-container-id-12\" class=\"sk-top-container\"><div class=\"sk-text-repr-fallback\"><pre>Pipeline(steps=[(&#x27;onehotencoder&#x27;, OneHotEncoder(handle_unknown=&#x27;ignore&#x27;)),\n",
       "                (&#x27;linearregression&#x27;, LinearRegression())])</pre><b>In a Jupyter environment, please rerun this cell to show the HTML representation or trust the notebook. <br />On GitHub, the HTML representation is unable to render, please try loading this page with nbviewer.org.</b></div><div class=\"sk-container\" hidden><div class=\"sk-item sk-dashed-wrapped\"><div class=\"sk-label-container\"><div class=\"sk-label fitted sk-toggleable\"><input class=\"sk-toggleable__control sk-hidden--visually\" id=\"sk-estimator-id-52\" type=\"checkbox\" ><label for=\"sk-estimator-id-52\" class=\"sk-toggleable__label fitted sk-toggleable__label-arrow fitted\">&nbsp;&nbsp;Pipeline<a class=\"sk-estimator-doc-link fitted\" rel=\"noreferrer\" target=\"_blank\" href=\"https://scikit-learn.org/1.5/modules/generated/sklearn.pipeline.Pipeline.html\">?<span>Documentation for Pipeline</span></a><span class=\"sk-estimator-doc-link fitted\">i<span>Fitted</span></span></label><div class=\"sk-toggleable__content fitted\"><pre>Pipeline(steps=[(&#x27;onehotencoder&#x27;, OneHotEncoder(handle_unknown=&#x27;ignore&#x27;)),\n",
       "                (&#x27;linearregression&#x27;, LinearRegression())])</pre></div> </div></div><div class=\"sk-serial\"><div class=\"sk-item\"><div class=\"sk-estimator fitted sk-toggleable\"><input class=\"sk-toggleable__control sk-hidden--visually\" id=\"sk-estimator-id-53\" type=\"checkbox\" ><label for=\"sk-estimator-id-53\" class=\"sk-toggleable__label fitted sk-toggleable__label-arrow fitted\">&nbsp;OneHotEncoder<a class=\"sk-estimator-doc-link fitted\" rel=\"noreferrer\" target=\"_blank\" href=\"https://scikit-learn.org/1.5/modules/generated/sklearn.preprocessing.OneHotEncoder.html\">?<span>Documentation for OneHotEncoder</span></a></label><div class=\"sk-toggleable__content fitted\"><pre>OneHotEncoder(handle_unknown=&#x27;ignore&#x27;)</pre></div> </div></div><div class=\"sk-item\"><div class=\"sk-estimator fitted sk-toggleable\"><input class=\"sk-toggleable__control sk-hidden--visually\" id=\"sk-estimator-id-54\" type=\"checkbox\" ><label for=\"sk-estimator-id-54\" class=\"sk-toggleable__label fitted sk-toggleable__label-arrow fitted\">&nbsp;LinearRegression<a class=\"sk-estimator-doc-link fitted\" rel=\"noreferrer\" target=\"_blank\" href=\"https://scikit-learn.org/1.5/modules/generated/sklearn.linear_model.LinearRegression.html\">?<span>Documentation for LinearRegression</span></a></label><div class=\"sk-toggleable__content fitted\"><pre>LinearRegression()</pre></div> </div></div></div></div></div></div>"
      ],
      "text/plain": [
       "Pipeline(steps=[('onehotencoder', OneHotEncoder(handle_unknown='ignore')),\n",
       "                ('linearregression', LinearRegression())])"
      ]
     },
     "execution_count": 95,
     "metadata": {},
     "output_type": "execute_result"
    }
   ],
   "source": [
    "model_with_std.fit(X_train, y_train)"
   ]
  },
  {
   "cell_type": "code",
   "execution_count": 96,
   "metadata": {},
   "outputs": [
    {
     "name": "stdout",
     "output_type": "stream",
     "text": [
      "=== Evaluation Metrics ===\n",
      "MAE: 2823.25 minutes\n",
      "RMSE: 7388.26 minutes\n",
      "R²: 0.1081\n"
     ]
    }
   ],
   "source": [
    "y_pred = model_with_std.predict(X_test)\n",
    "\n",
    "print(\"=== Evaluation Metrics ===\")\n",
    "print(f\"MAE: {mean_absolute_error(y_test, y_pred):.2f} minutes\")\n",
    "print(f\"RMSE: {root_mean_squared_error(y_test, y_pred):.2f} minutes\")\n",
    "print(f\"R²: {r2_score(y_test, y_pred):.4f}\")"
   ]
  },
  {
   "cell_type": "code",
   "execution_count": null,
   "metadata": {},
   "outputs": [],
   "source": []
  },
  {
   "cell_type": "markdown",
   "metadata": {},
   "source": [
    "## Step 7: Final Model"
   ]
  },
  {
   "cell_type": "markdown",
   "metadata": {},
   "source": [
    "Changes added to the baseline model to improve it: \n",
    "---\n",
    "###  1. We added two new features to give our model more contextual info:\n",
    "\n",
    "- **START_HOUR**  \n",
    "  - This was taken from the `OUTAGE.START` datetime column to represent the hour of the day that an outage would begin  \n",
    "  - This is useful because in real life, outages that start at night (e.g., 4 AM) may be resolved slower than those during daytime hours because more people are up and moving around to attend to the issue.\n",
    "\n",
    "- **POPDEN_URBAN (Transformed)**  \n",
    "  - This is a numeric column representing the urban population density of the affected area.  \n",
    "  - We transformed it using a **QuantileTransformer**, which converts the original skewed distribution into a uniform distribution because it helps spread out the values evenly between 0 and 1. This makes it easier to recognize the relationships even when the original data is not as even. \n",
    "\n",
    "\n",
    "---\n",
    "\n",
    "###  2. Preprocessing Updates\n",
    "\n",
    "We improved our preprocessing pipeline to better handle the different types of features:\n",
    "\n",
    "- **StandardScaler** was applied to:\n",
    "  - `MONTH`, `YEAR`, and our new `START_HOUR` column.\n",
    "  - This standardizes the numeric values so they have a mean of 0 and standard deviation of 1, helping linear models work more effectively.\n",
    "\n",
    "- **QuantileTransformer** was applied to:\n",
    "  - `POPDEN_URBAN`, to reduce skew and improve learnability.\n",
    "\n",
    "---\n",
    "\n",
    "###  Consistent Train/Test Split\n",
    "\n",
    "We used the **same train/test split** (`random_state = 42`) for both the baseline and final models.  \n",
    "This ensures our performance improvements come from better feature engineering and preprocessing — not from differences in the data used for evaluation.\n",
    "\n",
    "---"
   ]
  },
  {
   "cell_type": "code",
   "execution_count": 97,
   "metadata": {
    "ExecuteTime": {
     "end_time": "2019-10-31T23:36:28.662099Z",
     "start_time": "2019-10-31T23:36:28.660016Z"
    }
   },
   "outputs": [],
   "source": [
    "def root_mean_squared_error(y_true, y_pred):\n",
    "    return np.sqrt(mean_squared_error(y_true, y_pred))"
   ]
  },
  {
   "cell_type": "code",
   "execution_count": 98,
   "metadata": {},
   "outputs": [],
   "source": [
    "clean_df = outages_df.copy()\n",
    "clean_df['START_HOUR'] = clean_df['OUTAGE.START'].dt.hour\n",
    "clean_df['OUTAGE.DURATION'] = pd.to_numeric(clean_df['OUTAGE.DURATION'], errors='coerce')\n",
    "\n",
    "required_columns = [\n",
    "    'CAUSE.CATEGORY', 'NERC.REGION', 'U.S._STATE',\n",
    "    'MONTH', 'YEAR', 'POPDEN_URBAN', 'START_HOUR', 'OUTAGE.DURATION'\n",
    "]\n",
    "clean_df = clean_df.dropna(subset=required_columns)\n",
    "\n",
    "features_final = [\n",
    "    'CAUSE.CATEGORY', 'NERC.REGION', 'U.S._STATE',\n",
    "    'MONTH', 'YEAR', 'START_HOUR', 'POPDEN_URBAN'\n",
    "]\n",
    "x = clean_df[features_final]\n",
    "y = clean_df['OUTAGE.DURATION']"
   ]
  },
  {
   "cell_type": "code",
   "execution_count": 99,
   "metadata": {},
   "outputs": [],
   "source": [
    "categorical_cols = ['CAUSE.CATEGORY', 'NERC.REGION', 'U.S._STATE']\n",
    "numerical_cols = ['MONTH', 'YEAR', 'START_HOUR']\n",
    "quantile_cols = ['POPDEN_URBAN']\n",
    "\n",
    "preprocessor = make_column_transformer(\n",
    "    (OneHotEncoder(handle_unknown='ignore'), categorical_cols),\n",
    "    (StandardScaler(), numerical_cols),\n",
    "    (QuantileTransformer(output_distribution='uniform'), quantile_cols)\n",
    ")"
   ]
  },
  {
   "cell_type": "code",
   "execution_count": 100,
   "metadata": {},
   "outputs": [],
   "source": [
    "final_model = Pipeline([\n",
    "    ('preprocessor', preprocessor),\n",
    "    ('regressor', LinearRegression())\n",
    "])"
   ]
  },
  {
   "cell_type": "code",
   "execution_count": 101,
   "metadata": {},
   "outputs": [],
   "source": [
    "X_train, X_test, y_train, y_test = train_test_split(\n",
    "    x, y, test_size=0.2, random_state=42\n",
    ")\n",
    "\n",
    "final_model.fit(X_train, y_train)\n",
    "y_pred = final_model.predict(X_test)"
   ]
  },
  {
   "cell_type": "code",
   "execution_count": 102,
   "metadata": {},
   "outputs": [
    {
     "name": "stdout",
     "output_type": "stream",
     "text": [
      "=== Final Model Evaluation Metrics ===\n",
      "MAE: 2622.27 minutes\n",
      "RMSE: 7221.41 minutes\n",
      "R²: 0.1501\n"
     ]
    },
    {
     "data": {
      "image/png": "[encoded data removed]",
      "text/plain": [
       "<Figure size 1000x600 with 1 Axes>"
      ]
     },
     "metadata": {},
     "output_type": "display_data"
    }
   ],
   "source": [
    "#output \n",
    "\n",
    "print(\"=== Final Model Evaluation Metrics ===\")\n",
    "print(f\"MAE: {mean_absolute_error(y_test, y_pred):.2f} minutes\")\n",
    "print(f\"RMSE: {root_mean_squared_error(y_test, y_pred):.2f} minutes\")\n",
    "print(f\"R²: {r2_score(y_test, y_pred):.4f}\")\n",
    "\n",
    "residuals = y_test - y_pred\n",
    "mean_resid = residuals.mean()\n",
    "\n",
    "plt.figure(figsize=(10, 6))\n",
    "sns.histplot(residuals, bins=40, kde=True, color='tomato', edgecolor='black')\n",
    "\n",
    "plt.axvline(0, color='black', linestyle='--', linewidth=1.5, label='Zero Error')\n",
    "plt.axvline(mean_resid, color='red', linestyle='--', linewidth=1.5, label=f'Mean Residual = {mean_resid:.1f}')\n",
    "\n",
    "plt.title(\"Residuals Histogram\", fontsize=16)\n",
    "plt.xlabel(\"Prediction Error (minutes)\", fontsize=12)\n",
    "plt.ylabel(\"Frequency\", fontsize=12)\n",
    "plt.legend()\n",
    "plt.grid(True, linestyle='--', alpha=0.6)\n",
    "plt.tight_layout()\n",
    "\n",
    "plt.xlim(-10000, 20000)\n",
    "\n",
    "plt.show()"
   ]
  },
  {
   "cell_type": "markdown",
   "metadata": {},
   "source": [
    "### Did we improve our baseline model? \n",
    "\n",
    "These modifications gave our final model more relevant and well-scaled information, allowing it to make more accurate predictions and we know this because our  \n",
    " **MAE and RMSE decreased**, and **R² increased**, indicating improved performance over the baseline."
   ]
  },
  {
   "cell_type": "markdown",
   "metadata": {},
   "source": [
    "## Step 8: Fairness Analysis"
   ]
  },
  {
   "cell_type": "markdown",
   "metadata": {},
   "source": [
    "### Does the Model Perform Worse depending on the Cause of the Outage?\n",
    "\n",
    "We are evaluating fairness in our final regression model by comparing its prediction error (using RMSE) across two groups based on the `CAUSE.CATEGORY` column:\n",
    "\n",
    "- Group X: Outages caused by **Severe Weather**\n",
    "- Group Y: Outages caused by **Equipment Failure**\n",
    "\n",
    "#### Null Hypothesis (H₀):\n",
    "Our model is **fair**. The RMSE is similar for both groups, and any observed difference in prediction error is due to random chance.\n",
    "\n",
    "#### Alternative Hypothesis (H₁):\n",
    "Our model is **unfair**. The RMSE is **higher for the Severe Weather group** compared to the Equipment Failure group, indicating worse model performance for that group."
   ]
  },
  {
   "cell_type": "code",
   "execution_count": 103,
   "metadata": {
    "ExecuteTime": {
     "end_time": "2019-10-31T23:36:28.666489Z",
     "start_time": "2019-10-31T23:36:28.664381Z"
    }
   },
   "outputs": [],
   "source": [
    "def rmse(y_true, y_pred):\n",
    "    return np.sqrt(mean_squared_error(y_true, y_pred))"
   ]
  },
  {
   "cell_type": "code",
   "execution_count": 104,
   "metadata": {},
   "outputs": [],
   "source": [
    "X_raw = clean_df.loc[X_test.index].copy() \n",
    "y_true = y_test.copy()\n",
    "y_pred = final_model.predict(X_test)\n",
    "\n",
    "fair_df = X_raw[['CAUSE.CATEGORY']].copy()\n",
    "fair_df['y_true'] = y_true\n",
    "fair_df['y_pred'] = y_pred\n",
    "\n",
    "fair_df['CAUSE.CATEGORY'] = fair_df['CAUSE.CATEGORY'].str.lower().str.strip()\n",
    "\n",
    "fair_df = fair_df[fair_df['CAUSE.CATEGORY'].isin(['severe weather', 'equipment failure'])].copy()\n"
   ]
  },
  {
   "cell_type": "code",
   "execution_count": 105,
   "metadata": {},
   "outputs": [
    {
     "name": "stdout",
     "output_type": "stream",
     "text": [
      "Group counts:\n",
      " CAUSE.CATEGORY\n",
      "severe weather       149\n",
      "equipment failure     10\n",
      "Name: count, dtype: int64\n",
      "Observed RMSE Difference (Severe - Equipment): 3077.0183\n"
     ]
    }
   ],
   "source": [
    "print(\"Group counts:\\n\", fair_df['CAUSE.CATEGORY'].value_counts())\n",
    "\n",
    "rmse_severe = rmse(\n",
    "    fair_df[fair_df['CAUSE.CATEGORY'] == 'severe weather']['y_true'],\n",
    "    fair_df[fair_df['CAUSE.CATEGORY'] == 'severe weather']['y_pred']\n",
    ")\n",
    "\n",
    "rmse_equipment = rmse(\n",
    "    fair_df[fair_df['CAUSE.CATEGORY'] == 'equipment failure']['y_true'],\n",
    "    fair_df[fair_df['CAUSE.CATEGORY'] == 'equipment failure']['y_pred']\n",
    ")\n",
    "\n",
    "observed_diff = rmse_severe - rmse_equipment\n",
    "print(f\"Observed RMSE Difference (Severe - Equipment): {observed_diff:.4f}\")"
   ]
  },
  {
   "cell_type": "code",
   "execution_count": 106,
   "metadata": {},
   "outputs": [
    {
     "name": "stdout",
     "output_type": "stream",
     "text": [
      "P-value (based on 725 valid reps): 0.0938\n"
     ]
    }
   ],
   "source": [
    "n_reps = 1000\n",
    "diffs = []\n",
    "valid_reps = 0 \n",
    "\n",
    "for _ in range(n_reps):\n",
    "   \n",
    "    shuffled = fair_df['CAUSE.CATEGORY'].sample(frac=1, replace=False).reset_index(drop=True)\n",
    "    fair_df['shuffled_group'] = shuffled\n",
    "\n",
    " \n",
    "    grp_severe = fair_df[fair_df['shuffled_group'] == 'severe weather']\n",
    "    grp_equipment = fair_df[fair_df['shuffled_group'] == 'equipment failure']\n",
    "\n",
    "    if len(grp_severe) == 0 or len(grp_equipment) == 0:\n",
    "        continue\n",
    "\n",
    "    rmse_a = rmse(grp_severe['y_true'], grp_severe['y_pred'])\n",
    "    rmse_b = rmse(grp_equipment['y_true'], grp_equipment['y_pred'])\n",
    "\n",
    "    diffs.append(rmse_a - rmse_b)\n",
    "    valid_reps += 1\n",
    "\n",
    "if valid_reps == 0:\n",
    "    raise ValueError(\"No valid permutation iterations: check your group labels and sample size.\")\n",
    "\n",
    "diffs = np.array(diffs)\n",
    "p_value = np.mean(diffs >= observed_diff)\n",
    "\n",
    "print(f\"P-value (based on {valid_reps} valid reps): {p_value:.4f}\")\n"
   ]
  },
  {
   "cell_type": "code",
   "execution_count": 107,
   "metadata": {},
   "outputs": [
    {
     "data": {
      "image/png": "[encoded data removed]",
      "text/plain": [
       "<Figure size 1000x600 with 1 Axes>"
      ]
     },
     "metadata": {},
     "output_type": "display_data"
    }
   ],
   "source": [
    "plt.figure(figsize=(10, 6))\n",
    "sns.histplot(diffs, bins=30, edgecolor='black', color='coral')\n",
    "\n",
    "plt.axvline(observed_diff, color='red', linestyle='--', linewidth=2, label=f'Observed Diff = {observed_diff:.1f}')\n",
    "plt.axvline(np.mean(diffs), color='black', linestyle='--', linewidth=1, label='Null Mean')\n",
    "\n",
    "plt.title(\"Permutation Test: RMSE Difference\\nSevere Weather vs. Equipment Failure\", fontsize=16)\n",
    "plt.xlabel(\"RMSE Difference (Severe - Equipment)\", fontsize=12)\n",
    "plt.ylabel(\"Frequency\", fontsize=12)\n",
    "plt.legend()\n",
    "plt.grid(True, linestyle='--', alpha=0.5)\n",
    "plt.tight_layout()\n",
    "\n",
    "plt.xlim(min(-10000, min(diffs)), max(4000, max(diffs)))\n",
    "\n",
    "plt.show()"
   ]
  },
  {
   "cell_type": "markdown",
   "metadata": {},
   "source": [
    "## What can we conclude from this graph? \n",
    "\n",
    "We compared our model’s performance on outages caused by:\n",
    "- **Severe Weather**\n",
    "- **Equipment Failure**\n",
    "\n",
    "Using RMSE as the error metric and a permutation test, we found:\n",
    "\n",
    "- **Observed RMSE Difference**: 3077.0 minutes (Severe – Equipment)\n",
    "- **P-value**: 0.0933\n",
    "\n",
    "### Conclusion:\n",
    "The model appears to perform worse for severe weather outages, with RMSE over 3,000 minutes higher on average. While the result is not statistically significant at the 0.05 level, the relatively low p-value suggests a possible performance disparity worth further investigation in future modeling."
   ]
  }
 ],
 "metadata": {
  "kernelspec": {
   "display_name": "dsc80",
   "language": "python",
   "name": "python3"
  },
  "language_info": {
   "codemirror_mode": {
    "name": "ipython",
    "version": 3
   },
   "file_extension": ".py",
   "mimetype": "text/x-python",
   "name": "python",
   "nbconvert_exporter": "python",
   "pygments_lexer": "ipython3",
   "version": "3.12.10"
  }
 },
 "nbformat": 4,
 "nbformat_minor": 4
}
