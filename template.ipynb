{
 "cells": [
  {
   "cell_type": "markdown",
   "metadata": {},
   "source": [
    "# Power Outage Data Analysis\n",
    "\n",
    "**Name(s)**: Susana Haing, Sonali Singh\n",
    "\n",
    "**Website Link**: (your website link)"
   ]
  },
  {
   "cell_type": "code",
   "execution_count": 2,
   "metadata": {
    "ExecuteTime": {
     "end_time": "2019-10-31T23:36:28.652554Z",
     "start_time": "2019-10-31T23:36:27.180520Z"
    }
   },
   "outputs": [],
   "source": [
    "import pandas as pd\n",
    "import numpy as np\n",
    "from pathlib import Path\n",
    "\n",
    "import plotly.express as px\n",
    "pd.options.plotting.backend = 'plotly'\n",
    "\n",
    "# from dsc80_utils import * # Feel free to uncomment and use this."
   ]
  },
  {
   "cell_type": "markdown",
   "metadata": {},
   "source": [
    "## Step 1: Introduction"
   ]
  },
  {
   "cell_type": "code",
   "execution_count": 3,
   "metadata": {},
   "outputs": [],
   "source": [
    "# TODO"
   ]
  },
  {
   "cell_type": "markdown",
   "metadata": {},
   "source": [
    "## Step 2: Data Cleaning and Exploratory Data Analysis"
   ]
  },
  {
   "cell_type": "code",
   "execution_count": 4,
   "metadata": {
    "ExecuteTime": {
     "end_time": "2019-10-31T23:36:28.657068Z",
     "start_time": "2019-10-31T23:36:28.654650Z"
    }
   },
   "outputs": [],
   "source": [
    "outage = pd.read_csv('outage.csv')"
   ]
  },
  {
   "cell_type": "code",
   "execution_count": 5,
   "metadata": {},
   "outputs": [
    {
     "data": {
      "text/html": [
       "<div>\n",
       "<style scoped>\n",
       "    .dataframe tbody tr th:only-of-type {\n",
       "        vertical-align: middle;\n",
       "    }\n",
       "\n",
       "    .dataframe tbody tr th {\n",
       "        vertical-align: top;\n",
       "    }\n",
       "\n",
       "    .dataframe thead th {\n",
       "        text-align: right;\n",
       "    }\n",
       "</style>\n",
       "<table border=\"1\" class=\"dataframe\">\n",
       "  <thead>\n",
       "    <tr style=\"text-align: right;\">\n",
       "      <th></th>\n",
       "      <th>YEAR</th>\n",
       "      <th>MONTH</th>\n",
       "      <th>U.S._STATE</th>\n",
       "      <th>NERC.REGION</th>\n",
       "      <th>CLIMATE.REGION</th>\n",
       "      <th>ANOMALY.LEVEL</th>\n",
       "      <th>OUTAGE.START.DATE</th>\n",
       "      <th>OUTAGE.START.TIME</th>\n",
       "      <th>OUTAGE.RESTORATION.DATE</th>\n",
       "      <th>OUTAGE.RESTORATION.TIME</th>\n",
       "      <th>CAUSE.CATEGORY</th>\n",
       "      <th>OUTAGE.DURATION</th>\n",
       "      <th>DEMAND.LOSS.MW</th>\n",
       "      <th>CUSTOMERS.AFFECTED</th>\n",
       "      <th>TOTAL.PRICE</th>\n",
       "      <th>TOTAL.SALES</th>\n",
       "      <th>TOTAL.CUSTOMERS</th>\n",
       "      <th>POPPCT_URBAN</th>\n",
       "      <th>POPDEN_URBAN</th>\n",
       "      <th>AREAPCT_URBAN</th>\n",
       "    </tr>\n",
       "  </thead>\n",
       "  <tbody>\n",
       "    <tr>\n",
       "      <th>0</th>\n",
       "      <td>NaN</td>\n",
       "      <td>NaN</td>\n",
       "      <td>NaN</td>\n",
       "      <td>NaN</td>\n",
       "      <td>NaN</td>\n",
       "      <td>numeric</td>\n",
       "      <td>Day of the week, Month Day, Year</td>\n",
       "      <td>Hour:Minute:Second (AM / PM)</td>\n",
       "      <td>Day of the week, Month Day, Year</td>\n",
       "      <td>Hour:Minute:Second (AM / PM)</td>\n",
       "      <td>NaN</td>\n",
       "      <td>mins</td>\n",
       "      <td>Megawatt</td>\n",
       "      <td>NaN</td>\n",
       "      <td>cents / kilowatt-hour</td>\n",
       "      <td>Megawatt-hour</td>\n",
       "      <td>NaN</td>\n",
       "      <td>%</td>\n",
       "      <td>persons per square mile</td>\n",
       "      <td>%</td>\n",
       "    </tr>\n",
       "    <tr>\n",
       "      <th>1</th>\n",
       "      <td>2011.0</td>\n",
       "      <td>7.0</td>\n",
       "      <td>Minnesota</td>\n",
       "      <td>MRO</td>\n",
       "      <td>East North Central</td>\n",
       "      <td>-0.3</td>\n",
       "      <td>Friday, July 1, 2011</td>\n",
       "      <td>5:00:00 PM</td>\n",
       "      <td>Sunday, July 3, 2011</td>\n",
       "      <td>8:00:00 PM</td>\n",
       "      <td>severe weather</td>\n",
       "      <td>3060</td>\n",
       "      <td>NaN</td>\n",
       "      <td>70000.0</td>\n",
       "      <td>9.28</td>\n",
       "      <td>6562520</td>\n",
       "      <td>2595696.0</td>\n",
       "      <td>73.27</td>\n",
       "      <td>2279</td>\n",
       "      <td>2.14</td>\n",
       "    </tr>\n",
       "    <tr>\n",
       "      <th>2</th>\n",
       "      <td>2014.0</td>\n",
       "      <td>5.0</td>\n",
       "      <td>Minnesota</td>\n",
       "      <td>MRO</td>\n",
       "      <td>East North Central</td>\n",
       "      <td>-0.1</td>\n",
       "      <td>Sunday, May 11, 2014</td>\n",
       "      <td>6:38:00 PM</td>\n",
       "      <td>Sunday, May 11, 2014</td>\n",
       "      <td>6:39:00 PM</td>\n",
       "      <td>intentional attack</td>\n",
       "      <td>1</td>\n",
       "      <td>NaN</td>\n",
       "      <td>NaN</td>\n",
       "      <td>9.28</td>\n",
       "      <td>5284231</td>\n",
       "      <td>2640737.0</td>\n",
       "      <td>73.27</td>\n",
       "      <td>2279</td>\n",
       "      <td>2.14</td>\n",
       "    </tr>\n",
       "    <tr>\n",
       "      <th>3</th>\n",
       "      <td>2010.0</td>\n",
       "      <td>10.0</td>\n",
       "      <td>Minnesota</td>\n",
       "      <td>MRO</td>\n",
       "      <td>East North Central</td>\n",
       "      <td>-1.5</td>\n",
       "      <td>Tuesday, October 26, 2010</td>\n",
       "      <td>8:00:00 PM</td>\n",
       "      <td>Thursday, October 28, 2010</td>\n",
       "      <td>10:00:00 PM</td>\n",
       "      <td>severe weather</td>\n",
       "      <td>3000</td>\n",
       "      <td>NaN</td>\n",
       "      <td>70000.0</td>\n",
       "      <td>8.15</td>\n",
       "      <td>5222116</td>\n",
       "      <td>2586905.0</td>\n",
       "      <td>73.27</td>\n",
       "      <td>2279</td>\n",
       "      <td>2.14</td>\n",
       "    </tr>\n",
       "    <tr>\n",
       "      <th>4</th>\n",
       "      <td>2012.0</td>\n",
       "      <td>6.0</td>\n",
       "      <td>Minnesota</td>\n",
       "      <td>MRO</td>\n",
       "      <td>East North Central</td>\n",
       "      <td>-0.1</td>\n",
       "      <td>Tuesday, June 19, 2012</td>\n",
       "      <td>4:30:00 AM</td>\n",
       "      <td>Wednesday, June 20, 2012</td>\n",
       "      <td>11:00:00 PM</td>\n",
       "      <td>severe weather</td>\n",
       "      <td>2550</td>\n",
       "      <td>NaN</td>\n",
       "      <td>68200.0</td>\n",
       "      <td>9.19</td>\n",
       "      <td>5787064</td>\n",
       "      <td>2606813.0</td>\n",
       "      <td>73.27</td>\n",
       "      <td>2279</td>\n",
       "      <td>2.14</td>\n",
       "    </tr>\n",
       "  </tbody>\n",
       "</table>\n",
       "</div>"
      ],
      "text/plain": [
       "     YEAR  MONTH U.S._STATE NERC.REGION      CLIMATE.REGION ANOMALY.LEVEL  \\\n",
       "0     NaN    NaN        NaN         NaN                 NaN       numeric   \n",
       "1  2011.0    7.0  Minnesota         MRO  East North Central          -0.3   \n",
       "2  2014.0    5.0  Minnesota         MRO  East North Central          -0.1   \n",
       "3  2010.0   10.0  Minnesota         MRO  East North Central          -1.5   \n",
       "4  2012.0    6.0  Minnesota         MRO  East North Central          -0.1   \n",
       "\n",
       "                  OUTAGE.START.DATE             OUTAGE.START.TIME  \\\n",
       "0  Day of the week, Month Day, Year  Hour:Minute:Second (AM / PM)   \n",
       "1              Friday, July 1, 2011                    5:00:00 PM   \n",
       "2              Sunday, May 11, 2014                    6:38:00 PM   \n",
       "3         Tuesday, October 26, 2010                    8:00:00 PM   \n",
       "4            Tuesday, June 19, 2012                    4:30:00 AM   \n",
       "\n",
       "            OUTAGE.RESTORATION.DATE       OUTAGE.RESTORATION.TIME  \\\n",
       "0  Day of the week, Month Day, Year  Hour:Minute:Second (AM / PM)   \n",
       "1              Sunday, July 3, 2011                    8:00:00 PM   \n",
       "2              Sunday, May 11, 2014                    6:39:00 PM   \n",
       "3        Thursday, October 28, 2010                   10:00:00 PM   \n",
       "4          Wednesday, June 20, 2012                   11:00:00 PM   \n",
       "\n",
       "       CAUSE.CATEGORY OUTAGE.DURATION DEMAND.LOSS.MW  CUSTOMERS.AFFECTED  \\\n",
       "0                 NaN            mins       Megawatt                 NaN   \n",
       "1      severe weather            3060            NaN             70000.0   \n",
       "2  intentional attack               1            NaN                 NaN   \n",
       "3      severe weather            3000            NaN             70000.0   \n",
       "4      severe weather            2550            NaN             68200.0   \n",
       "\n",
       "             TOTAL.PRICE    TOTAL.SALES  TOTAL.CUSTOMERS POPPCT_URBAN  \\\n",
       "0  cents / kilowatt-hour  Megawatt-hour              NaN            %   \n",
       "1                   9.28        6562520        2595696.0        73.27   \n",
       "2                   9.28        5284231        2640737.0        73.27   \n",
       "3                   8.15        5222116        2586905.0        73.27   \n",
       "4                   9.19        5787064        2606813.0        73.27   \n",
       "\n",
       "              POPDEN_URBAN AREAPCT_URBAN  \n",
       "0  persons per square mile             %  \n",
       "1                     2279          2.14  \n",
       "2                     2279          2.14  \n",
       "3                     2279          2.14  \n",
       "4                     2279          2.14  "
      ]
     },
     "execution_count": 5,
     "metadata": {},
     "output_type": "execute_result"
    }
   ],
   "source": [
    "# Read the CSV file, skipping the first 5 rows (which contain metadata and empty rows)\n",
    "# and using the 6th row (index 5 when 0-based) as the header\n",
    "working_outages = pd.read_csv('outage.csv', header=5)\n",
    "\n",
    "columns_to_keep = [\n",
    "    'YEAR', 'MONTH', 'U.S._STATE', 'NERC.REGION', 'CLIMATE.REGION',\n",
    "    'ANOMALY.LEVEL', 'OUTAGE.START.DATE', 'OUTAGE.START.TIME',\n",
    "    'OUTAGE.RESTORATION.DATE', 'OUTAGE.RESTORATION.TIME',\n",
    "    'CAUSE.CATEGORY', 'OUTAGE.DURATION', 'DEMAND.LOSS.MW',\n",
    "    'CUSTOMERS.AFFECTED', 'TOTAL.PRICE', 'TOTAL.SALES',\n",
    "    'TOTAL.CUSTOMERS', 'POPPCT_URBAN', 'POPDEN_URBAN', 'AREAPCT_URBAN'\n",
    "]\n",
    "\n",
    "outages_df = working_outages[columns_to_keep]\n",
    "\n",
    "outages_df.head()"
   ]
  },
  {
   "cell_type": "markdown",
   "metadata": {},
   "source": [
    "## Step 3: Assessment of Missingness"
   ]
  },
  {
   "cell_type": "code",
   "execution_count": null,
   "metadata": {
    "ExecuteTime": {
     "end_time": "2019-10-31T23:36:28.662099Z",
     "start_time": "2019-10-31T23:36:28.660016Z"
    }
   },
   "outputs": [],
   "source": [
    "# TODO"
   ]
  },
  {
   "cell_type": "markdown",
   "metadata": {},
   "source": [
    "## Step 4: Hypothesis Testing"
   ]
  },
  {
   "cell_type": "code",
   "execution_count": null,
   "metadata": {
    "ExecuteTime": {
     "end_time": "2019-10-31T23:36:28.666489Z",
     "start_time": "2019-10-31T23:36:28.664381Z"
    }
   },
   "outputs": [],
   "source": [
    "# TODO"
   ]
  },
  {
   "cell_type": "markdown",
   "metadata": {},
   "source": [
    "## Step 5: Framing a Prediction Problem"
   ]
  },
  {
   "cell_type": "code",
   "execution_count": null,
   "metadata": {
    "ExecuteTime": {
     "end_time": "2019-10-31T23:36:28.657068Z",
     "start_time": "2019-10-31T23:36:28.654650Z"
    }
   },
   "outputs": [],
   "source": [
    "# TODO"
   ]
  },
  {
   "cell_type": "markdown",
   "metadata": {},
   "source": [
    "## Step 6: Baseline Model"
   ]
  },
  {
   "cell_type": "code",
   "execution_count": null,
   "metadata": {
    "ExecuteTime": {
     "end_time": "2019-10-31T23:36:28.662099Z",
     "start_time": "2019-10-31T23:36:28.660016Z"
    }
   },
   "outputs": [],
   "source": [
    "# TODO"
   ]
  },
  {
   "cell_type": "markdown",
   "metadata": {},
   "source": [
    "## Step 7: Final Model"
   ]
  },
  {
   "cell_type": "code",
   "execution_count": null,
   "metadata": {
    "ExecuteTime": {
     "end_time": "2019-10-31T23:36:28.662099Z",
     "start_time": "2019-10-31T23:36:28.660016Z"
    }
   },
   "outputs": [],
   "source": [
    "# TODO"
   ]
  },
  {
   "cell_type": "markdown",
   "metadata": {},
   "source": [
    "## Step 8: Fairness Analysis"
   ]
  },
  {
   "cell_type": "code",
   "execution_count": null,
   "metadata": {
    "ExecuteTime": {
     "end_time": "2019-10-31T23:36:28.666489Z",
     "start_time": "2019-10-31T23:36:28.664381Z"
    }
   },
   "outputs": [],
   "source": [
    "# TODO"
   ]
  }
 ],
 "metadata": {
  "kernelspec": {
   "display_name": "dsc80",
   "language": "python",
   "name": "python3"
  },
  "language_info": {
   "codemirror_mode": {
    "name": "ipython",
    "version": 3
   },
   "file_extension": ".py",
   "mimetype": "text/x-python",
   "name": "python",
   "nbconvert_exporter": "python",
   "pygments_lexer": "ipython3",
   "version": "3.12.10"
  }
 },
 "nbformat": 4,
 "nbformat_minor": 4
}
