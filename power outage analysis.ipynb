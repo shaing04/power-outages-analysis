{
 "cells": [
  {
   "cell_type": "markdown",
   "metadata": {},
   "source": [
    "# Power Outage Data Analysis\n",
    "\n",
    "**Name(s)**: Susana Haing, Sonali Singh\n",
    "\n",
    "**Website Link**: [Power Outage Data Analysis](https://shaing04.github.io/power-outages-analysis/)"
   ]
  },
  {
   "cell_type": "code",
   "execution_count": 1,
   "metadata": {
    "ExecuteTime": {
     "end_time": "2019-10-31T23:36:28.652554Z",
     "start_time": "2019-10-31T23:36:27.180520Z"
    }
   },
   "outputs": [],
   "source": [
    "import pandas as pd\n",
    "import numpy as np\n",
    "from pathlib import Path\n",
    "import matplotlib.pyplot as plt\n",
    "import seaborn as sns\n",
    "import scipy.stats as stats\n",
    "\n",
    "import plotly.express as px\n",
    "pd.options.plotting.backend = 'plotly'\n",
    "\n",
    "import us \n",
    "from us import states\n",
    "\n",
    "from sklearn.linear_model import LinearRegression\n",
    "from sklearn.compose import ColumnTransformer\n",
    "from sklearn.preprocessing import OneHotEncoder, StandardScaler, QuantileTransformer\n",
    "from sklearn.pipeline import Pipeline\n",
    "from sklearn.pipeline import make_pipeline\n",
    "from sklearn.compose import make_column_transformer\n",
    "from sklearn.model_selection import train_test_split\n",
    "from sklearn.metrics import mean_absolute_error, root_mean_squared_error, r2_score, mean_squared_error\n"
   ]
  },
  {
   "cell_type": "markdown",
   "metadata": {},
   "source": [
    "## Step 1: Introduction"
   ]
  },
  {
   "cell_type": "markdown",
   "metadata": {},
   "source": [
    "In this project, we examined Purdue University's Laboratory for Advancing Sustainable Critical Infrastructure [data](https://engineering.purdue.edu/LASCI/research-data/outages) of power outages in the United States from January 2000 to July 2016. \n",
    "\n",
    "The data includes information about each major power outage, including but not limited to: geographical location, climate/weather, outage cause, and the number of people affected. \n",
    "\n",
    "Our overarching research question is: How do different causes affect power outages? We will do a deeper dive into how the different causes of power outages within the dataset will affect the length of a power outage. \n",
    "\n",
    "After determining whether there exists a causal relationship, we will also build a model that will predict the length of a power outage given different features. This is important as more often than not, customers want to know how long their power outages will last, whether it was due to maintenance or an unintentional outage. Being able to provide a good estimate of how long a power outage will last based on the various circumstances such as weather and location, can allow power companies to better inform their consumers.\n",
    "\n"
   ]
  },
  {
   "cell_type": "markdown",
   "metadata": {},
   "source": [
    "For our analysis, we will be focusing on the following variables. \n",
    "\n",
    "<div id=\"div3\">\n",
    "        <br>\n",
    "        <table border=\"1\">\n",
    "            <tr class=\"heading\">\n",
    "                <th>Variable</th>\n",
    "                <th>Description</th>\n",
    "            </tr>\n",
    "            <tr class=\"row1\">\n",
    "                <td>YEAR</td>\n",
    "                <td>The year an outage occurred</td>\n",
    "            </tr>\n",
    "            <tr class=\"row2\">\n",
    "                <td>MONTH</td>\n",
    "                <td>The month an outage occurred</td>\n",
    "            </tr>\n",
    "            <tr class=\"row3\">\n",
    "                <td>U.S._STATE</td>\n",
    "                <td>The specific US State the power outage occurred in</td>\n",
    "            </tr>\n",
    "            <tr class=\"row4\">\n",
    "                <td>NERC.REGION</td>\n",
    "                <td>North American Electric Reliability Corporation regions of an outage</td>\n",
    "            </tr>\n",
    "            <tr class=\"row5\">\n",
    "                <td>CLIMATE.REGION</td>\n",
    "                <td>The 9 climate regions in the United States defined by the National Centers for Environmental Information</td>\n",
    "            </tr>\n",
    "            <tr class=\"row6\">\n",
    "                <td>OUTAGE.START.DATE</td>\n",
    "                <td>The date an outage started</td>\n",
    "            </tr>\n",
    "            <tr class=\"row7\">\n",
    "                <td>OUTAGE.START.TIME</td>\n",
    "                <td>The time an outage started</td>\n",
    "            </tr>\n",
    "            <tr class=\"row8\">\n",
    "                <td>OUTAGE.RESTORATION.DATE</td>\n",
    "                <td>The date an outage was resolved</td>\n",
    "            </tr>\n",
    "            <tr class=\"row9\">\n",
    "                <td>OUTAGE.RESTORATION.TIME</td>\n",
    "                <td>The time an outage was resolved</td>\n",
    "            </tr>\n",
    "            <tr class=\"row10\">\n",
    "                <td>CAUSE.CATEGORY</td>\n",
    "                <td>Different causes of any given power outage</td>\n",
    "            </tr>\n",
    "            <tr class=\"row11\">\n",
    "                <td>CLIMATE.CATEGORY</td>\n",
    "                <td>Whether it was cold, hot, or normal climate during the time of the outage</td>\n",
    "            </tr>\n",
    "            <tr class=\"row12\">\n",
    "                <td>OUTAGE.DURATION</td>\n",
    "                <td>The amount of time an outage lasted in minutes</td>\n",
    "            </tr>\n",
    "            <tr class=\"row13\">\n",
    "                <td>CUSTOMERS.AFFECTED</td>\n",
    "                <td>The number of customers affected by an outage</td>\n",
    "            </tr>\n",
    "            <tr class=\"row14\">\n",
    "                <td>POPDEN_URBAN</td>\n",
    "                <td>Population density of urban areas (# persons per square mile)</td>\n",
    "            </tr>\n",
    "        </table>\n",
    "    </div>"
   ]
  },
  {
   "cell_type": "markdown",
   "metadata": {},
   "source": [
    "## Step 2: Data Cleaning and Exploratory Data Analysis"
   ]
  },
  {
   "cell_type": "markdown",
   "metadata": {},
   "source": [
    "The first step in Data Cleaning and Exploratory Data Analysis, we will be dropping all other columns in the dataset except for the ones listed above. "
   ]
  },
  {
   "cell_type": "code",
   "execution_count": 2,
   "metadata": {
    "ExecuteTime": {
     "end_time": "2019-10-31T23:36:28.657068Z",
     "start_time": "2019-10-31T23:36:28.654650Z"
    }
   },
   "outputs": [],
   "source": [
    "outage = pd.read_csv('outage.csv')"
   ]
  },
  {
   "cell_type": "markdown",
   "metadata": {},
   "source": [
    "The original dataset comes with 57 total different variables, but we will focus only on the following columns for analysis and relevance sake.\n",
    "\n",
    "Additionally, rather than having the start and restoration columns be separated by date and time, we will condense them into one column each. \n",
    "So 'OUTAGE.START.DATE' and 'OUTAGE.START.TIME' will be condensed into 'OUTAGE.START', and 'OUTAGE.RESTORATION.DATE' and 'OUTAGE.RESTORATION.TIME' will be condensed into 'OUTAGE.RESTORATION'. And after condensing, we will drop the 'OUTAGE.START.DATE', 'OUTAGE.START.TIME', 'OUTAGE.RESTORATION.TIME', and 'OUTAGE.RESTORATION.DATE' columns as they are now duplicate columns.\n",
    "\n"
   ]
  },
  {
   "cell_type": "code",
   "execution_count": 3,
   "metadata": {},
   "outputs": [],
   "source": [
    "working_outages = pd.read_csv('outage.csv', header=5)\n",
    "\n",
    "columns_to_keep = [\n",
    "    'YEAR', 'MONTH', 'U.S._STATE', 'NERC.REGION', 'CLIMATE.REGION',\n",
    "    'OUTAGE.START.DATE', 'OUTAGE.START.TIME',\n",
    "    'OUTAGE.RESTORATION.DATE', 'OUTAGE.RESTORATION.TIME',\n",
    "    'CAUSE.CATEGORY', 'CLIMATE.CATEGORY', 'OUTAGE.DURATION',\n",
    "    'CUSTOMERS.AFFECTED', 'TOTAL.CUSTOMERS', 'POPDEN_URBAN'\n",
    "]\n",
    "\n",
    "outages_df = working_outages[columns_to_keep]\n",
    "\n",
    "\n",
    "outages_df = outages_df[columns_to_keep]\n",
    "outages_df = outages_df.drop(0)\n",
    "outages_df = outages_df.reset_index(drop=True)"
   ]
  },
  {
   "cell_type": "code",
   "execution_count": 4,
   "metadata": {},
   "outputs": [],
   "source": [
    "outages_df['OUTAGE.START'] = pd.to_datetime(\n",
    "    outages_df['OUTAGE.START.DATE'] + ' ' + outages_df['OUTAGE.START.TIME'],\n",
    "    format='%A, %B %d, %Y %I:%M:%S %p'  \n",
    ")\n",
    "\n",
    "outages_df['OUTAGE.RESTORATION'] = pd.to_datetime(\n",
    "    outages_df['OUTAGE.RESTORATION.DATE'] + ' ' + outages_df['OUTAGE.RESTORATION.TIME'],\n",
    "    format='%A, %B %d, %Y %I:%M:%S %p'  )\n"
   ]
  },
  {
   "cell_type": "code",
   "execution_count": 5,
   "metadata": {},
   "outputs": [],
   "source": [
    "outages_df = outages_df.drop(columns=[\n",
    "    'OUTAGE.START.DATE', \n",
    "    'OUTAGE.START.TIME', \n",
    "    'OUTAGE.RESTORATION.DATE', \n",
    "    'OUTAGE.RESTORATION.TIME'\n",
    "])"
   ]
  },
  {
   "cell_type": "code",
   "execution_count": 49,
   "metadata": {},
   "outputs": [],
   "source": [
    "# Convert to numeric, coercing errors to NaN\n",
    "outages_df['OUTAGE.DURATION'] = pd.to_numeric(outages_df['OUTAGE.DURATION'], errors='coerce')\n"
   ]
  },
  {
   "cell_type": "code",
   "execution_count": 6,
   "metadata": {},
   "outputs": [
    {
     "data": {
      "text/html": [
       "<div>\n",
       "<style scoped>\n",
       "    .dataframe tbody tr th:only-of-type {\n",
       "        vertical-align: middle;\n",
       "    }\n",
       "\n",
       "    .dataframe tbody tr th {\n",
       "        vertical-align: top;\n",
       "    }\n",
       "\n",
       "    .dataframe thead th {\n",
       "        text-align: right;\n",
       "    }\n",
       "</style>\n",
       "<table border=\"1\" class=\"dataframe\">\n",
       "  <thead>\n",
       "    <tr style=\"text-align: right;\">\n",
       "      <th></th>\n",
       "      <th>YEAR</th>\n",
       "      <th>MONTH</th>\n",
       "      <th>U.S._STATE</th>\n",
       "      <th>NERC.REGION</th>\n",
       "      <th>CLIMATE.REGION</th>\n",
       "      <th>CAUSE.CATEGORY</th>\n",
       "      <th>CLIMATE.CATEGORY</th>\n",
       "      <th>OUTAGE.DURATION</th>\n",
       "      <th>CUSTOMERS.AFFECTED</th>\n",
       "      <th>TOTAL.CUSTOMERS</th>\n",
       "      <th>POPDEN_URBAN</th>\n",
       "      <th>OUTAGE.START</th>\n",
       "      <th>OUTAGE.RESTORATION</th>\n",
       "    </tr>\n",
       "  </thead>\n",
       "  <tbody>\n",
       "    <tr>\n",
       "      <th>0</th>\n",
       "      <td>2011.0</td>\n",
       "      <td>7.0</td>\n",
       "      <td>Minnesota</td>\n",
       "      <td>MRO</td>\n",
       "      <td>East North Central</td>\n",
       "      <td>severe weather</td>\n",
       "      <td>normal</td>\n",
       "      <td>3060</td>\n",
       "      <td>70000.0</td>\n",
       "      <td>2595696.0</td>\n",
       "      <td>2279</td>\n",
       "      <td>2011-07-01 17:00:00</td>\n",
       "      <td>2011-07-03 20:00:00</td>\n",
       "    </tr>\n",
       "    <tr>\n",
       "      <th>1</th>\n",
       "      <td>2014.0</td>\n",
       "      <td>5.0</td>\n",
       "      <td>Minnesota</td>\n",
       "      <td>MRO</td>\n",
       "      <td>East North Central</td>\n",
       "      <td>intentional attack</td>\n",
       "      <td>normal</td>\n",
       "      <td>1</td>\n",
       "      <td>NaN</td>\n",
       "      <td>2640737.0</td>\n",
       "      <td>2279</td>\n",
       "      <td>2014-05-11 18:38:00</td>\n",
       "      <td>2014-05-11 18:39:00</td>\n",
       "    </tr>\n",
       "    <tr>\n",
       "      <th>2</th>\n",
       "      <td>2010.0</td>\n",
       "      <td>10.0</td>\n",
       "      <td>Minnesota</td>\n",
       "      <td>MRO</td>\n",
       "      <td>East North Central</td>\n",
       "      <td>severe weather</td>\n",
       "      <td>cold</td>\n",
       "      <td>3000</td>\n",
       "      <td>70000.0</td>\n",
       "      <td>2586905.0</td>\n",
       "      <td>2279</td>\n",
       "      <td>2010-10-26 20:00:00</td>\n",
       "      <td>2010-10-28 22:00:00</td>\n",
       "    </tr>\n",
       "    <tr>\n",
       "      <th>3</th>\n",
       "      <td>2012.0</td>\n",
       "      <td>6.0</td>\n",
       "      <td>Minnesota</td>\n",
       "      <td>MRO</td>\n",
       "      <td>East North Central</td>\n",
       "      <td>severe weather</td>\n",
       "      <td>normal</td>\n",
       "      <td>2550</td>\n",
       "      <td>68200.0</td>\n",
       "      <td>2606813.0</td>\n",
       "      <td>2279</td>\n",
       "      <td>2012-06-19 04:30:00</td>\n",
       "      <td>2012-06-20 23:00:00</td>\n",
       "    </tr>\n",
       "    <tr>\n",
       "      <th>4</th>\n",
       "      <td>2015.0</td>\n",
       "      <td>7.0</td>\n",
       "      <td>Minnesota</td>\n",
       "      <td>MRO</td>\n",
       "      <td>East North Central</td>\n",
       "      <td>severe weather</td>\n",
       "      <td>warm</td>\n",
       "      <td>1740</td>\n",
       "      <td>250000.0</td>\n",
       "      <td>2673531.0</td>\n",
       "      <td>2279</td>\n",
       "      <td>2015-07-18 02:00:00</td>\n",
       "      <td>2015-07-19 07:00:00</td>\n",
       "    </tr>\n",
       "  </tbody>\n",
       "</table>\n",
       "</div>"
      ],
      "text/plain": [
       "     YEAR  MONTH U.S._STATE NERC.REGION      CLIMATE.REGION  \\\n",
       "0  2011.0    7.0  Minnesota         MRO  East North Central   \n",
       "1  2014.0    5.0  Minnesota         MRO  East North Central   \n",
       "2  2010.0   10.0  Minnesota         MRO  East North Central   \n",
       "3  2012.0    6.0  Minnesota         MRO  East North Central   \n",
       "4  2015.0    7.0  Minnesota         MRO  East North Central   \n",
       "\n",
       "       CAUSE.CATEGORY CLIMATE.CATEGORY OUTAGE.DURATION  CUSTOMERS.AFFECTED  \\\n",
       "0      severe weather           normal            3060             70000.0   \n",
       "1  intentional attack           normal               1                 NaN   \n",
       "2      severe weather             cold            3000             70000.0   \n",
       "3      severe weather           normal            2550             68200.0   \n",
       "4      severe weather             warm            1740            250000.0   \n",
       "\n",
       "   TOTAL.CUSTOMERS POPDEN_URBAN        OUTAGE.START  OUTAGE.RESTORATION  \n",
       "0        2595696.0         2279 2011-07-01 17:00:00 2011-07-03 20:00:00  \n",
       "1        2640737.0         2279 2014-05-11 18:38:00 2014-05-11 18:39:00  \n",
       "2        2586905.0         2279 2010-10-26 20:00:00 2010-10-28 22:00:00  \n",
       "3        2606813.0         2279 2012-06-19 04:30:00 2012-06-20 23:00:00  \n",
       "4        2673531.0         2279 2015-07-18 02:00:00 2015-07-19 07:00:00  "
      ]
     },
     "execution_count": 6,
     "metadata": {},
     "output_type": "execute_result"
    }
   ],
   "source": [
    "outages_df.head()"
   ]
  },
  {
   "cell_type": "markdown",
   "metadata": {},
   "source": [
    "Here, in the 'OUTAGE.DURATION' and 'CUSTOMERS.AFFECTED' columns, we can see that there are some rows with 0 as its values, which doesn't make any sense as there is no power outage that lasted 0 minutes and affected 0 customers, so we changed it to np.nan values so they wouldn't skew the data."
   ]
  },
  {
   "cell_type": "code",
   "execution_count": 7,
   "metadata": {},
   "outputs": [],
   "source": [
    "outages_df['OUTAGE.DURATION'] = outages_df['OUTAGE.DURATION'].replace(0, np.nan)"
   ]
  },
  {
   "cell_type": "code",
   "execution_count": null,
   "metadata": {},
   "outputs": [],
   "source": []
  },
  {
   "cell_type": "code",
   "execution_count": 8,
   "metadata": {},
   "outputs": [],
   "source": [
    "outages_by_state = outages_df['U.S._STATE'].value_counts().reset_index()\n",
    "outages_by_state.columns = ['STATE', 'OUTAGE_COUNT'] "
   ]
  },
  {
   "cell_type": "markdown",
   "metadata": {},
   "source": [
    "## Univariate Analysis"
   ]
  },
  {
   "cell_type": "markdown",
   "metadata": {},
   "source": [
    "Now let's take a look at how the power outages are distributed across the 50 states. We can visualize this with a choropleth map, which will show by color, the number of power outages each state has and also show which states have the most and least number of power outages."
   ]
  },
  {
   "cell_type": "code",
   "execution_count": 9,
   "metadata": {},
   "outputs": [
    {
     "name": "stdout",
     "output_type": "stream",
     "text": [
      "        STATE  OUTAGE_COUNT STATE_CODE\n",
      "0  California           210         CA\n",
      "1       Texas           127         TX\n",
      "2  Washington            97         WA\n",
      "3    Michigan            95         MI\n",
      "4    New York            71         NY\n"
     ]
    }
   ],
   "source": [
    "state_to_code = {state.name: state.abbr for state in states.STATES}\n",
    "#print(state_to_code) \n",
    "\n",
    "outages_by_state['STATE_CODE'] = outages_by_state['STATE'].map(state_to_code)\n",
    "\n",
    "# Verify\n",
    "print(outages_by_state.head())"
   ]
  },
  {
   "cell_type": "markdown",
   "metadata": {},
   "source": []
  },
  {
   "cell_type": "code",
   "execution_count": 10,
   "metadata": {},
   "outputs": [
    {
     "data": {
      "application/vnd.plotly.v1+json": {
       "config": {
        "plotlyServerURL": "https://plot.ly"
       },
       "data": [
        {
         "coloraxis": "coloraxis",
         "geo": "geo",
         "hovertemplate": "<b>%{hovertext}</b><br><br>STATE_CODE=%{location}<br>Outages=%{z}<extra></extra>",
         "hovertext": [
          "California",
          "Texas",
          "Washington",
          "Michigan",
          "New York",
          "Maryland",
          "Pennsylvania",
          "Illinois",
          "Florida",
          "Ohio",
          "Indiana",
          "Delaware",
          "Utah",
          "Louisiana",
          "North Carolina",
          "Virginia",
          "New Jersey",
          "Tennessee",
          "Arizona",
          "Oregon",
          "Arkansas",
          "Oklahoma",
          "Wisconsin",
          "Maine",
          "Massachusetts",
          "Connecticut",
          "Georgia",
          "Missouri",
          "Minnesota",
          "Colorado",
          "New Hampshire",
          "Kentucky",
          "District of Columbia",
          "Idaho",
          "Kansas",
          "Vermont",
          "New Mexico",
          "South Carolina",
          "Iowa",
          "Nevada",
          "Alabama",
          "Wyoming",
          "Hawaii",
          "Mississippi",
          "West Virginia",
          "Nebraska",
          "Montana",
          "North Dakota",
          "South Dakota",
          "Alaska"
         ],
         "locationmode": "USA-states",
         "locations": [
          "CA",
          "TX",
          "WA",
          "MI",
          "NY",
          "MD",
          "PA",
          "IL",
          "FL",
          "OH",
          "IN",
          "DE",
          "UT",
          "LA",
          "NC",
          "VA",
          "NJ",
          "TN",
          "AZ",
          "OR",
          "AR",
          "OK",
          "WI",
          "ME",
          "MA",
          "CT",
          "GA",
          "MO",
          "MN",
          "CO",
          "NH",
          "KY",
          null,
          "ID",
          "KS",
          "VT",
          "NM",
          "SC",
          "IA",
          "NV",
          "AL",
          "WY",
          "HI",
          "MS",
          "WV",
          "NE",
          "MT",
          "ND",
          "SD",
          "AK"
         ],
         "name": "",
         "type": "choropleth",
         "z": [
          210,
          127,
          97,
          95,
          71,
          58,
          57,
          46,
          45,
          43,
          43,
          41,
          41,
          40,
          40,
          37,
          35,
          34,
          28,
          26,
          25,
          24,
          20,
          19,
          18,
          18,
          17,
          17,
          15,
          15,
          14,
          13,
          10,
          9,
          9,
          9,
          8,
          8,
          8,
          7,
          6,
          6,
          5,
          4,
          4,
          4,
          3,
          2,
          2,
          1
         ]
        }
       ],
       "layout": {
        "coloraxis": {
         "colorbar": {
          "title": {
           "text": "Outages"
          }
         },
         "colorscale": [
          [
           0,
           "rgb(243, 231, 155)"
          ],
          [
           0.16666666666666666,
           "rgb(250, 196, 132)"
          ],
          [
           0.3333333333333333,
           "rgb(248, 160, 126)"
          ],
          [
           0.5,
           "rgb(235, 127, 134)"
          ],
          [
           0.6666666666666666,
           "rgb(206, 102, 147)"
          ],
          [
           0.8333333333333334,
           "rgb(160, 89, 160)"
          ],
          [
           1,
           "rgb(92, 83, 165)"
          ]
         ]
        },
        "geo": {
         "bgcolor": "rgba(0,0,0,0)",
         "center": {},
         "domain": {
          "x": [
           0,
           1
          ],
          "y": [
           0,
           1
          ]
         },
         "scope": "usa"
        },
        "legend": {
         "tracegroupgap": 0
        },
        "margin": {
         "b": 0,
         "l": 0,
         "r": 0,
         "t": 40
        },
        "template": {
         "data": {
          "bar": [
           {
            "error_x": {
             "color": "#2a3f5f"
            },
            "error_y": {
             "color": "#2a3f5f"
            },
            "marker": {
             "line": {
              "color": "#E5ECF6",
              "width": 0.5
             },
             "pattern": {
              "fillmode": "overlay",
              "size": 10,
              "solidity": 0.2
             }
            },
            "type": "bar"
           }
          ],
          "barpolar": [
           {
            "marker": {
             "line": {
              "color": "#E5ECF6",
              "width": 0.5
             },
             "pattern": {
              "fillmode": "overlay",
              "size": 10,
              "solidity": 0.2
             }
            },
            "type": "barpolar"
           }
          ],
          "carpet": [
           {
            "aaxis": {
             "endlinecolor": "#2a3f5f",
             "gridcolor": "white",
             "linecolor": "white",
             "minorgridcolor": "white",
             "startlinecolor": "#2a3f5f"
            },
            "baxis": {
             "endlinecolor": "#2a3f5f",
             "gridcolor": "white",
             "linecolor": "white",
             "minorgridcolor": "white",
             "startlinecolor": "#2a3f5f"
            },
            "type": "carpet"
           }
          ],
          "choropleth": [
           {
            "colorbar": {
             "outlinewidth": 0,
             "ticks": ""
            },
            "type": "choropleth"
           }
          ],
          "contour": [
           {
            "colorbar": {
             "outlinewidth": 0,
             "ticks": ""
            },
            "colorscale": [
             [
              0,
              "#0d0887"
             ],
             [
              0.1111111111111111,
              "#46039f"
             ],
             [
              0.2222222222222222,
              "#7201a8"
             ],
             [
              0.3333333333333333,
              "#9c179e"
             ],
             [
              0.4444444444444444,
              "#bd3786"
             ],
             [
              0.5555555555555556,
              "#d8576b"
             ],
             [
              0.6666666666666666,
              "#ed7953"
             ],
             [
              0.7777777777777778,
              "#fb9f3a"
             ],
             [
              0.8888888888888888,
              "#fdca26"
             ],
             [
              1,
              "#f0f921"
             ]
            ],
            "type": "contour"
           }
          ],
          "contourcarpet": [
           {
            "colorbar": {
             "outlinewidth": 0,
             "ticks": ""
            },
            "type": "contourcarpet"
           }
          ],
          "heatmap": [
           {
            "colorbar": {
             "outlinewidth": 0,
             "ticks": ""
            },
            "colorscale": [
             [
              0,
              "#0d0887"
             ],
             [
              0.1111111111111111,
              "#46039f"
             ],
             [
              0.2222222222222222,
              "#7201a8"
             ],
             [
              0.3333333333333333,
              "#9c179e"
             ],
             [
              0.4444444444444444,
              "#bd3786"
             ],
             [
              0.5555555555555556,
              "#d8576b"
             ],
             [
              0.6666666666666666,
              "#ed7953"
             ],
             [
              0.7777777777777778,
              "#fb9f3a"
             ],
             [
              0.8888888888888888,
              "#fdca26"
             ],
             [
              1,
              "#f0f921"
             ]
            ],
            "type": "heatmap"
           }
          ],
          "heatmapgl": [
           {
            "colorbar": {
             "outlinewidth": 0,
             "ticks": ""
            },
            "colorscale": [
             [
              0,
              "#0d0887"
             ],
             [
              0.1111111111111111,
              "#46039f"
             ],
             [
              0.2222222222222222,
              "#7201a8"
             ],
             [
              0.3333333333333333,
              "#9c179e"
             ],
             [
              0.4444444444444444,
              "#bd3786"
             ],
             [
              0.5555555555555556,
              "#d8576b"
             ],
             [
              0.6666666666666666,
              "#ed7953"
             ],
             [
              0.7777777777777778,
              "#fb9f3a"
             ],
             [
              0.8888888888888888,
              "#fdca26"
             ],
             [
              1,
              "#f0f921"
             ]
            ],
            "type": "heatmapgl"
           }
          ],
          "histogram": [
           {
            "marker": {
             "pattern": {
              "fillmode": "overlay",
              "size": 10,
              "solidity": 0.2
             }
            },
            "type": "histogram"
           }
          ],
          "histogram2d": [
           {
            "colorbar": {
             "outlinewidth": 0,
             "ticks": ""
            },
            "colorscale": [
             [
              0,
              "#0d0887"
             ],
             [
              0.1111111111111111,
              "#46039f"
             ],
             [
              0.2222222222222222,
              "#7201a8"
             ],
             [
              0.3333333333333333,
              "#9c179e"
             ],
             [
              0.4444444444444444,
              "#bd3786"
             ],
             [
              0.5555555555555556,
              "#d8576b"
             ],
             [
              0.6666666666666666,
              "#ed7953"
             ],
             [
              0.7777777777777778,
              "#fb9f3a"
             ],
             [
              0.8888888888888888,
              "#fdca26"
             ],
             [
              1,
              "#f0f921"
             ]
            ],
            "type": "histogram2d"
           }
          ],
          "histogram2dcontour": [
           {
            "colorbar": {
             "outlinewidth": 0,
             "ticks": ""
            },
            "colorscale": [
             [
              0,
              "#0d0887"
             ],
             [
              0.1111111111111111,
              "#46039f"
             ],
             [
              0.2222222222222222,
              "#7201a8"
             ],
             [
              0.3333333333333333,
              "#9c179e"
             ],
             [
              0.4444444444444444,
              "#bd3786"
             ],
             [
              0.5555555555555556,
              "#d8576b"
             ],
             [
              0.6666666666666666,
              "#ed7953"
             ],
             [
              0.7777777777777778,
              "#fb9f3a"
             ],
             [
              0.8888888888888888,
              "#fdca26"
             ],
             [
              1,
              "#f0f921"
             ]
            ],
            "type": "histogram2dcontour"
           }
          ],
          "mesh3d": [
           {
            "colorbar": {
             "outlinewidth": 0,
             "ticks": ""
            },
            "type": "mesh3d"
           }
          ],
          "parcoords": [
           {
            "line": {
             "colorbar": {
              "outlinewidth": 0,
              "ticks": ""
             }
            },
            "type": "parcoords"
           }
          ],
          "pie": [
           {
            "automargin": true,
            "type": "pie"
           }
          ],
          "scatter": [
           {
            "fillpattern": {
             "fillmode": "overlay",
             "size": 10,
             "solidity": 0.2
            },
            "type": "scatter"
           }
          ],
          "scatter3d": [
           {
            "line": {
             "colorbar": {
              "outlinewidth": 0,
              "ticks": ""
             }
            },
            "marker": {
             "colorbar": {
              "outlinewidth": 0,
              "ticks": ""
             }
            },
            "type": "scatter3d"
           }
          ],
          "scattercarpet": [
           {
            "marker": {
             "colorbar": {
              "outlinewidth": 0,
              "ticks": ""
             }
            },
            "type": "scattercarpet"
           }
          ],
          "scattergeo": [
           {
            "marker": {
             "colorbar": {
              "outlinewidth": 0,
              "ticks": ""
             }
            },
            "type": "scattergeo"
           }
          ],
          "scattergl": [
           {
            "marker": {
             "colorbar": {
              "outlinewidth": 0,
              "ticks": ""
             }
            },
            "type": "scattergl"
           }
          ],
          "scattermapbox": [
           {
            "marker": {
             "colorbar": {
              "outlinewidth": 0,
              "ticks": ""
             }
            },
            "type": "scattermapbox"
           }
          ],
          "scatterpolar": [
           {
            "marker": {
             "colorbar": {
              "outlinewidth": 0,
              "ticks": ""
             }
            },
            "type": "scatterpolar"
           }
          ],
          "scatterpolargl": [
           {
            "marker": {
             "colorbar": {
              "outlinewidth": 0,
              "ticks": ""
             }
            },
            "type": "scatterpolargl"
           }
          ],
          "scatterternary": [
           {
            "marker": {
             "colorbar": {
              "outlinewidth": 0,
              "ticks": ""
             }
            },
            "type": "scatterternary"
           }
          ],
          "surface": [
           {
            "colorbar": {
             "outlinewidth": 0,
             "ticks": ""
            },
            "colorscale": [
             [
              0,
              "#0d0887"
             ],
             [
              0.1111111111111111,
              "#46039f"
             ],
             [
              0.2222222222222222,
              "#7201a8"
             ],
             [
              0.3333333333333333,
              "#9c179e"
             ],
             [
              0.4444444444444444,
              "#bd3786"
             ],
             [
              0.5555555555555556,
              "#d8576b"
             ],
             [
              0.6666666666666666,
              "#ed7953"
             ],
             [
              0.7777777777777778,
              "#fb9f3a"
             ],
             [
              0.8888888888888888,
              "#fdca26"
             ],
             [
              1,
              "#f0f921"
             ]
            ],
            "type": "surface"
           }
          ],
          "table": [
           {
            "cells": {
             "fill": {
              "color": "#EBF0F8"
             },
             "line": {
              "color": "white"
             }
            },
            "header": {
             "fill": {
              "color": "#C8D4E3"
             },
             "line": {
              "color": "white"
             }
            },
            "type": "table"
           }
          ]
         },
         "layout": {
          "annotationdefaults": {
           "arrowcolor": "#2a3f5f",
           "arrowhead": 0,
           "arrowwidth": 1
          },
          "autotypenumbers": "strict",
          "coloraxis": {
           "colorbar": {
            "outlinewidth": 0,
            "ticks": ""
           }
          },
          "colorscale": {
           "diverging": [
            [
             0,
             "#8e0152"
            ],
            [
             0.1,
             "#c51b7d"
            ],
            [
             0.2,
             "#de77ae"
            ],
            [
             0.3,
             "#f1b6da"
            ],
            [
             0.4,
             "#fde0ef"
            ],
            [
             0.5,
             "#f7f7f7"
            ],
            [
             0.6,
             "#e6f5d0"
            ],
            [
             0.7,
             "#b8e186"
            ],
            [
             0.8,
             "#7fbc41"
            ],
            [
             0.9,
             "#4d9221"
            ],
            [
             1,
             "#276419"
            ]
           ],
           "sequential": [
            [
             0,
             "#0d0887"
            ],
            [
             0.1111111111111111,
             "#46039f"
            ],
            [
             0.2222222222222222,
             "#7201a8"
            ],
            [
             0.3333333333333333,
             "#9c179e"
            ],
            [
             0.4444444444444444,
             "#bd3786"
            ],
            [
             0.5555555555555556,
             "#d8576b"
            ],
            [
             0.6666666666666666,
             "#ed7953"
            ],
            [
             0.7777777777777778,
             "#fb9f3a"
            ],
            [
             0.8888888888888888,
             "#fdca26"
            ],
            [
             1,
             "#f0f921"
            ]
           ],
           "sequentialminus": [
            [
             0,
             "#0d0887"
            ],
            [
             0.1111111111111111,
             "#46039f"
            ],
            [
             0.2222222222222222,
             "#7201a8"
            ],
            [
             0.3333333333333333,
             "#9c179e"
            ],
            [
             0.4444444444444444,
             "#bd3786"
            ],
            [
             0.5555555555555556,
             "#d8576b"
            ],
            [
             0.6666666666666666,
             "#ed7953"
            ],
            [
             0.7777777777777778,
             "#fb9f3a"
            ],
            [
             0.8888888888888888,
             "#fdca26"
            ],
            [
             1,
             "#f0f921"
            ]
           ]
          },
          "colorway": [
           "#636efa",
           "#EF553B",
           "#00cc96",
           "#ab63fa",
           "#FFA15A",
           "#19d3f3",
           "#FF6692",
           "#B6E880",
           "#FF97FF",
           "#FECB52"
          ],
          "font": {
           "color": "#2a3f5f"
          },
          "geo": {
           "bgcolor": "white",
           "lakecolor": "white",
           "landcolor": "#E5ECF6",
           "showlakes": true,
           "showland": true,
           "subunitcolor": "white"
          },
          "hoverlabel": {
           "align": "left"
          },
          "hovermode": "closest",
          "mapbox": {
           "style": "light"
          },
          "paper_bgcolor": "white",
          "plot_bgcolor": "#E5ECF6",
          "polar": {
           "angularaxis": {
            "gridcolor": "white",
            "linecolor": "white",
            "ticks": ""
           },
           "bgcolor": "#E5ECF6",
           "radialaxis": {
            "gridcolor": "white",
            "linecolor": "white",
            "ticks": ""
           }
          },
          "scene": {
           "xaxis": {
            "backgroundcolor": "#E5ECF6",
            "gridcolor": "white",
            "gridwidth": 2,
            "linecolor": "white",
            "showbackground": true,
            "ticks": "",
            "zerolinecolor": "white"
           },
           "yaxis": {
            "backgroundcolor": "#E5ECF6",
            "gridcolor": "white",
            "gridwidth": 2,
            "linecolor": "white",
            "showbackground": true,
            "ticks": "",
            "zerolinecolor": "white"
           },
           "zaxis": {
            "backgroundcolor": "#E5ECF6",
            "gridcolor": "white",
            "gridwidth": 2,
            "linecolor": "white",
            "showbackground": true,
            "ticks": "",
            "zerolinecolor": "white"
           }
          },
          "shapedefaults": {
           "line": {
            "color": "#2a3f5f"
           }
          },
          "ternary": {
           "aaxis": {
            "gridcolor": "white",
            "linecolor": "white",
            "ticks": ""
           },
           "baxis": {
            "gridcolor": "white",
            "linecolor": "white",
            "ticks": ""
           },
           "bgcolor": "#E5ECF6",
           "caxis": {
            "gridcolor": "white",
            "linecolor": "white",
            "ticks": ""
           }
          },
          "title": {
           "x": 0.05
          },
          "xaxis": {
           "automargin": true,
           "gridcolor": "white",
           "linecolor": "white",
           "ticks": "",
           "title": {
            "standoff": 15
           },
           "zerolinecolor": "white",
           "zerolinewidth": 2
          },
          "yaxis": {
           "automargin": true,
           "gridcolor": "white",
           "linecolor": "white",
           "ticks": "",
           "title": {
            "standoff": 15
           },
           "zerolinecolor": "white",
           "zerolinewidth": 2
          }
         }
        },
        "title": {
         "text": "Power Outages by U.S. State"
        }
       }
      }
     },
     "metadata": {},
     "output_type": "display_data"
    }
   ],
   "source": [
    "fig = px.choropleth(\n",
    "    outages_by_state,\n",
    "    locations = 'STATE_CODE',     \n",
    "    locationmode = 'USA-states',   \n",
    "    color = 'OUTAGE_COUNT',        # Color by outage count\n",
    "    scope = 'usa',             \n",
    "    color_continuous_scale = 'sunset', \n",
    "    title = 'Power Outages by U.S. State',\n",
    "    hover_name = 'STATE',  \n",
    "    labels = {'OUTAGE_COUNT': 'Outages'}\n",
    ")\n",
    "\n",
    "fig.update_layout(\n",
    "    geo = dict(bgcolor='rgba(0,0,0,0)'), \n",
    "    margin = {\"r\": 0, \"t\": 40, \"l\": 0, \"b\": 0}\n",
    ")\n",
    "\n",
    "fig.show()"
   ]
  },
  {
   "cell_type": "code",
   "execution_count": 11,
   "metadata": {},
   "outputs": [],
   "source": [
    "#fig.write_html(\"outages_map.html\", full_html=True, include_plotlyjs='cdn')\n"
   ]
  },
  {
   "cell_type": "markdown",
   "metadata": {},
   "source": [
    "Next, we wanted to see how the number of power outages have changed over time. "
   ]
  },
  {
   "cell_type": "code",
   "execution_count": 12,
   "metadata": {},
   "outputs": [
    {
     "data": {
      "application/vnd.plotly.v1+json": {
       "config": {
        "plotlyServerURL": "https://plot.ly"
       },
       "data": [
        {
         "hovertemplate": "Year=%{x}<br>Number of Outages=%{y}<extra></extra>",
         "legendgroup": "",
         "line": {
          "color": "#636efa",
          "dash": "solid"
         },
         "marker": {
          "symbol": "circle"
         },
         "mode": "lines",
         "name": "",
         "orientation": "v",
         "showlegend": false,
         "type": "scatter",
         "x": [
          2000,
          2001,
          2002,
          2003,
          2004,
          2005,
          2006,
          2007,
          2008,
          2009,
          2010,
          2011,
          2012,
          2013,
          2014,
          2015,
          2016
         ],
         "xaxis": "x",
         "y": [
          26,
          15,
          17,
          46,
          71,
          55,
          67,
          56,
          111,
          78,
          106,
          269,
          174,
          153,
          112,
          119,
          59
         ],
         "yaxis": "y"
        }
       ],
       "layout": {
        "legend": {
         "tracegroupgap": 0
        },
        "template": {
         "data": {
          "bar": [
           {
            "error_x": {
             "color": "#2a3f5f"
            },
            "error_y": {
             "color": "#2a3f5f"
            },
            "marker": {
             "line": {
              "color": "#E5ECF6",
              "width": 0.5
             },
             "pattern": {
              "fillmode": "overlay",
              "size": 10,
              "solidity": 0.2
             }
            },
            "type": "bar"
           }
          ],
          "barpolar": [
           {
            "marker": {
             "line": {
              "color": "#E5ECF6",
              "width": 0.5
             },
             "pattern": {
              "fillmode": "overlay",
              "size": 10,
              "solidity": 0.2
             }
            },
            "type": "barpolar"
           }
          ],
          "carpet": [
           {
            "aaxis": {
             "endlinecolor": "#2a3f5f",
             "gridcolor": "white",
             "linecolor": "white",
             "minorgridcolor": "white",
             "startlinecolor": "#2a3f5f"
            },
            "baxis": {
             "endlinecolor": "#2a3f5f",
             "gridcolor": "white",
             "linecolor": "white",
             "minorgridcolor": "white",
             "startlinecolor": "#2a3f5f"
            },
            "type": "carpet"
           }
          ],
          "choropleth": [
           {
            "colorbar": {
             "outlinewidth": 0,
             "ticks": ""
            },
            "type": "choropleth"
           }
          ],
          "contour": [
           {
            "colorbar": {
             "outlinewidth": 0,
             "ticks": ""
            },
            "colorscale": [
             [
              0,
              "#0d0887"
             ],
             [
              0.1111111111111111,
              "#46039f"
             ],
             [
              0.2222222222222222,
              "#7201a8"
             ],
             [
              0.3333333333333333,
              "#9c179e"
             ],
             [
              0.4444444444444444,
              "#bd3786"
             ],
             [
              0.5555555555555556,
              "#d8576b"
             ],
             [
              0.6666666666666666,
              "#ed7953"
             ],
             [
              0.7777777777777778,
              "#fb9f3a"
             ],
             [
              0.8888888888888888,
              "#fdca26"
             ],
             [
              1,
              "#f0f921"
             ]
            ],
            "type": "contour"
           }
          ],
          "contourcarpet": [
           {
            "colorbar": {
             "outlinewidth": 0,
             "ticks": ""
            },
            "type": "contourcarpet"
           }
          ],
          "heatmap": [
           {
            "colorbar": {
             "outlinewidth": 0,
             "ticks": ""
            },
            "colorscale": [
             [
              0,
              "#0d0887"
             ],
             [
              0.1111111111111111,
              "#46039f"
             ],
             [
              0.2222222222222222,
              "#7201a8"
             ],
             [
              0.3333333333333333,
              "#9c179e"
             ],
             [
              0.4444444444444444,
              "#bd3786"
             ],
             [
              0.5555555555555556,
              "#d8576b"
             ],
             [
              0.6666666666666666,
              "#ed7953"
             ],
             [
              0.7777777777777778,
              "#fb9f3a"
             ],
             [
              0.8888888888888888,
              "#fdca26"
             ],
             [
              1,
              "#f0f921"
             ]
            ],
            "type": "heatmap"
           }
          ],
          "heatmapgl": [
           {
            "colorbar": {
             "outlinewidth": 0,
             "ticks": ""
            },
            "colorscale": [
             [
              0,
              "#0d0887"
             ],
             [
              0.1111111111111111,
              "#46039f"
             ],
             [
              0.2222222222222222,
              "#7201a8"
             ],
             [
              0.3333333333333333,
              "#9c179e"
             ],
             [
              0.4444444444444444,
              "#bd3786"
             ],
             [
              0.5555555555555556,
              "#d8576b"
             ],
             [
              0.6666666666666666,
              "#ed7953"
             ],
             [
              0.7777777777777778,
              "#fb9f3a"
             ],
             [
              0.8888888888888888,
              "#fdca26"
             ],
             [
              1,
              "#f0f921"
             ]
            ],
            "type": "heatmapgl"
           }
          ],
          "histogram": [
           {
            "marker": {
             "pattern": {
              "fillmode": "overlay",
              "size": 10,
              "solidity": 0.2
             }
            },
            "type": "histogram"
           }
          ],
          "histogram2d": [
           {
            "colorbar": {
             "outlinewidth": 0,
             "ticks": ""
            },
            "colorscale": [
             [
              0,
              "#0d0887"
             ],
             [
              0.1111111111111111,
              "#46039f"
             ],
             [
              0.2222222222222222,
              "#7201a8"
             ],
             [
              0.3333333333333333,
              "#9c179e"
             ],
             [
              0.4444444444444444,
              "#bd3786"
             ],
             [
              0.5555555555555556,
              "#d8576b"
             ],
             [
              0.6666666666666666,
              "#ed7953"
             ],
             [
              0.7777777777777778,
              "#fb9f3a"
             ],
             [
              0.8888888888888888,
              "#fdca26"
             ],
             [
              1,
              "#f0f921"
             ]
            ],
            "type": "histogram2d"
           }
          ],
          "histogram2dcontour": [
           {
            "colorbar": {
             "outlinewidth": 0,
             "ticks": ""
            },
            "colorscale": [
             [
              0,
              "#0d0887"
             ],
             [
              0.1111111111111111,
              "#46039f"
             ],
             [
              0.2222222222222222,
              "#7201a8"
             ],
             [
              0.3333333333333333,
              "#9c179e"
             ],
             [
              0.4444444444444444,
              "#bd3786"
             ],
             [
              0.5555555555555556,
              "#d8576b"
             ],
             [
              0.6666666666666666,
              "#ed7953"
             ],
             [
              0.7777777777777778,
              "#fb9f3a"
             ],
             [
              0.8888888888888888,
              "#fdca26"
             ],
             [
              1,
              "#f0f921"
             ]
            ],
            "type": "histogram2dcontour"
           }
          ],
          "mesh3d": [
           {
            "colorbar": {
             "outlinewidth": 0,
             "ticks": ""
            },
            "type": "mesh3d"
           }
          ],
          "parcoords": [
           {
            "line": {
             "colorbar": {
              "outlinewidth": 0,
              "ticks": ""
             }
            },
            "type": "parcoords"
           }
          ],
          "pie": [
           {
            "automargin": true,
            "type": "pie"
           }
          ],
          "scatter": [
           {
            "fillpattern": {
             "fillmode": "overlay",
             "size": 10,
             "solidity": 0.2
            },
            "type": "scatter"
           }
          ],
          "scatter3d": [
           {
            "line": {
             "colorbar": {
              "outlinewidth": 0,
              "ticks": ""
             }
            },
            "marker": {
             "colorbar": {
              "outlinewidth": 0,
              "ticks": ""
             }
            },
            "type": "scatter3d"
           }
          ],
          "scattercarpet": [
           {
            "marker": {
             "colorbar": {
              "outlinewidth": 0,
              "ticks": ""
             }
            },
            "type": "scattercarpet"
           }
          ],
          "scattergeo": [
           {
            "marker": {
             "colorbar": {
              "outlinewidth": 0,
              "ticks": ""
             }
            },
            "type": "scattergeo"
           }
          ],
          "scattergl": [
           {
            "marker": {
             "colorbar": {
              "outlinewidth": 0,
              "ticks": ""
             }
            },
            "type": "scattergl"
           }
          ],
          "scattermapbox": [
           {
            "marker": {
             "colorbar": {
              "outlinewidth": 0,
              "ticks": ""
             }
            },
            "type": "scattermapbox"
           }
          ],
          "scatterpolar": [
           {
            "marker": {
             "colorbar": {
              "outlinewidth": 0,
              "ticks": ""
             }
            },
            "type": "scatterpolar"
           }
          ],
          "scatterpolargl": [
           {
            "marker": {
             "colorbar": {
              "outlinewidth": 0,
              "ticks": ""
             }
            },
            "type": "scatterpolargl"
           }
          ],
          "scatterternary": [
           {
            "marker": {
             "colorbar": {
              "outlinewidth": 0,
              "ticks": ""
             }
            },
            "type": "scatterternary"
           }
          ],
          "surface": [
           {
            "colorbar": {
             "outlinewidth": 0,
             "ticks": ""
            },
            "colorscale": [
             [
              0,
              "#0d0887"
             ],
             [
              0.1111111111111111,
              "#46039f"
             ],
             [
              0.2222222222222222,
              "#7201a8"
             ],
             [
              0.3333333333333333,
              "#9c179e"
             ],
             [
              0.4444444444444444,
              "#bd3786"
             ],
             [
              0.5555555555555556,
              "#d8576b"
             ],
             [
              0.6666666666666666,
              "#ed7953"
             ],
             [
              0.7777777777777778,
              "#fb9f3a"
             ],
             [
              0.8888888888888888,
              "#fdca26"
             ],
             [
              1,
              "#f0f921"
             ]
            ],
            "type": "surface"
           }
          ],
          "table": [
           {
            "cells": {
             "fill": {
              "color": "#EBF0F8"
             },
             "line": {
              "color": "white"
             }
            },
            "header": {
             "fill": {
              "color": "#C8D4E3"
             },
             "line": {
              "color": "white"
             }
            },
            "type": "table"
           }
          ]
         },
         "layout": {
          "annotationdefaults": {
           "arrowcolor": "#2a3f5f",
           "arrowhead": 0,
           "arrowwidth": 1
          },
          "autotypenumbers": "strict",
          "coloraxis": {
           "colorbar": {
            "outlinewidth": 0,
            "ticks": ""
           }
          },
          "colorscale": {
           "diverging": [
            [
             0,
             "#8e0152"
            ],
            [
             0.1,
             "#c51b7d"
            ],
            [
             0.2,
             "#de77ae"
            ],
            [
             0.3,
             "#f1b6da"
            ],
            [
             0.4,
             "#fde0ef"
            ],
            [
             0.5,
             "#f7f7f7"
            ],
            [
             0.6,
             "#e6f5d0"
            ],
            [
             0.7,
             "#b8e186"
            ],
            [
             0.8,
             "#7fbc41"
            ],
            [
             0.9,
             "#4d9221"
            ],
            [
             1,
             "#276419"
            ]
           ],
           "sequential": [
            [
             0,
             "#0d0887"
            ],
            [
             0.1111111111111111,
             "#46039f"
            ],
            [
             0.2222222222222222,
             "#7201a8"
            ],
            [
             0.3333333333333333,
             "#9c179e"
            ],
            [
             0.4444444444444444,
             "#bd3786"
            ],
            [
             0.5555555555555556,
             "#d8576b"
            ],
            [
             0.6666666666666666,
             "#ed7953"
            ],
            [
             0.7777777777777778,
             "#fb9f3a"
            ],
            [
             0.8888888888888888,
             "#fdca26"
            ],
            [
             1,
             "#f0f921"
            ]
           ],
           "sequentialminus": [
            [
             0,
             "#0d0887"
            ],
            [
             0.1111111111111111,
             "#46039f"
            ],
            [
             0.2222222222222222,
             "#7201a8"
            ],
            [
             0.3333333333333333,
             "#9c179e"
            ],
            [
             0.4444444444444444,
             "#bd3786"
            ],
            [
             0.5555555555555556,
             "#d8576b"
            ],
            [
             0.6666666666666666,
             "#ed7953"
            ],
            [
             0.7777777777777778,
             "#fb9f3a"
            ],
            [
             0.8888888888888888,
             "#fdca26"
            ],
            [
             1,
             "#f0f921"
            ]
           ]
          },
          "colorway": [
           "#636efa",
           "#EF553B",
           "#00cc96",
           "#ab63fa",
           "#FFA15A",
           "#19d3f3",
           "#FF6692",
           "#B6E880",
           "#FF97FF",
           "#FECB52"
          ],
          "font": {
           "color": "#2a3f5f"
          },
          "geo": {
           "bgcolor": "white",
           "lakecolor": "white",
           "landcolor": "#E5ECF6",
           "showlakes": true,
           "showland": true,
           "subunitcolor": "white"
          },
          "hoverlabel": {
           "align": "left"
          },
          "hovermode": "closest",
          "mapbox": {
           "style": "light"
          },
          "paper_bgcolor": "white",
          "plot_bgcolor": "#E5ECF6",
          "polar": {
           "angularaxis": {
            "gridcolor": "white",
            "linecolor": "white",
            "ticks": ""
           },
           "bgcolor": "#E5ECF6",
           "radialaxis": {
            "gridcolor": "white",
            "linecolor": "white",
            "ticks": ""
           }
          },
          "scene": {
           "xaxis": {
            "backgroundcolor": "#E5ECF6",
            "gridcolor": "white",
            "gridwidth": 2,
            "linecolor": "white",
            "showbackground": true,
            "ticks": "",
            "zerolinecolor": "white"
           },
           "yaxis": {
            "backgroundcolor": "#E5ECF6",
            "gridcolor": "white",
            "gridwidth": 2,
            "linecolor": "white",
            "showbackground": true,
            "ticks": "",
            "zerolinecolor": "white"
           },
           "zaxis": {
            "backgroundcolor": "#E5ECF6",
            "gridcolor": "white",
            "gridwidth": 2,
            "linecolor": "white",
            "showbackground": true,
            "ticks": "",
            "zerolinecolor": "white"
           }
          },
          "shapedefaults": {
           "line": {
            "color": "#2a3f5f"
           }
          },
          "ternary": {
           "aaxis": {
            "gridcolor": "white",
            "linecolor": "white",
            "ticks": ""
           },
           "baxis": {
            "gridcolor": "white",
            "linecolor": "white",
            "ticks": ""
           },
           "bgcolor": "#E5ECF6",
           "caxis": {
            "gridcolor": "white",
            "linecolor": "white",
            "ticks": ""
           }
          },
          "title": {
           "x": 0.05
          },
          "xaxis": {
           "automargin": true,
           "gridcolor": "white",
           "linecolor": "white",
           "ticks": "",
           "title": {
            "standoff": 15
           },
           "zerolinecolor": "white",
           "zerolinewidth": 2
          },
          "yaxis": {
           "automargin": true,
           "gridcolor": "white",
           "linecolor": "white",
           "ticks": "",
           "title": {
            "standoff": 15
           },
           "zerolinecolor": "white",
           "zerolinewidth": 2
          }
         }
        },
        "title": {
         "text": "Power Outages Over Time"
        },
        "xaxis": {
         "anchor": "y",
         "domain": [
          0,
          1
         ],
         "title": {
          "text": "Year"
         }
        },
        "yaxis": {
         "anchor": "x",
         "domain": [
          0,
          1
         ],
         "title": {
          "text": "Number of Outages"
         }
        }
       }
      }
     },
     "metadata": {},
     "output_type": "display_data"
    }
   ],
   "source": [
    "outages_per_year = outages_df['YEAR'].value_counts().sort_index().reset_index()\n",
    "outages_per_year.columns = ['Year', 'Number of Outages']\n",
    "\n",
    "fig = px.line(outages_per_year, x = 'Year', y = 'Number of Outages', title = 'Power Outages Over Time')\n",
    "\n",
    "fig.show()\n",
    "\n"
   ]
  },
  {
   "cell_type": "code",
   "execution_count": 13,
   "metadata": {},
   "outputs": [],
   "source": [
    "#fig.write_html(\"outages_overtime.html\", full_html=True, include_plotlyjs='cdn')"
   ]
  },
  {
   "cell_type": "markdown",
   "metadata": {},
   "source": [
    "We also wanted to see the number of power outages across the different climate regions. "
   ]
  },
  {
   "cell_type": "code",
   "execution_count": 14,
   "metadata": {},
   "outputs": [
    {
     "data": {
      "application/vnd.plotly.v1+json": {
       "config": {
        "plotlyServerURL": "https://plot.ly"
       },
       "data": [
        {
         "alignmentgroup": "True",
         "hovertemplate": "Climate Region=%{x}<br>Number of Outages=%{text}<extra></extra>",
         "legendgroup": "Northeast",
         "marker": {
          "color": "#636efa",
          "pattern": {
           "shape": ""
          }
         },
         "name": "Northeast",
         "offsetgroup": "Northeast",
         "orientation": "v",
         "showlegend": true,
         "text": [
          350
         ],
         "textposition": "auto",
         "type": "bar",
         "x": [
          "Northeast"
         ],
         "xaxis": "x",
         "y": [
          350
         ],
         "yaxis": "y"
        },
        {
         "alignmentgroup": "True",
         "hovertemplate": "Climate Region=%{x}<br>Number of Outages=%{text}<extra></extra>",
         "legendgroup": "South",
         "marker": {
          "color": "#EF553B",
          "pattern": {
           "shape": ""
          }
         },
         "name": "South",
         "offsetgroup": "South",
         "orientation": "v",
         "showlegend": true,
         "text": [
          229
         ],
         "textposition": "auto",
         "type": "bar",
         "x": [
          "South"
         ],
         "xaxis": "x",
         "y": [
          229
         ],
         "yaxis": "y"
        },
        {
         "alignmentgroup": "True",
         "hovertemplate": "Climate Region=%{x}<br>Number of Outages=%{text}<extra></extra>",
         "legendgroup": "West",
         "marker": {
          "color": "#00cc96",
          "pattern": {
           "shape": ""
          }
         },
         "name": "West",
         "offsetgroup": "West",
         "orientation": "v",
         "showlegend": true,
         "text": [
          217
         ],
         "textposition": "auto",
         "type": "bar",
         "x": [
          "West"
         ],
         "xaxis": "x",
         "y": [
          217
         ],
         "yaxis": "y"
        },
        {
         "alignmentgroup": "True",
         "hovertemplate": "Climate Region=%{x}<br>Number of Outages=%{text}<extra></extra>",
         "legendgroup": "Central",
         "marker": {
          "color": "#ab63fa",
          "pattern": {
           "shape": ""
          }
         },
         "name": "Central",
         "offsetgroup": "Central",
         "orientation": "v",
         "showlegend": true,
         "text": [
          200
         ],
         "textposition": "auto",
         "type": "bar",
         "x": [
          "Central"
         ],
         "xaxis": "x",
         "y": [
          200
         ],
         "yaxis": "y"
        },
        {
         "alignmentgroup": "True",
         "hovertemplate": "Climate Region=%{x}<br>Number of Outages=%{text}<extra></extra>",
         "legendgroup": "Southeast",
         "marker": {
          "color": "#FFA15A",
          "pattern": {
           "shape": ""
          }
         },
         "name": "Southeast",
         "offsetgroup": "Southeast",
         "orientation": "v",
         "showlegend": true,
         "text": [
          153
         ],
         "textposition": "auto",
         "type": "bar",
         "x": [
          "Southeast"
         ],
         "xaxis": "x",
         "y": [
          153
         ],
         "yaxis": "y"
        },
        {
         "alignmentgroup": "True",
         "hovertemplate": "Climate Region=%{x}<br>Number of Outages=%{text}<extra></extra>",
         "legendgroup": "East North Central",
         "marker": {
          "color": "#19d3f3",
          "pattern": {
           "shape": ""
          }
         },
         "name": "East North Central",
         "offsetgroup": "East North Central",
         "orientation": "v",
         "showlegend": true,
         "text": [
          138
         ],
         "textposition": "auto",
         "type": "bar",
         "x": [
          "East North Central"
         ],
         "xaxis": "x",
         "y": [
          138
         ],
         "yaxis": "y"
        },
        {
         "alignmentgroup": "True",
         "hovertemplate": "Climate Region=%{x}<br>Number of Outages=%{text}<extra></extra>",
         "legendgroup": "Northwest",
         "marker": {
          "color": "#FF6692",
          "pattern": {
           "shape": ""
          }
         },
         "name": "Northwest",
         "offsetgroup": "Northwest",
         "orientation": "v",
         "showlegend": true,
         "text": [
          132
         ],
         "textposition": "auto",
         "type": "bar",
         "x": [
          "Northwest"
         ],
         "xaxis": "x",
         "y": [
          132
         ],
         "yaxis": "y"
        },
        {
         "alignmentgroup": "True",
         "hovertemplate": "Climate Region=%{x}<br>Number of Outages=%{text}<extra></extra>",
         "legendgroup": "Southwest",
         "marker": {
          "color": "#B6E880",
          "pattern": {
           "shape": ""
          }
         },
         "name": "Southwest",
         "offsetgroup": "Southwest",
         "orientation": "v",
         "showlegend": true,
         "text": [
          92
         ],
         "textposition": "auto",
         "type": "bar",
         "x": [
          "Southwest"
         ],
         "xaxis": "x",
         "y": [
          92
         ],
         "yaxis": "y"
        },
        {
         "alignmentgroup": "True",
         "hovertemplate": "Climate Region=%{x}<br>Number of Outages=%{text}<extra></extra>",
         "legendgroup": "West North Central",
         "marker": {
          "color": "#FF97FF",
          "pattern": {
           "shape": ""
          }
         },
         "name": "West North Central",
         "offsetgroup": "West North Central",
         "orientation": "v",
         "showlegend": true,
         "text": [
          17
         ],
         "textposition": "auto",
         "type": "bar",
         "x": [
          "West North Central"
         ],
         "xaxis": "x",
         "y": [
          17
         ],
         "yaxis": "y"
        }
       ],
       "layout": {
        "barmode": "relative",
        "legend": {
         "title": {
          "text": "Climate Region"
         },
         "tracegroupgap": 0
        },
        "template": {
         "data": {
          "bar": [
           {
            "error_x": {
             "color": "#2a3f5f"
            },
            "error_y": {
             "color": "#2a3f5f"
            },
            "marker": {
             "line": {
              "color": "#E5ECF6",
              "width": 0.5
             },
             "pattern": {
              "fillmode": "overlay",
              "size": 10,
              "solidity": 0.2
             }
            },
            "type": "bar"
           }
          ],
          "barpolar": [
           {
            "marker": {
             "line": {
              "color": "#E5ECF6",
              "width": 0.5
             },
             "pattern": {
              "fillmode": "overlay",
              "size": 10,
              "solidity": 0.2
             }
            },
            "type": "barpolar"
           }
          ],
          "carpet": [
           {
            "aaxis": {
             "endlinecolor": "#2a3f5f",
             "gridcolor": "white",
             "linecolor": "white",
             "minorgridcolor": "white",
             "startlinecolor": "#2a3f5f"
            },
            "baxis": {
             "endlinecolor": "#2a3f5f",
             "gridcolor": "white",
             "linecolor": "white",
             "minorgridcolor": "white",
             "startlinecolor": "#2a3f5f"
            },
            "type": "carpet"
           }
          ],
          "choropleth": [
           {
            "colorbar": {
             "outlinewidth": 0,
             "ticks": ""
            },
            "type": "choropleth"
           }
          ],
          "contour": [
           {
            "colorbar": {
             "outlinewidth": 0,
             "ticks": ""
            },
            "colorscale": [
             [
              0,
              "#0d0887"
             ],
             [
              0.1111111111111111,
              "#46039f"
             ],
             [
              0.2222222222222222,
              "#7201a8"
             ],
             [
              0.3333333333333333,
              "#9c179e"
             ],
             [
              0.4444444444444444,
              "#bd3786"
             ],
             [
              0.5555555555555556,
              "#d8576b"
             ],
             [
              0.6666666666666666,
              "#ed7953"
             ],
             [
              0.7777777777777778,
              "#fb9f3a"
             ],
             [
              0.8888888888888888,
              "#fdca26"
             ],
             [
              1,
              "#f0f921"
             ]
            ],
            "type": "contour"
           }
          ],
          "contourcarpet": [
           {
            "colorbar": {
             "outlinewidth": 0,
             "ticks": ""
            },
            "type": "contourcarpet"
           }
          ],
          "heatmap": [
           {
            "colorbar": {
             "outlinewidth": 0,
             "ticks": ""
            },
            "colorscale": [
             [
              0,
              "#0d0887"
             ],
             [
              0.1111111111111111,
              "#46039f"
             ],
             [
              0.2222222222222222,
              "#7201a8"
             ],
             [
              0.3333333333333333,
              "#9c179e"
             ],
             [
              0.4444444444444444,
              "#bd3786"
             ],
             [
              0.5555555555555556,
              "#d8576b"
             ],
             [
              0.6666666666666666,
              "#ed7953"
             ],
             [
              0.7777777777777778,
              "#fb9f3a"
             ],
             [
              0.8888888888888888,
              "#fdca26"
             ],
             [
              1,
              "#f0f921"
             ]
            ],
            "type": "heatmap"
           }
          ],
          "heatmapgl": [
           {
            "colorbar": {
             "outlinewidth": 0,
             "ticks": ""
            },
            "colorscale": [
             [
              0,
              "#0d0887"
             ],
             [
              0.1111111111111111,
              "#46039f"
             ],
             [
              0.2222222222222222,
              "#7201a8"
             ],
             [
              0.3333333333333333,
              "#9c179e"
             ],
             [
              0.4444444444444444,
              "#bd3786"
             ],
             [
              0.5555555555555556,
              "#d8576b"
             ],
             [
              0.6666666666666666,
              "#ed7953"
             ],
             [
              0.7777777777777778,
              "#fb9f3a"
             ],
             [
              0.8888888888888888,
              "#fdca26"
             ],
             [
              1,
              "#f0f921"
             ]
            ],
            "type": "heatmapgl"
           }
          ],
          "histogram": [
           {
            "marker": {
             "pattern": {
              "fillmode": "overlay",
              "size": 10,
              "solidity": 0.2
             }
            },
            "type": "histogram"
           }
          ],
          "histogram2d": [
           {
            "colorbar": {
             "outlinewidth": 0,
             "ticks": ""
            },
            "colorscale": [
             [
              0,
              "#0d0887"
             ],
             [
              0.1111111111111111,
              "#46039f"
             ],
             [
              0.2222222222222222,
              "#7201a8"
             ],
             [
              0.3333333333333333,
              "#9c179e"
             ],
             [
              0.4444444444444444,
              "#bd3786"
             ],
             [
              0.5555555555555556,
              "#d8576b"
             ],
             [
              0.6666666666666666,
              "#ed7953"
             ],
             [
              0.7777777777777778,
              "#fb9f3a"
             ],
             [
              0.8888888888888888,
              "#fdca26"
             ],
             [
              1,
              "#f0f921"
             ]
            ],
            "type": "histogram2d"
           }
          ],
          "histogram2dcontour": [
           {
            "colorbar": {
             "outlinewidth": 0,
             "ticks": ""
            },
            "colorscale": [
             [
              0,
              "#0d0887"
             ],
             [
              0.1111111111111111,
              "#46039f"
             ],
             [
              0.2222222222222222,
              "#7201a8"
             ],
             [
              0.3333333333333333,
              "#9c179e"
             ],
             [
              0.4444444444444444,
              "#bd3786"
             ],
             [
              0.5555555555555556,
              "#d8576b"
             ],
             [
              0.6666666666666666,
              "#ed7953"
             ],
             [
              0.7777777777777778,
              "#fb9f3a"
             ],
             [
              0.8888888888888888,
              "#fdca26"
             ],
             [
              1,
              "#f0f921"
             ]
            ],
            "type": "histogram2dcontour"
           }
          ],
          "mesh3d": [
           {
            "colorbar": {
             "outlinewidth": 0,
             "ticks": ""
            },
            "type": "mesh3d"
           }
          ],
          "parcoords": [
           {
            "line": {
             "colorbar": {
              "outlinewidth": 0,
              "ticks": ""
             }
            },
            "type": "parcoords"
           }
          ],
          "pie": [
           {
            "automargin": true,
            "type": "pie"
           }
          ],
          "scatter": [
           {
            "fillpattern": {
             "fillmode": "overlay",
             "size": 10,
             "solidity": 0.2
            },
            "type": "scatter"
           }
          ],
          "scatter3d": [
           {
            "line": {
             "colorbar": {
              "outlinewidth": 0,
              "ticks": ""
             }
            },
            "marker": {
             "colorbar": {
              "outlinewidth": 0,
              "ticks": ""
             }
            },
            "type": "scatter3d"
           }
          ],
          "scattercarpet": [
           {
            "marker": {
             "colorbar": {
              "outlinewidth": 0,
              "ticks": ""
             }
            },
            "type": "scattercarpet"
           }
          ],
          "scattergeo": [
           {
            "marker": {
             "colorbar": {
              "outlinewidth": 0,
              "ticks": ""
             }
            },
            "type": "scattergeo"
           }
          ],
          "scattergl": [
           {
            "marker": {
             "colorbar": {
              "outlinewidth": 0,
              "ticks": ""
             }
            },
            "type": "scattergl"
           }
          ],
          "scattermapbox": [
           {
            "marker": {
             "colorbar": {
              "outlinewidth": 0,
              "ticks": ""
             }
            },
            "type": "scattermapbox"
           }
          ],
          "scatterpolar": [
           {
            "marker": {
             "colorbar": {
              "outlinewidth": 0,
              "ticks": ""
             }
            },
            "type": "scatterpolar"
           }
          ],
          "scatterpolargl": [
           {
            "marker": {
             "colorbar": {
              "outlinewidth": 0,
              "ticks": ""
             }
            },
            "type": "scatterpolargl"
           }
          ],
          "scatterternary": [
           {
            "marker": {
             "colorbar": {
              "outlinewidth": 0,
              "ticks": ""
             }
            },
            "type": "scatterternary"
           }
          ],
          "surface": [
           {
            "colorbar": {
             "outlinewidth": 0,
             "ticks": ""
            },
            "colorscale": [
             [
              0,
              "#0d0887"
             ],
             [
              0.1111111111111111,
              "#46039f"
             ],
             [
              0.2222222222222222,
              "#7201a8"
             ],
             [
              0.3333333333333333,
              "#9c179e"
             ],
             [
              0.4444444444444444,
              "#bd3786"
             ],
             [
              0.5555555555555556,
              "#d8576b"
             ],
             [
              0.6666666666666666,
              "#ed7953"
             ],
             [
              0.7777777777777778,
              "#fb9f3a"
             ],
             [
              0.8888888888888888,
              "#fdca26"
             ],
             [
              1,
              "#f0f921"
             ]
            ],
            "type": "surface"
           }
          ],
          "table": [
           {
            "cells": {
             "fill": {
              "color": "#EBF0F8"
             },
             "line": {
              "color": "white"
             }
            },
            "header": {
             "fill": {
              "color": "#C8D4E3"
             },
             "line": {
              "color": "white"
             }
            },
            "type": "table"
           }
          ]
         },
         "layout": {
          "annotationdefaults": {
           "arrowcolor": "#2a3f5f",
           "arrowhead": 0,
           "arrowwidth": 1
          },
          "autotypenumbers": "strict",
          "coloraxis": {
           "colorbar": {
            "outlinewidth": 0,
            "ticks": ""
           }
          },
          "colorscale": {
           "diverging": [
            [
             0,
             "#8e0152"
            ],
            [
             0.1,
             "#c51b7d"
            ],
            [
             0.2,
             "#de77ae"
            ],
            [
             0.3,
             "#f1b6da"
            ],
            [
             0.4,
             "#fde0ef"
            ],
            [
             0.5,
             "#f7f7f7"
            ],
            [
             0.6,
             "#e6f5d0"
            ],
            [
             0.7,
             "#b8e186"
            ],
            [
             0.8,
             "#7fbc41"
            ],
            [
             0.9,
             "#4d9221"
            ],
            [
             1,
             "#276419"
            ]
           ],
           "sequential": [
            [
             0,
             "#0d0887"
            ],
            [
             0.1111111111111111,
             "#46039f"
            ],
            [
             0.2222222222222222,
             "#7201a8"
            ],
            [
             0.3333333333333333,
             "#9c179e"
            ],
            [
             0.4444444444444444,
             "#bd3786"
            ],
            [
             0.5555555555555556,
             "#d8576b"
            ],
            [
             0.6666666666666666,
             "#ed7953"
            ],
            [
             0.7777777777777778,
             "#fb9f3a"
            ],
            [
             0.8888888888888888,
             "#fdca26"
            ],
            [
             1,
             "#f0f921"
            ]
           ],
           "sequentialminus": [
            [
             0,
             "#0d0887"
            ],
            [
             0.1111111111111111,
             "#46039f"
            ],
            [
             0.2222222222222222,
             "#7201a8"
            ],
            [
             0.3333333333333333,
             "#9c179e"
            ],
            [
             0.4444444444444444,
             "#bd3786"
            ],
            [
             0.5555555555555556,
             "#d8576b"
            ],
            [
             0.6666666666666666,
             "#ed7953"
            ],
            [
             0.7777777777777778,
             "#fb9f3a"
            ],
            [
             0.8888888888888888,
             "#fdca26"
            ],
            [
             1,
             "#f0f921"
            ]
           ]
          },
          "colorway": [
           "#636efa",
           "#EF553B",
           "#00cc96",
           "#ab63fa",
           "#FFA15A",
           "#19d3f3",
           "#FF6692",
           "#B6E880",
           "#FF97FF",
           "#FECB52"
          ],
          "font": {
           "color": "#2a3f5f"
          },
          "geo": {
           "bgcolor": "white",
           "lakecolor": "white",
           "landcolor": "#E5ECF6",
           "showlakes": true,
           "showland": true,
           "subunitcolor": "white"
          },
          "hoverlabel": {
           "align": "left"
          },
          "hovermode": "closest",
          "mapbox": {
           "style": "light"
          },
          "paper_bgcolor": "white",
          "plot_bgcolor": "#E5ECF6",
          "polar": {
           "angularaxis": {
            "gridcolor": "white",
            "linecolor": "white",
            "ticks": ""
           },
           "bgcolor": "#E5ECF6",
           "radialaxis": {
            "gridcolor": "white",
            "linecolor": "white",
            "ticks": ""
           }
          },
          "scene": {
           "xaxis": {
            "backgroundcolor": "#E5ECF6",
            "gridcolor": "white",
            "gridwidth": 2,
            "linecolor": "white",
            "showbackground": true,
            "ticks": "",
            "zerolinecolor": "white"
           },
           "yaxis": {
            "backgroundcolor": "#E5ECF6",
            "gridcolor": "white",
            "gridwidth": 2,
            "linecolor": "white",
            "showbackground": true,
            "ticks": "",
            "zerolinecolor": "white"
           },
           "zaxis": {
            "backgroundcolor": "#E5ECF6",
            "gridcolor": "white",
            "gridwidth": 2,
            "linecolor": "white",
            "showbackground": true,
            "ticks": "",
            "zerolinecolor": "white"
           }
          },
          "shapedefaults": {
           "line": {
            "color": "#2a3f5f"
           }
          },
          "ternary": {
           "aaxis": {
            "gridcolor": "white",
            "linecolor": "white",
            "ticks": ""
           },
           "baxis": {
            "gridcolor": "white",
            "linecolor": "white",
            "ticks": ""
           },
           "bgcolor": "#E5ECF6",
           "caxis": {
            "gridcolor": "white",
            "linecolor": "white",
            "ticks": ""
           }
          },
          "title": {
           "x": 0.05
          },
          "xaxis": {
           "automargin": true,
           "gridcolor": "white",
           "linecolor": "white",
           "ticks": "",
           "title": {
            "standoff": 15
           },
           "zerolinecolor": "white",
           "zerolinewidth": 2
          },
          "yaxis": {
           "automargin": true,
           "gridcolor": "white",
           "linecolor": "white",
           "ticks": "",
           "title": {
            "standoff": 15
           },
           "zerolinecolor": "white",
           "zerolinewidth": 2
          }
         }
        },
        "title": {
         "text": "Power Outages by Climate Region"
        },
        "xaxis": {
         "anchor": "y",
         "categoryarray": [
          "Northeast",
          "South",
          "West",
          "Central",
          "Southeast",
          "East North Central",
          "Northwest",
          "Southwest",
          "West North Central"
         ],
         "categoryorder": "array",
         "domain": [
          0,
          1
         ],
         "title": {
          "text": "Climate Region"
         }
        },
        "yaxis": {
         "anchor": "x",
         "domain": [
          0,
          1
         ],
         "title": {
          "text": "Number of Outages"
         }
        }
       }
      }
     },
     "metadata": {},
     "output_type": "display_data"
    }
   ],
   "source": [
    "outages_by_region = outages_df['CLIMATE.REGION'].value_counts().reset_index()\n",
    "outages_by_region.columns = ['Climate Region', 'Number of Outages']\n",
    "\n",
    "fig = px.bar(outages_by_region, x = 'Climate Region', y = 'Number of Outages', title = 'Power Outages by Climate Region', color = 'Climate Region', text = 'Number of Outages')\n",
    "\n",
    "fig.show()"
   ]
  },
  {
   "cell_type": "code",
   "execution_count": 15,
   "metadata": {},
   "outputs": [],
   "source": [
    "#fig.write_html(\"outages_climate_region.html\", full_html=True, include_plotlyjs='cdn')"
   ]
  },
  {
   "cell_type": "markdown",
   "metadata": {},
   "source": [
    "## Bivariate Analysis"
   ]
  },
  {
   "cell_type": "markdown",
   "metadata": {},
   "source": [
    "First, we wanted to take a look at how the 'OUTAGE.DURATIONS' were distributed across the different 'CLIMATE.REGION's."
   ]
  },
  {
   "cell_type": "code",
   "execution_count": 47,
   "metadata": {},
   "outputs": [
    {
     "data": {
      "text/html": [
       "<div>\n",
       "<style scoped>\n",
       "    .dataframe tbody tr th:only-of-type {\n",
       "        vertical-align: middle;\n",
       "    }\n",
       "\n",
       "    .dataframe tbody tr th {\n",
       "        vertical-align: top;\n",
       "    }\n",
       "\n",
       "    .dataframe thead th {\n",
       "        text-align: right;\n",
       "    }\n",
       "</style>\n",
       "<table border=\"1\" class=\"dataframe\">\n",
       "  <thead>\n",
       "    <tr style=\"text-align: right;\">\n",
       "      <th></th>\n",
       "      <th>YEAR</th>\n",
       "      <th>MONTH</th>\n",
       "      <th>U.S._STATE</th>\n",
       "      <th>NERC.REGION</th>\n",
       "      <th>CLIMATE.REGION</th>\n",
       "      <th>CAUSE.CATEGORY</th>\n",
       "      <th>CLIMATE.CATEGORY</th>\n",
       "      <th>OUTAGE.DURATION</th>\n",
       "      <th>CUSTOMERS.AFFECTED</th>\n",
       "      <th>TOTAL.CUSTOMERS</th>\n",
       "      <th>POPDEN_URBAN</th>\n",
       "      <th>OUTAGE.START</th>\n",
       "      <th>OUTAGE.RESTORATION</th>\n",
       "    </tr>\n",
       "  </thead>\n",
       "  <tbody>\n",
       "    <tr>\n",
       "      <th>0</th>\n",
       "      <td>2011.0</td>\n",
       "      <td>7.0</td>\n",
       "      <td>Minnesota</td>\n",
       "      <td>MRO</td>\n",
       "      <td>East North Central</td>\n",
       "      <td>severe weather</td>\n",
       "      <td>normal</td>\n",
       "      <td>3060</td>\n",
       "      <td>70000.0</td>\n",
       "      <td>2595696.0</td>\n",
       "      <td>2279</td>\n",
       "      <td>2011-07-01 17:00:00</td>\n",
       "      <td>2011-07-03 20:00:00</td>\n",
       "    </tr>\n",
       "    <tr>\n",
       "      <th>1</th>\n",
       "      <td>2014.0</td>\n",
       "      <td>5.0</td>\n",
       "      <td>Minnesota</td>\n",
       "      <td>MRO</td>\n",
       "      <td>East North Central</td>\n",
       "      <td>intentional attack</td>\n",
       "      <td>normal</td>\n",
       "      <td>1</td>\n",
       "      <td>NaN</td>\n",
       "      <td>2640737.0</td>\n",
       "      <td>2279</td>\n",
       "      <td>2014-05-11 18:38:00</td>\n",
       "      <td>2014-05-11 18:39:00</td>\n",
       "    </tr>\n",
       "    <tr>\n",
       "      <th>2</th>\n",
       "      <td>2010.0</td>\n",
       "      <td>10.0</td>\n",
       "      <td>Minnesota</td>\n",
       "      <td>MRO</td>\n",
       "      <td>East North Central</td>\n",
       "      <td>severe weather</td>\n",
       "      <td>cold</td>\n",
       "      <td>3000</td>\n",
       "      <td>70000.0</td>\n",
       "      <td>2586905.0</td>\n",
       "      <td>2279</td>\n",
       "      <td>2010-10-26 20:00:00</td>\n",
       "      <td>2010-10-28 22:00:00</td>\n",
       "    </tr>\n",
       "    <tr>\n",
       "      <th>3</th>\n",
       "      <td>2012.0</td>\n",
       "      <td>6.0</td>\n",
       "      <td>Minnesota</td>\n",
       "      <td>MRO</td>\n",
       "      <td>East North Central</td>\n",
       "      <td>severe weather</td>\n",
       "      <td>normal</td>\n",
       "      <td>2550</td>\n",
       "      <td>68200.0</td>\n",
       "      <td>2606813.0</td>\n",
       "      <td>2279</td>\n",
       "      <td>2012-06-19 04:30:00</td>\n",
       "      <td>2012-06-20 23:00:00</td>\n",
       "    </tr>\n",
       "    <tr>\n",
       "      <th>4</th>\n",
       "      <td>2015.0</td>\n",
       "      <td>7.0</td>\n",
       "      <td>Minnesota</td>\n",
       "      <td>MRO</td>\n",
       "      <td>East North Central</td>\n",
       "      <td>severe weather</td>\n",
       "      <td>warm</td>\n",
       "      <td>1740</td>\n",
       "      <td>250000.0</td>\n",
       "      <td>2673531.0</td>\n",
       "      <td>2279</td>\n",
       "      <td>2015-07-18 02:00:00</td>\n",
       "      <td>2015-07-19 07:00:00</td>\n",
       "    </tr>\n",
       "  </tbody>\n",
       "</table>\n",
       "</div>"
      ],
      "text/plain": [
       "     YEAR  MONTH U.S._STATE NERC.REGION      CLIMATE.REGION  \\\n",
       "0  2011.0    7.0  Minnesota         MRO  East North Central   \n",
       "1  2014.0    5.0  Minnesota         MRO  East North Central   \n",
       "2  2010.0   10.0  Minnesota         MRO  East North Central   \n",
       "3  2012.0    6.0  Minnesota         MRO  East North Central   \n",
       "4  2015.0    7.0  Minnesota         MRO  East North Central   \n",
       "\n",
       "       CAUSE.CATEGORY CLIMATE.CATEGORY OUTAGE.DURATION  CUSTOMERS.AFFECTED  \\\n",
       "0      severe weather           normal            3060             70000.0   \n",
       "1  intentional attack           normal               1                 NaN   \n",
       "2      severe weather             cold            3000             70000.0   \n",
       "3      severe weather           normal            2550             68200.0   \n",
       "4      severe weather             warm            1740            250000.0   \n",
       "\n",
       "   TOTAL.CUSTOMERS POPDEN_URBAN        OUTAGE.START  OUTAGE.RESTORATION  \n",
       "0        2595696.0         2279 2011-07-01 17:00:00 2011-07-03 20:00:00  \n",
       "1        2640737.0         2279 2014-05-11 18:38:00 2014-05-11 18:39:00  \n",
       "2        2586905.0         2279 2010-10-26 20:00:00 2010-10-28 22:00:00  \n",
       "3        2606813.0         2279 2012-06-19 04:30:00 2012-06-20 23:00:00  \n",
       "4        2673531.0         2279 2015-07-18 02:00:00 2015-07-19 07:00:00  "
      ]
     },
     "execution_count": 47,
     "metadata": {},
     "output_type": "execute_result"
    }
   ],
   "source": [
    "outages_df.head()"
   ]
  },
  {
   "cell_type": "code",
   "execution_count": 57,
   "metadata": {},
   "outputs": [
    {
     "name": "stderr",
     "output_type": "stream",
     "text": [
      "C:\\Users\\haing\\AppData\\Local\\Temp\\ipykernel_8672\\276164523.py:6: SettingWithCopyWarning:\n",
      "\n",
      "\n",
      "A value is trying to be set on a copy of a slice from a DataFrame.\n",
      "Try using .loc[row_indexer,col_indexer] = value instead\n",
      "\n",
      "See the caveats in the documentation: https://pandas.pydata.org/pandas-docs/stable/user_guide/indexing.html#returning-a-view-versus-a-copy\n",
      "\n"
     ]
    },
    {
     "data": {
      "application/vnd.plotly.v1+json": {
       "config": {
        "plotlyServerURL": "https://plot.ly"
       },
       "data": [
        {
         "hovertemplate": "CAUSE.CATEGORY=%{x}<br>OUTAGE.DURATION=%{y}<extra></extra>",
         "legendgroup": "severe weather",
         "marker": {
          "color": "#636efa",
          "opacity": 0.6,
          "symbol": "circle"
         },
         "mode": "markers",
         "name": "severe weather",
         "showlegend": true,
         "type": "scattergl",
         "x": [
          "severe weather",
          "severe weather",
          "severe weather",
          "severe weather",
          "severe weather",
          "severe weather",
          "severe weather",
          "severe weather",
          "severe weather",
          "severe weather",
          "severe weather",
          "severe weather",
          "severe weather",
          "severe weather",
          "severe weather",
          "severe weather",
          "severe weather",
          "severe weather",
          "severe weather",
          "severe weather",
          "severe weather",
          "severe weather",
          "severe weather",
          "severe weather",
          "severe weather",
          "severe weather",
          "severe weather",
          "severe weather",
          "severe weather",
          "severe weather",
          "severe weather",
          "severe weather",
          "severe weather",
          "severe weather",
          "severe weather",
          "severe weather",
          "severe weather",
          "severe weather",
          "severe weather",
          "severe weather",
          "severe weather",
          "severe weather",
          "severe weather",
          "severe weather",
          "severe weather",
          "severe weather",
          "severe weather",
          "severe weather",
          "severe weather",
          "severe weather",
          "severe weather",
          "severe weather",
          "severe weather",
          "severe weather",
          "severe weather",
          "severe weather",
          "severe weather",
          "severe weather",
          "severe weather",
          "severe weather",
          "severe weather",
          "severe weather",
          "severe weather",
          "severe weather",
          "severe weather",
          "severe weather",
          "severe weather",
          "severe weather",
          "severe weather",
          "severe weather",
          "severe weather",
          "severe weather",
          "severe weather",
          "severe weather",
          "severe weather",
          "severe weather",
          "severe weather",
          "severe weather",
          "severe weather",
          "severe weather",
          "severe weather",
          "severe weather",
          "severe weather",
          "severe weather",
          "severe weather",
          "severe weather",
          "severe weather",
          "severe weather",
          "severe weather",
          "severe weather",
          "severe weather",
          "severe weather",
          "severe weather",
          "severe weather",
          "severe weather",
          "severe weather",
          "severe weather",
          "severe weather",
          "severe weather",
          "severe weather",
          "severe weather",
          "severe weather",
          "severe weather",
          "severe weather",
          "severe weather",
          "severe weather",
          "severe weather",
          "severe weather",
          "severe weather",
          "severe weather",
          "severe weather",
          "severe weather",
          "severe weather",
          "severe weather",
          "severe weather",
          "severe weather",
          "severe weather",
          "severe weather",
          "severe weather",
          "severe weather",
          "severe weather",
          "severe weather",
          "severe weather",
          "severe weather",
          "severe weather",
          "severe weather",
          "severe weather",
          "severe weather",
          "severe weather",
          "severe weather",
          "severe weather",
          "severe weather",
          "severe weather",
          "severe weather",
          "severe weather",
          "severe weather",
          "severe weather",
          "severe weather",
          "severe weather",
          "severe weather",
          "severe weather",
          "severe weather",
          "severe weather",
          "severe weather",
          "severe weather",
          "severe weather",
          "severe weather",
          "severe weather",
          "severe weather",
          "severe weather",
          "severe weather",
          "severe weather",
          "severe weather",
          "severe weather",
          "severe weather",
          "severe weather",
          "severe weather",
          "severe weather",
          "severe weather",
          "severe weather",
          "severe weather",
          "severe weather",
          "severe weather",
          "severe weather",
          "severe weather",
          "severe weather",
          "severe weather",
          "severe weather",
          "severe weather",
          "severe weather",
          "severe weather",
          "severe weather",
          "severe weather",
          "severe weather",
          "severe weather",
          "severe weather",
          "severe weather",
          "severe weather",
          "severe weather",
          "severe weather",
          "severe weather",
          "severe weather",
          "severe weather",
          "severe weather",
          "severe weather",
          "severe weather",
          "severe weather",
          "severe weather",
          "severe weather",
          "severe weather",
          "severe weather",
          "severe weather",
          "severe weather",
          "severe weather",
          "severe weather",
          "severe weather",
          "severe weather",
          "severe weather",
          "severe weather",
          "severe weather",
          "severe weather",
          "severe weather",
          "severe weather",
          "severe weather",
          "severe weather",
          "severe weather",
          "severe weather",
          "severe weather",
          "severe weather",
          "severe weather",
          "severe weather",
          "severe weather",
          "severe weather",
          "severe weather",
          "severe weather",
          "severe weather",
          "severe weather",
          "severe weather",
          "severe weather",
          "severe weather",
          "severe weather",
          "severe weather",
          "severe weather",
          "severe weather",
          "severe weather",
          "severe weather",
          "severe weather",
          "severe weather",
          "severe weather",
          "severe weather",
          "severe weather",
          "severe weather",
          "severe weather",
          "severe weather",
          "severe weather",
          "severe weather",
          "severe weather",
          "severe weather",
          "severe weather",
          "severe weather",
          "severe weather",
          "severe weather",
          "severe weather",
          "severe weather",
          "severe weather",
          "severe weather",
          "severe weather",
          "severe weather",
          "severe weather",
          "severe weather",
          "severe weather",
          "severe weather",
          "severe weather",
          "severe weather",
          "severe weather",
          "severe weather",
          "severe weather",
          "severe weather",
          "severe weather",
          "severe weather",
          "severe weather",
          "severe weather",
          "severe weather",
          "severe weather",
          "severe weather",
          "severe weather",
          "severe weather",
          "severe weather",
          "severe weather",
          "severe weather",
          "severe weather",
          "severe weather",
          "severe weather",
          "severe weather",
          "severe weather",
          "severe weather",
          "severe weather",
          "severe weather",
          "severe weather",
          "severe weather",
          "severe weather",
          "severe weather",
          "severe weather",
          "severe weather",
          "severe weather",
          "severe weather",
          "severe weather",
          "severe weather",
          "severe weather",
          "severe weather",
          "severe weather",
          "severe weather",
          "severe weather",
          "severe weather",
          "severe weather",
          "severe weather",
          "severe weather",
          "severe weather",
          "severe weather",
          "severe weather",
          "severe weather",
          "severe weather",
          "severe weather",
          "severe weather",
          "severe weather",
          "severe weather",
          "severe weather",
          "severe weather",
          "severe weather",
          "severe weather",
          "severe weather",
          "severe weather",
          "severe weather",
          "severe weather",
          "severe weather",
          "severe weather",
          "severe weather",
          "severe weather",
          "severe weather",
          "severe weather",
          "severe weather",
          "severe weather",
          "severe weather",
          "severe weather",
          "severe weather",
          "severe weather",
          "severe weather",
          "severe weather",
          "severe weather",
          "severe weather",
          "severe weather",
          "severe weather",
          "severe weather",
          "severe weather",
          "severe weather",
          "severe weather",
          "severe weather",
          "severe weather",
          "severe weather",
          "severe weather",
          "severe weather",
          "severe weather",
          "severe weather",
          "severe weather",
          "severe weather",
          "severe weather",
          "severe weather",
          "severe weather",
          "severe weather",
          "severe weather",
          "severe weather",
          "severe weather",
          "severe weather",
          "severe weather",
          "severe weather",
          "severe weather",
          "severe weather",
          "severe weather",
          "severe weather",
          "severe weather",
          "severe weather",
          "severe weather",
          "severe weather",
          "severe weather",
          "severe weather",
          "severe weather",
          "severe weather",
          "severe weather",
          "severe weather",
          "severe weather",
          "severe weather",
          "severe weather",
          "severe weather",
          "severe weather",
          "severe weather",
          "severe weather",
          "severe weather",
          "severe weather",
          "severe weather",
          "severe weather",
          "severe weather",
          "severe weather",
          "severe weather",
          "severe weather",
          "severe weather",
          "severe weather",
          "severe weather",
          "severe weather",
          "severe weather",
          "severe weather",
          "severe weather",
          "severe weather",
          "severe weather",
          "severe weather",
          "severe weather",
          "severe weather",
          "severe weather",
          "severe weather",
          "severe weather",
          "severe weather",
          "severe weather",
          "severe weather",
          "severe weather",
          "severe weather",
          "severe weather",
          "severe weather",
          "severe weather",
          "severe weather",
          "severe weather",
          "severe weather",
          "severe weather",
          "severe weather",
          "severe weather",
          "severe weather",
          "severe weather",
          "severe weather",
          "severe weather",
          "severe weather",
          "severe weather",
          "severe weather",
          "severe weather",
          "severe weather",
          "severe weather",
          "severe weather",
          "severe weather",
          "severe weather",
          "severe weather",
          "severe weather",
          "severe weather",
          "severe weather",
          "severe weather",
          "severe weather",
          "severe weather",
          "severe weather",
          "severe weather",
          "severe weather",
          "severe weather",
          "severe weather",
          "severe weather",
          "severe weather",
          "severe weather",
          "severe weather",
          "severe weather",
          "severe weather",
          "severe weather",
          "severe weather",
          "severe weather",
          "severe weather",
          "severe weather",
          "severe weather",
          "severe weather",
          "severe weather",
          "severe weather",
          "severe weather",
          "severe weather",
          "severe weather",
          "severe weather",
          "severe weather",
          "severe weather",
          "severe weather",
          "severe weather",
          "severe weather",
          "severe weather",
          "severe weather",
          "severe weather",
          "severe weather",
          "severe weather",
          "severe weather",
          "severe weather",
          "severe weather",
          "severe weather",
          "severe weather",
          "severe weather",
          "severe weather",
          "severe weather",
          "severe weather",
          "severe weather",
          "severe weather",
          "severe weather",
          "severe weather",
          "severe weather",
          "severe weather",
          "severe weather",
          "severe weather",
          "severe weather",
          "severe weather",
          "severe weather",
          "severe weather",
          "severe weather",
          "severe weather",
          "severe weather",
          "severe weather",
          "severe weather",
          "severe weather",
          "severe weather",
          "severe weather",
          "severe weather",
          "severe weather",
          "severe weather",
          "severe weather",
          "severe weather",
          "severe weather",
          "severe weather",
          "severe weather",
          "severe weather",
          "severe weather",
          "severe weather",
          "severe weather",
          "severe weather",
          "severe weather",
          "severe weather",
          "severe weather",
          "severe weather",
          "severe weather",
          "severe weather",
          "severe weather",
          "severe weather",
          "severe weather",
          "severe weather",
          "severe weather",
          "severe weather",
          "severe weather",
          "severe weather",
          "severe weather",
          "severe weather",
          "severe weather",
          "severe weather",
          "severe weather",
          "severe weather",
          "severe weather",
          "severe weather",
          "severe weather",
          "severe weather",
          "severe weather",
          "severe weather",
          "severe weather",
          "severe weather",
          "severe weather",
          "severe weather",
          "severe weather",
          "severe weather",
          "severe weather",
          "severe weather",
          "severe weather",
          "severe weather",
          "severe weather",
          "severe weather",
          "severe weather",
          "severe weather",
          "severe weather",
          "severe weather",
          "severe weather",
          "severe weather",
          "severe weather",
          "severe weather",
          "severe weather",
          "severe weather",
          "severe weather",
          "severe weather",
          "severe weather",
          "severe weather",
          "severe weather",
          "severe weather",
          "severe weather",
          "severe weather",
          "severe weather",
          "severe weather",
          "severe weather",
          "severe weather",
          "severe weather",
          "severe weather",
          "severe weather",
          "severe weather",
          "severe weather",
          "severe weather",
          "severe weather",
          "severe weather",
          "severe weather",
          "severe weather",
          "severe weather",
          "severe weather",
          "severe weather",
          "severe weather",
          "severe weather",
          "severe weather",
          "severe weather",
          "severe weather",
          "severe weather",
          "severe weather",
          "severe weather",
          "severe weather",
          "severe weather",
          "severe weather",
          "severe weather",
          "severe weather",
          "severe weather",
          "severe weather",
          "severe weather",
          "severe weather",
          "severe weather",
          "severe weather",
          "severe weather",
          "severe weather",
          "severe weather",
          "severe weather",
          "severe weather",
          "severe weather",
          "severe weather",
          "severe weather",
          "severe weather",
          "severe weather",
          "severe weather",
          "severe weather",
          "severe weather",
          "severe weather",
          "severe weather",
          "severe weather",
          "severe weather",
          "severe weather",
          "severe weather",
          "severe weather",
          "severe weather",
          "severe weather",
          "severe weather",
          "severe weather",
          "severe weather",
          "severe weather",
          "severe weather",
          "severe weather",
          "severe weather",
          "severe weather",
          "severe weather",
          "severe weather",
          "severe weather",
          "severe weather",
          "severe weather",
          "severe weather",
          "severe weather",
          "severe weather",
          "severe weather",
          "severe weather",
          "severe weather",
          "severe weather",
          "severe weather",
          "severe weather",
          "severe weather",
          "severe weather",
          "severe weather",
          "severe weather",
          "severe weather",
          "severe weather",
          "severe weather",
          "severe weather",
          "severe weather",
          "severe weather",
          "severe weather",
          "severe weather",
          "severe weather",
          "severe weather",
          "severe weather",
          "severe weather",
          "severe weather",
          "severe weather",
          "severe weather",
          "severe weather",
          "severe weather",
          "severe weather",
          "severe weather",
          "severe weather",
          "severe weather",
          "severe weather",
          "severe weather",
          "severe weather",
          "severe weather",
          "severe weather",
          "severe weather",
          "severe weather",
          "severe weather",
          "severe weather",
          "severe weather",
          "severe weather",
          "severe weather",
          "severe weather",
          "severe weather",
          "severe weather",
          "severe weather",
          "severe weather",
          "severe weather",
          "severe weather",
          "severe weather",
          "severe weather",
          "severe weather",
          "severe weather",
          "severe weather",
          "severe weather",
          "severe weather",
          "severe weather",
          "severe weather",
          "severe weather",
          "severe weather",
          "severe weather",
          "severe weather",
          "severe weather",
          "severe weather",
          "severe weather",
          "severe weather",
          "severe weather",
          "severe weather",
          "severe weather",
          "severe weather",
          "severe weather",
          "severe weather",
          "severe weather",
          "severe weather",
          "severe weather",
          "severe weather",
          "severe weather",
          "severe weather",
          "severe weather",
          "severe weather",
          "severe weather",
          "severe weather",
          "severe weather",
          "severe weather",
          "severe weather",
          "severe weather",
          "severe weather",
          "severe weather",
          "severe weather",
          "severe weather",
          "severe weather",
          "severe weather",
          "severe weather",
          "severe weather",
          "severe weather",
          "severe weather",
          "severe weather",
          "severe weather",
          "severe weather",
          "severe weather",
          "severe weather",
          "severe weather",
          "severe weather",
          "severe weather"
         ],
         "xaxis": "x",
         "y": [
          3060,
          3000,
          2550,
          1740,
          1860,
          2970,
          3960,
          3621,
          7740,
          8880,
          60,
          196,
          840,
          935,
          1260,
          150,
          0,
          660,
          1,
          4921,
          251,
          4125,
          2550,
          1200,
          2818,
          5054,
          136,
          528,
          150,
          1920,
          32,
          3000,
          32,
          960,
          4410,
          480,
          538,
          1272,
          1000,
          17339,
          9576,
          3090,
          6510,
          5820,
          1513,
          4830,
          4200,
          5730,
          4290,
          2670,
          3540,
          3637,
          1710,
          4320,
          3915,
          3120,
          4590,
          7530,
          5034,
          8160,
          3300,
          4320,
          9857,
          4080,
          5670,
          5700,
          1995,
          300,
          5115,
          2670,
          7650,
          4338,
          5760,
          2820,
          4110,
          3360,
          3015,
          232,
          6420,
          46080,
          5700,
          5610,
          270,
          4050,
          5865,
          2325,
          4170,
          4485,
          5580,
          705,
          11850,
          3494,
          4560,
          2760,
          5760,
          8922,
          6030,
          7800,
          4242,
          3120,
          5700,
          900,
          7620,
          3630,
          1260,
          5840,
          5790,
          2820,
          600,
          4259,
          2939,
          7080,
          3600,
          1588,
          4260,
          2700,
          8430,
          85,
          9150,
          1019,
          420,
          1140,
          7440,
          4458,
          1203,
          1455,
          1559,
          900,
          2690,
          5115,
          2142,
          360,
          2340,
          9486,
          480,
          300,
          3020,
          1335,
          12180,
          690,
          27698,
          2420,
          327,
          1860,
          847,
          215,
          570,
          12124,
          2655,
          600,
          181,
          1185,
          1500,
          1860,
          1200,
          6300,
          1620,
          2220,
          7809,
          1200,
          5595,
          3360,
          685,
          2280,
          1920,
          3569,
          3300,
          1560,
          840,
          17865,
          1080,
          1320,
          1110,
          27698,
          3040,
          10140,
          21540,
          1200,
          900,
          940,
          3050,
          1830,
          6000,
          1500,
          150,
          1955,
          2220,
          420,
          1060,
          5250,
          4320,
          2120,
          4320,
          2146,
          4032,
          2580,
          569,
          15950,
          200,
          1980,
          4045,
          2730,
          3314,
          7319,
          1440,
          3646,
          1130,
          513,
          23773,
          10,
          3872,
          12240,
          390,
          3264,
          1230,
          803,
          2680,
          7609,
          150,
          3000,
          420,
          479,
          1680,
          2700,
          1110,
          2790,
          659,
          1320,
          1830,
          3000,
          870,
          810,
          1336,
          1695,
          360,
          360,
          120,
          3000,
          1290,
          1530,
          2370,
          1200,
          1200,
          90,
          120,
          1200,
          720,
          1120,
          2100,
          960,
          450,
          1440,
          1020,
          0,
          2010,
          9230,
          2460,
          8880,
          5340,
          8940,
          1920,
          420,
          2040,
          3300,
          6690,
          6276,
          2700,
          2639,
          6480,
          9630,
          3507,
          2820,
          5855,
          22769,
          4285,
          2520,
          49320,
          4200,
          66,
          49320,
          2021,
          1671,
          3938,
          4470,
          2279,
          4440,
          2760,
          1840,
          1980,
          1950,
          3037,
          1196,
          5628,
          7700,
          12890,
          4232,
          2610,
          4320,
          2507,
          1,
          4920,
          4080,
          185,
          1320,
          2855,
          3060,
          7298,
          5790,
          3040,
          11700,
          7987,
          4517,
          3058,
          13381,
          2865,
          9450,
          7803,
          5579,
          8979,
          4800,
          3060,
          4792,
          3894,
          1757,
          2880,
          2985,
          3232,
          2319,
          4338,
          2880,
          1714,
          90,
          59,
          4139,
          10530,
          6938,
          930,
          299,
          5320,
          2880,
          1,
          6713,
          5160,
          1440,
          78,
          7523,
          2668,
          1,
          1324,
          6940,
          2684,
          54,
          720,
          2880,
          3189,
          2790,
          13679,
          13488,
          7709,
          7080,
          1,
          1680,
          1579,
          300,
          1020,
          3570,
          6492,
          10499,
          15180,
          283,
          1631,
          4920,
          4920,
          420,
          21,
          4200,
          805,
          5040,
          7430,
          5490,
          165,
          3630,
          11640,
          1590,
          7920,
          1372,
          6480,
          2190,
          1843,
          11531,
          1420,
          930,
          11420,
          960,
          1733,
          3690,
          10619,
          11280,
          1440,
          180,
          1574,
          388,
          373,
          4510,
          290,
          1950,
          270,
          1355,
          1318,
          2490,
          1265,
          3388,
          1025,
          990,
          240,
          1485,
          1528,
          1890,
          2551,
          985,
          1698,
          1460,
          182,
          4113,
          885,
          15,
          1050,
          4140,
          2880,
          11430,
          3599,
          2941,
          6090,
          2520,
          10080,
          76,
          3720,
          333,
          11337,
          7020,
          11058,
          9360,
          3300,
          3339,
          2880,
          11580,
          9600,
          13201,
          9719,
          488,
          2415,
          180,
          4177,
          7440,
          3480,
          6600,
          300,
          1526,
          210,
          4380,
          4313,
          1050,
          9886,
          2425,
          390,
          14500,
          6660,
          54,
          30,
          8077,
          855,
          810,
          4150,
          4740,
          2070,
          870,
          12652,
          2880,
          120,
          1470,
          4140,
          15420,
          4254,
          53,
          347,
          1044,
          8670,
          2089,
          20280,
          14639,
          2880,
          1,
          5355,
          3943,
          3300,
          10726,
          2515,
          2730,
          9480,
          5400,
          3584,
          4710,
          1800,
          6074,
          49,
          2299,
          5760,
          7320,
          448,
          2520,
          2100,
          8221,
          3240,
          2880,
          13140,
          8640,
          15492,
          8268,
          7962,
          11296,
          8054,
          2160,
          2100,
          1440,
          692,
          13215,
          17812,
          20416,
          6240,
          3067,
          3060,
          18804,
          1867,
          1690,
          240,
          17520,
          8189,
          5820,
          2009,
          720,
          480,
          1005,
          13430,
          3600,
          10080,
          5071,
          6840,
          221,
          24780,
          7560,
          10380,
          2040,
          12060,
          1080,
          1680,
          13920,
          14101,
          1099,
          2460,
          540,
          420,
          437,
          180,
          656,
          255,
          1054,
          1456,
          2464,
          523,
          8472,
          2790,
          224,
          1470,
          2050,
          125,
          365,
          4740,
          294,
          455,
          2645,
          2016,
          7371,
          3408,
          4890,
          2759,
          435,
          5160,
          15180,
          721,
          14190,
          900,
          6070,
          5910,
          34390,
          166,
          15,
          13,
          390,
          47,
          8100,
          180,
          2820,
          989,
          2895,
          252,
          130,
          6914,
          270,
          962,
          47,
          9855,
          17,
          21,
          1950,
          617,
          1230,
          572,
          6780,
          37,
          72,
          300,
          751,
          8,
          5227,
          1414,
          4605,
          4080,
          10274,
          2700,
          210,
          1201,
          30,
          2806,
          1226,
          8160,
          126,
          285,
          424,
          180,
          0,
          448,
          624,
          2435,
          131,
          208,
          103,
          1355,
          1523,
          90,
          1205,
          385,
          144,
          235,
          6787,
          1673,
          3366,
          2640,
          1826,
          570,
          1565,
          2691,
          1072,
          115,
          816,
          168,
          160,
          485,
          1508,
          1301,
          60,
          4,
          9600,
          106,
          810,
          1380,
          1800,
          1560,
          2054,
          1452,
          1865,
          1999,
          120,
          1950,
          360,
          1087,
          1200,
          4122,
          360,
          645,
          1440,
          4560,
          110,
          210,
          4260,
          76,
          3305,
          5880,
          145,
          2640,
          1042,
          11880,
          2245,
          7200,
          148,
          13972,
          796,
          2612,
          3000,
          5310,
          1732,
          6685,
          3300,
          280,
          2895,
          480,
          1,
          4745,
          1656,
          3525,
          374,
          115,
          3604,
          2108,
          198,
          3667,
          1037,
          673,
          2652,
          618,
          1187,
          950,
          2535,
          660,
          2040,
          2710,
          4019,
          2140,
          348,
          13650,
          14040,
          1367,
          174,
          543,
          1906
         ],
         "yaxis": "y"
        },
        {
         "hovertemplate": "CAUSE.CATEGORY=%{x}<br>OUTAGE.DURATION=%{y}<extra></extra>",
         "legendgroup": "intentional attack",
         "marker": {
          "color": "#EF553B",
          "opacity": 0.6,
          "symbol": "circle"
         },
         "mode": "markers",
         "name": "intentional attack",
         "showlegend": true,
         "type": "scattergl",
         "x": [
          "intentional attack",
          "intentional attack",
          "intentional attack",
          "intentional attack",
          "intentional attack",
          "intentional attack",
          "intentional attack",
          "intentional attack",
          "intentional attack",
          "intentional attack",
          "intentional attack",
          "intentional attack",
          "intentional attack",
          "intentional attack",
          "intentional attack",
          "intentional attack",
          "intentional attack",
          "intentional attack",
          "intentional attack",
          "intentional attack",
          "intentional attack",
          "intentional attack",
          "intentional attack",
          "intentional attack",
          "intentional attack",
          "intentional attack",
          "intentional attack",
          "intentional attack",
          "intentional attack",
          "intentional attack",
          "intentional attack",
          "intentional attack",
          "intentional attack",
          "intentional attack",
          "intentional attack",
          "intentional attack",
          "intentional attack",
          "intentional attack",
          "intentional attack",
          "intentional attack",
          "intentional attack",
          "intentional attack",
          "intentional attack",
          "intentional attack",
          "intentional attack",
          "intentional attack",
          "intentional attack",
          "intentional attack",
          "intentional attack",
          "intentional attack",
          "intentional attack",
          "intentional attack",
          "intentional attack",
          "intentional attack",
          "intentional attack",
          "intentional attack",
          "intentional attack",
          "intentional attack",
          "intentional attack",
          "intentional attack",
          "intentional attack",
          "intentional attack",
          "intentional attack",
          "intentional attack",
          "intentional attack",
          "intentional attack",
          "intentional attack",
          "intentional attack",
          "intentional attack",
          "intentional attack",
          "intentional attack",
          "intentional attack",
          "intentional attack",
          "intentional attack",
          "intentional attack",
          "intentional attack",
          "intentional attack",
          "intentional attack",
          "intentional attack",
          "intentional attack",
          "intentional attack",
          "intentional attack",
          "intentional attack",
          "intentional attack",
          "intentional attack",
          "intentional attack",
          "intentional attack",
          "intentional attack",
          "intentional attack",
          "intentional attack",
          "intentional attack",
          "intentional attack",
          "intentional attack",
          "intentional attack",
          "intentional attack",
          "intentional attack",
          "intentional attack",
          "intentional attack",
          "intentional attack",
          "intentional attack",
          "intentional attack",
          "intentional attack",
          "intentional attack",
          "intentional attack",
          "intentional attack",
          "intentional attack",
          "intentional attack",
          "intentional attack",
          "intentional attack",
          "intentional attack",
          "intentional attack",
          "intentional attack",
          "intentional attack",
          "intentional attack",
          "intentional attack",
          "intentional attack",
          "intentional attack",
          "intentional attack",
          "intentional attack",
          "intentional attack",
          "intentional attack",
          "intentional attack",
          "intentional attack",
          "intentional attack",
          "intentional attack",
          "intentional attack",
          "intentional attack",
          "intentional attack",
          "intentional attack",
          "intentional attack",
          "intentional attack",
          "intentional attack",
          "intentional attack",
          "intentional attack",
          "intentional attack",
          "intentional attack",
          "intentional attack",
          "intentional attack",
          "intentional attack",
          "intentional attack",
          "intentional attack",
          "intentional attack",
          "intentional attack",
          "intentional attack",
          "intentional attack",
          "intentional attack",
          "intentional attack",
          "intentional attack",
          "intentional attack",
          "intentional attack",
          "intentional attack",
          "intentional attack",
          "intentional attack",
          "intentional attack",
          "intentional attack",
          "intentional attack",
          "intentional attack",
          "intentional attack",
          "intentional attack",
          "intentional attack",
          "intentional attack",
          "intentional attack",
          "intentional attack",
          "intentional attack",
          "intentional attack",
          "intentional attack",
          "intentional attack",
          "intentional attack",
          "intentional attack",
          "intentional attack",
          "intentional attack",
          "intentional attack",
          "intentional attack",
          "intentional attack",
          "intentional attack",
          "intentional attack",
          "intentional attack",
          "intentional attack",
          "intentional attack",
          "intentional attack",
          "intentional attack",
          "intentional attack",
          "intentional attack",
          "intentional attack",
          "intentional attack",
          "intentional attack",
          "intentional attack",
          "intentional attack",
          "intentional attack",
          "intentional attack",
          "intentional attack",
          "intentional attack",
          "intentional attack",
          "intentional attack",
          "intentional attack",
          "intentional attack",
          "intentional attack",
          "intentional attack",
          "intentional attack",
          "intentional attack",
          "intentional attack",
          "intentional attack",
          "intentional attack",
          "intentional attack",
          "intentional attack",
          "intentional attack",
          "intentional attack",
          "intentional attack",
          "intentional attack",
          "intentional attack",
          "intentional attack",
          "intentional attack",
          "intentional attack",
          "intentional attack",
          "intentional attack",
          "intentional attack",
          "intentional attack",
          "intentional attack",
          "intentional attack",
          "intentional attack",
          "intentional attack",
          "intentional attack",
          "intentional attack",
          "intentional attack",
          "intentional attack",
          "intentional attack",
          "intentional attack",
          "intentional attack",
          "intentional attack",
          "intentional attack",
          "intentional attack",
          "intentional attack",
          "intentional attack",
          "intentional attack",
          "intentional attack",
          "intentional attack",
          "intentional attack",
          "intentional attack",
          "intentional attack",
          "intentional attack",
          "intentional attack",
          "intentional attack",
          "intentional attack",
          "intentional attack",
          "intentional attack",
          "intentional attack",
          "intentional attack",
          "intentional attack",
          "intentional attack",
          "intentional attack",
          "intentional attack",
          "intentional attack",
          "intentional attack",
          "intentional attack",
          "intentional attack",
          "intentional attack",
          "intentional attack",
          "intentional attack",
          "intentional attack",
          "intentional attack",
          "intentional attack",
          "intentional attack",
          "intentional attack",
          "intentional attack",
          "intentional attack",
          "intentional attack",
          "intentional attack",
          "intentional attack",
          "intentional attack",
          "intentional attack",
          "intentional attack",
          "intentional attack",
          "intentional attack",
          "intentional attack",
          "intentional attack",
          "intentional attack",
          "intentional attack",
          "intentional attack",
          "intentional attack",
          "intentional attack",
          "intentional attack",
          "intentional attack",
          "intentional attack",
          "intentional attack",
          "intentional attack",
          "intentional attack",
          "intentional attack",
          "intentional attack",
          "intentional attack",
          "intentional attack",
          "intentional attack",
          "intentional attack",
          "intentional attack",
          "intentional attack",
          "intentional attack",
          "intentional attack",
          "intentional attack",
          "intentional attack",
          "intentional attack",
          "intentional attack",
          "intentional attack",
          "intentional attack",
          "intentional attack",
          "intentional attack",
          "intentional attack",
          "intentional attack",
          "intentional attack",
          "intentional attack",
          "intentional attack",
          "intentional attack",
          "intentional attack",
          "intentional attack",
          "intentional attack",
          "intentional attack",
          "intentional attack",
          "intentional attack",
          "intentional attack",
          "intentional attack",
          "intentional attack",
          "intentional attack",
          "intentional attack",
          "intentional attack",
          "intentional attack",
          "intentional attack",
          "intentional attack",
          "intentional attack",
          "intentional attack",
          "intentional attack",
          "intentional attack",
          "intentional attack",
          "intentional attack",
          "intentional attack",
          "intentional attack",
          "intentional attack",
          "intentional attack",
          "intentional attack",
          "intentional attack",
          "intentional attack",
          "intentional attack",
          "intentional attack",
          "intentional attack",
          "intentional attack",
          "intentional attack",
          "intentional attack",
          "intentional attack",
          "intentional attack",
          "intentional attack",
          "intentional attack",
          "intentional attack",
          "intentional attack",
          "intentional attack",
          "intentional attack",
          "intentional attack",
          "intentional attack",
          "intentional attack",
          "intentional attack",
          "intentional attack",
          "intentional attack",
          "intentional attack",
          "intentional attack",
          "intentional attack",
          "intentional attack",
          "intentional attack",
          "intentional attack",
          "intentional attack",
          "intentional attack",
          "intentional attack",
          "intentional attack",
          "intentional attack",
          "intentional attack",
          "intentional attack",
          "intentional attack",
          "intentional attack",
          "intentional attack",
          "intentional attack",
          "intentional attack",
          "intentional attack",
          "intentional attack",
          "intentional attack",
          "intentional attack",
          "intentional attack",
          "intentional attack",
          "intentional attack",
          "intentional attack",
          "intentional attack",
          "intentional attack",
          "intentional attack",
          "intentional attack",
          "intentional attack",
          "intentional attack",
          "intentional attack",
          "intentional attack",
          "intentional attack",
          "intentional attack",
          "intentional attack",
          "intentional attack",
          "intentional attack",
          "intentional attack",
          "intentional attack",
          "intentional attack",
          "intentional attack",
          "intentional attack",
          "intentional attack"
         ],
         "xaxis": "x",
         "y": [
          1,
          155,
          0,
          1322,
          0,
          619,
          1,
          95,
          310,
          1,
          135,
          44,
          1605,
          1219,
          90,
          60,
          60,
          1,
          1770,
          11525,
          1046,
          200,
          206,
          5,
          1077,
          1,
          410,
          5,
          1,
          557,
          10,
          1282,
          1,
          74,
          255,
          120,
          3,
          96,
          0,
          276,
          0,
          0,
          2880,
          77,
          30,
          1,
          5,
          1450,
          1240,
          465,
          0,
          1183,
          394,
          219,
          487,
          28,
          0,
          1,
          467,
          0,
          0,
          0,
          1,
          1423,
          60,
          1620,
          385,
          663,
          123,
          1276,
          1919,
          440,
          0,
          717,
          292,
          313,
          1,
          5,
          0,
          74,
          0,
          1,
          25,
          126,
          1,
          255,
          1207,
          0,
          0,
          245,
          476,
          1,
          502,
          548,
          369,
          15,
          5,
          1,
          0,
          432,
          1697,
          0,
          2615,
          314,
          0,
          0,
          70,
          355,
          0,
          0,
          50,
          70,
          180,
          3842,
          1,
          189,
          353,
          1,
          87,
          1,
          227,
          1440,
          2700,
          2,
          451,
          0,
          1,
          0,
          1,
          428,
          331,
          1,
          1,
          1,
          1,
          1440,
          2,
          95,
          17,
          113,
          0,
          0,
          1,
          0,
          960,
          1673,
          565,
          1,
          1,
          0,
          152,
          164,
          4260,
          100,
          2843,
          1642,
          108,
          0,
          120,
          1,
          1,
          1,
          1,
          1,
          1,
          60,
          113,
          31,
          57,
          13,
          2,
          11,
          0,
          1,
          56,
          15,
          15,
          20,
          60,
          1,
          95,
          300,
          1,
          3186,
          575,
          1,
          44,
          21,
          1,
          114,
          1,
          60,
          0,
          7,
          340,
          1440,
          360,
          0,
          1440,
          285,
          75,
          1,
          0,
          0,
          0,
          634,
          563,
          3120,
          405,
          167,
          1,
          0,
          375,
          0,
          0,
          353,
          0,
          0,
          60,
          2,
          1350,
          73,
          1,
          0,
          0,
          120,
          2680,
          840,
          989,
          214,
          4,
          164,
          91,
          838,
          60,
          1,
          1,
          25,
          0,
          1199,
          0,
          1,
          1,
          0,
          0,
          0,
          457,
          1,
          1,
          0,
          30,
          1,
          1,
          65,
          1,
          0,
          0,
          0,
          1,
          1,
          0,
          1,
          1,
          110,
          39,
          1,
          1,
          1,
          1,
          1,
          1,
          507,
          213,
          1,
          1,
          0,
          0,
          251,
          1637,
          21360,
          2161,
          2880,
          93,
          0,
          0,
          73,
          1,
          5,
          30,
          1,
          2880,
          161,
          258,
          0,
          300,
          17,
          83,
          1135,
          1,
          106,
          70,
          8873,
          2878,
          295,
          480,
          360,
          3698,
          1,
          78,
          1,
          697,
          245,
          3100,
          1,
          0,
          98,
          128,
          20,
          1,
          448,
          1,
          240,
          1,
          513,
          60,
          110,
          2363,
          2,
          0,
          0,
          1,
          314,
          30,
          92,
          390,
          161,
          60,
          1,
          1,
          160,
          20,
          1,
          1,
          70,
          50,
          15,
          108,
          0,
          1,
          1,
          1,
          120,
          0,
          210,
          60,
          110,
          0,
          117,
          0,
          0,
          307,
          1068,
          1569,
          114,
          15,
          1,
          0,
          0,
          195,
          1,
          0,
          300,
          27,
          108,
          73,
          200,
          5,
          75,
          0,
          77,
          0,
          92,
          30,
          33,
          1895,
          274,
          1,
          1534,
          1,
          60,
          108,
          175,
          105,
          1,
          201,
          103,
          187,
          1406,
          90,
          0,
          360,
          870,
          0
         ],
         "yaxis": "y"
        },
        {
         "hovertemplate": "CAUSE.CATEGORY=%{x}<br>OUTAGE.DURATION=%{y}<extra></extra>",
         "legendgroup": "system operability disruption",
         "marker": {
          "color": "#00cc96",
          "opacity": 0.6,
          "symbol": "circle"
         },
         "mode": "markers",
         "name": "system operability disruption",
         "showlegend": true,
         "type": "scattergl",
         "x": [
          "system operability disruption",
          "system operability disruption",
          "system operability disruption",
          "system operability disruption",
          "system operability disruption",
          "system operability disruption",
          "system operability disruption",
          "system operability disruption",
          "system operability disruption",
          "system operability disruption",
          "system operability disruption",
          "system operability disruption",
          "system operability disruption",
          "system operability disruption",
          "system operability disruption",
          "system operability disruption",
          "system operability disruption",
          "system operability disruption",
          "system operability disruption",
          "system operability disruption",
          "system operability disruption",
          "system operability disruption",
          "system operability disruption",
          "system operability disruption",
          "system operability disruption",
          "system operability disruption",
          "system operability disruption",
          "system operability disruption",
          "system operability disruption",
          "system operability disruption",
          "system operability disruption",
          "system operability disruption",
          "system operability disruption",
          "system operability disruption",
          "system operability disruption",
          "system operability disruption",
          "system operability disruption",
          "system operability disruption",
          "system operability disruption",
          "system operability disruption",
          "system operability disruption",
          "system operability disruption",
          "system operability disruption",
          "system operability disruption",
          "system operability disruption",
          "system operability disruption",
          "system operability disruption",
          "system operability disruption",
          "system operability disruption",
          "system operability disruption",
          "system operability disruption",
          "system operability disruption",
          "system operability disruption",
          "system operability disruption",
          "system operability disruption",
          "system operability disruption",
          "system operability disruption",
          "system operability disruption",
          "system operability disruption",
          "system operability disruption",
          "system operability disruption",
          "system operability disruption",
          "system operability disruption",
          "system operability disruption",
          "system operability disruption",
          "system operability disruption",
          "system operability disruption",
          "system operability disruption",
          "system operability disruption",
          "system operability disruption",
          "system operability disruption",
          "system operability disruption",
          "system operability disruption",
          "system operability disruption",
          "system operability disruption",
          "system operability disruption",
          "system operability disruption",
          "system operability disruption",
          "system operability disruption",
          "system operability disruption",
          "system operability disruption",
          "system operability disruption",
          "system operability disruption",
          "system operability disruption",
          "system operability disruption",
          "system operability disruption",
          "system operability disruption",
          "system operability disruption",
          "system operability disruption",
          "system operability disruption",
          "system operability disruption",
          "system operability disruption",
          "system operability disruption",
          "system operability disruption",
          "system operability disruption",
          "system operability disruption",
          "system operability disruption",
          "system operability disruption",
          "system operability disruption",
          "system operability disruption",
          "system operability disruption",
          "system operability disruption",
          "system operability disruption",
          "system operability disruption",
          "system operability disruption",
          "system operability disruption",
          "system operability disruption",
          "system operability disruption",
          "system operability disruption",
          "system operability disruption",
          "system operability disruption",
          "system operability disruption",
          "system operability disruption",
          "system operability disruption",
          "system operability disruption",
          "system operability disruption",
          "system operability disruption",
          "system operability disruption",
          "system operability disruption",
          "system operability disruption",
          "system operability disruption",
          "system operability disruption",
          "system operability disruption"
         ],
         "xaxis": "x",
         "y": [
          19,
          21,
          3051,
          2085,
          2694,
          373,
          868,
          189,
          3000,
          766,
          245,
          3255,
          757,
          0,
          271,
          2159,
          70,
          1697,
          95,
          121,
          63,
          167,
          130,
          550,
          1440,
          65,
          65,
          6,
          35,
          23187,
          300,
          25,
          554,
          215,
          304,
          380,
          278,
          204,
          871,
          3137,
          352,
          45,
          195,
          129,
          0,
          42,
          132,
          1365,
          65,
          681,
          191,
          1732,
          5513,
          21,
          50,
          48,
          3180,
          2129,
          732,
          420,
          355,
          52,
          230,
          155,
          372,
          91,
          152,
          38,
          61,
          90,
          52,
          816,
          155,
          171,
          177,
          32,
          55,
          64,
          56,
          33,
          334,
          230,
          316,
          336,
          25,
          250,
          249,
          133,
          2055,
          451,
          199,
          1524,
          39,
          47,
          161,
          234,
          40,
          213,
          761,
          124,
          245,
          1008,
          13,
          108,
          141,
          959,
          1835,
          89,
          236,
          326,
          759,
          241,
          0,
          31,
          103,
          284,
          391,
          439,
          5,
          237,
          224,
          95,
          220
         ],
         "yaxis": "y"
        },
        {
         "hovertemplate": "CAUSE.CATEGORY=%{x}<br>OUTAGE.DURATION=%{y}<extra></extra>",
         "legendgroup": "equipment failure",
         "marker": {
          "color": "#ab63fa",
          "opacity": 0.6,
          "symbol": "circle"
         },
         "mode": "markers",
         "name": "equipment failure",
         "showlegend": true,
         "type": "scattergl",
         "x": [
          "equipment failure",
          "equipment failure",
          "equipment failure",
          "equipment failure",
          "equipment failure",
          "equipment failure",
          "equipment failure",
          "equipment failure",
          "equipment failure",
          "equipment failure",
          "equipment failure",
          "equipment failure",
          "equipment failure",
          "equipment failure",
          "equipment failure",
          "equipment failure",
          "equipment failure",
          "equipment failure",
          "equipment failure",
          "equipment failure",
          "equipment failure",
          "equipment failure",
          "equipment failure",
          "equipment failure",
          "equipment failure",
          "equipment failure",
          "equipment failure",
          "equipment failure",
          "equipment failure",
          "equipment failure",
          "equipment failure",
          "equipment failure",
          "equipment failure",
          "equipment failure",
          "equipment failure",
          "equipment failure",
          "equipment failure",
          "equipment failure",
          "equipment failure",
          "equipment failure",
          "equipment failure",
          "equipment failure",
          "equipment failure",
          "equipment failure",
          "equipment failure",
          "equipment failure",
          "equipment failure",
          "equipment failure",
          "equipment failure",
          "equipment failure",
          "equipment failure",
          "equipment failure",
          "equipment failure",
          "equipment failure",
          "equipment failure"
         ],
         "xaxis": "x",
         "y": [
          762,
          46,
          761,
          78377,
          168,
          600,
          186,
          318,
          39,
          885,
          1,
          149,
          1204,
          35,
          1,
          418,
          100,
          376,
          652,
          15,
          200,
          159,
          50,
          494,
          0,
          7,
          227,
          295,
          182,
          221,
          1419,
          396,
          437,
          84,
          202,
          945,
          155,
          749,
          159,
          871,
          164,
          854,
          179,
          182,
          829,
          64,
          1080,
          269,
          125,
          230,
          620,
          909,
          1914,
          105,
          61
         ],
         "yaxis": "y"
        },
        {
         "hovertemplate": "CAUSE.CATEGORY=%{x}<br>OUTAGE.DURATION=%{y}<extra></extra>",
         "legendgroup": "public appeal",
         "marker": {
          "color": "#FFA15A",
          "opacity": 0.6,
          "symbol": "circle"
         },
         "mode": "markers",
         "name": "public appeal",
         "showlegend": true,
         "type": "scattergl",
         "x": [
          "public appeal",
          "public appeal",
          "public appeal",
          "public appeal",
          "public appeal",
          "public appeal",
          "public appeal",
          "public appeal",
          "public appeal",
          "public appeal",
          "public appeal",
          "public appeal",
          "public appeal",
          "public appeal",
          "public appeal",
          "public appeal",
          "public appeal",
          "public appeal",
          "public appeal",
          "public appeal",
          "public appeal",
          "public appeal",
          "public appeal",
          "public appeal",
          "public appeal",
          "public appeal",
          "public appeal",
          "public appeal",
          "public appeal",
          "public appeal",
          "public appeal",
          "public appeal",
          "public appeal",
          "public appeal",
          "public appeal",
          "public appeal",
          "public appeal",
          "public appeal",
          "public appeal",
          "public appeal",
          "public appeal",
          "public appeal",
          "public appeal",
          "public appeal",
          "public appeal",
          "public appeal",
          "public appeal",
          "public appeal",
          "public appeal",
          "public appeal",
          "public appeal",
          "public appeal",
          "public appeal",
          "public appeal",
          "public appeal",
          "public appeal",
          "public appeal",
          "public appeal",
          "public appeal",
          "public appeal",
          "public appeal",
          "public appeal",
          "public appeal",
          "public appeal",
          "public appeal",
          "public appeal",
          "public appeal",
          "public appeal",
          "public appeal"
         ],
         "xaxis": "x",
         "y": [
          2700,
          388,
          1078,
          1195,
          225,
          480,
          197,
          402,
          220,
          455,
          224,
          240,
          210,
          240,
          990,
          6000,
          7540,
          394,
          45,
          330,
          120,
          248,
          2275,
          4680,
          420,
          3120,
          2400,
          300,
          2775,
          2775,
          2775,
          2775,
          430,
          1755,
          510,
          557,
          300,
          467,
          430,
          300,
          2880,
          4320,
          4320,
          4320,
          247,
          1560,
          3301,
          420,
          140,
          554,
          89,
          75,
          11867,
          300,
          206,
          270,
          2880,
          3314,
          414,
          62,
          1337,
          30,
          159,
          1381,
          300,
          431,
          913,
          1548,
          720
         ],
         "yaxis": "y"
        },
        {
         "hovertemplate": "CAUSE.CATEGORY=%{x}<br>OUTAGE.DURATION=%{y}<extra></extra>",
         "legendgroup": "fuel supply emergency",
         "marker": {
          "color": "#19d3f3",
          "opacity": 0.6,
          "symbol": "circle"
         },
         "mode": "markers",
         "name": "fuel supply emergency",
         "showlegend": true,
         "type": "scattergl",
         "x": [
          "fuel supply emergency",
          "fuel supply emergency",
          "fuel supply emergency",
          "fuel supply emergency",
          "fuel supply emergency",
          "fuel supply emergency",
          "fuel supply emergency",
          "fuel supply emergency",
          "fuel supply emergency",
          "fuel supply emergency",
          "fuel supply emergency",
          "fuel supply emergency",
          "fuel supply emergency",
          "fuel supply emergency",
          "fuel supply emergency",
          "fuel supply emergency",
          "fuel supply emergency",
          "fuel supply emergency",
          "fuel supply emergency",
          "fuel supply emergency",
          "fuel supply emergency",
          "fuel supply emergency",
          "fuel supply emergency",
          "fuel supply emergency",
          "fuel supply emergency",
          "fuel supply emergency",
          "fuel supply emergency",
          "fuel supply emergency",
          "fuel supply emergency",
          "fuel supply emergency",
          "fuel supply emergency",
          "fuel supply emergency",
          "fuel supply emergency",
          "fuel supply emergency",
          "fuel supply emergency",
          "fuel supply emergency",
          "fuel supply emergency",
          "fuel supply emergency"
         ],
         "xaxis": "x",
         "y": [
          108653,
          8468,
          18660,
          104,
          20160,
          1440,
          20160,
          12240,
          2761,
          1,
          1440,
          23700,
          17310,
          10080,
          25920,
          3600,
          5850,
          23040,
          18717,
          255,
          2355,
          18240,
          14400,
          60480,
          28170,
          540,
          370,
          660,
          4320,
          49427,
          1260,
          865,
          2880,
          324,
          900,
          76,
          2891,
          1676
         ],
         "yaxis": "y"
        },
        {
         "hovertemplate": "CAUSE.CATEGORY=%{x}<br>OUTAGE.DURATION=%{y}<extra></extra>",
         "legendgroup": "islanding",
         "marker": {
          "color": "#FF6692",
          "opacity": 0.6,
          "symbol": "circle"
         },
         "mode": "markers",
         "name": "islanding",
         "showlegend": true,
         "type": "scattergl",
         "x": [
          "islanding",
          "islanding",
          "islanding",
          "islanding",
          "islanding",
          "islanding",
          "islanding",
          "islanding",
          "islanding",
          "islanding",
          "islanding",
          "islanding",
          "islanding",
          "islanding",
          "islanding",
          "islanding",
          "islanding",
          "islanding",
          "islanding",
          "islanding",
          "islanding",
          "islanding",
          "islanding",
          "islanding",
          "islanding",
          "islanding",
          "islanding",
          "islanding",
          "islanding",
          "islanding",
          "islanding",
          "islanding",
          "islanding",
          "islanding",
          "islanding",
          "islanding",
          "islanding",
          "islanding",
          "islanding",
          "islanding",
          "islanding",
          "islanding",
          "islanding",
          "islanding"
         ],
         "xaxis": "x",
         "y": [
          1,
          233,
          96,
          47,
          19,
          21,
          180,
          56,
          13,
          1254,
          144,
          3,
          270,
          26,
          797,
          12,
          195,
          1,
          15,
          223,
          268,
          14,
          400,
          44,
          26,
          98,
          135,
          50,
          53,
          5,
          157,
          11,
          1035,
          251,
          122,
          214,
          193,
          3,
          32,
          984,
          881,
          2,
          59,
          181
         ],
         "yaxis": "y"
        }
       ],
       "layout": {
        "height": 600,
        "legend": {
         "title": {
          "text": "CAUSE.CATEGORY"
         },
         "tracegroupgap": 0
        },
        "showlegend": false,
        "template": {
         "data": {
          "bar": [
           {
            "error_x": {
             "color": "#2a3f5f"
            },
            "error_y": {
             "color": "#2a3f5f"
            },
            "marker": {
             "line": {
              "color": "#E5ECF6",
              "width": 0.5
             },
             "pattern": {
              "fillmode": "overlay",
              "size": 10,
              "solidity": 0.2
             }
            },
            "type": "bar"
           }
          ],
          "barpolar": [
           {
            "marker": {
             "line": {
              "color": "#E5ECF6",
              "width": 0.5
             },
             "pattern": {
              "fillmode": "overlay",
              "size": 10,
              "solidity": 0.2
             }
            },
            "type": "barpolar"
           }
          ],
          "carpet": [
           {
            "aaxis": {
             "endlinecolor": "#2a3f5f",
             "gridcolor": "white",
             "linecolor": "white",
             "minorgridcolor": "white",
             "startlinecolor": "#2a3f5f"
            },
            "baxis": {
             "endlinecolor": "#2a3f5f",
             "gridcolor": "white",
             "linecolor": "white",
             "minorgridcolor": "white",
             "startlinecolor": "#2a3f5f"
            },
            "type": "carpet"
           }
          ],
          "choropleth": [
           {
            "colorbar": {
             "outlinewidth": 0,
             "ticks": ""
            },
            "type": "choropleth"
           }
          ],
          "contour": [
           {
            "colorbar": {
             "outlinewidth": 0,
             "ticks": ""
            },
            "colorscale": [
             [
              0,
              "#0d0887"
             ],
             [
              0.1111111111111111,
              "#46039f"
             ],
             [
              0.2222222222222222,
              "#7201a8"
             ],
             [
              0.3333333333333333,
              "#9c179e"
             ],
             [
              0.4444444444444444,
              "#bd3786"
             ],
             [
              0.5555555555555556,
              "#d8576b"
             ],
             [
              0.6666666666666666,
              "#ed7953"
             ],
             [
              0.7777777777777778,
              "#fb9f3a"
             ],
             [
              0.8888888888888888,
              "#fdca26"
             ],
             [
              1,
              "#f0f921"
             ]
            ],
            "type": "contour"
           }
          ],
          "contourcarpet": [
           {
            "colorbar": {
             "outlinewidth": 0,
             "ticks": ""
            },
            "type": "contourcarpet"
           }
          ],
          "heatmap": [
           {
            "colorbar": {
             "outlinewidth": 0,
             "ticks": ""
            },
            "colorscale": [
             [
              0,
              "#0d0887"
             ],
             [
              0.1111111111111111,
              "#46039f"
             ],
             [
              0.2222222222222222,
              "#7201a8"
             ],
             [
              0.3333333333333333,
              "#9c179e"
             ],
             [
              0.4444444444444444,
              "#bd3786"
             ],
             [
              0.5555555555555556,
              "#d8576b"
             ],
             [
              0.6666666666666666,
              "#ed7953"
             ],
             [
              0.7777777777777778,
              "#fb9f3a"
             ],
             [
              0.8888888888888888,
              "#fdca26"
             ],
             [
              1,
              "#f0f921"
             ]
            ],
            "type": "heatmap"
           }
          ],
          "heatmapgl": [
           {
            "colorbar": {
             "outlinewidth": 0,
             "ticks": ""
            },
            "colorscale": [
             [
              0,
              "#0d0887"
             ],
             [
              0.1111111111111111,
              "#46039f"
             ],
             [
              0.2222222222222222,
              "#7201a8"
             ],
             [
              0.3333333333333333,
              "#9c179e"
             ],
             [
              0.4444444444444444,
              "#bd3786"
             ],
             [
              0.5555555555555556,
              "#d8576b"
             ],
             [
              0.6666666666666666,
              "#ed7953"
             ],
             [
              0.7777777777777778,
              "#fb9f3a"
             ],
             [
              0.8888888888888888,
              "#fdca26"
             ],
             [
              1,
              "#f0f921"
             ]
            ],
            "type": "heatmapgl"
           }
          ],
          "histogram": [
           {
            "marker": {
             "pattern": {
              "fillmode": "overlay",
              "size": 10,
              "solidity": 0.2
             }
            },
            "type": "histogram"
           }
          ],
          "histogram2d": [
           {
            "colorbar": {
             "outlinewidth": 0,
             "ticks": ""
            },
            "colorscale": [
             [
              0,
              "#0d0887"
             ],
             [
              0.1111111111111111,
              "#46039f"
             ],
             [
              0.2222222222222222,
              "#7201a8"
             ],
             [
              0.3333333333333333,
              "#9c179e"
             ],
             [
              0.4444444444444444,
              "#bd3786"
             ],
             [
              0.5555555555555556,
              "#d8576b"
             ],
             [
              0.6666666666666666,
              "#ed7953"
             ],
             [
              0.7777777777777778,
              "#fb9f3a"
             ],
             [
              0.8888888888888888,
              "#fdca26"
             ],
             [
              1,
              "#f0f921"
             ]
            ],
            "type": "histogram2d"
           }
          ],
          "histogram2dcontour": [
           {
            "colorbar": {
             "outlinewidth": 0,
             "ticks": ""
            },
            "colorscale": [
             [
              0,
              "#0d0887"
             ],
             [
              0.1111111111111111,
              "#46039f"
             ],
             [
              0.2222222222222222,
              "#7201a8"
             ],
             [
              0.3333333333333333,
              "#9c179e"
             ],
             [
              0.4444444444444444,
              "#bd3786"
             ],
             [
              0.5555555555555556,
              "#d8576b"
             ],
             [
              0.6666666666666666,
              "#ed7953"
             ],
             [
              0.7777777777777778,
              "#fb9f3a"
             ],
             [
              0.8888888888888888,
              "#fdca26"
             ],
             [
              1,
              "#f0f921"
             ]
            ],
            "type": "histogram2dcontour"
           }
          ],
          "mesh3d": [
           {
            "colorbar": {
             "outlinewidth": 0,
             "ticks": ""
            },
            "type": "mesh3d"
           }
          ],
          "parcoords": [
           {
            "line": {
             "colorbar": {
              "outlinewidth": 0,
              "ticks": ""
             }
            },
            "type": "parcoords"
           }
          ],
          "pie": [
           {
            "automargin": true,
            "type": "pie"
           }
          ],
          "scatter": [
           {
            "fillpattern": {
             "fillmode": "overlay",
             "size": 10,
             "solidity": 0.2
            },
            "type": "scatter"
           }
          ],
          "scatter3d": [
           {
            "line": {
             "colorbar": {
              "outlinewidth": 0,
              "ticks": ""
             }
            },
            "marker": {
             "colorbar": {
              "outlinewidth": 0,
              "ticks": ""
             }
            },
            "type": "scatter3d"
           }
          ],
          "scattercarpet": [
           {
            "marker": {
             "colorbar": {
              "outlinewidth": 0,
              "ticks": ""
             }
            },
            "type": "scattercarpet"
           }
          ],
          "scattergeo": [
           {
            "marker": {
             "colorbar": {
              "outlinewidth": 0,
              "ticks": ""
             }
            },
            "type": "scattergeo"
           }
          ],
          "scattergl": [
           {
            "marker": {
             "colorbar": {
              "outlinewidth": 0,
              "ticks": ""
             }
            },
            "type": "scattergl"
           }
          ],
          "scattermapbox": [
           {
            "marker": {
             "colorbar": {
              "outlinewidth": 0,
              "ticks": ""
             }
            },
            "type": "scattermapbox"
           }
          ],
          "scatterpolar": [
           {
            "marker": {
             "colorbar": {
              "outlinewidth": 0,
              "ticks": ""
             }
            },
            "type": "scatterpolar"
           }
          ],
          "scatterpolargl": [
           {
            "marker": {
             "colorbar": {
              "outlinewidth": 0,
              "ticks": ""
             }
            },
            "type": "scatterpolargl"
           }
          ],
          "scatterternary": [
           {
            "marker": {
             "colorbar": {
              "outlinewidth": 0,
              "ticks": ""
             }
            },
            "type": "scatterternary"
           }
          ],
          "surface": [
           {
            "colorbar": {
             "outlinewidth": 0,
             "ticks": ""
            },
            "colorscale": [
             [
              0,
              "#0d0887"
             ],
             [
              0.1111111111111111,
              "#46039f"
             ],
             [
              0.2222222222222222,
              "#7201a8"
             ],
             [
              0.3333333333333333,
              "#9c179e"
             ],
             [
              0.4444444444444444,
              "#bd3786"
             ],
             [
              0.5555555555555556,
              "#d8576b"
             ],
             [
              0.6666666666666666,
              "#ed7953"
             ],
             [
              0.7777777777777778,
              "#fb9f3a"
             ],
             [
              0.8888888888888888,
              "#fdca26"
             ],
             [
              1,
              "#f0f921"
             ]
            ],
            "type": "surface"
           }
          ],
          "table": [
           {
            "cells": {
             "fill": {
              "color": "#EBF0F8"
             },
             "line": {
              "color": "white"
             }
            },
            "header": {
             "fill": {
              "color": "#C8D4E3"
             },
             "line": {
              "color": "white"
             }
            },
            "type": "table"
           }
          ]
         },
         "layout": {
          "annotationdefaults": {
           "arrowcolor": "#2a3f5f",
           "arrowhead": 0,
           "arrowwidth": 1
          },
          "autotypenumbers": "strict",
          "coloraxis": {
           "colorbar": {
            "outlinewidth": 0,
            "ticks": ""
           }
          },
          "colorscale": {
           "diverging": [
            [
             0,
             "#8e0152"
            ],
            [
             0.1,
             "#c51b7d"
            ],
            [
             0.2,
             "#de77ae"
            ],
            [
             0.3,
             "#f1b6da"
            ],
            [
             0.4,
             "#fde0ef"
            ],
            [
             0.5,
             "#f7f7f7"
            ],
            [
             0.6,
             "#e6f5d0"
            ],
            [
             0.7,
             "#b8e186"
            ],
            [
             0.8,
             "#7fbc41"
            ],
            [
             0.9,
             "#4d9221"
            ],
            [
             1,
             "#276419"
            ]
           ],
           "sequential": [
            [
             0,
             "#0d0887"
            ],
            [
             0.1111111111111111,
             "#46039f"
            ],
            [
             0.2222222222222222,
             "#7201a8"
            ],
            [
             0.3333333333333333,
             "#9c179e"
            ],
            [
             0.4444444444444444,
             "#bd3786"
            ],
            [
             0.5555555555555556,
             "#d8576b"
            ],
            [
             0.6666666666666666,
             "#ed7953"
            ],
            [
             0.7777777777777778,
             "#fb9f3a"
            ],
            [
             0.8888888888888888,
             "#fdca26"
            ],
            [
             1,
             "#f0f921"
            ]
           ],
           "sequentialminus": [
            [
             0,
             "#0d0887"
            ],
            [
             0.1111111111111111,
             "#46039f"
            ],
            [
             0.2222222222222222,
             "#7201a8"
            ],
            [
             0.3333333333333333,
             "#9c179e"
            ],
            [
             0.4444444444444444,
             "#bd3786"
            ],
            [
             0.5555555555555556,
             "#d8576b"
            ],
            [
             0.6666666666666666,
             "#ed7953"
            ],
            [
             0.7777777777777778,
             "#fb9f3a"
            ],
            [
             0.8888888888888888,
             "#fdca26"
            ],
            [
             1,
             "#f0f921"
            ]
           ]
          },
          "colorway": [
           "#636efa",
           "#EF553B",
           "#00cc96",
           "#ab63fa",
           "#FFA15A",
           "#19d3f3",
           "#FF6692",
           "#B6E880",
           "#FF97FF",
           "#FECB52"
          ],
          "font": {
           "color": "#2a3f5f"
          },
          "geo": {
           "bgcolor": "white",
           "lakecolor": "white",
           "landcolor": "#E5ECF6",
           "showlakes": true,
           "showland": true,
           "subunitcolor": "white"
          },
          "hoverlabel": {
           "align": "left"
          },
          "hovermode": "closest",
          "mapbox": {
           "style": "light"
          },
          "paper_bgcolor": "white",
          "plot_bgcolor": "#E5ECF6",
          "polar": {
           "angularaxis": {
            "gridcolor": "white",
            "linecolor": "white",
            "ticks": ""
           },
           "bgcolor": "#E5ECF6",
           "radialaxis": {
            "gridcolor": "white",
            "linecolor": "white",
            "ticks": ""
           }
          },
          "scene": {
           "xaxis": {
            "backgroundcolor": "#E5ECF6",
            "gridcolor": "white",
            "gridwidth": 2,
            "linecolor": "white",
            "showbackground": true,
            "ticks": "",
            "zerolinecolor": "white"
           },
           "yaxis": {
            "backgroundcolor": "#E5ECF6",
            "gridcolor": "white",
            "gridwidth": 2,
            "linecolor": "white",
            "showbackground": true,
            "ticks": "",
            "zerolinecolor": "white"
           },
           "zaxis": {
            "backgroundcolor": "#E5ECF6",
            "gridcolor": "white",
            "gridwidth": 2,
            "linecolor": "white",
            "showbackground": true,
            "ticks": "",
            "zerolinecolor": "white"
           }
          },
          "shapedefaults": {
           "line": {
            "color": "#2a3f5f"
           }
          },
          "ternary": {
           "aaxis": {
            "gridcolor": "white",
            "linecolor": "white",
            "ticks": ""
           },
           "baxis": {
            "gridcolor": "white",
            "linecolor": "white",
            "ticks": ""
           },
           "bgcolor": "#E5ECF6",
           "caxis": {
            "gridcolor": "white",
            "linecolor": "white",
            "ticks": ""
           }
          },
          "title": {
           "x": 0.05
          },
          "xaxis": {
           "automargin": true,
           "gridcolor": "white",
           "linecolor": "white",
           "ticks": "",
           "title": {
            "standoff": 15
           },
           "zerolinecolor": "white",
           "zerolinewidth": 2
          },
          "yaxis": {
           "automargin": true,
           "gridcolor": "white",
           "linecolor": "white",
           "ticks": "",
           "title": {
            "standoff": 15
           },
           "zerolinecolor": "white",
           "zerolinewidth": 2
          }
         }
        },
        "title": {
         "text": "Outage Duration vs Cause Category"
        },
        "xaxis": {
         "anchor": "y",
         "categoryarray": [
          "severe weather",
          "intentional attack",
          "system operability disruption",
          "equipment failure",
          "public appeal",
          "fuel supply emergency",
          "islanding"
         ],
         "categoryorder": "array",
         "domain": [
          0,
          1
         ],
         "tickformat": ",",
         "title": {
          "text": "Outage Duration (minutes)"
         }
        },
        "yaxis": {
         "anchor": "x",
         "domain": [
          0,
          1
         ],
         "tickformat": ",",
         "title": {
          "text": "Outage Duration (minutes)"
         }
        }
       }
      }
     },
     "metadata": {},
     "output_type": "display_data"
    }
   ],
   "source": [
    "outages_clean = outages_df.dropna(subset=['CLIMATE.REGION', 'OUTAGE.DURATION'])\n",
    "\n",
    "\n",
    "ordered_regions = (outages_clean.groupby('CLIMATE.REGION')['OUTAGE.DURATION'].median().sort_values().index)\n",
    "\n",
    "outages_clean['CLIMATE.REGION'] = pd.Categorical(outages_clean['CLIMATE.REGION'], categories = ordered_regions, ordered = True)\n",
    "\n",
    "fig.update_yaxes(tickformat = ',', title = 'Outage Duration (minutes)')\n",
    "\n",
    "fig.update_layout(showlegend=False)\n",
    "\n",
    "fig.show()\n"
   ]
  },
  {
   "cell_type": "code",
   "execution_count": null,
   "metadata": {},
   "outputs": [],
   "source": [
    "#fig.write_html(\"outage_duration_climateregion.html\", full_html=True, include_plotlyjs='cdn')"
   ]
  },
  {
   "cell_type": "markdown",
   "metadata": {},
   "source": [
    "We also wanted to look at how the outage durations were distributed across the different cause categories. "
   ]
  },
  {
   "cell_type": "code",
   "execution_count": 56,
   "metadata": {},
   "outputs": [
    {
     "data": {
      "application/vnd.plotly.v1+json": {
       "config": {
        "plotlyServerURL": "https://plot.ly"
       },
       "data": [
        {
         "hovertemplate": "CAUSE.CATEGORY=%{x}<br>OUTAGE.DURATION=%{y}<extra></extra>",
         "legendgroup": "severe weather",
         "marker": {
          "color": "#636efa",
          "opacity": 0.6,
          "symbol": "circle"
         },
         "mode": "markers",
         "name": "severe weather",
         "showlegend": true,
         "type": "scattergl",
         "x": [
          "severe weather",
          "severe weather",
          "severe weather",
          "severe weather",
          "severe weather",
          "severe weather",
          "severe weather",
          "severe weather",
          "severe weather",
          "severe weather",
          "severe weather",
          "severe weather",
          "severe weather",
          "severe weather",
          "severe weather",
          "severe weather",
          "severe weather",
          "severe weather",
          "severe weather",
          "severe weather",
          "severe weather",
          "severe weather",
          "severe weather",
          "severe weather",
          "severe weather",
          "severe weather",
          "severe weather",
          "severe weather",
          "severe weather",
          "severe weather",
          "severe weather",
          "severe weather",
          "severe weather",
          "severe weather",
          "severe weather",
          "severe weather",
          "severe weather",
          "severe weather",
          "severe weather",
          "severe weather",
          "severe weather",
          "severe weather",
          "severe weather",
          "severe weather",
          "severe weather",
          "severe weather",
          "severe weather",
          "severe weather",
          "severe weather",
          "severe weather",
          "severe weather",
          "severe weather",
          "severe weather",
          "severe weather",
          "severe weather",
          "severe weather",
          "severe weather",
          "severe weather",
          "severe weather",
          "severe weather",
          "severe weather",
          "severe weather",
          "severe weather",
          "severe weather",
          "severe weather",
          "severe weather",
          "severe weather",
          "severe weather",
          "severe weather",
          "severe weather",
          "severe weather",
          "severe weather",
          "severe weather",
          "severe weather",
          "severe weather",
          "severe weather",
          "severe weather",
          "severe weather",
          "severe weather",
          "severe weather",
          "severe weather",
          "severe weather",
          "severe weather",
          "severe weather",
          "severe weather",
          "severe weather",
          "severe weather",
          "severe weather",
          "severe weather",
          "severe weather",
          "severe weather",
          "severe weather",
          "severe weather",
          "severe weather",
          "severe weather",
          "severe weather",
          "severe weather",
          "severe weather",
          "severe weather",
          "severe weather",
          "severe weather",
          "severe weather",
          "severe weather",
          "severe weather",
          "severe weather",
          "severe weather",
          "severe weather",
          "severe weather",
          "severe weather",
          "severe weather",
          "severe weather",
          "severe weather",
          "severe weather",
          "severe weather",
          "severe weather",
          "severe weather",
          "severe weather",
          "severe weather",
          "severe weather",
          "severe weather",
          "severe weather",
          "severe weather",
          "severe weather",
          "severe weather",
          "severe weather",
          "severe weather",
          "severe weather",
          "severe weather",
          "severe weather",
          "severe weather",
          "severe weather",
          "severe weather",
          "severe weather",
          "severe weather",
          "severe weather",
          "severe weather",
          "severe weather",
          "severe weather",
          "severe weather",
          "severe weather",
          "severe weather",
          "severe weather",
          "severe weather",
          "severe weather",
          "severe weather",
          "severe weather",
          "severe weather",
          "severe weather",
          "severe weather",
          "severe weather",
          "severe weather",
          "severe weather",
          "severe weather",
          "severe weather",
          "severe weather",
          "severe weather",
          "severe weather",
          "severe weather",
          "severe weather",
          "severe weather",
          "severe weather",
          "severe weather",
          "severe weather",
          "severe weather",
          "severe weather",
          "severe weather",
          "severe weather",
          "severe weather",
          "severe weather",
          "severe weather",
          "severe weather",
          "severe weather",
          "severe weather",
          "severe weather",
          "severe weather",
          "severe weather",
          "severe weather",
          "severe weather",
          "severe weather",
          "severe weather",
          "severe weather",
          "severe weather",
          "severe weather",
          "severe weather",
          "severe weather",
          "severe weather",
          "severe weather",
          "severe weather",
          "severe weather",
          "severe weather",
          "severe weather",
          "severe weather",
          "severe weather",
          "severe weather",
          "severe weather",
          "severe weather",
          "severe weather",
          "severe weather",
          "severe weather",
          "severe weather",
          "severe weather",
          "severe weather",
          "severe weather",
          "severe weather",
          "severe weather",
          "severe weather",
          "severe weather",
          "severe weather",
          "severe weather",
          "severe weather",
          "severe weather",
          "severe weather",
          "severe weather",
          "severe weather",
          "severe weather",
          "severe weather",
          "severe weather",
          "severe weather",
          "severe weather",
          "severe weather",
          "severe weather",
          "severe weather",
          "severe weather",
          "severe weather",
          "severe weather",
          "severe weather",
          "severe weather",
          "severe weather",
          "severe weather",
          "severe weather",
          "severe weather",
          "severe weather",
          "severe weather",
          "severe weather",
          "severe weather",
          "severe weather",
          "severe weather",
          "severe weather",
          "severe weather",
          "severe weather",
          "severe weather",
          "severe weather",
          "severe weather",
          "severe weather",
          "severe weather",
          "severe weather",
          "severe weather",
          "severe weather",
          "severe weather",
          "severe weather",
          "severe weather",
          "severe weather",
          "severe weather",
          "severe weather",
          "severe weather",
          "severe weather",
          "severe weather",
          "severe weather",
          "severe weather",
          "severe weather",
          "severe weather",
          "severe weather",
          "severe weather",
          "severe weather",
          "severe weather",
          "severe weather",
          "severe weather",
          "severe weather",
          "severe weather",
          "severe weather",
          "severe weather",
          "severe weather",
          "severe weather",
          "severe weather",
          "severe weather",
          "severe weather",
          "severe weather",
          "severe weather",
          "severe weather",
          "severe weather",
          "severe weather",
          "severe weather",
          "severe weather",
          "severe weather",
          "severe weather",
          "severe weather",
          "severe weather",
          "severe weather",
          "severe weather",
          "severe weather",
          "severe weather",
          "severe weather",
          "severe weather",
          "severe weather",
          "severe weather",
          "severe weather",
          "severe weather",
          "severe weather",
          "severe weather",
          "severe weather",
          "severe weather",
          "severe weather",
          "severe weather",
          "severe weather",
          "severe weather",
          "severe weather",
          "severe weather",
          "severe weather",
          "severe weather",
          "severe weather",
          "severe weather",
          "severe weather",
          "severe weather",
          "severe weather",
          "severe weather",
          "severe weather",
          "severe weather",
          "severe weather",
          "severe weather",
          "severe weather",
          "severe weather",
          "severe weather",
          "severe weather",
          "severe weather",
          "severe weather",
          "severe weather",
          "severe weather",
          "severe weather",
          "severe weather",
          "severe weather",
          "severe weather",
          "severe weather",
          "severe weather",
          "severe weather",
          "severe weather",
          "severe weather",
          "severe weather",
          "severe weather",
          "severe weather",
          "severe weather",
          "severe weather",
          "severe weather",
          "severe weather",
          "severe weather",
          "severe weather",
          "severe weather",
          "severe weather",
          "severe weather",
          "severe weather",
          "severe weather",
          "severe weather",
          "severe weather",
          "severe weather",
          "severe weather",
          "severe weather",
          "severe weather",
          "severe weather",
          "severe weather",
          "severe weather",
          "severe weather",
          "severe weather",
          "severe weather",
          "severe weather",
          "severe weather",
          "severe weather",
          "severe weather",
          "severe weather",
          "severe weather",
          "severe weather",
          "severe weather",
          "severe weather",
          "severe weather",
          "severe weather",
          "severe weather",
          "severe weather",
          "severe weather",
          "severe weather",
          "severe weather",
          "severe weather",
          "severe weather",
          "severe weather",
          "severe weather",
          "severe weather",
          "severe weather",
          "severe weather",
          "severe weather",
          "severe weather",
          "severe weather",
          "severe weather",
          "severe weather",
          "severe weather",
          "severe weather",
          "severe weather",
          "severe weather",
          "severe weather",
          "severe weather",
          "severe weather",
          "severe weather",
          "severe weather",
          "severe weather",
          "severe weather",
          "severe weather",
          "severe weather",
          "severe weather",
          "severe weather",
          "severe weather",
          "severe weather",
          "severe weather",
          "severe weather",
          "severe weather",
          "severe weather",
          "severe weather",
          "severe weather",
          "severe weather",
          "severe weather",
          "severe weather",
          "severe weather",
          "severe weather",
          "severe weather",
          "severe weather",
          "severe weather",
          "severe weather",
          "severe weather",
          "severe weather",
          "severe weather",
          "severe weather",
          "severe weather",
          "severe weather",
          "severe weather",
          "severe weather",
          "severe weather",
          "severe weather",
          "severe weather",
          "severe weather",
          "severe weather",
          "severe weather",
          "severe weather",
          "severe weather",
          "severe weather",
          "severe weather",
          "severe weather",
          "severe weather",
          "severe weather",
          "severe weather",
          "severe weather",
          "severe weather",
          "severe weather",
          "severe weather",
          "severe weather",
          "severe weather",
          "severe weather",
          "severe weather",
          "severe weather",
          "severe weather",
          "severe weather",
          "severe weather",
          "severe weather",
          "severe weather",
          "severe weather",
          "severe weather",
          "severe weather",
          "severe weather",
          "severe weather",
          "severe weather",
          "severe weather",
          "severe weather",
          "severe weather",
          "severe weather",
          "severe weather",
          "severe weather",
          "severe weather",
          "severe weather",
          "severe weather",
          "severe weather",
          "severe weather",
          "severe weather",
          "severe weather",
          "severe weather",
          "severe weather",
          "severe weather",
          "severe weather",
          "severe weather",
          "severe weather",
          "severe weather",
          "severe weather",
          "severe weather",
          "severe weather",
          "severe weather",
          "severe weather",
          "severe weather",
          "severe weather",
          "severe weather",
          "severe weather",
          "severe weather",
          "severe weather",
          "severe weather",
          "severe weather",
          "severe weather",
          "severe weather",
          "severe weather",
          "severe weather",
          "severe weather",
          "severe weather",
          "severe weather",
          "severe weather",
          "severe weather",
          "severe weather",
          "severe weather",
          "severe weather",
          "severe weather",
          "severe weather",
          "severe weather",
          "severe weather",
          "severe weather",
          "severe weather",
          "severe weather",
          "severe weather",
          "severe weather",
          "severe weather",
          "severe weather",
          "severe weather",
          "severe weather",
          "severe weather",
          "severe weather",
          "severe weather",
          "severe weather",
          "severe weather",
          "severe weather",
          "severe weather",
          "severe weather",
          "severe weather",
          "severe weather",
          "severe weather",
          "severe weather",
          "severe weather",
          "severe weather",
          "severe weather",
          "severe weather",
          "severe weather",
          "severe weather",
          "severe weather",
          "severe weather",
          "severe weather",
          "severe weather",
          "severe weather",
          "severe weather",
          "severe weather",
          "severe weather",
          "severe weather",
          "severe weather",
          "severe weather",
          "severe weather",
          "severe weather",
          "severe weather",
          "severe weather",
          "severe weather",
          "severe weather",
          "severe weather",
          "severe weather",
          "severe weather",
          "severe weather",
          "severe weather",
          "severe weather",
          "severe weather",
          "severe weather",
          "severe weather",
          "severe weather",
          "severe weather",
          "severe weather",
          "severe weather",
          "severe weather",
          "severe weather",
          "severe weather",
          "severe weather",
          "severe weather",
          "severe weather",
          "severe weather",
          "severe weather",
          "severe weather",
          "severe weather",
          "severe weather",
          "severe weather",
          "severe weather",
          "severe weather",
          "severe weather",
          "severe weather",
          "severe weather",
          "severe weather",
          "severe weather",
          "severe weather",
          "severe weather",
          "severe weather",
          "severe weather",
          "severe weather",
          "severe weather",
          "severe weather",
          "severe weather",
          "severe weather",
          "severe weather",
          "severe weather",
          "severe weather",
          "severe weather",
          "severe weather",
          "severe weather",
          "severe weather",
          "severe weather",
          "severe weather",
          "severe weather",
          "severe weather",
          "severe weather",
          "severe weather",
          "severe weather",
          "severe weather",
          "severe weather",
          "severe weather",
          "severe weather",
          "severe weather",
          "severe weather",
          "severe weather",
          "severe weather",
          "severe weather",
          "severe weather",
          "severe weather",
          "severe weather",
          "severe weather",
          "severe weather",
          "severe weather",
          "severe weather",
          "severe weather",
          "severe weather",
          "severe weather",
          "severe weather",
          "severe weather",
          "severe weather",
          "severe weather",
          "severe weather",
          "severe weather",
          "severe weather",
          "severe weather",
          "severe weather",
          "severe weather",
          "severe weather",
          "severe weather",
          "severe weather",
          "severe weather",
          "severe weather",
          "severe weather",
          "severe weather",
          "severe weather",
          "severe weather",
          "severe weather",
          "severe weather",
          "severe weather",
          "severe weather",
          "severe weather",
          "severe weather",
          "severe weather",
          "severe weather",
          "severe weather",
          "severe weather",
          "severe weather",
          "severe weather",
          "severe weather",
          "severe weather",
          "severe weather",
          "severe weather",
          "severe weather",
          "severe weather",
          "severe weather",
          "severe weather",
          "severe weather",
          "severe weather",
          "severe weather",
          "severe weather",
          "severe weather",
          "severe weather",
          "severe weather",
          "severe weather",
          "severe weather",
          "severe weather",
          "severe weather",
          "severe weather",
          "severe weather",
          "severe weather",
          "severe weather",
          "severe weather",
          "severe weather",
          "severe weather",
          "severe weather",
          "severe weather",
          "severe weather",
          "severe weather",
          "severe weather",
          "severe weather",
          "severe weather",
          "severe weather",
          "severe weather",
          "severe weather",
          "severe weather",
          "severe weather",
          "severe weather",
          "severe weather",
          "severe weather",
          "severe weather",
          "severe weather",
          "severe weather",
          "severe weather",
          "severe weather",
          "severe weather",
          "severe weather",
          "severe weather",
          "severe weather",
          "severe weather",
          "severe weather",
          "severe weather",
          "severe weather",
          "severe weather",
          "severe weather",
          "severe weather",
          "severe weather",
          "severe weather",
          "severe weather",
          "severe weather",
          "severe weather",
          "severe weather",
          "severe weather",
          "severe weather",
          "severe weather",
          "severe weather",
          "severe weather",
          "severe weather",
          "severe weather",
          "severe weather",
          "severe weather",
          "severe weather",
          "severe weather",
          "severe weather",
          "severe weather",
          "severe weather",
          "severe weather",
          "severe weather",
          "severe weather",
          "severe weather",
          "severe weather"
         ],
         "xaxis": "x",
         "y": [
          3060,
          3000,
          2550,
          1740,
          1860,
          2970,
          3960,
          3621,
          7740,
          8880,
          60,
          196,
          840,
          935,
          1260,
          150,
          0,
          660,
          1,
          4921,
          251,
          4125,
          2550,
          1200,
          2818,
          5054,
          136,
          528,
          150,
          1920,
          32,
          3000,
          32,
          960,
          4410,
          480,
          538,
          1272,
          1000,
          17339,
          9576,
          3090,
          6510,
          5820,
          1513,
          4830,
          4200,
          5730,
          4290,
          2670,
          3540,
          3637,
          1710,
          4320,
          3915,
          3120,
          4590,
          7530,
          5034,
          8160,
          3300,
          4320,
          9857,
          4080,
          5670,
          5700,
          1995,
          300,
          5115,
          2670,
          7650,
          4338,
          5760,
          2820,
          4110,
          3360,
          3015,
          232,
          6420,
          46080,
          5700,
          5610,
          270,
          4050,
          5865,
          2325,
          4170,
          4485,
          5580,
          705,
          11850,
          3494,
          4560,
          2760,
          5760,
          8922,
          6030,
          7800,
          4242,
          3120,
          5700,
          900,
          7620,
          3630,
          1260,
          5840,
          5790,
          2820,
          600,
          4259,
          2939,
          7080,
          3600,
          1588,
          4260,
          2700,
          8430,
          85,
          9150,
          1019,
          420,
          1140,
          7440,
          4458,
          1203,
          1455,
          1559,
          900,
          2690,
          5115,
          2142,
          360,
          2340,
          9486,
          480,
          300,
          3020,
          1335,
          12180,
          690,
          27698,
          2420,
          327,
          1860,
          847,
          215,
          570,
          12124,
          2655,
          600,
          181,
          1185,
          1500,
          1860,
          1200,
          6300,
          1620,
          2220,
          7809,
          1200,
          5595,
          3360,
          685,
          2280,
          1920,
          3569,
          3300,
          1560,
          840,
          17865,
          1080,
          1320,
          1110,
          27698,
          3040,
          10140,
          21540,
          1200,
          900,
          940,
          3050,
          1830,
          6000,
          1500,
          150,
          1955,
          2220,
          420,
          1060,
          5250,
          4320,
          2120,
          4320,
          2146,
          4032,
          2580,
          569,
          15950,
          200,
          1980,
          4045,
          2730,
          3314,
          7319,
          1440,
          3646,
          1130,
          513,
          23773,
          10,
          3872,
          12240,
          390,
          3264,
          1230,
          803,
          2680,
          7609,
          150,
          3000,
          420,
          479,
          1680,
          2700,
          1110,
          2790,
          659,
          1320,
          1830,
          3000,
          870,
          810,
          1336,
          1695,
          360,
          360,
          120,
          3000,
          1290,
          1530,
          2370,
          1200,
          1200,
          90,
          120,
          1200,
          720,
          1120,
          2100,
          960,
          450,
          1440,
          1020,
          0,
          2010,
          9230,
          2460,
          8880,
          5340,
          8940,
          1920,
          420,
          2040,
          3300,
          6690,
          6276,
          2700,
          2639,
          6480,
          9630,
          3507,
          2820,
          5855,
          22769,
          4285,
          2520,
          49320,
          4200,
          66,
          49320,
          2021,
          1671,
          3938,
          4470,
          2279,
          4440,
          2760,
          1840,
          1980,
          1950,
          3037,
          1196,
          5628,
          7700,
          12890,
          4232,
          2610,
          4320,
          2507,
          1,
          4920,
          4080,
          185,
          1320,
          2855,
          3060,
          7298,
          5790,
          3040,
          11700,
          7987,
          4517,
          3058,
          13381,
          2865,
          9450,
          7803,
          5579,
          8979,
          4800,
          3060,
          4792,
          3894,
          1757,
          2880,
          2985,
          3232,
          2319,
          4338,
          2880,
          1714,
          90,
          59,
          4139,
          10530,
          6938,
          930,
          299,
          5320,
          2880,
          1,
          6713,
          5160,
          1440,
          78,
          7523,
          2668,
          1,
          1324,
          6940,
          2684,
          54,
          720,
          2880,
          3189,
          2790,
          13679,
          13488,
          7709,
          7080,
          1,
          1680,
          1579,
          300,
          1020,
          3570,
          6492,
          10499,
          15180,
          283,
          1631,
          4920,
          4920,
          420,
          21,
          4200,
          805,
          5040,
          7430,
          5490,
          165,
          3630,
          11640,
          1590,
          7920,
          1372,
          6480,
          2190,
          1843,
          11531,
          1420,
          930,
          11420,
          960,
          1733,
          3690,
          10619,
          11280,
          1440,
          180,
          1574,
          388,
          373,
          4510,
          290,
          1950,
          270,
          1355,
          1318,
          2490,
          1265,
          3388,
          1025,
          990,
          240,
          1485,
          1528,
          1890,
          2551,
          985,
          1698,
          1460,
          182,
          4113,
          885,
          15,
          1050,
          4140,
          2880,
          11430,
          3599,
          2941,
          6090,
          2520,
          10080,
          76,
          3720,
          333,
          11337,
          7020,
          11058,
          9360,
          3300,
          3339,
          2880,
          11580,
          9600,
          13201,
          9719,
          488,
          2415,
          180,
          4177,
          7440,
          3480,
          6600,
          300,
          1526,
          210,
          4380,
          4313,
          1050,
          9886,
          2425,
          390,
          14500,
          6660,
          54,
          30,
          8077,
          855,
          810,
          4150,
          4740,
          2070,
          870,
          12652,
          2880,
          120,
          1470,
          4140,
          15420,
          4254,
          53,
          347,
          1044,
          8670,
          2089,
          20280,
          14639,
          2880,
          1,
          5355,
          3943,
          3300,
          10726,
          2515,
          2730,
          9480,
          5400,
          3584,
          4710,
          1800,
          6074,
          49,
          2299,
          5760,
          7320,
          448,
          2520,
          2100,
          8221,
          3240,
          2880,
          13140,
          8640,
          15492,
          8268,
          7962,
          11296,
          8054,
          2160,
          2100,
          1440,
          692,
          13215,
          17812,
          20416,
          6240,
          3067,
          3060,
          18804,
          1867,
          1690,
          240,
          17520,
          8189,
          5820,
          2009,
          720,
          480,
          1005,
          13430,
          3600,
          10080,
          5071,
          6840,
          221,
          24780,
          7560,
          10380,
          2040,
          12060,
          1080,
          1680,
          13920,
          14101,
          1099,
          2460,
          540,
          420,
          437,
          180,
          656,
          255,
          1054,
          1456,
          2464,
          523,
          8472,
          2790,
          224,
          1470,
          2050,
          125,
          365,
          4740,
          294,
          455,
          2645,
          2016,
          7371,
          3408,
          4890,
          2759,
          435,
          5160,
          15180,
          721,
          14190,
          900,
          6070,
          5910,
          34390,
          166,
          15,
          13,
          390,
          47,
          8100,
          180,
          2820,
          989,
          2895,
          252,
          130,
          6914,
          270,
          962,
          47,
          9855,
          17,
          21,
          1950,
          617,
          1230,
          572,
          6780,
          37,
          72,
          300,
          751,
          8,
          5227,
          1414,
          4605,
          4080,
          10274,
          2700,
          210,
          1201,
          30,
          2806,
          1226,
          8160,
          126,
          285,
          424,
          180,
          0,
          448,
          624,
          2435,
          131,
          208,
          103,
          1355,
          1523,
          90,
          1205,
          385,
          144,
          235,
          6787,
          1673,
          3366,
          2640,
          1826,
          570,
          1565,
          2691,
          1072,
          115,
          816,
          168,
          160,
          485,
          1508,
          1301,
          60,
          4,
          9600,
          106,
          810,
          1380,
          1800,
          1560,
          2054,
          1452,
          1865,
          1999,
          120,
          1950,
          360,
          1087,
          1200,
          4122,
          360,
          645,
          1440,
          4560,
          110,
          210,
          4260,
          76,
          3305,
          5880,
          145,
          2640,
          1042,
          11880,
          2245,
          7200,
          148,
          13972,
          796,
          2612,
          3000,
          5310,
          1732,
          6685,
          3300,
          280,
          2895,
          480,
          1,
          4745,
          1656,
          3525,
          374,
          115,
          3604,
          2108,
          198,
          3667,
          1037,
          673,
          2652,
          618,
          1187,
          950,
          2535,
          660,
          2040,
          2710,
          4019,
          2140,
          348,
          13650,
          14040,
          1367,
          174,
          543,
          1906
         ],
         "yaxis": "y"
        },
        {
         "hovertemplate": "CAUSE.CATEGORY=%{x}<br>OUTAGE.DURATION=%{y}<extra></extra>",
         "legendgroup": "intentional attack",
         "marker": {
          "color": "#EF553B",
          "opacity": 0.6,
          "symbol": "circle"
         },
         "mode": "markers",
         "name": "intentional attack",
         "showlegend": true,
         "type": "scattergl",
         "x": [
          "intentional attack",
          "intentional attack",
          "intentional attack",
          "intentional attack",
          "intentional attack",
          "intentional attack",
          "intentional attack",
          "intentional attack",
          "intentional attack",
          "intentional attack",
          "intentional attack",
          "intentional attack",
          "intentional attack",
          "intentional attack",
          "intentional attack",
          "intentional attack",
          "intentional attack",
          "intentional attack",
          "intentional attack",
          "intentional attack",
          "intentional attack",
          "intentional attack",
          "intentional attack",
          "intentional attack",
          "intentional attack",
          "intentional attack",
          "intentional attack",
          "intentional attack",
          "intentional attack",
          "intentional attack",
          "intentional attack",
          "intentional attack",
          "intentional attack",
          "intentional attack",
          "intentional attack",
          "intentional attack",
          "intentional attack",
          "intentional attack",
          "intentional attack",
          "intentional attack",
          "intentional attack",
          "intentional attack",
          "intentional attack",
          "intentional attack",
          "intentional attack",
          "intentional attack",
          "intentional attack",
          "intentional attack",
          "intentional attack",
          "intentional attack",
          "intentional attack",
          "intentional attack",
          "intentional attack",
          "intentional attack",
          "intentional attack",
          "intentional attack",
          "intentional attack",
          "intentional attack",
          "intentional attack",
          "intentional attack",
          "intentional attack",
          "intentional attack",
          "intentional attack",
          "intentional attack",
          "intentional attack",
          "intentional attack",
          "intentional attack",
          "intentional attack",
          "intentional attack",
          "intentional attack",
          "intentional attack",
          "intentional attack",
          "intentional attack",
          "intentional attack",
          "intentional attack",
          "intentional attack",
          "intentional attack",
          "intentional attack",
          "intentional attack",
          "intentional attack",
          "intentional attack",
          "intentional attack",
          "intentional attack",
          "intentional attack",
          "intentional attack",
          "intentional attack",
          "intentional attack",
          "intentional attack",
          "intentional attack",
          "intentional attack",
          "intentional attack",
          "intentional attack",
          "intentional attack",
          "intentional attack",
          "intentional attack",
          "intentional attack",
          "intentional attack",
          "intentional attack",
          "intentional attack",
          "intentional attack",
          "intentional attack",
          "intentional attack",
          "intentional attack",
          "intentional attack",
          "intentional attack",
          "intentional attack",
          "intentional attack",
          "intentional attack",
          "intentional attack",
          "intentional attack",
          "intentional attack",
          "intentional attack",
          "intentional attack",
          "intentional attack",
          "intentional attack",
          "intentional attack",
          "intentional attack",
          "intentional attack",
          "intentional attack",
          "intentional attack",
          "intentional attack",
          "intentional attack",
          "intentional attack",
          "intentional attack",
          "intentional attack",
          "intentional attack",
          "intentional attack",
          "intentional attack",
          "intentional attack",
          "intentional attack",
          "intentional attack",
          "intentional attack",
          "intentional attack",
          "intentional attack",
          "intentional attack",
          "intentional attack",
          "intentional attack",
          "intentional attack",
          "intentional attack",
          "intentional attack",
          "intentional attack",
          "intentional attack",
          "intentional attack",
          "intentional attack",
          "intentional attack",
          "intentional attack",
          "intentional attack",
          "intentional attack",
          "intentional attack",
          "intentional attack",
          "intentional attack",
          "intentional attack",
          "intentional attack",
          "intentional attack",
          "intentional attack",
          "intentional attack",
          "intentional attack",
          "intentional attack",
          "intentional attack",
          "intentional attack",
          "intentional attack",
          "intentional attack",
          "intentional attack",
          "intentional attack",
          "intentional attack",
          "intentional attack",
          "intentional attack",
          "intentional attack",
          "intentional attack",
          "intentional attack",
          "intentional attack",
          "intentional attack",
          "intentional attack",
          "intentional attack",
          "intentional attack",
          "intentional attack",
          "intentional attack",
          "intentional attack",
          "intentional attack",
          "intentional attack",
          "intentional attack",
          "intentional attack",
          "intentional attack",
          "intentional attack",
          "intentional attack",
          "intentional attack",
          "intentional attack",
          "intentional attack",
          "intentional attack",
          "intentional attack",
          "intentional attack",
          "intentional attack",
          "intentional attack",
          "intentional attack",
          "intentional attack",
          "intentional attack",
          "intentional attack",
          "intentional attack",
          "intentional attack",
          "intentional attack",
          "intentional attack",
          "intentional attack",
          "intentional attack",
          "intentional attack",
          "intentional attack",
          "intentional attack",
          "intentional attack",
          "intentional attack",
          "intentional attack",
          "intentional attack",
          "intentional attack",
          "intentional attack",
          "intentional attack",
          "intentional attack",
          "intentional attack",
          "intentional attack",
          "intentional attack",
          "intentional attack",
          "intentional attack",
          "intentional attack",
          "intentional attack",
          "intentional attack",
          "intentional attack",
          "intentional attack",
          "intentional attack",
          "intentional attack",
          "intentional attack",
          "intentional attack",
          "intentional attack",
          "intentional attack",
          "intentional attack",
          "intentional attack",
          "intentional attack",
          "intentional attack",
          "intentional attack",
          "intentional attack",
          "intentional attack",
          "intentional attack",
          "intentional attack",
          "intentional attack",
          "intentional attack",
          "intentional attack",
          "intentional attack",
          "intentional attack",
          "intentional attack",
          "intentional attack",
          "intentional attack",
          "intentional attack",
          "intentional attack",
          "intentional attack",
          "intentional attack",
          "intentional attack",
          "intentional attack",
          "intentional attack",
          "intentional attack",
          "intentional attack",
          "intentional attack",
          "intentional attack",
          "intentional attack",
          "intentional attack",
          "intentional attack",
          "intentional attack",
          "intentional attack",
          "intentional attack",
          "intentional attack",
          "intentional attack",
          "intentional attack",
          "intentional attack",
          "intentional attack",
          "intentional attack",
          "intentional attack",
          "intentional attack",
          "intentional attack",
          "intentional attack",
          "intentional attack",
          "intentional attack",
          "intentional attack",
          "intentional attack",
          "intentional attack",
          "intentional attack",
          "intentional attack",
          "intentional attack",
          "intentional attack",
          "intentional attack",
          "intentional attack",
          "intentional attack",
          "intentional attack",
          "intentional attack",
          "intentional attack",
          "intentional attack",
          "intentional attack",
          "intentional attack",
          "intentional attack",
          "intentional attack",
          "intentional attack",
          "intentional attack",
          "intentional attack",
          "intentional attack",
          "intentional attack",
          "intentional attack",
          "intentional attack",
          "intentional attack",
          "intentional attack",
          "intentional attack",
          "intentional attack",
          "intentional attack",
          "intentional attack",
          "intentional attack",
          "intentional attack",
          "intentional attack",
          "intentional attack",
          "intentional attack",
          "intentional attack",
          "intentional attack",
          "intentional attack",
          "intentional attack",
          "intentional attack",
          "intentional attack",
          "intentional attack",
          "intentional attack",
          "intentional attack",
          "intentional attack",
          "intentional attack",
          "intentional attack",
          "intentional attack",
          "intentional attack",
          "intentional attack",
          "intentional attack",
          "intentional attack",
          "intentional attack",
          "intentional attack",
          "intentional attack",
          "intentional attack",
          "intentional attack",
          "intentional attack",
          "intentional attack",
          "intentional attack",
          "intentional attack",
          "intentional attack",
          "intentional attack",
          "intentional attack",
          "intentional attack",
          "intentional attack",
          "intentional attack",
          "intentional attack",
          "intentional attack",
          "intentional attack",
          "intentional attack",
          "intentional attack",
          "intentional attack",
          "intentional attack",
          "intentional attack",
          "intentional attack",
          "intentional attack",
          "intentional attack",
          "intentional attack",
          "intentional attack",
          "intentional attack",
          "intentional attack",
          "intentional attack",
          "intentional attack",
          "intentional attack",
          "intentional attack",
          "intentional attack",
          "intentional attack",
          "intentional attack",
          "intentional attack",
          "intentional attack",
          "intentional attack",
          "intentional attack",
          "intentional attack",
          "intentional attack",
          "intentional attack",
          "intentional attack",
          "intentional attack",
          "intentional attack",
          "intentional attack",
          "intentional attack",
          "intentional attack",
          "intentional attack",
          "intentional attack",
          "intentional attack",
          "intentional attack",
          "intentional attack",
          "intentional attack",
          "intentional attack",
          "intentional attack",
          "intentional attack",
          "intentional attack",
          "intentional attack",
          "intentional attack",
          "intentional attack",
          "intentional attack",
          "intentional attack",
          "intentional attack",
          "intentional attack",
          "intentional attack",
          "intentional attack",
          "intentional attack",
          "intentional attack",
          "intentional attack",
          "intentional attack",
          "intentional attack"
         ],
         "xaxis": "x",
         "y": [
          1,
          155,
          0,
          1322,
          0,
          619,
          1,
          95,
          310,
          1,
          135,
          44,
          1605,
          1219,
          90,
          60,
          60,
          1,
          1770,
          11525,
          1046,
          200,
          206,
          5,
          1077,
          1,
          410,
          5,
          1,
          557,
          10,
          1282,
          1,
          74,
          255,
          120,
          3,
          96,
          0,
          276,
          0,
          0,
          2880,
          77,
          30,
          1,
          5,
          1450,
          1240,
          465,
          0,
          1183,
          394,
          219,
          487,
          28,
          0,
          1,
          467,
          0,
          0,
          0,
          1,
          1423,
          60,
          1620,
          385,
          663,
          123,
          1276,
          1919,
          440,
          0,
          717,
          292,
          313,
          1,
          5,
          0,
          74,
          0,
          1,
          25,
          126,
          1,
          255,
          1207,
          0,
          0,
          245,
          476,
          1,
          502,
          548,
          369,
          15,
          5,
          1,
          0,
          432,
          1697,
          0,
          2615,
          314,
          0,
          0,
          70,
          355,
          0,
          0,
          50,
          70,
          180,
          3842,
          1,
          189,
          353,
          1,
          87,
          1,
          227,
          1440,
          2700,
          2,
          451,
          0,
          1,
          0,
          1,
          428,
          331,
          1,
          1,
          1,
          1,
          1440,
          2,
          95,
          17,
          113,
          0,
          0,
          1,
          0,
          960,
          1673,
          565,
          1,
          1,
          0,
          152,
          164,
          4260,
          100,
          2843,
          1642,
          108,
          0,
          120,
          1,
          1,
          1,
          1,
          1,
          1,
          60,
          113,
          31,
          57,
          13,
          2,
          11,
          0,
          1,
          56,
          15,
          15,
          20,
          60,
          1,
          95,
          300,
          1,
          3186,
          575,
          1,
          44,
          21,
          1,
          114,
          1,
          60,
          0,
          7,
          340,
          1440,
          360,
          0,
          1440,
          285,
          75,
          1,
          0,
          0,
          0,
          634,
          563,
          3120,
          405,
          167,
          1,
          0,
          375,
          0,
          0,
          353,
          0,
          0,
          60,
          2,
          1350,
          73,
          1,
          0,
          0,
          120,
          2680,
          840,
          989,
          214,
          4,
          164,
          91,
          838,
          60,
          1,
          1,
          25,
          0,
          1199,
          0,
          1,
          1,
          0,
          0,
          0,
          457,
          1,
          1,
          0,
          30,
          1,
          1,
          65,
          1,
          0,
          0,
          0,
          1,
          1,
          0,
          1,
          1,
          110,
          39,
          1,
          1,
          1,
          1,
          1,
          1,
          507,
          213,
          1,
          1,
          0,
          0,
          251,
          1637,
          21360,
          2161,
          2880,
          93,
          0,
          0,
          73,
          1,
          5,
          30,
          1,
          2880,
          161,
          258,
          0,
          300,
          17,
          83,
          1135,
          1,
          106,
          70,
          8873,
          2878,
          295,
          480,
          360,
          3698,
          1,
          78,
          1,
          697,
          245,
          3100,
          1,
          0,
          98,
          128,
          20,
          1,
          448,
          1,
          240,
          1,
          513,
          60,
          110,
          2363,
          2,
          0,
          0,
          1,
          314,
          30,
          92,
          390,
          161,
          60,
          1,
          1,
          160,
          20,
          1,
          1,
          70,
          50,
          15,
          108,
          0,
          1,
          1,
          1,
          120,
          0,
          210,
          60,
          110,
          0,
          117,
          0,
          0,
          307,
          1068,
          1569,
          114,
          15,
          1,
          0,
          0,
          195,
          1,
          0,
          300,
          27,
          108,
          73,
          200,
          5,
          75,
          0,
          77,
          0,
          92,
          30,
          33,
          1895,
          274,
          1,
          1534,
          1,
          60,
          108,
          175,
          105,
          1,
          201,
          103,
          187,
          1406,
          90,
          0,
          360,
          870,
          0
         ],
         "yaxis": "y"
        },
        {
         "hovertemplate": "CAUSE.CATEGORY=%{x}<br>OUTAGE.DURATION=%{y}<extra></extra>",
         "legendgroup": "system operability disruption",
         "marker": {
          "color": "#00cc96",
          "opacity": 0.6,
          "symbol": "circle"
         },
         "mode": "markers",
         "name": "system operability disruption",
         "showlegend": true,
         "type": "scattergl",
         "x": [
          "system operability disruption",
          "system operability disruption",
          "system operability disruption",
          "system operability disruption",
          "system operability disruption",
          "system operability disruption",
          "system operability disruption",
          "system operability disruption",
          "system operability disruption",
          "system operability disruption",
          "system operability disruption",
          "system operability disruption",
          "system operability disruption",
          "system operability disruption",
          "system operability disruption",
          "system operability disruption",
          "system operability disruption",
          "system operability disruption",
          "system operability disruption",
          "system operability disruption",
          "system operability disruption",
          "system operability disruption",
          "system operability disruption",
          "system operability disruption",
          "system operability disruption",
          "system operability disruption",
          "system operability disruption",
          "system operability disruption",
          "system operability disruption",
          "system operability disruption",
          "system operability disruption",
          "system operability disruption",
          "system operability disruption",
          "system operability disruption",
          "system operability disruption",
          "system operability disruption",
          "system operability disruption",
          "system operability disruption",
          "system operability disruption",
          "system operability disruption",
          "system operability disruption",
          "system operability disruption",
          "system operability disruption",
          "system operability disruption",
          "system operability disruption",
          "system operability disruption",
          "system operability disruption",
          "system operability disruption",
          "system operability disruption",
          "system operability disruption",
          "system operability disruption",
          "system operability disruption",
          "system operability disruption",
          "system operability disruption",
          "system operability disruption",
          "system operability disruption",
          "system operability disruption",
          "system operability disruption",
          "system operability disruption",
          "system operability disruption",
          "system operability disruption",
          "system operability disruption",
          "system operability disruption",
          "system operability disruption",
          "system operability disruption",
          "system operability disruption",
          "system operability disruption",
          "system operability disruption",
          "system operability disruption",
          "system operability disruption",
          "system operability disruption",
          "system operability disruption",
          "system operability disruption",
          "system operability disruption",
          "system operability disruption",
          "system operability disruption",
          "system operability disruption",
          "system operability disruption",
          "system operability disruption",
          "system operability disruption",
          "system operability disruption",
          "system operability disruption",
          "system operability disruption",
          "system operability disruption",
          "system operability disruption",
          "system operability disruption",
          "system operability disruption",
          "system operability disruption",
          "system operability disruption",
          "system operability disruption",
          "system operability disruption",
          "system operability disruption",
          "system operability disruption",
          "system operability disruption",
          "system operability disruption",
          "system operability disruption",
          "system operability disruption",
          "system operability disruption",
          "system operability disruption",
          "system operability disruption",
          "system operability disruption",
          "system operability disruption",
          "system operability disruption",
          "system operability disruption",
          "system operability disruption",
          "system operability disruption",
          "system operability disruption",
          "system operability disruption",
          "system operability disruption",
          "system operability disruption",
          "system operability disruption",
          "system operability disruption",
          "system operability disruption",
          "system operability disruption",
          "system operability disruption",
          "system operability disruption",
          "system operability disruption",
          "system operability disruption",
          "system operability disruption",
          "system operability disruption",
          "system operability disruption",
          "system operability disruption",
          "system operability disruption"
         ],
         "xaxis": "x",
         "y": [
          19,
          21,
          3051,
          2085,
          2694,
          373,
          868,
          189,
          3000,
          766,
          245,
          3255,
          757,
          0,
          271,
          2159,
          70,
          1697,
          95,
          121,
          63,
          167,
          130,
          550,
          1440,
          65,
          65,
          6,
          35,
          23187,
          300,
          25,
          554,
          215,
          304,
          380,
          278,
          204,
          871,
          3137,
          352,
          45,
          195,
          129,
          0,
          42,
          132,
          1365,
          65,
          681,
          191,
          1732,
          5513,
          21,
          50,
          48,
          3180,
          2129,
          732,
          420,
          355,
          52,
          230,
          155,
          372,
          91,
          152,
          38,
          61,
          90,
          52,
          816,
          155,
          171,
          177,
          32,
          55,
          64,
          56,
          33,
          334,
          230,
          316,
          336,
          25,
          250,
          249,
          133,
          2055,
          451,
          199,
          1524,
          39,
          47,
          161,
          234,
          40,
          213,
          761,
          124,
          245,
          1008,
          13,
          108,
          141,
          959,
          1835,
          89,
          236,
          326,
          759,
          241,
          0,
          31,
          103,
          284,
          391,
          439,
          5,
          237,
          224,
          95,
          220
         ],
         "yaxis": "y"
        },
        {
         "hovertemplate": "CAUSE.CATEGORY=%{x}<br>OUTAGE.DURATION=%{y}<extra></extra>",
         "legendgroup": "equipment failure",
         "marker": {
          "color": "#ab63fa",
          "opacity": 0.6,
          "symbol": "circle"
         },
         "mode": "markers",
         "name": "equipment failure",
         "showlegend": true,
         "type": "scattergl",
         "x": [
          "equipment failure",
          "equipment failure",
          "equipment failure",
          "equipment failure",
          "equipment failure",
          "equipment failure",
          "equipment failure",
          "equipment failure",
          "equipment failure",
          "equipment failure",
          "equipment failure",
          "equipment failure",
          "equipment failure",
          "equipment failure",
          "equipment failure",
          "equipment failure",
          "equipment failure",
          "equipment failure",
          "equipment failure",
          "equipment failure",
          "equipment failure",
          "equipment failure",
          "equipment failure",
          "equipment failure",
          "equipment failure",
          "equipment failure",
          "equipment failure",
          "equipment failure",
          "equipment failure",
          "equipment failure",
          "equipment failure",
          "equipment failure",
          "equipment failure",
          "equipment failure",
          "equipment failure",
          "equipment failure",
          "equipment failure",
          "equipment failure",
          "equipment failure",
          "equipment failure",
          "equipment failure",
          "equipment failure",
          "equipment failure",
          "equipment failure",
          "equipment failure",
          "equipment failure",
          "equipment failure",
          "equipment failure",
          "equipment failure",
          "equipment failure",
          "equipment failure",
          "equipment failure",
          "equipment failure",
          "equipment failure",
          "equipment failure"
         ],
         "xaxis": "x",
         "y": [
          762,
          46,
          761,
          78377,
          168,
          600,
          186,
          318,
          39,
          885,
          1,
          149,
          1204,
          35,
          1,
          418,
          100,
          376,
          652,
          15,
          200,
          159,
          50,
          494,
          0,
          7,
          227,
          295,
          182,
          221,
          1419,
          396,
          437,
          84,
          202,
          945,
          155,
          749,
          159,
          871,
          164,
          854,
          179,
          182,
          829,
          64,
          1080,
          269,
          125,
          230,
          620,
          909,
          1914,
          105,
          61
         ],
         "yaxis": "y"
        },
        {
         "hovertemplate": "CAUSE.CATEGORY=%{x}<br>OUTAGE.DURATION=%{y}<extra></extra>",
         "legendgroup": "public appeal",
         "marker": {
          "color": "#FFA15A",
          "opacity": 0.6,
          "symbol": "circle"
         },
         "mode": "markers",
         "name": "public appeal",
         "showlegend": true,
         "type": "scattergl",
         "x": [
          "public appeal",
          "public appeal",
          "public appeal",
          "public appeal",
          "public appeal",
          "public appeal",
          "public appeal",
          "public appeal",
          "public appeal",
          "public appeal",
          "public appeal",
          "public appeal",
          "public appeal",
          "public appeal",
          "public appeal",
          "public appeal",
          "public appeal",
          "public appeal",
          "public appeal",
          "public appeal",
          "public appeal",
          "public appeal",
          "public appeal",
          "public appeal",
          "public appeal",
          "public appeal",
          "public appeal",
          "public appeal",
          "public appeal",
          "public appeal",
          "public appeal",
          "public appeal",
          "public appeal",
          "public appeal",
          "public appeal",
          "public appeal",
          "public appeal",
          "public appeal",
          "public appeal",
          "public appeal",
          "public appeal",
          "public appeal",
          "public appeal",
          "public appeal",
          "public appeal",
          "public appeal",
          "public appeal",
          "public appeal",
          "public appeal",
          "public appeal",
          "public appeal",
          "public appeal",
          "public appeal",
          "public appeal",
          "public appeal",
          "public appeal",
          "public appeal",
          "public appeal",
          "public appeal",
          "public appeal",
          "public appeal",
          "public appeal",
          "public appeal",
          "public appeal",
          "public appeal",
          "public appeal",
          "public appeal",
          "public appeal",
          "public appeal"
         ],
         "xaxis": "x",
         "y": [
          2700,
          388,
          1078,
          1195,
          225,
          480,
          197,
          402,
          220,
          455,
          224,
          240,
          210,
          240,
          990,
          6000,
          7540,
          394,
          45,
          330,
          120,
          248,
          2275,
          4680,
          420,
          3120,
          2400,
          300,
          2775,
          2775,
          2775,
          2775,
          430,
          1755,
          510,
          557,
          300,
          467,
          430,
          300,
          2880,
          4320,
          4320,
          4320,
          247,
          1560,
          3301,
          420,
          140,
          554,
          89,
          75,
          11867,
          300,
          206,
          270,
          2880,
          3314,
          414,
          62,
          1337,
          30,
          159,
          1381,
          300,
          431,
          913,
          1548,
          720
         ],
         "yaxis": "y"
        },
        {
         "hovertemplate": "CAUSE.CATEGORY=%{x}<br>OUTAGE.DURATION=%{y}<extra></extra>",
         "legendgroup": "fuel supply emergency",
         "marker": {
          "color": "#19d3f3",
          "opacity": 0.6,
          "symbol": "circle"
         },
         "mode": "markers",
         "name": "fuel supply emergency",
         "showlegend": true,
         "type": "scattergl",
         "x": [
          "fuel supply emergency",
          "fuel supply emergency",
          "fuel supply emergency",
          "fuel supply emergency",
          "fuel supply emergency",
          "fuel supply emergency",
          "fuel supply emergency",
          "fuel supply emergency",
          "fuel supply emergency",
          "fuel supply emergency",
          "fuel supply emergency",
          "fuel supply emergency",
          "fuel supply emergency",
          "fuel supply emergency",
          "fuel supply emergency",
          "fuel supply emergency",
          "fuel supply emergency",
          "fuel supply emergency",
          "fuel supply emergency",
          "fuel supply emergency",
          "fuel supply emergency",
          "fuel supply emergency",
          "fuel supply emergency",
          "fuel supply emergency",
          "fuel supply emergency",
          "fuel supply emergency",
          "fuel supply emergency",
          "fuel supply emergency",
          "fuel supply emergency",
          "fuel supply emergency",
          "fuel supply emergency",
          "fuel supply emergency",
          "fuel supply emergency",
          "fuel supply emergency",
          "fuel supply emergency",
          "fuel supply emergency",
          "fuel supply emergency",
          "fuel supply emergency"
         ],
         "xaxis": "x",
         "y": [
          108653,
          8468,
          18660,
          104,
          20160,
          1440,
          20160,
          12240,
          2761,
          1,
          1440,
          23700,
          17310,
          10080,
          25920,
          3600,
          5850,
          23040,
          18717,
          255,
          2355,
          18240,
          14400,
          60480,
          28170,
          540,
          370,
          660,
          4320,
          49427,
          1260,
          865,
          2880,
          324,
          900,
          76,
          2891,
          1676
         ],
         "yaxis": "y"
        },
        {
         "hovertemplate": "CAUSE.CATEGORY=%{x}<br>OUTAGE.DURATION=%{y}<extra></extra>",
         "legendgroup": "islanding",
         "marker": {
          "color": "#FF6692",
          "opacity": 0.6,
          "symbol": "circle"
         },
         "mode": "markers",
         "name": "islanding",
         "showlegend": true,
         "type": "scattergl",
         "x": [
          "islanding",
          "islanding",
          "islanding",
          "islanding",
          "islanding",
          "islanding",
          "islanding",
          "islanding",
          "islanding",
          "islanding",
          "islanding",
          "islanding",
          "islanding",
          "islanding",
          "islanding",
          "islanding",
          "islanding",
          "islanding",
          "islanding",
          "islanding",
          "islanding",
          "islanding",
          "islanding",
          "islanding",
          "islanding",
          "islanding",
          "islanding",
          "islanding",
          "islanding",
          "islanding",
          "islanding",
          "islanding",
          "islanding",
          "islanding",
          "islanding",
          "islanding",
          "islanding",
          "islanding",
          "islanding",
          "islanding",
          "islanding",
          "islanding",
          "islanding",
          "islanding"
         ],
         "xaxis": "x",
         "y": [
          1,
          233,
          96,
          47,
          19,
          21,
          180,
          56,
          13,
          1254,
          144,
          3,
          270,
          26,
          797,
          12,
          195,
          1,
          15,
          223,
          268,
          14,
          400,
          44,
          26,
          98,
          135,
          50,
          53,
          5,
          157,
          11,
          1035,
          251,
          122,
          214,
          193,
          3,
          32,
          984,
          881,
          2,
          59,
          181
         ],
         "yaxis": "y"
        }
       ],
       "layout": {
        "height": 600,
        "legend": {
         "title": {
          "text": "CAUSE.CATEGORY"
         },
         "tracegroupgap": 0
        },
        "showlegend": false,
        "template": {
         "data": {
          "bar": [
           {
            "error_x": {
             "color": "#2a3f5f"
            },
            "error_y": {
             "color": "#2a3f5f"
            },
            "marker": {
             "line": {
              "color": "#E5ECF6",
              "width": 0.5
             },
             "pattern": {
              "fillmode": "overlay",
              "size": 10,
              "solidity": 0.2
             }
            },
            "type": "bar"
           }
          ],
          "barpolar": [
           {
            "marker": {
             "line": {
              "color": "#E5ECF6",
              "width": 0.5
             },
             "pattern": {
              "fillmode": "overlay",
              "size": 10,
              "solidity": 0.2
             }
            },
            "type": "barpolar"
           }
          ],
          "carpet": [
           {
            "aaxis": {
             "endlinecolor": "#2a3f5f",
             "gridcolor": "white",
             "linecolor": "white",
             "minorgridcolor": "white",
             "startlinecolor": "#2a3f5f"
            },
            "baxis": {
             "endlinecolor": "#2a3f5f",
             "gridcolor": "white",
             "linecolor": "white",
             "minorgridcolor": "white",
             "startlinecolor": "#2a3f5f"
            },
            "type": "carpet"
           }
          ],
          "choropleth": [
           {
            "colorbar": {
             "outlinewidth": 0,
             "ticks": ""
            },
            "type": "choropleth"
           }
          ],
          "contour": [
           {
            "colorbar": {
             "outlinewidth": 0,
             "ticks": ""
            },
            "colorscale": [
             [
              0,
              "#0d0887"
             ],
             [
              0.1111111111111111,
              "#46039f"
             ],
             [
              0.2222222222222222,
              "#7201a8"
             ],
             [
              0.3333333333333333,
              "#9c179e"
             ],
             [
              0.4444444444444444,
              "#bd3786"
             ],
             [
              0.5555555555555556,
              "#d8576b"
             ],
             [
              0.6666666666666666,
              "#ed7953"
             ],
             [
              0.7777777777777778,
              "#fb9f3a"
             ],
             [
              0.8888888888888888,
              "#fdca26"
             ],
             [
              1,
              "#f0f921"
             ]
            ],
            "type": "contour"
           }
          ],
          "contourcarpet": [
           {
            "colorbar": {
             "outlinewidth": 0,
             "ticks": ""
            },
            "type": "contourcarpet"
           }
          ],
          "heatmap": [
           {
            "colorbar": {
             "outlinewidth": 0,
             "ticks": ""
            },
            "colorscale": [
             [
              0,
              "#0d0887"
             ],
             [
              0.1111111111111111,
              "#46039f"
             ],
             [
              0.2222222222222222,
              "#7201a8"
             ],
             [
              0.3333333333333333,
              "#9c179e"
             ],
             [
              0.4444444444444444,
              "#bd3786"
             ],
             [
              0.5555555555555556,
              "#d8576b"
             ],
             [
              0.6666666666666666,
              "#ed7953"
             ],
             [
              0.7777777777777778,
              "#fb9f3a"
             ],
             [
              0.8888888888888888,
              "#fdca26"
             ],
             [
              1,
              "#f0f921"
             ]
            ],
            "type": "heatmap"
           }
          ],
          "heatmapgl": [
           {
            "colorbar": {
             "outlinewidth": 0,
             "ticks": ""
            },
            "colorscale": [
             [
              0,
              "#0d0887"
             ],
             [
              0.1111111111111111,
              "#46039f"
             ],
             [
              0.2222222222222222,
              "#7201a8"
             ],
             [
              0.3333333333333333,
              "#9c179e"
             ],
             [
              0.4444444444444444,
              "#bd3786"
             ],
             [
              0.5555555555555556,
              "#d8576b"
             ],
             [
              0.6666666666666666,
              "#ed7953"
             ],
             [
              0.7777777777777778,
              "#fb9f3a"
             ],
             [
              0.8888888888888888,
              "#fdca26"
             ],
             [
              1,
              "#f0f921"
             ]
            ],
            "type": "heatmapgl"
           }
          ],
          "histogram": [
           {
            "marker": {
             "pattern": {
              "fillmode": "overlay",
              "size": 10,
              "solidity": 0.2
             }
            },
            "type": "histogram"
           }
          ],
          "histogram2d": [
           {
            "colorbar": {
             "outlinewidth": 0,
             "ticks": ""
            },
            "colorscale": [
             [
              0,
              "#0d0887"
             ],
             [
              0.1111111111111111,
              "#46039f"
             ],
             [
              0.2222222222222222,
              "#7201a8"
             ],
             [
              0.3333333333333333,
              "#9c179e"
             ],
             [
              0.4444444444444444,
              "#bd3786"
             ],
             [
              0.5555555555555556,
              "#d8576b"
             ],
             [
              0.6666666666666666,
              "#ed7953"
             ],
             [
              0.7777777777777778,
              "#fb9f3a"
             ],
             [
              0.8888888888888888,
              "#fdca26"
             ],
             [
              1,
              "#f0f921"
             ]
            ],
            "type": "histogram2d"
           }
          ],
          "histogram2dcontour": [
           {
            "colorbar": {
             "outlinewidth": 0,
             "ticks": ""
            },
            "colorscale": [
             [
              0,
              "#0d0887"
             ],
             [
              0.1111111111111111,
              "#46039f"
             ],
             [
              0.2222222222222222,
              "#7201a8"
             ],
             [
              0.3333333333333333,
              "#9c179e"
             ],
             [
              0.4444444444444444,
              "#bd3786"
             ],
             [
              0.5555555555555556,
              "#d8576b"
             ],
             [
              0.6666666666666666,
              "#ed7953"
             ],
             [
              0.7777777777777778,
              "#fb9f3a"
             ],
             [
              0.8888888888888888,
              "#fdca26"
             ],
             [
              1,
              "#f0f921"
             ]
            ],
            "type": "histogram2dcontour"
           }
          ],
          "mesh3d": [
           {
            "colorbar": {
             "outlinewidth": 0,
             "ticks": ""
            },
            "type": "mesh3d"
           }
          ],
          "parcoords": [
           {
            "line": {
             "colorbar": {
              "outlinewidth": 0,
              "ticks": ""
             }
            },
            "type": "parcoords"
           }
          ],
          "pie": [
           {
            "automargin": true,
            "type": "pie"
           }
          ],
          "scatter": [
           {
            "fillpattern": {
             "fillmode": "overlay",
             "size": 10,
             "solidity": 0.2
            },
            "type": "scatter"
           }
          ],
          "scatter3d": [
           {
            "line": {
             "colorbar": {
              "outlinewidth": 0,
              "ticks": ""
             }
            },
            "marker": {
             "colorbar": {
              "outlinewidth": 0,
              "ticks": ""
             }
            },
            "type": "scatter3d"
           }
          ],
          "scattercarpet": [
           {
            "marker": {
             "colorbar": {
              "outlinewidth": 0,
              "ticks": ""
             }
            },
            "type": "scattercarpet"
           }
          ],
          "scattergeo": [
           {
            "marker": {
             "colorbar": {
              "outlinewidth": 0,
              "ticks": ""
             }
            },
            "type": "scattergeo"
           }
          ],
          "scattergl": [
           {
            "marker": {
             "colorbar": {
              "outlinewidth": 0,
              "ticks": ""
             }
            },
            "type": "scattergl"
           }
          ],
          "scattermapbox": [
           {
            "marker": {
             "colorbar": {
              "outlinewidth": 0,
              "ticks": ""
             }
            },
            "type": "scattermapbox"
           }
          ],
          "scatterpolar": [
           {
            "marker": {
             "colorbar": {
              "outlinewidth": 0,
              "ticks": ""
             }
            },
            "type": "scatterpolar"
           }
          ],
          "scatterpolargl": [
           {
            "marker": {
             "colorbar": {
              "outlinewidth": 0,
              "ticks": ""
             }
            },
            "type": "scatterpolargl"
           }
          ],
          "scatterternary": [
           {
            "marker": {
             "colorbar": {
              "outlinewidth": 0,
              "ticks": ""
             }
            },
            "type": "scatterternary"
           }
          ],
          "surface": [
           {
            "colorbar": {
             "outlinewidth": 0,
             "ticks": ""
            },
            "colorscale": [
             [
              0,
              "#0d0887"
             ],
             [
              0.1111111111111111,
              "#46039f"
             ],
             [
              0.2222222222222222,
              "#7201a8"
             ],
             [
              0.3333333333333333,
              "#9c179e"
             ],
             [
              0.4444444444444444,
              "#bd3786"
             ],
             [
              0.5555555555555556,
              "#d8576b"
             ],
             [
              0.6666666666666666,
              "#ed7953"
             ],
             [
              0.7777777777777778,
              "#fb9f3a"
             ],
             [
              0.8888888888888888,
              "#fdca26"
             ],
             [
              1,
              "#f0f921"
             ]
            ],
            "type": "surface"
           }
          ],
          "table": [
           {
            "cells": {
             "fill": {
              "color": "#EBF0F8"
             },
             "line": {
              "color": "white"
             }
            },
            "header": {
             "fill": {
              "color": "#C8D4E3"
             },
             "line": {
              "color": "white"
             }
            },
            "type": "table"
           }
          ]
         },
         "layout": {
          "annotationdefaults": {
           "arrowcolor": "#2a3f5f",
           "arrowhead": 0,
           "arrowwidth": 1
          },
          "autotypenumbers": "strict",
          "coloraxis": {
           "colorbar": {
            "outlinewidth": 0,
            "ticks": ""
           }
          },
          "colorscale": {
           "diverging": [
            [
             0,
             "#8e0152"
            ],
            [
             0.1,
             "#c51b7d"
            ],
            [
             0.2,
             "#de77ae"
            ],
            [
             0.3,
             "#f1b6da"
            ],
            [
             0.4,
             "#fde0ef"
            ],
            [
             0.5,
             "#f7f7f7"
            ],
            [
             0.6,
             "#e6f5d0"
            ],
            [
             0.7,
             "#b8e186"
            ],
            [
             0.8,
             "#7fbc41"
            ],
            [
             0.9,
             "#4d9221"
            ],
            [
             1,
             "#276419"
            ]
           ],
           "sequential": [
            [
             0,
             "#0d0887"
            ],
            [
             0.1111111111111111,
             "#46039f"
            ],
            [
             0.2222222222222222,
             "#7201a8"
            ],
            [
             0.3333333333333333,
             "#9c179e"
            ],
            [
             0.4444444444444444,
             "#bd3786"
            ],
            [
             0.5555555555555556,
             "#d8576b"
            ],
            [
             0.6666666666666666,
             "#ed7953"
            ],
            [
             0.7777777777777778,
             "#fb9f3a"
            ],
            [
             0.8888888888888888,
             "#fdca26"
            ],
            [
             1,
             "#f0f921"
            ]
           ],
           "sequentialminus": [
            [
             0,
             "#0d0887"
            ],
            [
             0.1111111111111111,
             "#46039f"
            ],
            [
             0.2222222222222222,
             "#7201a8"
            ],
            [
             0.3333333333333333,
             "#9c179e"
            ],
            [
             0.4444444444444444,
             "#bd3786"
            ],
            [
             0.5555555555555556,
             "#d8576b"
            ],
            [
             0.6666666666666666,
             "#ed7953"
            ],
            [
             0.7777777777777778,
             "#fb9f3a"
            ],
            [
             0.8888888888888888,
             "#fdca26"
            ],
            [
             1,
             "#f0f921"
            ]
           ]
          },
          "colorway": [
           "#636efa",
           "#EF553B",
           "#00cc96",
           "#ab63fa",
           "#FFA15A",
           "#19d3f3",
           "#FF6692",
           "#B6E880",
           "#FF97FF",
           "#FECB52"
          ],
          "font": {
           "color": "#2a3f5f"
          },
          "geo": {
           "bgcolor": "white",
           "lakecolor": "white",
           "landcolor": "#E5ECF6",
           "showlakes": true,
           "showland": true,
           "subunitcolor": "white"
          },
          "hoverlabel": {
           "align": "left"
          },
          "hovermode": "closest",
          "mapbox": {
           "style": "light"
          },
          "paper_bgcolor": "white",
          "plot_bgcolor": "#E5ECF6",
          "polar": {
           "angularaxis": {
            "gridcolor": "white",
            "linecolor": "white",
            "ticks": ""
           },
           "bgcolor": "#E5ECF6",
           "radialaxis": {
            "gridcolor": "white",
            "linecolor": "white",
            "ticks": ""
           }
          },
          "scene": {
           "xaxis": {
            "backgroundcolor": "#E5ECF6",
            "gridcolor": "white",
            "gridwidth": 2,
            "linecolor": "white",
            "showbackground": true,
            "ticks": "",
            "zerolinecolor": "white"
           },
           "yaxis": {
            "backgroundcolor": "#E5ECF6",
            "gridcolor": "white",
            "gridwidth": 2,
            "linecolor": "white",
            "showbackground": true,
            "ticks": "",
            "zerolinecolor": "white"
           },
           "zaxis": {
            "backgroundcolor": "#E5ECF6",
            "gridcolor": "white",
            "gridwidth": 2,
            "linecolor": "white",
            "showbackground": true,
            "ticks": "",
            "zerolinecolor": "white"
           }
          },
          "shapedefaults": {
           "line": {
            "color": "#2a3f5f"
           }
          },
          "ternary": {
           "aaxis": {
            "gridcolor": "white",
            "linecolor": "white",
            "ticks": ""
           },
           "baxis": {
            "gridcolor": "white",
            "linecolor": "white",
            "ticks": ""
           },
           "bgcolor": "#E5ECF6",
           "caxis": {
            "gridcolor": "white",
            "linecolor": "white",
            "ticks": ""
           }
          },
          "title": {
           "x": 0.05
          },
          "xaxis": {
           "automargin": true,
           "gridcolor": "white",
           "linecolor": "white",
           "ticks": "",
           "title": {
            "standoff": 15
           },
           "zerolinecolor": "white",
           "zerolinewidth": 2
          },
          "yaxis": {
           "automargin": true,
           "gridcolor": "white",
           "linecolor": "white",
           "ticks": "",
           "title": {
            "standoff": 15
           },
           "zerolinecolor": "white",
           "zerolinewidth": 2
          }
         }
        },
        "title": {
         "text": "Outage Duration vs Cause Category"
        },
        "xaxis": {
         "anchor": "y",
         "categoryarray": [
          "severe weather",
          "intentional attack",
          "system operability disruption",
          "equipment failure",
          "public appeal",
          "fuel supply emergency",
          "islanding"
         ],
         "categoryorder": "array",
         "domain": [
          0,
          1
         ],
         "tickformat": ",",
         "title": {
          "text": "Outage Duration (minutes)"
         }
        },
        "yaxis": {
         "anchor": "x",
         "domain": [
          0,
          1
         ],
         "title": {
          "text": "Cause Category"
         }
        }
       }
      }
     },
     "metadata": {},
     "output_type": "display_data"
    }
   ],
   "source": [
    "outages_df['OUTAGE.DURATION'] = pd.to_numeric(outages_df['OUTAGE.DURATION'], errors='coerce')\n",
    "\n",
    "scatter_df = outages_df.dropna(subset=['OUTAGE.DURATION', 'CAUSE.CATEGORY'])\n",
    "\n",
    "fig = px.scatter(\n",
    "    scatter_df,\n",
    "    x='CAUSE.CATEGORY',\n",
    "    y='OUTAGE.DURATION',\n",
    "    title='Outage Duration vs Cause Category',\n",
    "    color='CAUSE.CATEGORY',\n",
    "    opacity=0.6,\n",
    "    height=600\n",
    ")\n",
    "\n",
    "fig.update_xaxes(\n",
    "    title='Outage Duration (minutes)',\n",
    "    tickformat=','\n",
    ")\n",
    "\n",
    "fig.update_yaxes(\n",
    "    title='Cause Category'\n",
    ")\n",
    "\n",
    "fig.update_layout(showlegend=False)\n",
    "\n",
    "fig.show()\n"
   ]
  },
  {
   "cell_type": "code",
   "execution_count": null,
   "metadata": {},
   "outputs": [],
   "source": [
    "#fig.write_html(\"outage_duration_cause_cat.html\", full_html=True, include_plotlyjs='cdn')"
   ]
  },
  {
   "cell_type": "markdown",
   "metadata": {},
   "source": [
    "## Step 3: Assessment of Missingness"
   ]
  },
  {
   "cell_type": "code",
   "execution_count": 17,
   "metadata": {
    "ExecuteTime": {
     "end_time": "2019-10-31T23:36:28.662099Z",
     "start_time": "2019-10-31T23:36:28.660016Z"
    }
   },
   "outputs": [],
   "source": [
    "df = outages_df.copy()"
   ]
  },
  {
   "cell_type": "code",
   "execution_count": 18,
   "metadata": {},
   "outputs": [
    {
     "data": {
      "image/png": "[encoded data removed]",
      "text/plain": [
       "<Figure size 1200x500 with 2 Axes>"
      ]
     },
     "metadata": {},
     "output_type": "display_data"
    }
   ],
   "source": [
    "df['OUTAGE.DURATION'] = pd.to_numeric(\n",
    "    df['OUTAGE.DURATION'], errors='coerce'\n",
    ")\n",
    "\n",
    "df['OUTAGE.DURATION_HOURS'] = df['OUTAGE.DURATION'] / 60\n",
    "\n",
    "mask   = df['CAUSE.CATEGORY'] == 'severe weather'\n",
    "severe = df.loc[mask,  'OUTAGE.DURATION_HOURS'].dropna()\n",
    "other  = df.loc[~mask, 'OUTAGE.DURATION_HOURS'].dropna()\n",
    "\n",
    "plt.style.use('ggplot')\n",
    "\n",
    "\n",
    "fig, axes = plt.subplots(1, 2, figsize=(12, 5))\n",
    "\n",
    "# ─── Boxplot ───\n",
    "axes[0].boxplot(\n",
    "    [severe, other],\n",
    "    notch=True,\n",
    "    patch_artist=True,\n",
    "    boxprops=dict(facecolor='lightsteelblue', edgecolor='gray'),\n",
    "    medianprops=dict(color='firebrick')\n",
    ")\n",
    "axes[0].set_xticklabels(['Severe Weather', 'Other Causes'], fontsize=11)\n",
    "axes[0].set_ylabel('Outage Duration (hours)', fontsize=12)\n",
    "axes[0].set_title('Outage Duration by Cause', fontsize=14)\n",
    "\n",
    "# ─── Histogram ───\n",
    "bins = np.linspace(0, df['OUTAGE.DURATION_HOURS'].max(), 30)\n",
    "axes[1].hist(severe, bins=bins, alpha=0.7, label='Severe Weather')\n",
    "axes[1].hist(other,  bins=bins, alpha=0.7, label='Other Causes')\n",
    "axes[1].set_xlabel('Outage Duration (hours)', fontsize=12)\n",
    "axes[1].set_title('Distribution of Outage Durations', fontsize=14)\n",
    "axes[1].legend(fontsize=10)\n",
    "\n",
    "# 7) Tidy up\n",
    "plt.tight_layout()\n",
    "plt.show()\n",
    "\n",
    "# Hypothesis Recap\n",
    "#   • Null (H₀): Severe‐weather outages have the same mean duration as all other outages.\n",
    "#   • Alternative (H₁): Severe‐weather outages have a different mean duration than other outages.\n",
    "#   • Test Statistic: Two‐sample t‐statistic on the difference of means (and we also examined the KS \n",
    "# statistic to compare full distributions).\n",
    "#\n",
    "# ──────────────────────────────────────────────────────────────────────────────\n",
    "#\n",
    "# Figure 1: Outage Duration by Cause (Boxplot)\n",
    "#\n",
    "# What you see: Two side-by-side notched boxplots—one for “Severe Weather” outages \n",
    "# and one for “Other Causes.” Each box shows the interquartile range (IQR), the \n",
    "# horizontal line is the median, and the notch gives a visual 95% CI around the median.\n",
    "#\n",
    "#   • Severe Weather: The median sits noticeably higher, with a wider IQR, indicating \n",
    "#     longer typical outages under severe‐weather events.\n",
    "#   • Other Causes: A lower median and tighter IQR reflect generally shorter and more \n",
    "#     consistent outage lengths.\n",
    "#   • Outliers: Both groups have extreme events (dots far above the whiskers), but \n",
    "#     the severe‐weather group reaches higher maximums.\n",
    "#\n",
    "# Interpretation: Because the box for “Severe Weather” is both shifted upward and \n",
    "# notched away from the “Other Causes” box, we have visual evidence that severe‐weather \n",
    "# outages tend to last longer on average—supporting rejection of H₀.\n",
    "#\n",
    "# ──────────────────────────────────────────────────────────────────────────────\n",
    "#\n",
    "# Figure 2: Distribution of Outage Durations (Histogram)\n",
    "#\n",
    "# What you see: Overlaid histograms for the two groups on the same bins (0–1,800 hours). \n",
    "# The red bars are severe‐weather durations, and the blue bars are other causes.\n",
    "#\n",
    "#   • Red curve (Severe Weather): A right-shifted peak around ~50–100 hours with a long \n",
    "#     tail extending beyond 500 hours.\n",
    "#   • Blue curve (Other Causes): A sharper spike near 20–40 hours and a very thin tail, \n",
    "#     indicating most outages are short.\n",
    "#\n",
    "# Interpretation: The severe‐weather histogram is clearly shifted to the right and has \n",
    "# heavier tails—further confirming that outages during severe weather are both longer \n",
    "# and more variable than those from other causes.\n",
    "#\n",
    "# ──────────────────────────────────────────────────────────────────────────────\n",
    "#\n",
    "# Together, these two figures—boxplot and histogram—provide both a summary (medians/IQRs) \n",
    "# and a full‐distribution view, each reinforcing our finding that severe‐weather outages \n",
    "# last significantly longer than other outages.\n",
    "\n"
   ]
  },
  {
   "cell_type": "code",
   "execution_count": 19,
   "metadata": {},
   "outputs": [
    {
     "data": {
      "image/png": "[encoded data removed]",
      "text/plain": [
       "<Figure size 800x500 with 1 Axes>"
      ]
     },
     "metadata": {},
     "output_type": "display_data"
    }
   ],
   "source": [
    "others = df.loc[\n",
    "    df['CAUSE.CATEGORY'] != 'severe weather',\n",
    "    'CAUSE.CATEGORY'\n",
    "]\n",
    "\n",
    "# 3) Compute the relative frequency of each remaining cause\n",
    "prop_other = others.value_counts(normalize=True).sort_values()\n",
    "\n",
    "# 4) Plot a horizontal bar chart using Matplotlib\n",
    "plt.style.use('ggplot')\n",
    "fig, ax = plt.subplots(figsize=(8, 5))\n",
    "ax.barh(prop_other.index, prop_other.values, color='steelblue', edgecolor='white')\n",
    "\n",
    "# 5) Add axis labels and a title\n",
    "ax.set_xlabel('Proportion of Other Outages', fontsize=12)\n",
    "ax.set_ylabel('Cause Category', fontsize=12)\n",
    "ax.set_title('Breakdown of Outage Causes (Excluding Severe Weather)', fontsize=14)\n",
    "\n",
    "# 6) Annotate each bar with its percentage\n",
    "for i, pct in enumerate(prop_other.values):\n",
    "    ax.text(pct + 0.005, i, f\"{pct:.1%}\", va='center', fontsize=10)\n",
    "\n",
    "plt.tight_layout()\n",
    "plt.show()\n",
    "\n",
    "\n",
    "# The above code reads your outage data, filters out “severe weather,” \n",
    "# computes the share of each remaining cause, and displays a horizontal \n",
    "# bar chart with percentage labels:\n",
    "#   • Intentional attack accounts for over 50% of the non-severe‐weather outages.\n",
    "#   • System operability disruption is next at ~16%.\n",
    "#   • The smaller slices (<10%) are public appeal, equipment failure, \n",
    "#     fuel supply emergency, and islanding.\n",
    "#\n",
    "# Feel free to embed this figure with a caption like:\n",
    "#\n",
    "#   Figure: Breakdown of outage causes (excluding severe weather). \n",
    "#   “Intentional attack” is the largest category, making up 54.2% of these outages."
   ]
  },
  {
   "cell_type": "markdown",
   "metadata": {},
   "source": [
    "## Step 4: Hypothesis Testing"
   ]
  },
  {
   "cell_type": "markdown",
   "metadata": {
    "ExecuteTime": {
     "end_time": "2019-10-31T23:36:28.666489Z",
     "start_time": "2019-10-31T23:36:28.664381Z"
    }
   },
   "source": [
    "We will be testing if the 'CAUSE.CATEGORY' has an affect on the length of a power outages. In particular, we will be testing if Severe Weather has an affect, and if it doesn't, we will test which 'CAUSE.CATEGORY' does have an affect."
   ]
  },
  {
   "cell_type": "markdown",
   "metadata": {},
   "source": [
    "**Null Hypothesis:** Severe weather has no effect on the length of a power outage.\n",
    "\n",
    "**Alternative Hypothesis:** Severe weather has an effect on the length of a power outage (either causing a shorter or longer poewr outage)."
   ]
  },
  {
   "cell_type": "code",
   "execution_count": 20,
   "metadata": {},
   "outputs": [
    {
     "data": {
      "text/html": [
       "<div>\n",
       "<style scoped>\n",
       "    .dataframe tbody tr th:only-of-type {\n",
       "        vertical-align: middle;\n",
       "    }\n",
       "\n",
       "    .dataframe tbody tr th {\n",
       "        vertical-align: top;\n",
       "    }\n",
       "\n",
       "    .dataframe thead th {\n",
       "        text-align: right;\n",
       "    }\n",
       "</style>\n",
       "<table border=\"1\" class=\"dataframe\">\n",
       "  <thead>\n",
       "    <tr style=\"text-align: right;\">\n",
       "      <th></th>\n",
       "      <th>YEAR</th>\n",
       "      <th>MONTH</th>\n",
       "      <th>U.S._STATE</th>\n",
       "      <th>NERC.REGION</th>\n",
       "      <th>CLIMATE.REGION</th>\n",
       "      <th>CAUSE.CATEGORY</th>\n",
       "      <th>CLIMATE.CATEGORY</th>\n",
       "      <th>OUTAGE.DURATION</th>\n",
       "      <th>CUSTOMERS.AFFECTED</th>\n",
       "      <th>TOTAL.CUSTOMERS</th>\n",
       "      <th>POPDEN_URBAN</th>\n",
       "      <th>OUTAGE.START</th>\n",
       "      <th>OUTAGE.RESTORATION</th>\n",
       "    </tr>\n",
       "  </thead>\n",
       "  <tbody>\n",
       "    <tr>\n",
       "      <th>0</th>\n",
       "      <td>2011.0</td>\n",
       "      <td>7.0</td>\n",
       "      <td>Minnesota</td>\n",
       "      <td>MRO</td>\n",
       "      <td>East North Central</td>\n",
       "      <td>severe weather</td>\n",
       "      <td>normal</td>\n",
       "      <td>3060.0</td>\n",
       "      <td>70000.0</td>\n",
       "      <td>2595696.0</td>\n",
       "      <td>2279</td>\n",
       "      <td>2011-07-01 17:00:00</td>\n",
       "      <td>2011-07-03 20:00:00</td>\n",
       "    </tr>\n",
       "    <tr>\n",
       "      <th>1</th>\n",
       "      <td>2014.0</td>\n",
       "      <td>5.0</td>\n",
       "      <td>Minnesota</td>\n",
       "      <td>MRO</td>\n",
       "      <td>East North Central</td>\n",
       "      <td>intentional attack</td>\n",
       "      <td>normal</td>\n",
       "      <td>1.0</td>\n",
       "      <td>NaN</td>\n",
       "      <td>2640737.0</td>\n",
       "      <td>2279</td>\n",
       "      <td>2014-05-11 18:38:00</td>\n",
       "      <td>2014-05-11 18:39:00</td>\n",
       "    </tr>\n",
       "    <tr>\n",
       "      <th>2</th>\n",
       "      <td>2010.0</td>\n",
       "      <td>10.0</td>\n",
       "      <td>Minnesota</td>\n",
       "      <td>MRO</td>\n",
       "      <td>East North Central</td>\n",
       "      <td>severe weather</td>\n",
       "      <td>cold</td>\n",
       "      <td>3000.0</td>\n",
       "      <td>70000.0</td>\n",
       "      <td>2586905.0</td>\n",
       "      <td>2279</td>\n",
       "      <td>2010-10-26 20:00:00</td>\n",
       "      <td>2010-10-28 22:00:00</td>\n",
       "    </tr>\n",
       "    <tr>\n",
       "      <th>3</th>\n",
       "      <td>2012.0</td>\n",
       "      <td>6.0</td>\n",
       "      <td>Minnesota</td>\n",
       "      <td>MRO</td>\n",
       "      <td>East North Central</td>\n",
       "      <td>severe weather</td>\n",
       "      <td>normal</td>\n",
       "      <td>2550.0</td>\n",
       "      <td>68200.0</td>\n",
       "      <td>2606813.0</td>\n",
       "      <td>2279</td>\n",
       "      <td>2012-06-19 04:30:00</td>\n",
       "      <td>2012-06-20 23:00:00</td>\n",
       "    </tr>\n",
       "    <tr>\n",
       "      <th>4</th>\n",
       "      <td>2015.0</td>\n",
       "      <td>7.0</td>\n",
       "      <td>Minnesota</td>\n",
       "      <td>MRO</td>\n",
       "      <td>East North Central</td>\n",
       "      <td>severe weather</td>\n",
       "      <td>warm</td>\n",
       "      <td>1740.0</td>\n",
       "      <td>250000.0</td>\n",
       "      <td>2673531.0</td>\n",
       "      <td>2279</td>\n",
       "      <td>2015-07-18 02:00:00</td>\n",
       "      <td>2015-07-19 07:00:00</td>\n",
       "    </tr>\n",
       "  </tbody>\n",
       "</table>\n",
       "</div>"
      ],
      "text/plain": [
       "     YEAR  MONTH U.S._STATE NERC.REGION      CLIMATE.REGION  \\\n",
       "0  2011.0    7.0  Minnesota         MRO  East North Central   \n",
       "1  2014.0    5.0  Minnesota         MRO  East North Central   \n",
       "2  2010.0   10.0  Minnesota         MRO  East North Central   \n",
       "3  2012.0    6.0  Minnesota         MRO  East North Central   \n",
       "4  2015.0    7.0  Minnesota         MRO  East North Central   \n",
       "\n",
       "       CAUSE.CATEGORY CLIMATE.CATEGORY  OUTAGE.DURATION  CUSTOMERS.AFFECTED  \\\n",
       "0      severe weather           normal           3060.0             70000.0   \n",
       "1  intentional attack           normal              1.0                 NaN   \n",
       "2      severe weather             cold           3000.0             70000.0   \n",
       "3      severe weather           normal           2550.0             68200.0   \n",
       "4      severe weather             warm           1740.0            250000.0   \n",
       "\n",
       "   TOTAL.CUSTOMERS POPDEN_URBAN        OUTAGE.START  OUTAGE.RESTORATION  \n",
       "0        2595696.0         2279 2011-07-01 17:00:00 2011-07-03 20:00:00  \n",
       "1        2640737.0         2279 2014-05-11 18:38:00 2014-05-11 18:39:00  \n",
       "2        2586905.0         2279 2010-10-26 20:00:00 2010-10-28 22:00:00  \n",
       "3        2606813.0         2279 2012-06-19 04:30:00 2012-06-20 23:00:00  \n",
       "4        2673531.0         2279 2015-07-18 02:00:00 2015-07-19 07:00:00  "
      ]
     },
     "execution_count": 20,
     "metadata": {},
     "output_type": "execute_result"
    }
   ],
   "source": [
    "hypothesis_df = outages_df.copy()\n",
    "hypothesis_df['OUTAGE.DURATION'] = pd.to_numeric(\n",
    "    hypothesis_df['OUTAGE.DURATION'], errors='coerce'\n",
    ")\n",
    "\n",
    "hypothesis_df.head()"
   ]
  },
  {
   "cell_type": "markdown",
   "metadata": {},
   "source": [
    "# Permutation Test"
   ]
  },
  {
   "cell_type": "code",
   "execution_count": 21,
   "metadata": {},
   "outputs": [
    {
     "name": "stdout",
     "output_type": "stream",
     "text": [
      "Observed Difference (Severe - Non Severe): 2537.81 minutes\n"
     ]
    }
   ],
   "source": [
    "severe_weather = hypothesis_df[hypothesis_df['CAUSE.CATEGORY'] == 'severe weather']['OUTAGE.DURATION']\n",
    "non_severe = hypothesis_df[hypothesis_df['CAUSE.CATEGORY'] != 'severe weather']['OUTAGE.DURATION']\n",
    "\n",
    "severe_weather = severe_weather.dropna()\n",
    "non_severe = non_severe.dropna()\n",
    "\n",
    "\n",
    "observed_diff = severe_weather.mean() - non_severe.mean()\n",
    "print(f\"Observed Difference (Severe - Non Severe): {observed_diff:.2f} minutes\")"
   ]
  },
  {
   "cell_type": "code",
   "execution_count": 22,
   "metadata": {},
   "outputs": [
    {
     "name": "stdout",
     "output_type": "stream",
     "text": [
      "Observed difference: 2537.81 minutes\n",
      "Permutation p-value: 0.0000\n",
      "Conclusion: REJECT null hypothesis\n",
      "Severe weather does significantly affect outage duration\n"
     ]
    }
   ],
   "source": [
    "combined = np.concatenate([severe, non_severe])\n",
    "n_perm = 10000\n",
    "perm_diffs = np.zeros(n_perm)\n",
    "\n",
    "for i in range(n_perm):\n",
    "    shuffled = np.random.permutation(combined)\n",
    "    perm_diffs[i] = shuffled[:len(severe)].mean() - shuffled[len(severe):].mean()\n",
    "\n",
    "p_val = (np.abs(perm_diffs) >= np.abs(observed_diff)).mean()\n",
    "\n",
    "print(f\"Observed difference: {observed_diff:.2f} minutes\")\n",
    "print(f\"Permutation p-value: {p_val:.4f}\")\n",
    "print(f\"Conclusion: {'REJECT' if p_val < 0.05 else 'DO NOT REJECT'} null hypothesis\")\n",
    "print(f\"Severe weather {'does' if p_val < 0.05 else 'does NOT'} significantly affect outage duration\")"
   ]
  },
  {
   "cell_type": "code",
   "execution_count": 23,
   "metadata": {},
   "outputs": [
    {
     "data": {
      "image/png": "[encoded data removed]",
      "text/plain": [
       "<Figure size 1000x600 with 1 Axes>"
      ]
     },
     "metadata": {},
     "output_type": "display_data"
    }
   ],
   "source": [
    "plt.figure(figsize=(10, 6))\n",
    "plt.hist(perm_diffs, bins=50, edgecolor='k', alpha=0.7, label='Permutation Differences', color ='lightblue')\n",
    "plt.axvline(observed_diff, color='red', linestyle='--', linewidth=2, label='Observed Difference')\n",
    "plt.axvline(-observed_diff, color='red', linestyle='--', linewidth=2)  \n",
    "plt.xlabel('Difference in Means (Severe - Non Severe)')\n",
    "plt.ylabel('Frequency')\n",
    "plt.title(f'Permutation Test: p-value = {p_val:.4f}')\n",
    "plt.legend()\n",
    "plt.show()"
   ]
  },
  {
   "cell_type": "markdown",
   "metadata": {},
   "source": [
    "## Step 5: Framing a Prediction Problem"
   ]
  },
  {
   "cell_type": "markdown",
   "metadata": {},
   "source": [
    "Our model will attempt to predict the length of a power outage duration in a regression model. \n",
    "\n",
    "The metric we plan to use to evaluate the model is the Mean Absolute Error as we will be able to see how the average prediction error in minutes. \n",
    "\n",
    "At the time of prediction,we will know the Cause Category, NERC Region, Climate Category, Month, Year, and US State. "
   ]
  },
  {
   "cell_type": "markdown",
   "metadata": {},
   "source": [
    "## Step 6: Baseline Model"
   ]
  },
  {
   "cell_type": "code",
   "execution_count": 24,
   "metadata": {
    "ExecuteTime": {
     "end_time": "2019-10-31T23:36:28.662099Z",
     "start_time": "2019-10-31T23:36:28.660016Z"
    }
   },
   "outputs": [],
   "source": [
    "features = ['NERC.REGION', 'CLIMATE.REGION', 'CAUSE.CATEGORY', 'U.S._STATE', 'MONTH', 'YEAR']\n",
    "target = 'OUTAGE.DURATION'"
   ]
  },
  {
   "cell_type": "code",
   "execution_count": 25,
   "metadata": {},
   "outputs": [
    {
     "data": {
      "text/html": [
       "<style>#sk-container-id-1 {\n",
       "  /* Definition of color scheme common for light and dark mode */\n",
       "  --sklearn-color-text: black;\n",
       "  --sklearn-color-line: gray;\n",
       "  /* Definition of color scheme for unfitted estimators */\n",
       "  --sklearn-color-unfitted-level-0: #fff5e6;\n",
       "  --sklearn-color-unfitted-level-1: #f6e4d2;\n",
       "  --sklearn-color-unfitted-level-2: #ffe0b3;\n",
       "  --sklearn-color-unfitted-level-3: chocolate;\n",
       "  /* Definition of color scheme for fitted estimators */\n",
       "  --sklearn-color-fitted-level-0: #f0f8ff;\n",
       "  --sklearn-color-fitted-level-1: #d4ebff;\n",
       "  --sklearn-color-fitted-level-2: #b3dbfd;\n",
       "  --sklearn-color-fitted-level-3: cornflowerblue;\n",
       "\n",
       "  /* Specific color for light theme */\n",
       "  --sklearn-color-text-on-default-background: var(--sg-text-color, var(--theme-code-foreground, var(--jp-content-font-color1, black)));\n",
       "  --sklearn-color-background: var(--sg-background-color, var(--theme-background, var(--jp-layout-color0, white)));\n",
       "  --sklearn-color-border-box: var(--sg-text-color, var(--theme-code-foreground, var(--jp-content-font-color1, black)));\n",
       "  --sklearn-color-icon: #696969;\n",
       "\n",
       "  @media (prefers-color-scheme: dark) {\n",
       "    /* Redefinition of color scheme for dark theme */\n",
       "    --sklearn-color-text-on-default-background: var(--sg-text-color, var(--theme-code-foreground, var(--jp-content-font-color1, white)));\n",
       "    --sklearn-color-background: var(--sg-background-color, var(--theme-background, var(--jp-layout-color0, #111)));\n",
       "    --sklearn-color-border-box: var(--sg-text-color, var(--theme-code-foreground, var(--jp-content-font-color1, white)));\n",
       "    --sklearn-color-icon: #878787;\n",
       "  }\n",
       "}\n",
       "\n",
       "#sk-container-id-1 {\n",
       "  color: var(--sklearn-color-text);\n",
       "}\n",
       "\n",
       "#sk-container-id-1 pre {\n",
       "  padding: 0;\n",
       "}\n",
       "\n",
       "#sk-container-id-1 input.sk-hidden--visually {\n",
       "  border: 0;\n",
       "  clip: rect(1px 1px 1px 1px);\n",
       "  clip: rect(1px, 1px, 1px, 1px);\n",
       "  height: 1px;\n",
       "  margin: -1px;\n",
       "  overflow: hidden;\n",
       "  padding: 0;\n",
       "  position: absolute;\n",
       "  width: 1px;\n",
       "}\n",
       "\n",
       "#sk-container-id-1 div.sk-dashed-wrapped {\n",
       "  border: 1px dashed var(--sklearn-color-line);\n",
       "  margin: 0 0.4em 0.5em 0.4em;\n",
       "  box-sizing: border-box;\n",
       "  padding-bottom: 0.4em;\n",
       "  background-color: var(--sklearn-color-background);\n",
       "}\n",
       "\n",
       "#sk-container-id-1 div.sk-container {\n",
       "  /* jupyter's `normalize.less` sets `[hidden] { display: none; }`\n",
       "     but bootstrap.min.css set `[hidden] { display: none !important; }`\n",
       "     so we also need the `!important` here to be able to override the\n",
       "     default hidden behavior on the sphinx rendered scikit-learn.org.\n",
       "     See: https://github.com/scikit-learn/scikit-learn/issues/21755 */\n",
       "  display: inline-block !important;\n",
       "  position: relative;\n",
       "}\n",
       "\n",
       "#sk-container-id-1 div.sk-text-repr-fallback {\n",
       "  display: none;\n",
       "}\n",
       "\n",
       "div.sk-parallel-item,\n",
       "div.sk-serial,\n",
       "div.sk-item {\n",
       "  /* draw centered vertical line to link estimators */\n",
       "  background-image: linear-gradient(var(--sklearn-color-text-on-default-background), var(--sklearn-color-text-on-default-background));\n",
       "  background-size: 2px 100%;\n",
       "  background-repeat: no-repeat;\n",
       "  background-position: center center;\n",
       "}\n",
       "\n",
       "/* Parallel-specific style estimator block */\n",
       "\n",
       "#sk-container-id-1 div.sk-parallel-item::after {\n",
       "  content: \"\";\n",
       "  width: 100%;\n",
       "  border-bottom: 2px solid var(--sklearn-color-text-on-default-background);\n",
       "  flex-grow: 1;\n",
       "}\n",
       "\n",
       "#sk-container-id-1 div.sk-parallel {\n",
       "  display: flex;\n",
       "  align-items: stretch;\n",
       "  justify-content: center;\n",
       "  background-color: var(--sklearn-color-background);\n",
       "  position: relative;\n",
       "}\n",
       "\n",
       "#sk-container-id-1 div.sk-parallel-item {\n",
       "  display: flex;\n",
       "  flex-direction: column;\n",
       "}\n",
       "\n",
       "#sk-container-id-1 div.sk-parallel-item:first-child::after {\n",
       "  align-self: flex-end;\n",
       "  width: 50%;\n",
       "}\n",
       "\n",
       "#sk-container-id-1 div.sk-parallel-item:last-child::after {\n",
       "  align-self: flex-start;\n",
       "  width: 50%;\n",
       "}\n",
       "\n",
       "#sk-container-id-1 div.sk-parallel-item:only-child::after {\n",
       "  width: 0;\n",
       "}\n",
       "\n",
       "/* Serial-specific style estimator block */\n",
       "\n",
       "#sk-container-id-1 div.sk-serial {\n",
       "  display: flex;\n",
       "  flex-direction: column;\n",
       "  align-items: center;\n",
       "  background-color: var(--sklearn-color-background);\n",
       "  padding-right: 1em;\n",
       "  padding-left: 1em;\n",
       "}\n",
       "\n",
       "\n",
       "/* Toggleable style: style used for estimator/Pipeline/ColumnTransformer box that is\n",
       "clickable and can be expanded/collapsed.\n",
       "- Pipeline and ColumnTransformer use this feature and define the default style\n",
       "- Estimators will overwrite some part of the style using the `sk-estimator` class\n",
       "*/\n",
       "\n",
       "/* Pipeline and ColumnTransformer style (default) */\n",
       "\n",
       "#sk-container-id-1 div.sk-toggleable {\n",
       "  /* Default theme specific background. It is overwritten whether we have a\n",
       "  specific estimator or a Pipeline/ColumnTransformer */\n",
       "  background-color: var(--sklearn-color-background);\n",
       "}\n",
       "\n",
       "/* Toggleable label */\n",
       "#sk-container-id-1 label.sk-toggleable__label {\n",
       "  cursor: pointer;\n",
       "  display: block;\n",
       "  width: 100%;\n",
       "  margin-bottom: 0;\n",
       "  padding: 0.5em;\n",
       "  box-sizing: border-box;\n",
       "  text-align: center;\n",
       "}\n",
       "\n",
       "#sk-container-id-1 label.sk-toggleable__label-arrow:before {\n",
       "  /* Arrow on the left of the label */\n",
       "  content: \"▸\";\n",
       "  float: left;\n",
       "  margin-right: 0.25em;\n",
       "  color: var(--sklearn-color-icon);\n",
       "}\n",
       "\n",
       "#sk-container-id-1 label.sk-toggleable__label-arrow:hover:before {\n",
       "  color: var(--sklearn-color-text);\n",
       "}\n",
       "\n",
       "/* Toggleable content - dropdown */\n",
       "\n",
       "#sk-container-id-1 div.sk-toggleable__content {\n",
       "  max-height: 0;\n",
       "  max-width: 0;\n",
       "  overflow: hidden;\n",
       "  text-align: left;\n",
       "  /* unfitted */\n",
       "  background-color: var(--sklearn-color-unfitted-level-0);\n",
       "}\n",
       "\n",
       "#sk-container-id-1 div.sk-toggleable__content.fitted {\n",
       "  /* fitted */\n",
       "  background-color: var(--sklearn-color-fitted-level-0);\n",
       "}\n",
       "\n",
       "#sk-container-id-1 div.sk-toggleable__content pre {\n",
       "  margin: 0.2em;\n",
       "  border-radius: 0.25em;\n",
       "  color: var(--sklearn-color-text);\n",
       "  /* unfitted */\n",
       "  background-color: var(--sklearn-color-unfitted-level-0);\n",
       "}\n",
       "\n",
       "#sk-container-id-1 div.sk-toggleable__content.fitted pre {\n",
       "  /* unfitted */\n",
       "  background-color: var(--sklearn-color-fitted-level-0);\n",
       "}\n",
       "\n",
       "#sk-container-id-1 input.sk-toggleable__control:checked~div.sk-toggleable__content {\n",
       "  /* Expand drop-down */\n",
       "  max-height: 200px;\n",
       "  max-width: 100%;\n",
       "  overflow: auto;\n",
       "}\n",
       "\n",
       "#sk-container-id-1 input.sk-toggleable__control:checked~label.sk-toggleable__label-arrow:before {\n",
       "  content: \"▾\";\n",
       "}\n",
       "\n",
       "/* Pipeline/ColumnTransformer-specific style */\n",
       "\n",
       "#sk-container-id-1 div.sk-label input.sk-toggleable__control:checked~label.sk-toggleable__label {\n",
       "  color: var(--sklearn-color-text);\n",
       "  background-color: var(--sklearn-color-unfitted-level-2);\n",
       "}\n",
       "\n",
       "#sk-container-id-1 div.sk-label.fitted input.sk-toggleable__control:checked~label.sk-toggleable__label {\n",
       "  background-color: var(--sklearn-color-fitted-level-2);\n",
       "}\n",
       "\n",
       "/* Estimator-specific style */\n",
       "\n",
       "/* Colorize estimator box */\n",
       "#sk-container-id-1 div.sk-estimator input.sk-toggleable__control:checked~label.sk-toggleable__label {\n",
       "  /* unfitted */\n",
       "  background-color: var(--sklearn-color-unfitted-level-2);\n",
       "}\n",
       "\n",
       "#sk-container-id-1 div.sk-estimator.fitted input.sk-toggleable__control:checked~label.sk-toggleable__label {\n",
       "  /* fitted */\n",
       "  background-color: var(--sklearn-color-fitted-level-2);\n",
       "}\n",
       "\n",
       "#sk-container-id-1 div.sk-label label.sk-toggleable__label,\n",
       "#sk-container-id-1 div.sk-label label {\n",
       "  /* The background is the default theme color */\n",
       "  color: var(--sklearn-color-text-on-default-background);\n",
       "}\n",
       "\n",
       "/* On hover, darken the color of the background */\n",
       "#sk-container-id-1 div.sk-label:hover label.sk-toggleable__label {\n",
       "  color: var(--sklearn-color-text);\n",
       "  background-color: var(--sklearn-color-unfitted-level-2);\n",
       "}\n",
       "\n",
       "/* Label box, darken color on hover, fitted */\n",
       "#sk-container-id-1 div.sk-label.fitted:hover label.sk-toggleable__label.fitted {\n",
       "  color: var(--sklearn-color-text);\n",
       "  background-color: var(--sklearn-color-fitted-level-2);\n",
       "}\n",
       "\n",
       "/* Estimator label */\n",
       "\n",
       "#sk-container-id-1 div.sk-label label {\n",
       "  font-family: monospace;\n",
       "  font-weight: bold;\n",
       "  display: inline-block;\n",
       "  line-height: 1.2em;\n",
       "}\n",
       "\n",
       "#sk-container-id-1 div.sk-label-container {\n",
       "  text-align: center;\n",
       "}\n",
       "\n",
       "/* Estimator-specific */\n",
       "#sk-container-id-1 div.sk-estimator {\n",
       "  font-family: monospace;\n",
       "  border: 1px dotted var(--sklearn-color-border-box);\n",
       "  border-radius: 0.25em;\n",
       "  box-sizing: border-box;\n",
       "  margin-bottom: 0.5em;\n",
       "  /* unfitted */\n",
       "  background-color: var(--sklearn-color-unfitted-level-0);\n",
       "}\n",
       "\n",
       "#sk-container-id-1 div.sk-estimator.fitted {\n",
       "  /* fitted */\n",
       "  background-color: var(--sklearn-color-fitted-level-0);\n",
       "}\n",
       "\n",
       "/* on hover */\n",
       "#sk-container-id-1 div.sk-estimator:hover {\n",
       "  /* unfitted */\n",
       "  background-color: var(--sklearn-color-unfitted-level-2);\n",
       "}\n",
       "\n",
       "#sk-container-id-1 div.sk-estimator.fitted:hover {\n",
       "  /* fitted */\n",
       "  background-color: var(--sklearn-color-fitted-level-2);\n",
       "}\n",
       "\n",
       "/* Specification for estimator info (e.g. \"i\" and \"?\") */\n",
       "\n",
       "/* Common style for \"i\" and \"?\" */\n",
       "\n",
       ".sk-estimator-doc-link,\n",
       "a:link.sk-estimator-doc-link,\n",
       "a:visited.sk-estimator-doc-link {\n",
       "  float: right;\n",
       "  font-size: smaller;\n",
       "  line-height: 1em;\n",
       "  font-family: monospace;\n",
       "  background-color: var(--sklearn-color-background);\n",
       "  border-radius: 1em;\n",
       "  height: 1em;\n",
       "  width: 1em;\n",
       "  text-decoration: none !important;\n",
       "  margin-left: 1ex;\n",
       "  /* unfitted */\n",
       "  border: var(--sklearn-color-unfitted-level-1) 1pt solid;\n",
       "  color: var(--sklearn-color-unfitted-level-1);\n",
       "}\n",
       "\n",
       ".sk-estimator-doc-link.fitted,\n",
       "a:link.sk-estimator-doc-link.fitted,\n",
       "a:visited.sk-estimator-doc-link.fitted {\n",
       "  /* fitted */\n",
       "  border: var(--sklearn-color-fitted-level-1) 1pt solid;\n",
       "  color: var(--sklearn-color-fitted-level-1);\n",
       "}\n",
       "\n",
       "/* On hover */\n",
       "div.sk-estimator:hover .sk-estimator-doc-link:hover,\n",
       ".sk-estimator-doc-link:hover,\n",
       "div.sk-label-container:hover .sk-estimator-doc-link:hover,\n",
       ".sk-estimator-doc-link:hover {\n",
       "  /* unfitted */\n",
       "  background-color: var(--sklearn-color-unfitted-level-3);\n",
       "  color: var(--sklearn-color-background);\n",
       "  text-decoration: none;\n",
       "}\n",
       "\n",
       "div.sk-estimator.fitted:hover .sk-estimator-doc-link.fitted:hover,\n",
       ".sk-estimator-doc-link.fitted:hover,\n",
       "div.sk-label-container:hover .sk-estimator-doc-link.fitted:hover,\n",
       ".sk-estimator-doc-link.fitted:hover {\n",
       "  /* fitted */\n",
       "  background-color: var(--sklearn-color-fitted-level-3);\n",
       "  color: var(--sklearn-color-background);\n",
       "  text-decoration: none;\n",
       "}\n",
       "\n",
       "/* Span, style for the box shown on hovering the info icon */\n",
       ".sk-estimator-doc-link span {\n",
       "  display: none;\n",
       "  z-index: 9999;\n",
       "  position: relative;\n",
       "  font-weight: normal;\n",
       "  right: .2ex;\n",
       "  padding: .5ex;\n",
       "  margin: .5ex;\n",
       "  width: min-content;\n",
       "  min-width: 20ex;\n",
       "  max-width: 50ex;\n",
       "  color: var(--sklearn-color-text);\n",
       "  box-shadow: 2pt 2pt 4pt #999;\n",
       "  /* unfitted */\n",
       "  background: var(--sklearn-color-unfitted-level-0);\n",
       "  border: .5pt solid var(--sklearn-color-unfitted-level-3);\n",
       "}\n",
       "\n",
       ".sk-estimator-doc-link.fitted span {\n",
       "  /* fitted */\n",
       "  background: var(--sklearn-color-fitted-level-0);\n",
       "  border: var(--sklearn-color-fitted-level-3);\n",
       "}\n",
       "\n",
       ".sk-estimator-doc-link:hover span {\n",
       "  display: block;\n",
       "}\n",
       "\n",
       "/* \"?\"-specific style due to the `<a>` HTML tag */\n",
       "\n",
       "#sk-container-id-1 a.estimator_doc_link {\n",
       "  float: right;\n",
       "  font-size: 1rem;\n",
       "  line-height: 1em;\n",
       "  font-family: monospace;\n",
       "  background-color: var(--sklearn-color-background);\n",
       "  border-radius: 1rem;\n",
       "  height: 1rem;\n",
       "  width: 1rem;\n",
       "  text-decoration: none;\n",
       "  /* unfitted */\n",
       "  color: var(--sklearn-color-unfitted-level-1);\n",
       "  border: var(--sklearn-color-unfitted-level-1) 1pt solid;\n",
       "}\n",
       "\n",
       "#sk-container-id-1 a.estimator_doc_link.fitted {\n",
       "  /* fitted */\n",
       "  border: var(--sklearn-color-fitted-level-1) 1pt solid;\n",
       "  color: var(--sklearn-color-fitted-level-1);\n",
       "}\n",
       "\n",
       "/* On hover */\n",
       "#sk-container-id-1 a.estimator_doc_link:hover {\n",
       "  /* unfitted */\n",
       "  background-color: var(--sklearn-color-unfitted-level-3);\n",
       "  color: var(--sklearn-color-background);\n",
       "  text-decoration: none;\n",
       "}\n",
       "\n",
       "#sk-container-id-1 a.estimator_doc_link.fitted:hover {\n",
       "  /* fitted */\n",
       "  background-color: var(--sklearn-color-fitted-level-3);\n",
       "}\n",
       "</style><div id=\"sk-container-id-1\" class=\"sk-top-container\"><div class=\"sk-text-repr-fallback\"><pre>ColumnTransformer(transformers=[(&#x27;cat&#x27;, OneHotEncoder(handle_unknown=&#x27;ignore&#x27;),\n",
       "                                 [&#x27;CAUSE.CATEGORY&#x27;, &#x27;NERC.REGION&#x27;,\n",
       "                                  &#x27;CLIMATE.CATEGORY&#x27;, &#x27;U.S._STATE&#x27;]),\n",
       "                                (&#x27;num&#x27;, StandardScaler(), [&#x27;MONTH&#x27;, &#x27;YEAR&#x27;])])</pre><b>In a Jupyter environment, please rerun this cell to show the HTML representation or trust the notebook. <br />On GitHub, the HTML representation is unable to render, please try loading this page with nbviewer.org.</b></div><div class=\"sk-container\" hidden><div class=\"sk-item sk-dashed-wrapped\"><div class=\"sk-label-container\"><div class=\"sk-label  sk-toggleable\"><input class=\"sk-toggleable__control sk-hidden--visually\" id=\"sk-estimator-id-1\" type=\"checkbox\" ><label for=\"sk-estimator-id-1\" class=\"sk-toggleable__label  sk-toggleable__label-arrow \">&nbsp;&nbsp;ColumnTransformer<a class=\"sk-estimator-doc-link \" rel=\"noreferrer\" target=\"_blank\" href=\"https://scikit-learn.org/1.5/modules/generated/sklearn.compose.ColumnTransformer.html\">?<span>Documentation for ColumnTransformer</span></a><span class=\"sk-estimator-doc-link \">i<span>Not fitted</span></span></label><div class=\"sk-toggleable__content \"><pre>ColumnTransformer(transformers=[(&#x27;cat&#x27;, OneHotEncoder(handle_unknown=&#x27;ignore&#x27;),\n",
       "                                 [&#x27;CAUSE.CATEGORY&#x27;, &#x27;NERC.REGION&#x27;,\n",
       "                                  &#x27;CLIMATE.CATEGORY&#x27;, &#x27;U.S._STATE&#x27;]),\n",
       "                                (&#x27;num&#x27;, StandardScaler(), [&#x27;MONTH&#x27;, &#x27;YEAR&#x27;])])</pre></div> </div></div><div class=\"sk-parallel\"><div class=\"sk-parallel-item\"><div class=\"sk-item\"><div class=\"sk-label-container\"><div class=\"sk-label  sk-toggleable\"><input class=\"sk-toggleable__control sk-hidden--visually\" id=\"sk-estimator-id-2\" type=\"checkbox\" ><label for=\"sk-estimator-id-2\" class=\"sk-toggleable__label  sk-toggleable__label-arrow \">cat</label><div class=\"sk-toggleable__content \"><pre>[&#x27;CAUSE.CATEGORY&#x27;, &#x27;NERC.REGION&#x27;, &#x27;CLIMATE.CATEGORY&#x27;, &#x27;U.S._STATE&#x27;]</pre></div> </div></div><div class=\"sk-serial\"><div class=\"sk-item\"><div class=\"sk-estimator  sk-toggleable\"><input class=\"sk-toggleable__control sk-hidden--visually\" id=\"sk-estimator-id-3\" type=\"checkbox\" ><label for=\"sk-estimator-id-3\" class=\"sk-toggleable__label  sk-toggleable__label-arrow \">&nbsp;OneHotEncoder<a class=\"sk-estimator-doc-link \" rel=\"noreferrer\" target=\"_blank\" href=\"https://scikit-learn.org/1.5/modules/generated/sklearn.preprocessing.OneHotEncoder.html\">?<span>Documentation for OneHotEncoder</span></a></label><div class=\"sk-toggleable__content \"><pre>OneHotEncoder(handle_unknown=&#x27;ignore&#x27;)</pre></div> </div></div></div></div></div><div class=\"sk-parallel-item\"><div class=\"sk-item\"><div class=\"sk-label-container\"><div class=\"sk-label  sk-toggleable\"><input class=\"sk-toggleable__control sk-hidden--visually\" id=\"sk-estimator-id-4\" type=\"checkbox\" ><label for=\"sk-estimator-id-4\" class=\"sk-toggleable__label  sk-toggleable__label-arrow \">num</label><div class=\"sk-toggleable__content \"><pre>[&#x27;MONTH&#x27;, &#x27;YEAR&#x27;]</pre></div> </div></div><div class=\"sk-serial\"><div class=\"sk-item\"><div class=\"sk-estimator  sk-toggleable\"><input class=\"sk-toggleable__control sk-hidden--visually\" id=\"sk-estimator-id-5\" type=\"checkbox\" ><label for=\"sk-estimator-id-5\" class=\"sk-toggleable__label  sk-toggleable__label-arrow \">&nbsp;StandardScaler<a class=\"sk-estimator-doc-link \" rel=\"noreferrer\" target=\"_blank\" href=\"https://scikit-learn.org/1.5/modules/generated/sklearn.preprocessing.StandardScaler.html\">?<span>Documentation for StandardScaler</span></a></label><div class=\"sk-toggleable__content \"><pre>StandardScaler()</pre></div> </div></div></div></div></div></div></div></div></div>"
      ],
      "text/plain": [
       "ColumnTransformer(transformers=[('cat', OneHotEncoder(handle_unknown='ignore'),\n",
       "                                 ['CAUSE.CATEGORY', 'NERC.REGION',\n",
       "                                  'CLIMATE.CATEGORY', 'U.S._STATE']),\n",
       "                                ('num', StandardScaler(), ['MONTH', 'YEAR'])])"
      ]
     },
     "execution_count": 25,
     "metadata": {},
     "output_type": "execute_result"
    }
   ],
   "source": [
    "categorical_cols = ['CAUSE.CATEGORY', 'NERC.REGION', 'CLIMATE.CATEGORY', 'U.S._STATE']\n",
    "numerical_cols = ['MONTH', 'YEAR']  \n",
    "\n",
    "preprocessor = ColumnTransformer(\n",
    "    transformers=[\n",
    "        ('cat', OneHotEncoder(handle_unknown='ignore'), categorical_cols),\n",
    "        ('num', StandardScaler(), numerical_cols)\n",
    "    ]\n",
    ")\n",
    "\n",
    "preprocessor"
   ]
  },
  {
   "cell_type": "code",
   "execution_count": 26,
   "metadata": {},
   "outputs": [
    {
     "data": {
      "text/html": [
       "<style>#sk-container-id-2 {\n",
       "  /* Definition of color scheme common for light and dark mode */\n",
       "  --sklearn-color-text: black;\n",
       "  --sklearn-color-line: gray;\n",
       "  /* Definition of color scheme for unfitted estimators */\n",
       "  --sklearn-color-unfitted-level-0: #fff5e6;\n",
       "  --sklearn-color-unfitted-level-1: #f6e4d2;\n",
       "  --sklearn-color-unfitted-level-2: #ffe0b3;\n",
       "  --sklearn-color-unfitted-level-3: chocolate;\n",
       "  /* Definition of color scheme for fitted estimators */\n",
       "  --sklearn-color-fitted-level-0: #f0f8ff;\n",
       "  --sklearn-color-fitted-level-1: #d4ebff;\n",
       "  --sklearn-color-fitted-level-2: #b3dbfd;\n",
       "  --sklearn-color-fitted-level-3: cornflowerblue;\n",
       "\n",
       "  /* Specific color for light theme */\n",
       "  --sklearn-color-text-on-default-background: var(--sg-text-color, var(--theme-code-foreground, var(--jp-content-font-color1, black)));\n",
       "  --sklearn-color-background: var(--sg-background-color, var(--theme-background, var(--jp-layout-color0, white)));\n",
       "  --sklearn-color-border-box: var(--sg-text-color, var(--theme-code-foreground, var(--jp-content-font-color1, black)));\n",
       "  --sklearn-color-icon: #696969;\n",
       "\n",
       "  @media (prefers-color-scheme: dark) {\n",
       "    /* Redefinition of color scheme for dark theme */\n",
       "    --sklearn-color-text-on-default-background: var(--sg-text-color, var(--theme-code-foreground, var(--jp-content-font-color1, white)));\n",
       "    --sklearn-color-background: var(--sg-background-color, var(--theme-background, var(--jp-layout-color0, #111)));\n",
       "    --sklearn-color-border-box: var(--sg-text-color, var(--theme-code-foreground, var(--jp-content-font-color1, white)));\n",
       "    --sklearn-color-icon: #878787;\n",
       "  }\n",
       "}\n",
       "\n",
       "#sk-container-id-2 {\n",
       "  color: var(--sklearn-color-text);\n",
       "}\n",
       "\n",
       "#sk-container-id-2 pre {\n",
       "  padding: 0;\n",
       "}\n",
       "\n",
       "#sk-container-id-2 input.sk-hidden--visually {\n",
       "  border: 0;\n",
       "  clip: rect(1px 1px 1px 1px);\n",
       "  clip: rect(1px, 1px, 1px, 1px);\n",
       "  height: 1px;\n",
       "  margin: -1px;\n",
       "  overflow: hidden;\n",
       "  padding: 0;\n",
       "  position: absolute;\n",
       "  width: 1px;\n",
       "}\n",
       "\n",
       "#sk-container-id-2 div.sk-dashed-wrapped {\n",
       "  border: 1px dashed var(--sklearn-color-line);\n",
       "  margin: 0 0.4em 0.5em 0.4em;\n",
       "  box-sizing: border-box;\n",
       "  padding-bottom: 0.4em;\n",
       "  background-color: var(--sklearn-color-background);\n",
       "}\n",
       "\n",
       "#sk-container-id-2 div.sk-container {\n",
       "  /* jupyter's `normalize.less` sets `[hidden] { display: none; }`\n",
       "     but bootstrap.min.css set `[hidden] { display: none !important; }`\n",
       "     so we also need the `!important` here to be able to override the\n",
       "     default hidden behavior on the sphinx rendered scikit-learn.org.\n",
       "     See: https://github.com/scikit-learn/scikit-learn/issues/21755 */\n",
       "  display: inline-block !important;\n",
       "  position: relative;\n",
       "}\n",
       "\n",
       "#sk-container-id-2 div.sk-text-repr-fallback {\n",
       "  display: none;\n",
       "}\n",
       "\n",
       "div.sk-parallel-item,\n",
       "div.sk-serial,\n",
       "div.sk-item {\n",
       "  /* draw centered vertical line to link estimators */\n",
       "  background-image: linear-gradient(var(--sklearn-color-text-on-default-background), var(--sklearn-color-text-on-default-background));\n",
       "  background-size: 2px 100%;\n",
       "  background-repeat: no-repeat;\n",
       "  background-position: center center;\n",
       "}\n",
       "\n",
       "/* Parallel-specific style estimator block */\n",
       "\n",
       "#sk-container-id-2 div.sk-parallel-item::after {\n",
       "  content: \"\";\n",
       "  width: 100%;\n",
       "  border-bottom: 2px solid var(--sklearn-color-text-on-default-background);\n",
       "  flex-grow: 1;\n",
       "}\n",
       "\n",
       "#sk-container-id-2 div.sk-parallel {\n",
       "  display: flex;\n",
       "  align-items: stretch;\n",
       "  justify-content: center;\n",
       "  background-color: var(--sklearn-color-background);\n",
       "  position: relative;\n",
       "}\n",
       "\n",
       "#sk-container-id-2 div.sk-parallel-item {\n",
       "  display: flex;\n",
       "  flex-direction: column;\n",
       "}\n",
       "\n",
       "#sk-container-id-2 div.sk-parallel-item:first-child::after {\n",
       "  align-self: flex-end;\n",
       "  width: 50%;\n",
       "}\n",
       "\n",
       "#sk-container-id-2 div.sk-parallel-item:last-child::after {\n",
       "  align-self: flex-start;\n",
       "  width: 50%;\n",
       "}\n",
       "\n",
       "#sk-container-id-2 div.sk-parallel-item:only-child::after {\n",
       "  width: 0;\n",
       "}\n",
       "\n",
       "/* Serial-specific style estimator block */\n",
       "\n",
       "#sk-container-id-2 div.sk-serial {\n",
       "  display: flex;\n",
       "  flex-direction: column;\n",
       "  align-items: center;\n",
       "  background-color: var(--sklearn-color-background);\n",
       "  padding-right: 1em;\n",
       "  padding-left: 1em;\n",
       "}\n",
       "\n",
       "\n",
       "/* Toggleable style: style used for estimator/Pipeline/ColumnTransformer box that is\n",
       "clickable and can be expanded/collapsed.\n",
       "- Pipeline and ColumnTransformer use this feature and define the default style\n",
       "- Estimators will overwrite some part of the style using the `sk-estimator` class\n",
       "*/\n",
       "\n",
       "/* Pipeline and ColumnTransformer style (default) */\n",
       "\n",
       "#sk-container-id-2 div.sk-toggleable {\n",
       "  /* Default theme specific background. It is overwritten whether we have a\n",
       "  specific estimator or a Pipeline/ColumnTransformer */\n",
       "  background-color: var(--sklearn-color-background);\n",
       "}\n",
       "\n",
       "/* Toggleable label */\n",
       "#sk-container-id-2 label.sk-toggleable__label {\n",
       "  cursor: pointer;\n",
       "  display: block;\n",
       "  width: 100%;\n",
       "  margin-bottom: 0;\n",
       "  padding: 0.5em;\n",
       "  box-sizing: border-box;\n",
       "  text-align: center;\n",
       "}\n",
       "\n",
       "#sk-container-id-2 label.sk-toggleable__label-arrow:before {\n",
       "  /* Arrow on the left of the label */\n",
       "  content: \"▸\";\n",
       "  float: left;\n",
       "  margin-right: 0.25em;\n",
       "  color: var(--sklearn-color-icon);\n",
       "}\n",
       "\n",
       "#sk-container-id-2 label.sk-toggleable__label-arrow:hover:before {\n",
       "  color: var(--sklearn-color-text);\n",
       "}\n",
       "\n",
       "/* Toggleable content - dropdown */\n",
       "\n",
       "#sk-container-id-2 div.sk-toggleable__content {\n",
       "  max-height: 0;\n",
       "  max-width: 0;\n",
       "  overflow: hidden;\n",
       "  text-align: left;\n",
       "  /* unfitted */\n",
       "  background-color: var(--sklearn-color-unfitted-level-0);\n",
       "}\n",
       "\n",
       "#sk-container-id-2 div.sk-toggleable__content.fitted {\n",
       "  /* fitted */\n",
       "  background-color: var(--sklearn-color-fitted-level-0);\n",
       "}\n",
       "\n",
       "#sk-container-id-2 div.sk-toggleable__content pre {\n",
       "  margin: 0.2em;\n",
       "  border-radius: 0.25em;\n",
       "  color: var(--sklearn-color-text);\n",
       "  /* unfitted */\n",
       "  background-color: var(--sklearn-color-unfitted-level-0);\n",
       "}\n",
       "\n",
       "#sk-container-id-2 div.sk-toggleable__content.fitted pre {\n",
       "  /* unfitted */\n",
       "  background-color: var(--sklearn-color-fitted-level-0);\n",
       "}\n",
       "\n",
       "#sk-container-id-2 input.sk-toggleable__control:checked~div.sk-toggleable__content {\n",
       "  /* Expand drop-down */\n",
       "  max-height: 200px;\n",
       "  max-width: 100%;\n",
       "  overflow: auto;\n",
       "}\n",
       "\n",
       "#sk-container-id-2 input.sk-toggleable__control:checked~label.sk-toggleable__label-arrow:before {\n",
       "  content: \"▾\";\n",
       "}\n",
       "\n",
       "/* Pipeline/ColumnTransformer-specific style */\n",
       "\n",
       "#sk-container-id-2 div.sk-label input.sk-toggleable__control:checked~label.sk-toggleable__label {\n",
       "  color: var(--sklearn-color-text);\n",
       "  background-color: var(--sklearn-color-unfitted-level-2);\n",
       "}\n",
       "\n",
       "#sk-container-id-2 div.sk-label.fitted input.sk-toggleable__control:checked~label.sk-toggleable__label {\n",
       "  background-color: var(--sklearn-color-fitted-level-2);\n",
       "}\n",
       "\n",
       "/* Estimator-specific style */\n",
       "\n",
       "/* Colorize estimator box */\n",
       "#sk-container-id-2 div.sk-estimator input.sk-toggleable__control:checked~label.sk-toggleable__label {\n",
       "  /* unfitted */\n",
       "  background-color: var(--sklearn-color-unfitted-level-2);\n",
       "}\n",
       "\n",
       "#sk-container-id-2 div.sk-estimator.fitted input.sk-toggleable__control:checked~label.sk-toggleable__label {\n",
       "  /* fitted */\n",
       "  background-color: var(--sklearn-color-fitted-level-2);\n",
       "}\n",
       "\n",
       "#sk-container-id-2 div.sk-label label.sk-toggleable__label,\n",
       "#sk-container-id-2 div.sk-label label {\n",
       "  /* The background is the default theme color */\n",
       "  color: var(--sklearn-color-text-on-default-background);\n",
       "}\n",
       "\n",
       "/* On hover, darken the color of the background */\n",
       "#sk-container-id-2 div.sk-label:hover label.sk-toggleable__label {\n",
       "  color: var(--sklearn-color-text);\n",
       "  background-color: var(--sklearn-color-unfitted-level-2);\n",
       "}\n",
       "\n",
       "/* Label box, darken color on hover, fitted */\n",
       "#sk-container-id-2 div.sk-label.fitted:hover label.sk-toggleable__label.fitted {\n",
       "  color: var(--sklearn-color-text);\n",
       "  background-color: var(--sklearn-color-fitted-level-2);\n",
       "}\n",
       "\n",
       "/* Estimator label */\n",
       "\n",
       "#sk-container-id-2 div.sk-label label {\n",
       "  font-family: monospace;\n",
       "  font-weight: bold;\n",
       "  display: inline-block;\n",
       "  line-height: 1.2em;\n",
       "}\n",
       "\n",
       "#sk-container-id-2 div.sk-label-container {\n",
       "  text-align: center;\n",
       "}\n",
       "\n",
       "/* Estimator-specific */\n",
       "#sk-container-id-2 div.sk-estimator {\n",
       "  font-family: monospace;\n",
       "  border: 1px dotted var(--sklearn-color-border-box);\n",
       "  border-radius: 0.25em;\n",
       "  box-sizing: border-box;\n",
       "  margin-bottom: 0.5em;\n",
       "  /* unfitted */\n",
       "  background-color: var(--sklearn-color-unfitted-level-0);\n",
       "}\n",
       "\n",
       "#sk-container-id-2 div.sk-estimator.fitted {\n",
       "  /* fitted */\n",
       "  background-color: var(--sklearn-color-fitted-level-0);\n",
       "}\n",
       "\n",
       "/* on hover */\n",
       "#sk-container-id-2 div.sk-estimator:hover {\n",
       "  /* unfitted */\n",
       "  background-color: var(--sklearn-color-unfitted-level-2);\n",
       "}\n",
       "\n",
       "#sk-container-id-2 div.sk-estimator.fitted:hover {\n",
       "  /* fitted */\n",
       "  background-color: var(--sklearn-color-fitted-level-2);\n",
       "}\n",
       "\n",
       "/* Specification for estimator info (e.g. \"i\" and \"?\") */\n",
       "\n",
       "/* Common style for \"i\" and \"?\" */\n",
       "\n",
       ".sk-estimator-doc-link,\n",
       "a:link.sk-estimator-doc-link,\n",
       "a:visited.sk-estimator-doc-link {\n",
       "  float: right;\n",
       "  font-size: smaller;\n",
       "  line-height: 1em;\n",
       "  font-family: monospace;\n",
       "  background-color: var(--sklearn-color-background);\n",
       "  border-radius: 1em;\n",
       "  height: 1em;\n",
       "  width: 1em;\n",
       "  text-decoration: none !important;\n",
       "  margin-left: 1ex;\n",
       "  /* unfitted */\n",
       "  border: var(--sklearn-color-unfitted-level-1) 1pt solid;\n",
       "  color: var(--sklearn-color-unfitted-level-1);\n",
       "}\n",
       "\n",
       ".sk-estimator-doc-link.fitted,\n",
       "a:link.sk-estimator-doc-link.fitted,\n",
       "a:visited.sk-estimator-doc-link.fitted {\n",
       "  /* fitted */\n",
       "  border: var(--sklearn-color-fitted-level-1) 1pt solid;\n",
       "  color: var(--sklearn-color-fitted-level-1);\n",
       "}\n",
       "\n",
       "/* On hover */\n",
       "div.sk-estimator:hover .sk-estimator-doc-link:hover,\n",
       ".sk-estimator-doc-link:hover,\n",
       "div.sk-label-container:hover .sk-estimator-doc-link:hover,\n",
       ".sk-estimator-doc-link:hover {\n",
       "  /* unfitted */\n",
       "  background-color: var(--sklearn-color-unfitted-level-3);\n",
       "  color: var(--sklearn-color-background);\n",
       "  text-decoration: none;\n",
       "}\n",
       "\n",
       "div.sk-estimator.fitted:hover .sk-estimator-doc-link.fitted:hover,\n",
       ".sk-estimator-doc-link.fitted:hover,\n",
       "div.sk-label-container:hover .sk-estimator-doc-link.fitted:hover,\n",
       ".sk-estimator-doc-link.fitted:hover {\n",
       "  /* fitted */\n",
       "  background-color: var(--sklearn-color-fitted-level-3);\n",
       "  color: var(--sklearn-color-background);\n",
       "  text-decoration: none;\n",
       "}\n",
       "\n",
       "/* Span, style for the box shown on hovering the info icon */\n",
       ".sk-estimator-doc-link span {\n",
       "  display: none;\n",
       "  z-index: 9999;\n",
       "  position: relative;\n",
       "  font-weight: normal;\n",
       "  right: .2ex;\n",
       "  padding: .5ex;\n",
       "  margin: .5ex;\n",
       "  width: min-content;\n",
       "  min-width: 20ex;\n",
       "  max-width: 50ex;\n",
       "  color: var(--sklearn-color-text);\n",
       "  box-shadow: 2pt 2pt 4pt #999;\n",
       "  /* unfitted */\n",
       "  background: var(--sklearn-color-unfitted-level-0);\n",
       "  border: .5pt solid var(--sklearn-color-unfitted-level-3);\n",
       "}\n",
       "\n",
       ".sk-estimator-doc-link.fitted span {\n",
       "  /* fitted */\n",
       "  background: var(--sklearn-color-fitted-level-0);\n",
       "  border: var(--sklearn-color-fitted-level-3);\n",
       "}\n",
       "\n",
       ".sk-estimator-doc-link:hover span {\n",
       "  display: block;\n",
       "}\n",
       "\n",
       "/* \"?\"-specific style due to the `<a>` HTML tag */\n",
       "\n",
       "#sk-container-id-2 a.estimator_doc_link {\n",
       "  float: right;\n",
       "  font-size: 1rem;\n",
       "  line-height: 1em;\n",
       "  font-family: monospace;\n",
       "  background-color: var(--sklearn-color-background);\n",
       "  border-radius: 1rem;\n",
       "  height: 1rem;\n",
       "  width: 1rem;\n",
       "  text-decoration: none;\n",
       "  /* unfitted */\n",
       "  color: var(--sklearn-color-unfitted-level-1);\n",
       "  border: var(--sklearn-color-unfitted-level-1) 1pt solid;\n",
       "}\n",
       "\n",
       "#sk-container-id-2 a.estimator_doc_link.fitted {\n",
       "  /* fitted */\n",
       "  border: var(--sklearn-color-fitted-level-1) 1pt solid;\n",
       "  color: var(--sklearn-color-fitted-level-1);\n",
       "}\n",
       "\n",
       "/* On hover */\n",
       "#sk-container-id-2 a.estimator_doc_link:hover {\n",
       "  /* unfitted */\n",
       "  background-color: var(--sklearn-color-unfitted-level-3);\n",
       "  color: var(--sklearn-color-background);\n",
       "  text-decoration: none;\n",
       "}\n",
       "\n",
       "#sk-container-id-2 a.estimator_doc_link.fitted:hover {\n",
       "  /* fitted */\n",
       "  background-color: var(--sklearn-color-fitted-level-3);\n",
       "}\n",
       "</style><div id=\"sk-container-id-2\" class=\"sk-top-container\"><div class=\"sk-text-repr-fallback\"><pre>Pipeline(steps=[(&#x27;preprocessor&#x27;,\n",
       "                 ColumnTransformer(transformers=[(&#x27;cat&#x27;,\n",
       "                                                  OneHotEncoder(handle_unknown=&#x27;ignore&#x27;),\n",
       "                                                  [&#x27;CAUSE.CATEGORY&#x27;,\n",
       "                                                   &#x27;NERC.REGION&#x27;,\n",
       "                                                   &#x27;CLIMATE.CATEGORY&#x27;,\n",
       "                                                   &#x27;U.S._STATE&#x27;]),\n",
       "                                                 (&#x27;num&#x27;, StandardScaler(),\n",
       "                                                  [&#x27;MONTH&#x27;, &#x27;YEAR&#x27;])])),\n",
       "                (&#x27;lin-reg&#x27;, LinearRegression())])</pre><b>In a Jupyter environment, please rerun this cell to show the HTML representation or trust the notebook. <br />On GitHub, the HTML representation is unable to render, please try loading this page with nbviewer.org.</b></div><div class=\"sk-container\" hidden><div class=\"sk-item sk-dashed-wrapped\"><div class=\"sk-label-container\"><div class=\"sk-label  sk-toggleable\"><input class=\"sk-toggleable__control sk-hidden--visually\" id=\"sk-estimator-id-6\" type=\"checkbox\" ><label for=\"sk-estimator-id-6\" class=\"sk-toggleable__label  sk-toggleable__label-arrow \">&nbsp;&nbsp;Pipeline<a class=\"sk-estimator-doc-link \" rel=\"noreferrer\" target=\"_blank\" href=\"https://scikit-learn.org/1.5/modules/generated/sklearn.pipeline.Pipeline.html\">?<span>Documentation for Pipeline</span></a><span class=\"sk-estimator-doc-link \">i<span>Not fitted</span></span></label><div class=\"sk-toggleable__content \"><pre>Pipeline(steps=[(&#x27;preprocessor&#x27;,\n",
       "                 ColumnTransformer(transformers=[(&#x27;cat&#x27;,\n",
       "                                                  OneHotEncoder(handle_unknown=&#x27;ignore&#x27;),\n",
       "                                                  [&#x27;CAUSE.CATEGORY&#x27;,\n",
       "                                                   &#x27;NERC.REGION&#x27;,\n",
       "                                                   &#x27;CLIMATE.CATEGORY&#x27;,\n",
       "                                                   &#x27;U.S._STATE&#x27;]),\n",
       "                                                 (&#x27;num&#x27;, StandardScaler(),\n",
       "                                                  [&#x27;MONTH&#x27;, &#x27;YEAR&#x27;])])),\n",
       "                (&#x27;lin-reg&#x27;, LinearRegression())])</pre></div> </div></div><div class=\"sk-serial\"><div class=\"sk-item sk-dashed-wrapped\"><div class=\"sk-label-container\"><div class=\"sk-label  sk-toggleable\"><input class=\"sk-toggleable__control sk-hidden--visually\" id=\"sk-estimator-id-7\" type=\"checkbox\" ><label for=\"sk-estimator-id-7\" class=\"sk-toggleable__label  sk-toggleable__label-arrow \">&nbsp;preprocessor: ColumnTransformer<a class=\"sk-estimator-doc-link \" rel=\"noreferrer\" target=\"_blank\" href=\"https://scikit-learn.org/1.5/modules/generated/sklearn.compose.ColumnTransformer.html\">?<span>Documentation for preprocessor: ColumnTransformer</span></a></label><div class=\"sk-toggleable__content \"><pre>ColumnTransformer(transformers=[(&#x27;cat&#x27;, OneHotEncoder(handle_unknown=&#x27;ignore&#x27;),\n",
       "                                 [&#x27;CAUSE.CATEGORY&#x27;, &#x27;NERC.REGION&#x27;,\n",
       "                                  &#x27;CLIMATE.CATEGORY&#x27;, &#x27;U.S._STATE&#x27;]),\n",
       "                                (&#x27;num&#x27;, StandardScaler(), [&#x27;MONTH&#x27;, &#x27;YEAR&#x27;])])</pre></div> </div></div><div class=\"sk-parallel\"><div class=\"sk-parallel-item\"><div class=\"sk-item\"><div class=\"sk-label-container\"><div class=\"sk-label  sk-toggleable\"><input class=\"sk-toggleable__control sk-hidden--visually\" id=\"sk-estimator-id-8\" type=\"checkbox\" ><label for=\"sk-estimator-id-8\" class=\"sk-toggleable__label  sk-toggleable__label-arrow \">cat</label><div class=\"sk-toggleable__content \"><pre>[&#x27;CAUSE.CATEGORY&#x27;, &#x27;NERC.REGION&#x27;, &#x27;CLIMATE.CATEGORY&#x27;, &#x27;U.S._STATE&#x27;]</pre></div> </div></div><div class=\"sk-serial\"><div class=\"sk-item\"><div class=\"sk-estimator  sk-toggleable\"><input class=\"sk-toggleable__control sk-hidden--visually\" id=\"sk-estimator-id-9\" type=\"checkbox\" ><label for=\"sk-estimator-id-9\" class=\"sk-toggleable__label  sk-toggleable__label-arrow \">&nbsp;OneHotEncoder<a class=\"sk-estimator-doc-link \" rel=\"noreferrer\" target=\"_blank\" href=\"https://scikit-learn.org/1.5/modules/generated/sklearn.preprocessing.OneHotEncoder.html\">?<span>Documentation for OneHotEncoder</span></a></label><div class=\"sk-toggleable__content \"><pre>OneHotEncoder(handle_unknown=&#x27;ignore&#x27;)</pre></div> </div></div></div></div></div><div class=\"sk-parallel-item\"><div class=\"sk-item\"><div class=\"sk-label-container\"><div class=\"sk-label  sk-toggleable\"><input class=\"sk-toggleable__control sk-hidden--visually\" id=\"sk-estimator-id-10\" type=\"checkbox\" ><label for=\"sk-estimator-id-10\" class=\"sk-toggleable__label  sk-toggleable__label-arrow \">num</label><div class=\"sk-toggleable__content \"><pre>[&#x27;MONTH&#x27;, &#x27;YEAR&#x27;]</pre></div> </div></div><div class=\"sk-serial\"><div class=\"sk-item\"><div class=\"sk-estimator  sk-toggleable\"><input class=\"sk-toggleable__control sk-hidden--visually\" id=\"sk-estimator-id-11\" type=\"checkbox\" ><label for=\"sk-estimator-id-11\" class=\"sk-toggleable__label  sk-toggleable__label-arrow \">&nbsp;StandardScaler<a class=\"sk-estimator-doc-link \" rel=\"noreferrer\" target=\"_blank\" href=\"https://scikit-learn.org/1.5/modules/generated/sklearn.preprocessing.StandardScaler.html\">?<span>Documentation for StandardScaler</span></a></label><div class=\"sk-toggleable__content \"><pre>StandardScaler()</pre></div> </div></div></div></div></div></div></div><div class=\"sk-item\"><div class=\"sk-estimator  sk-toggleable\"><input class=\"sk-toggleable__control sk-hidden--visually\" id=\"sk-estimator-id-12\" type=\"checkbox\" ><label for=\"sk-estimator-id-12\" class=\"sk-toggleable__label  sk-toggleable__label-arrow \">&nbsp;LinearRegression<a class=\"sk-estimator-doc-link \" rel=\"noreferrer\" target=\"_blank\" href=\"https://scikit-learn.org/1.5/modules/generated/sklearn.linear_model.LinearRegression.html\">?<span>Documentation for LinearRegression</span></a></label><div class=\"sk-toggleable__content \"><pre>LinearRegression()</pre></div> </div></div></div></div></div></div>"
      ],
      "text/plain": [
       "Pipeline(steps=[('preprocessor',\n",
       "                 ColumnTransformer(transformers=[('cat',\n",
       "                                                  OneHotEncoder(handle_unknown='ignore'),\n",
       "                                                  ['CAUSE.CATEGORY',\n",
       "                                                   'NERC.REGION',\n",
       "                                                   'CLIMATE.CATEGORY',\n",
       "                                                   'U.S._STATE']),\n",
       "                                                 ('num', StandardScaler(),\n",
       "                                                  ['MONTH', 'YEAR'])])),\n",
       "                ('lin-reg', LinearRegression())])"
      ]
     },
     "execution_count": 26,
     "metadata": {},
     "output_type": "execute_result"
    }
   ],
   "source": [
    "pl = Pipeline([\n",
    "    ('preprocessor', preprocessor), \n",
    "    ('lin-reg', LinearRegression())\n",
    "])\n",
    "\n",
    "pl"
   ]
  },
  {
   "cell_type": "code",
   "execution_count": 27,
   "metadata": {},
   "outputs": [
    {
     "data": {
      "text/html": [
       "<style>#sk-container-id-3 {\n",
       "  /* Definition of color scheme common for light and dark mode */\n",
       "  --sklearn-color-text: black;\n",
       "  --sklearn-color-line: gray;\n",
       "  /* Definition of color scheme for unfitted estimators */\n",
       "  --sklearn-color-unfitted-level-0: #fff5e6;\n",
       "  --sklearn-color-unfitted-level-1: #f6e4d2;\n",
       "  --sklearn-color-unfitted-level-2: #ffe0b3;\n",
       "  --sklearn-color-unfitted-level-3: chocolate;\n",
       "  /* Definition of color scheme for fitted estimators */\n",
       "  --sklearn-color-fitted-level-0: #f0f8ff;\n",
       "  --sklearn-color-fitted-level-1: #d4ebff;\n",
       "  --sklearn-color-fitted-level-2: #b3dbfd;\n",
       "  --sklearn-color-fitted-level-3: cornflowerblue;\n",
       "\n",
       "  /* Specific color for light theme */\n",
       "  --sklearn-color-text-on-default-background: var(--sg-text-color, var(--theme-code-foreground, var(--jp-content-font-color1, black)));\n",
       "  --sklearn-color-background: var(--sg-background-color, var(--theme-background, var(--jp-layout-color0, white)));\n",
       "  --sklearn-color-border-box: var(--sg-text-color, var(--theme-code-foreground, var(--jp-content-font-color1, black)));\n",
       "  --sklearn-color-icon: #696969;\n",
       "\n",
       "  @media (prefers-color-scheme: dark) {\n",
       "    /* Redefinition of color scheme for dark theme */\n",
       "    --sklearn-color-text-on-default-background: var(--sg-text-color, var(--theme-code-foreground, var(--jp-content-font-color1, white)));\n",
       "    --sklearn-color-background: var(--sg-background-color, var(--theme-background, var(--jp-layout-color0, #111)));\n",
       "    --sklearn-color-border-box: var(--sg-text-color, var(--theme-code-foreground, var(--jp-content-font-color1, white)));\n",
       "    --sklearn-color-icon: #878787;\n",
       "  }\n",
       "}\n",
       "\n",
       "#sk-container-id-3 {\n",
       "  color: var(--sklearn-color-text);\n",
       "}\n",
       "\n",
       "#sk-container-id-3 pre {\n",
       "  padding: 0;\n",
       "}\n",
       "\n",
       "#sk-container-id-3 input.sk-hidden--visually {\n",
       "  border: 0;\n",
       "  clip: rect(1px 1px 1px 1px);\n",
       "  clip: rect(1px, 1px, 1px, 1px);\n",
       "  height: 1px;\n",
       "  margin: -1px;\n",
       "  overflow: hidden;\n",
       "  padding: 0;\n",
       "  position: absolute;\n",
       "  width: 1px;\n",
       "}\n",
       "\n",
       "#sk-container-id-3 div.sk-dashed-wrapped {\n",
       "  border: 1px dashed var(--sklearn-color-line);\n",
       "  margin: 0 0.4em 0.5em 0.4em;\n",
       "  box-sizing: border-box;\n",
       "  padding-bottom: 0.4em;\n",
       "  background-color: var(--sklearn-color-background);\n",
       "}\n",
       "\n",
       "#sk-container-id-3 div.sk-container {\n",
       "  /* jupyter's `normalize.less` sets `[hidden] { display: none; }`\n",
       "     but bootstrap.min.css set `[hidden] { display: none !important; }`\n",
       "     so we also need the `!important` here to be able to override the\n",
       "     default hidden behavior on the sphinx rendered scikit-learn.org.\n",
       "     See: https://github.com/scikit-learn/scikit-learn/issues/21755 */\n",
       "  display: inline-block !important;\n",
       "  position: relative;\n",
       "}\n",
       "\n",
       "#sk-container-id-3 div.sk-text-repr-fallback {\n",
       "  display: none;\n",
       "}\n",
       "\n",
       "div.sk-parallel-item,\n",
       "div.sk-serial,\n",
       "div.sk-item {\n",
       "  /* draw centered vertical line to link estimators */\n",
       "  background-image: linear-gradient(var(--sklearn-color-text-on-default-background), var(--sklearn-color-text-on-default-background));\n",
       "  background-size: 2px 100%;\n",
       "  background-repeat: no-repeat;\n",
       "  background-position: center center;\n",
       "}\n",
       "\n",
       "/* Parallel-specific style estimator block */\n",
       "\n",
       "#sk-container-id-3 div.sk-parallel-item::after {\n",
       "  content: \"\";\n",
       "  width: 100%;\n",
       "  border-bottom: 2px solid var(--sklearn-color-text-on-default-background);\n",
       "  flex-grow: 1;\n",
       "}\n",
       "\n",
       "#sk-container-id-3 div.sk-parallel {\n",
       "  display: flex;\n",
       "  align-items: stretch;\n",
       "  justify-content: center;\n",
       "  background-color: var(--sklearn-color-background);\n",
       "  position: relative;\n",
       "}\n",
       "\n",
       "#sk-container-id-3 div.sk-parallel-item {\n",
       "  display: flex;\n",
       "  flex-direction: column;\n",
       "}\n",
       "\n",
       "#sk-container-id-3 div.sk-parallel-item:first-child::after {\n",
       "  align-self: flex-end;\n",
       "  width: 50%;\n",
       "}\n",
       "\n",
       "#sk-container-id-3 div.sk-parallel-item:last-child::after {\n",
       "  align-self: flex-start;\n",
       "  width: 50%;\n",
       "}\n",
       "\n",
       "#sk-container-id-3 div.sk-parallel-item:only-child::after {\n",
       "  width: 0;\n",
       "}\n",
       "\n",
       "/* Serial-specific style estimator block */\n",
       "\n",
       "#sk-container-id-3 div.sk-serial {\n",
       "  display: flex;\n",
       "  flex-direction: column;\n",
       "  align-items: center;\n",
       "  background-color: var(--sklearn-color-background);\n",
       "  padding-right: 1em;\n",
       "  padding-left: 1em;\n",
       "}\n",
       "\n",
       "\n",
       "/* Toggleable style: style used for estimator/Pipeline/ColumnTransformer box that is\n",
       "clickable and can be expanded/collapsed.\n",
       "- Pipeline and ColumnTransformer use this feature and define the default style\n",
       "- Estimators will overwrite some part of the style using the `sk-estimator` class\n",
       "*/\n",
       "\n",
       "/* Pipeline and ColumnTransformer style (default) */\n",
       "\n",
       "#sk-container-id-3 div.sk-toggleable {\n",
       "  /* Default theme specific background. It is overwritten whether we have a\n",
       "  specific estimator or a Pipeline/ColumnTransformer */\n",
       "  background-color: var(--sklearn-color-background);\n",
       "}\n",
       "\n",
       "/* Toggleable label */\n",
       "#sk-container-id-3 label.sk-toggleable__label {\n",
       "  cursor: pointer;\n",
       "  display: block;\n",
       "  width: 100%;\n",
       "  margin-bottom: 0;\n",
       "  padding: 0.5em;\n",
       "  box-sizing: border-box;\n",
       "  text-align: center;\n",
       "}\n",
       "\n",
       "#sk-container-id-3 label.sk-toggleable__label-arrow:before {\n",
       "  /* Arrow on the left of the label */\n",
       "  content: \"▸\";\n",
       "  float: left;\n",
       "  margin-right: 0.25em;\n",
       "  color: var(--sklearn-color-icon);\n",
       "}\n",
       "\n",
       "#sk-container-id-3 label.sk-toggleable__label-arrow:hover:before {\n",
       "  color: var(--sklearn-color-text);\n",
       "}\n",
       "\n",
       "/* Toggleable content - dropdown */\n",
       "\n",
       "#sk-container-id-3 div.sk-toggleable__content {\n",
       "  max-height: 0;\n",
       "  max-width: 0;\n",
       "  overflow: hidden;\n",
       "  text-align: left;\n",
       "  /* unfitted */\n",
       "  background-color: var(--sklearn-color-unfitted-level-0);\n",
       "}\n",
       "\n",
       "#sk-container-id-3 div.sk-toggleable__content.fitted {\n",
       "  /* fitted */\n",
       "  background-color: var(--sklearn-color-fitted-level-0);\n",
       "}\n",
       "\n",
       "#sk-container-id-3 div.sk-toggleable__content pre {\n",
       "  margin: 0.2em;\n",
       "  border-radius: 0.25em;\n",
       "  color: var(--sklearn-color-text);\n",
       "  /* unfitted */\n",
       "  background-color: var(--sklearn-color-unfitted-level-0);\n",
       "}\n",
       "\n",
       "#sk-container-id-3 div.sk-toggleable__content.fitted pre {\n",
       "  /* unfitted */\n",
       "  background-color: var(--sklearn-color-fitted-level-0);\n",
       "}\n",
       "\n",
       "#sk-container-id-3 input.sk-toggleable__control:checked~div.sk-toggleable__content {\n",
       "  /* Expand drop-down */\n",
       "  max-height: 200px;\n",
       "  max-width: 100%;\n",
       "  overflow: auto;\n",
       "}\n",
       "\n",
       "#sk-container-id-3 input.sk-toggleable__control:checked~label.sk-toggleable__label-arrow:before {\n",
       "  content: \"▾\";\n",
       "}\n",
       "\n",
       "/* Pipeline/ColumnTransformer-specific style */\n",
       "\n",
       "#sk-container-id-3 div.sk-label input.sk-toggleable__control:checked~label.sk-toggleable__label {\n",
       "  color: var(--sklearn-color-text);\n",
       "  background-color: var(--sklearn-color-unfitted-level-2);\n",
       "}\n",
       "\n",
       "#sk-container-id-3 div.sk-label.fitted input.sk-toggleable__control:checked~label.sk-toggleable__label {\n",
       "  background-color: var(--sklearn-color-fitted-level-2);\n",
       "}\n",
       "\n",
       "/* Estimator-specific style */\n",
       "\n",
       "/* Colorize estimator box */\n",
       "#sk-container-id-3 div.sk-estimator input.sk-toggleable__control:checked~label.sk-toggleable__label {\n",
       "  /* unfitted */\n",
       "  background-color: var(--sklearn-color-unfitted-level-2);\n",
       "}\n",
       "\n",
       "#sk-container-id-3 div.sk-estimator.fitted input.sk-toggleable__control:checked~label.sk-toggleable__label {\n",
       "  /* fitted */\n",
       "  background-color: var(--sklearn-color-fitted-level-2);\n",
       "}\n",
       "\n",
       "#sk-container-id-3 div.sk-label label.sk-toggleable__label,\n",
       "#sk-container-id-3 div.sk-label label {\n",
       "  /* The background is the default theme color */\n",
       "  color: var(--sklearn-color-text-on-default-background);\n",
       "}\n",
       "\n",
       "/* On hover, darken the color of the background */\n",
       "#sk-container-id-3 div.sk-label:hover label.sk-toggleable__label {\n",
       "  color: var(--sklearn-color-text);\n",
       "  background-color: var(--sklearn-color-unfitted-level-2);\n",
       "}\n",
       "\n",
       "/* Label box, darken color on hover, fitted */\n",
       "#sk-container-id-3 div.sk-label.fitted:hover label.sk-toggleable__label.fitted {\n",
       "  color: var(--sklearn-color-text);\n",
       "  background-color: var(--sklearn-color-fitted-level-2);\n",
       "}\n",
       "\n",
       "/* Estimator label */\n",
       "\n",
       "#sk-container-id-3 div.sk-label label {\n",
       "  font-family: monospace;\n",
       "  font-weight: bold;\n",
       "  display: inline-block;\n",
       "  line-height: 1.2em;\n",
       "}\n",
       "\n",
       "#sk-container-id-3 div.sk-label-container {\n",
       "  text-align: center;\n",
       "}\n",
       "\n",
       "/* Estimator-specific */\n",
       "#sk-container-id-3 div.sk-estimator {\n",
       "  font-family: monospace;\n",
       "  border: 1px dotted var(--sklearn-color-border-box);\n",
       "  border-radius: 0.25em;\n",
       "  box-sizing: border-box;\n",
       "  margin-bottom: 0.5em;\n",
       "  /* unfitted */\n",
       "  background-color: var(--sklearn-color-unfitted-level-0);\n",
       "}\n",
       "\n",
       "#sk-container-id-3 div.sk-estimator.fitted {\n",
       "  /* fitted */\n",
       "  background-color: var(--sklearn-color-fitted-level-0);\n",
       "}\n",
       "\n",
       "/* on hover */\n",
       "#sk-container-id-3 div.sk-estimator:hover {\n",
       "  /* unfitted */\n",
       "  background-color: var(--sklearn-color-unfitted-level-2);\n",
       "}\n",
       "\n",
       "#sk-container-id-3 div.sk-estimator.fitted:hover {\n",
       "  /* fitted */\n",
       "  background-color: var(--sklearn-color-fitted-level-2);\n",
       "}\n",
       "\n",
       "/* Specification for estimator info (e.g. \"i\" and \"?\") */\n",
       "\n",
       "/* Common style for \"i\" and \"?\" */\n",
       "\n",
       ".sk-estimator-doc-link,\n",
       "a:link.sk-estimator-doc-link,\n",
       "a:visited.sk-estimator-doc-link {\n",
       "  float: right;\n",
       "  font-size: smaller;\n",
       "  line-height: 1em;\n",
       "  font-family: monospace;\n",
       "  background-color: var(--sklearn-color-background);\n",
       "  border-radius: 1em;\n",
       "  height: 1em;\n",
       "  width: 1em;\n",
       "  text-decoration: none !important;\n",
       "  margin-left: 1ex;\n",
       "  /* unfitted */\n",
       "  border: var(--sklearn-color-unfitted-level-1) 1pt solid;\n",
       "  color: var(--sklearn-color-unfitted-level-1);\n",
       "}\n",
       "\n",
       ".sk-estimator-doc-link.fitted,\n",
       "a:link.sk-estimator-doc-link.fitted,\n",
       "a:visited.sk-estimator-doc-link.fitted {\n",
       "  /* fitted */\n",
       "  border: var(--sklearn-color-fitted-level-1) 1pt solid;\n",
       "  color: var(--sklearn-color-fitted-level-1);\n",
       "}\n",
       "\n",
       "/* On hover */\n",
       "div.sk-estimator:hover .sk-estimator-doc-link:hover,\n",
       ".sk-estimator-doc-link:hover,\n",
       "div.sk-label-container:hover .sk-estimator-doc-link:hover,\n",
       ".sk-estimator-doc-link:hover {\n",
       "  /* unfitted */\n",
       "  background-color: var(--sklearn-color-unfitted-level-3);\n",
       "  color: var(--sklearn-color-background);\n",
       "  text-decoration: none;\n",
       "}\n",
       "\n",
       "div.sk-estimator.fitted:hover .sk-estimator-doc-link.fitted:hover,\n",
       ".sk-estimator-doc-link.fitted:hover,\n",
       "div.sk-label-container:hover .sk-estimator-doc-link.fitted:hover,\n",
       ".sk-estimator-doc-link.fitted:hover {\n",
       "  /* fitted */\n",
       "  background-color: var(--sklearn-color-fitted-level-3);\n",
       "  color: var(--sklearn-color-background);\n",
       "  text-decoration: none;\n",
       "}\n",
       "\n",
       "/* Span, style for the box shown on hovering the info icon */\n",
       ".sk-estimator-doc-link span {\n",
       "  display: none;\n",
       "  z-index: 9999;\n",
       "  position: relative;\n",
       "  font-weight: normal;\n",
       "  right: .2ex;\n",
       "  padding: .5ex;\n",
       "  margin: .5ex;\n",
       "  width: min-content;\n",
       "  min-width: 20ex;\n",
       "  max-width: 50ex;\n",
       "  color: var(--sklearn-color-text);\n",
       "  box-shadow: 2pt 2pt 4pt #999;\n",
       "  /* unfitted */\n",
       "  background: var(--sklearn-color-unfitted-level-0);\n",
       "  border: .5pt solid var(--sklearn-color-unfitted-level-3);\n",
       "}\n",
       "\n",
       ".sk-estimator-doc-link.fitted span {\n",
       "  /* fitted */\n",
       "  background: var(--sklearn-color-fitted-level-0);\n",
       "  border: var(--sklearn-color-fitted-level-3);\n",
       "}\n",
       "\n",
       ".sk-estimator-doc-link:hover span {\n",
       "  display: block;\n",
       "}\n",
       "\n",
       "/* \"?\"-specific style due to the `<a>` HTML tag */\n",
       "\n",
       "#sk-container-id-3 a.estimator_doc_link {\n",
       "  float: right;\n",
       "  font-size: 1rem;\n",
       "  line-height: 1em;\n",
       "  font-family: monospace;\n",
       "  background-color: var(--sklearn-color-background);\n",
       "  border-radius: 1rem;\n",
       "  height: 1rem;\n",
       "  width: 1rem;\n",
       "  text-decoration: none;\n",
       "  /* unfitted */\n",
       "  color: var(--sklearn-color-unfitted-level-1);\n",
       "  border: var(--sklearn-color-unfitted-level-1) 1pt solid;\n",
       "}\n",
       "\n",
       "#sk-container-id-3 a.estimator_doc_link.fitted {\n",
       "  /* fitted */\n",
       "  border: var(--sklearn-color-fitted-level-1) 1pt solid;\n",
       "  color: var(--sklearn-color-fitted-level-1);\n",
       "}\n",
       "\n",
       "/* On hover */\n",
       "#sk-container-id-3 a.estimator_doc_link:hover {\n",
       "  /* unfitted */\n",
       "  background-color: var(--sklearn-color-unfitted-level-3);\n",
       "  color: var(--sklearn-color-background);\n",
       "  text-decoration: none;\n",
       "}\n",
       "\n",
       "#sk-container-id-3 a.estimator_doc_link.fitted:hover {\n",
       "  /* fitted */\n",
       "  background-color: var(--sklearn-color-fitted-level-3);\n",
       "}\n",
       "</style><div id=\"sk-container-id-3\" class=\"sk-top-container\"><div class=\"sk-text-repr-fallback\"><pre>Pipeline(steps=[(&#x27;onehotencoder&#x27;, OneHotEncoder(handle_unknown=&#x27;ignore&#x27;)),\n",
       "                (&#x27;linearregression&#x27;, LinearRegression())])</pre><b>In a Jupyter environment, please rerun this cell to show the HTML representation or trust the notebook. <br />On GitHub, the HTML representation is unable to render, please try loading this page with nbviewer.org.</b></div><div class=\"sk-container\" hidden><div class=\"sk-item sk-dashed-wrapped\"><div class=\"sk-label-container\"><div class=\"sk-label fitted sk-toggleable\"><input class=\"sk-toggleable__control sk-hidden--visually\" id=\"sk-estimator-id-13\" type=\"checkbox\" ><label for=\"sk-estimator-id-13\" class=\"sk-toggleable__label fitted sk-toggleable__label-arrow fitted\">&nbsp;&nbsp;Pipeline<a class=\"sk-estimator-doc-link fitted\" rel=\"noreferrer\" target=\"_blank\" href=\"https://scikit-learn.org/1.5/modules/generated/sklearn.pipeline.Pipeline.html\">?<span>Documentation for Pipeline</span></a><span class=\"sk-estimator-doc-link fitted\">i<span>Fitted</span></span></label><div class=\"sk-toggleable__content fitted\"><pre>Pipeline(steps=[(&#x27;onehotencoder&#x27;, OneHotEncoder(handle_unknown=&#x27;ignore&#x27;)),\n",
       "                (&#x27;linearregression&#x27;, LinearRegression())])</pre></div> </div></div><div class=\"sk-serial\"><div class=\"sk-item\"><div class=\"sk-estimator fitted sk-toggleable\"><input class=\"sk-toggleable__control sk-hidden--visually\" id=\"sk-estimator-id-14\" type=\"checkbox\" ><label for=\"sk-estimator-id-14\" class=\"sk-toggleable__label fitted sk-toggleable__label-arrow fitted\">&nbsp;OneHotEncoder<a class=\"sk-estimator-doc-link fitted\" rel=\"noreferrer\" target=\"_blank\" href=\"https://scikit-learn.org/1.5/modules/generated/sklearn.preprocessing.OneHotEncoder.html\">?<span>Documentation for OneHotEncoder</span></a></label><div class=\"sk-toggleable__content fitted\"><pre>OneHotEncoder(handle_unknown=&#x27;ignore&#x27;)</pre></div> </div></div><div class=\"sk-item\"><div class=\"sk-estimator fitted sk-toggleable\"><input class=\"sk-toggleable__control sk-hidden--visually\" id=\"sk-estimator-id-15\" type=\"checkbox\" ><label for=\"sk-estimator-id-15\" class=\"sk-toggleable__label fitted sk-toggleable__label-arrow fitted\">&nbsp;LinearRegression<a class=\"sk-estimator-doc-link fitted\" rel=\"noreferrer\" target=\"_blank\" href=\"https://scikit-learn.org/1.5/modules/generated/sklearn.linear_model.LinearRegression.html\">?<span>Documentation for LinearRegression</span></a></label><div class=\"sk-toggleable__content fitted\"><pre>LinearRegression()</pre></div> </div></div></div></div></div></div>"
      ],
      "text/plain": [
       "Pipeline(steps=[('onehotencoder', OneHotEncoder(handle_unknown='ignore')),\n",
       "                ('linearregression', LinearRegression())])"
      ]
     },
     "execution_count": 27,
     "metadata": {},
     "output_type": "execute_result"
    }
   ],
   "source": [
    "clean_df = outages_df.dropna(subset=[target] + features)\n",
    "x = clean_df[features]\n",
    "y = clean_df[target]\n",
    "\n",
    "model_with_std = make_pipeline(\n",
    "    OneHotEncoder(handle_unknown='ignore'),  \n",
    "    LinearRegression()\n",
    ")\n",
    "model_with_std.fit(x, y)"
   ]
  },
  {
   "cell_type": "code",
   "execution_count": 28,
   "metadata": {},
   "outputs": [],
   "source": [
    "X_train, X_test, y_train, y_test = train_test_split(\n",
    "    x, y, test_size=0.2, random_state=42\n",
    ")"
   ]
  },
  {
   "cell_type": "code",
   "execution_count": 29,
   "metadata": {},
   "outputs": [
    {
     "data": {
      "text/html": [
       "<style>#sk-container-id-4 {\n",
       "  /* Definition of color scheme common for light and dark mode */\n",
       "  --sklearn-color-text: black;\n",
       "  --sklearn-color-line: gray;\n",
       "  /* Definition of color scheme for unfitted estimators */\n",
       "  --sklearn-color-unfitted-level-0: #fff5e6;\n",
       "  --sklearn-color-unfitted-level-1: #f6e4d2;\n",
       "  --sklearn-color-unfitted-level-2: #ffe0b3;\n",
       "  --sklearn-color-unfitted-level-3: chocolate;\n",
       "  /* Definition of color scheme for fitted estimators */\n",
       "  --sklearn-color-fitted-level-0: #f0f8ff;\n",
       "  --sklearn-color-fitted-level-1: #d4ebff;\n",
       "  --sklearn-color-fitted-level-2: #b3dbfd;\n",
       "  --sklearn-color-fitted-level-3: cornflowerblue;\n",
       "\n",
       "  /* Specific color for light theme */\n",
       "  --sklearn-color-text-on-default-background: var(--sg-text-color, var(--theme-code-foreground, var(--jp-content-font-color1, black)));\n",
       "  --sklearn-color-background: var(--sg-background-color, var(--theme-background, var(--jp-layout-color0, white)));\n",
       "  --sklearn-color-border-box: var(--sg-text-color, var(--theme-code-foreground, var(--jp-content-font-color1, black)));\n",
       "  --sklearn-color-icon: #696969;\n",
       "\n",
       "  @media (prefers-color-scheme: dark) {\n",
       "    /* Redefinition of color scheme for dark theme */\n",
       "    --sklearn-color-text-on-default-background: var(--sg-text-color, var(--theme-code-foreground, var(--jp-content-font-color1, white)));\n",
       "    --sklearn-color-background: var(--sg-background-color, var(--theme-background, var(--jp-layout-color0, #111)));\n",
       "    --sklearn-color-border-box: var(--sg-text-color, var(--theme-code-foreground, var(--jp-content-font-color1, white)));\n",
       "    --sklearn-color-icon: #878787;\n",
       "  }\n",
       "}\n",
       "\n",
       "#sk-container-id-4 {\n",
       "  color: var(--sklearn-color-text);\n",
       "}\n",
       "\n",
       "#sk-container-id-4 pre {\n",
       "  padding: 0;\n",
       "}\n",
       "\n",
       "#sk-container-id-4 input.sk-hidden--visually {\n",
       "  border: 0;\n",
       "  clip: rect(1px 1px 1px 1px);\n",
       "  clip: rect(1px, 1px, 1px, 1px);\n",
       "  height: 1px;\n",
       "  margin: -1px;\n",
       "  overflow: hidden;\n",
       "  padding: 0;\n",
       "  position: absolute;\n",
       "  width: 1px;\n",
       "}\n",
       "\n",
       "#sk-container-id-4 div.sk-dashed-wrapped {\n",
       "  border: 1px dashed var(--sklearn-color-line);\n",
       "  margin: 0 0.4em 0.5em 0.4em;\n",
       "  box-sizing: border-box;\n",
       "  padding-bottom: 0.4em;\n",
       "  background-color: var(--sklearn-color-background);\n",
       "}\n",
       "\n",
       "#sk-container-id-4 div.sk-container {\n",
       "  /* jupyter's `normalize.less` sets `[hidden] { display: none; }`\n",
       "     but bootstrap.min.css set `[hidden] { display: none !important; }`\n",
       "     so we also need the `!important` here to be able to override the\n",
       "     default hidden behavior on the sphinx rendered scikit-learn.org.\n",
       "     See: https://github.com/scikit-learn/scikit-learn/issues/21755 */\n",
       "  display: inline-block !important;\n",
       "  position: relative;\n",
       "}\n",
       "\n",
       "#sk-container-id-4 div.sk-text-repr-fallback {\n",
       "  display: none;\n",
       "}\n",
       "\n",
       "div.sk-parallel-item,\n",
       "div.sk-serial,\n",
       "div.sk-item {\n",
       "  /* draw centered vertical line to link estimators */\n",
       "  background-image: linear-gradient(var(--sklearn-color-text-on-default-background), var(--sklearn-color-text-on-default-background));\n",
       "  background-size: 2px 100%;\n",
       "  background-repeat: no-repeat;\n",
       "  background-position: center center;\n",
       "}\n",
       "\n",
       "/* Parallel-specific style estimator block */\n",
       "\n",
       "#sk-container-id-4 div.sk-parallel-item::after {\n",
       "  content: \"\";\n",
       "  width: 100%;\n",
       "  border-bottom: 2px solid var(--sklearn-color-text-on-default-background);\n",
       "  flex-grow: 1;\n",
       "}\n",
       "\n",
       "#sk-container-id-4 div.sk-parallel {\n",
       "  display: flex;\n",
       "  align-items: stretch;\n",
       "  justify-content: center;\n",
       "  background-color: var(--sklearn-color-background);\n",
       "  position: relative;\n",
       "}\n",
       "\n",
       "#sk-container-id-4 div.sk-parallel-item {\n",
       "  display: flex;\n",
       "  flex-direction: column;\n",
       "}\n",
       "\n",
       "#sk-container-id-4 div.sk-parallel-item:first-child::after {\n",
       "  align-self: flex-end;\n",
       "  width: 50%;\n",
       "}\n",
       "\n",
       "#sk-container-id-4 div.sk-parallel-item:last-child::after {\n",
       "  align-self: flex-start;\n",
       "  width: 50%;\n",
       "}\n",
       "\n",
       "#sk-container-id-4 div.sk-parallel-item:only-child::after {\n",
       "  width: 0;\n",
       "}\n",
       "\n",
       "/* Serial-specific style estimator block */\n",
       "\n",
       "#sk-container-id-4 div.sk-serial {\n",
       "  display: flex;\n",
       "  flex-direction: column;\n",
       "  align-items: center;\n",
       "  background-color: var(--sklearn-color-background);\n",
       "  padding-right: 1em;\n",
       "  padding-left: 1em;\n",
       "}\n",
       "\n",
       "\n",
       "/* Toggleable style: style used for estimator/Pipeline/ColumnTransformer box that is\n",
       "clickable and can be expanded/collapsed.\n",
       "- Pipeline and ColumnTransformer use this feature and define the default style\n",
       "- Estimators will overwrite some part of the style using the `sk-estimator` class\n",
       "*/\n",
       "\n",
       "/* Pipeline and ColumnTransformer style (default) */\n",
       "\n",
       "#sk-container-id-4 div.sk-toggleable {\n",
       "  /* Default theme specific background. It is overwritten whether we have a\n",
       "  specific estimator or a Pipeline/ColumnTransformer */\n",
       "  background-color: var(--sklearn-color-background);\n",
       "}\n",
       "\n",
       "/* Toggleable label */\n",
       "#sk-container-id-4 label.sk-toggleable__label {\n",
       "  cursor: pointer;\n",
       "  display: block;\n",
       "  width: 100%;\n",
       "  margin-bottom: 0;\n",
       "  padding: 0.5em;\n",
       "  box-sizing: border-box;\n",
       "  text-align: center;\n",
       "}\n",
       "\n",
       "#sk-container-id-4 label.sk-toggleable__label-arrow:before {\n",
       "  /* Arrow on the left of the label */\n",
       "  content: \"▸\";\n",
       "  float: left;\n",
       "  margin-right: 0.25em;\n",
       "  color: var(--sklearn-color-icon);\n",
       "}\n",
       "\n",
       "#sk-container-id-4 label.sk-toggleable__label-arrow:hover:before {\n",
       "  color: var(--sklearn-color-text);\n",
       "}\n",
       "\n",
       "/* Toggleable content - dropdown */\n",
       "\n",
       "#sk-container-id-4 div.sk-toggleable__content {\n",
       "  max-height: 0;\n",
       "  max-width: 0;\n",
       "  overflow: hidden;\n",
       "  text-align: left;\n",
       "  /* unfitted */\n",
       "  background-color: var(--sklearn-color-unfitted-level-0);\n",
       "}\n",
       "\n",
       "#sk-container-id-4 div.sk-toggleable__content.fitted {\n",
       "  /* fitted */\n",
       "  background-color: var(--sklearn-color-fitted-level-0);\n",
       "}\n",
       "\n",
       "#sk-container-id-4 div.sk-toggleable__content pre {\n",
       "  margin: 0.2em;\n",
       "  border-radius: 0.25em;\n",
       "  color: var(--sklearn-color-text);\n",
       "  /* unfitted */\n",
       "  background-color: var(--sklearn-color-unfitted-level-0);\n",
       "}\n",
       "\n",
       "#sk-container-id-4 div.sk-toggleable__content.fitted pre {\n",
       "  /* unfitted */\n",
       "  background-color: var(--sklearn-color-fitted-level-0);\n",
       "}\n",
       "\n",
       "#sk-container-id-4 input.sk-toggleable__control:checked~div.sk-toggleable__content {\n",
       "  /* Expand drop-down */\n",
       "  max-height: 200px;\n",
       "  max-width: 100%;\n",
       "  overflow: auto;\n",
       "}\n",
       "\n",
       "#sk-container-id-4 input.sk-toggleable__control:checked~label.sk-toggleable__label-arrow:before {\n",
       "  content: \"▾\";\n",
       "}\n",
       "\n",
       "/* Pipeline/ColumnTransformer-specific style */\n",
       "\n",
       "#sk-container-id-4 div.sk-label input.sk-toggleable__control:checked~label.sk-toggleable__label {\n",
       "  color: var(--sklearn-color-text);\n",
       "  background-color: var(--sklearn-color-unfitted-level-2);\n",
       "}\n",
       "\n",
       "#sk-container-id-4 div.sk-label.fitted input.sk-toggleable__control:checked~label.sk-toggleable__label {\n",
       "  background-color: var(--sklearn-color-fitted-level-2);\n",
       "}\n",
       "\n",
       "/* Estimator-specific style */\n",
       "\n",
       "/* Colorize estimator box */\n",
       "#sk-container-id-4 div.sk-estimator input.sk-toggleable__control:checked~label.sk-toggleable__label {\n",
       "  /* unfitted */\n",
       "  background-color: var(--sklearn-color-unfitted-level-2);\n",
       "}\n",
       "\n",
       "#sk-container-id-4 div.sk-estimator.fitted input.sk-toggleable__control:checked~label.sk-toggleable__label {\n",
       "  /* fitted */\n",
       "  background-color: var(--sklearn-color-fitted-level-2);\n",
       "}\n",
       "\n",
       "#sk-container-id-4 div.sk-label label.sk-toggleable__label,\n",
       "#sk-container-id-4 div.sk-label label {\n",
       "  /* The background is the default theme color */\n",
       "  color: var(--sklearn-color-text-on-default-background);\n",
       "}\n",
       "\n",
       "/* On hover, darken the color of the background */\n",
       "#sk-container-id-4 div.sk-label:hover label.sk-toggleable__label {\n",
       "  color: var(--sklearn-color-text);\n",
       "  background-color: var(--sklearn-color-unfitted-level-2);\n",
       "}\n",
       "\n",
       "/* Label box, darken color on hover, fitted */\n",
       "#sk-container-id-4 div.sk-label.fitted:hover label.sk-toggleable__label.fitted {\n",
       "  color: var(--sklearn-color-text);\n",
       "  background-color: var(--sklearn-color-fitted-level-2);\n",
       "}\n",
       "\n",
       "/* Estimator label */\n",
       "\n",
       "#sk-container-id-4 div.sk-label label {\n",
       "  font-family: monospace;\n",
       "  font-weight: bold;\n",
       "  display: inline-block;\n",
       "  line-height: 1.2em;\n",
       "}\n",
       "\n",
       "#sk-container-id-4 div.sk-label-container {\n",
       "  text-align: center;\n",
       "}\n",
       "\n",
       "/* Estimator-specific */\n",
       "#sk-container-id-4 div.sk-estimator {\n",
       "  font-family: monospace;\n",
       "  border: 1px dotted var(--sklearn-color-border-box);\n",
       "  border-radius: 0.25em;\n",
       "  box-sizing: border-box;\n",
       "  margin-bottom: 0.5em;\n",
       "  /* unfitted */\n",
       "  background-color: var(--sklearn-color-unfitted-level-0);\n",
       "}\n",
       "\n",
       "#sk-container-id-4 div.sk-estimator.fitted {\n",
       "  /* fitted */\n",
       "  background-color: var(--sklearn-color-fitted-level-0);\n",
       "}\n",
       "\n",
       "/* on hover */\n",
       "#sk-container-id-4 div.sk-estimator:hover {\n",
       "  /* unfitted */\n",
       "  background-color: var(--sklearn-color-unfitted-level-2);\n",
       "}\n",
       "\n",
       "#sk-container-id-4 div.sk-estimator.fitted:hover {\n",
       "  /* fitted */\n",
       "  background-color: var(--sklearn-color-fitted-level-2);\n",
       "}\n",
       "\n",
       "/* Specification for estimator info (e.g. \"i\" and \"?\") */\n",
       "\n",
       "/* Common style for \"i\" and \"?\" */\n",
       "\n",
       ".sk-estimator-doc-link,\n",
       "a:link.sk-estimator-doc-link,\n",
       "a:visited.sk-estimator-doc-link {\n",
       "  float: right;\n",
       "  font-size: smaller;\n",
       "  line-height: 1em;\n",
       "  font-family: monospace;\n",
       "  background-color: var(--sklearn-color-background);\n",
       "  border-radius: 1em;\n",
       "  height: 1em;\n",
       "  width: 1em;\n",
       "  text-decoration: none !important;\n",
       "  margin-left: 1ex;\n",
       "  /* unfitted */\n",
       "  border: var(--sklearn-color-unfitted-level-1) 1pt solid;\n",
       "  color: var(--sklearn-color-unfitted-level-1);\n",
       "}\n",
       "\n",
       ".sk-estimator-doc-link.fitted,\n",
       "a:link.sk-estimator-doc-link.fitted,\n",
       "a:visited.sk-estimator-doc-link.fitted {\n",
       "  /* fitted */\n",
       "  border: var(--sklearn-color-fitted-level-1) 1pt solid;\n",
       "  color: var(--sklearn-color-fitted-level-1);\n",
       "}\n",
       "\n",
       "/* On hover */\n",
       "div.sk-estimator:hover .sk-estimator-doc-link:hover,\n",
       ".sk-estimator-doc-link:hover,\n",
       "div.sk-label-container:hover .sk-estimator-doc-link:hover,\n",
       ".sk-estimator-doc-link:hover {\n",
       "  /* unfitted */\n",
       "  background-color: var(--sklearn-color-unfitted-level-3);\n",
       "  color: var(--sklearn-color-background);\n",
       "  text-decoration: none;\n",
       "}\n",
       "\n",
       "div.sk-estimator.fitted:hover .sk-estimator-doc-link.fitted:hover,\n",
       ".sk-estimator-doc-link.fitted:hover,\n",
       "div.sk-label-container:hover .sk-estimator-doc-link.fitted:hover,\n",
       ".sk-estimator-doc-link.fitted:hover {\n",
       "  /* fitted */\n",
       "  background-color: var(--sklearn-color-fitted-level-3);\n",
       "  color: var(--sklearn-color-background);\n",
       "  text-decoration: none;\n",
       "}\n",
       "\n",
       "/* Span, style for the box shown on hovering the info icon */\n",
       ".sk-estimator-doc-link span {\n",
       "  display: none;\n",
       "  z-index: 9999;\n",
       "  position: relative;\n",
       "  font-weight: normal;\n",
       "  right: .2ex;\n",
       "  padding: .5ex;\n",
       "  margin: .5ex;\n",
       "  width: min-content;\n",
       "  min-width: 20ex;\n",
       "  max-width: 50ex;\n",
       "  color: var(--sklearn-color-text);\n",
       "  box-shadow: 2pt 2pt 4pt #999;\n",
       "  /* unfitted */\n",
       "  background: var(--sklearn-color-unfitted-level-0);\n",
       "  border: .5pt solid var(--sklearn-color-unfitted-level-3);\n",
       "}\n",
       "\n",
       ".sk-estimator-doc-link.fitted span {\n",
       "  /* fitted */\n",
       "  background: var(--sklearn-color-fitted-level-0);\n",
       "  border: var(--sklearn-color-fitted-level-3);\n",
       "}\n",
       "\n",
       ".sk-estimator-doc-link:hover span {\n",
       "  display: block;\n",
       "}\n",
       "\n",
       "/* \"?\"-specific style due to the `<a>` HTML tag */\n",
       "\n",
       "#sk-container-id-4 a.estimator_doc_link {\n",
       "  float: right;\n",
       "  font-size: 1rem;\n",
       "  line-height: 1em;\n",
       "  font-family: monospace;\n",
       "  background-color: var(--sklearn-color-background);\n",
       "  border-radius: 1rem;\n",
       "  height: 1rem;\n",
       "  width: 1rem;\n",
       "  text-decoration: none;\n",
       "  /* unfitted */\n",
       "  color: var(--sklearn-color-unfitted-level-1);\n",
       "  border: var(--sklearn-color-unfitted-level-1) 1pt solid;\n",
       "}\n",
       "\n",
       "#sk-container-id-4 a.estimator_doc_link.fitted {\n",
       "  /* fitted */\n",
       "  border: var(--sklearn-color-fitted-level-1) 1pt solid;\n",
       "  color: var(--sklearn-color-fitted-level-1);\n",
       "}\n",
       "\n",
       "/* On hover */\n",
       "#sk-container-id-4 a.estimator_doc_link:hover {\n",
       "  /* unfitted */\n",
       "  background-color: var(--sklearn-color-unfitted-level-3);\n",
       "  color: var(--sklearn-color-background);\n",
       "  text-decoration: none;\n",
       "}\n",
       "\n",
       "#sk-container-id-4 a.estimator_doc_link.fitted:hover {\n",
       "  /* fitted */\n",
       "  background-color: var(--sklearn-color-fitted-level-3);\n",
       "}\n",
       "</style><div id=\"sk-container-id-4\" class=\"sk-top-container\"><div class=\"sk-text-repr-fallback\"><pre>Pipeline(steps=[(&#x27;onehotencoder&#x27;, OneHotEncoder(handle_unknown=&#x27;ignore&#x27;)),\n",
       "                (&#x27;linearregression&#x27;, LinearRegression())])</pre><b>In a Jupyter environment, please rerun this cell to show the HTML representation or trust the notebook. <br />On GitHub, the HTML representation is unable to render, please try loading this page with nbviewer.org.</b></div><div class=\"sk-container\" hidden><div class=\"sk-item sk-dashed-wrapped\"><div class=\"sk-label-container\"><div class=\"sk-label fitted sk-toggleable\"><input class=\"sk-toggleable__control sk-hidden--visually\" id=\"sk-estimator-id-16\" type=\"checkbox\" ><label for=\"sk-estimator-id-16\" class=\"sk-toggleable__label fitted sk-toggleable__label-arrow fitted\">&nbsp;&nbsp;Pipeline<a class=\"sk-estimator-doc-link fitted\" rel=\"noreferrer\" target=\"_blank\" href=\"https://scikit-learn.org/1.5/modules/generated/sklearn.pipeline.Pipeline.html\">?<span>Documentation for Pipeline</span></a><span class=\"sk-estimator-doc-link fitted\">i<span>Fitted</span></span></label><div class=\"sk-toggleable__content fitted\"><pre>Pipeline(steps=[(&#x27;onehotencoder&#x27;, OneHotEncoder(handle_unknown=&#x27;ignore&#x27;)),\n",
       "                (&#x27;linearregression&#x27;, LinearRegression())])</pre></div> </div></div><div class=\"sk-serial\"><div class=\"sk-item\"><div class=\"sk-estimator fitted sk-toggleable\"><input class=\"sk-toggleable__control sk-hidden--visually\" id=\"sk-estimator-id-17\" type=\"checkbox\" ><label for=\"sk-estimator-id-17\" class=\"sk-toggleable__label fitted sk-toggleable__label-arrow fitted\">&nbsp;OneHotEncoder<a class=\"sk-estimator-doc-link fitted\" rel=\"noreferrer\" target=\"_blank\" href=\"https://scikit-learn.org/1.5/modules/generated/sklearn.preprocessing.OneHotEncoder.html\">?<span>Documentation for OneHotEncoder</span></a></label><div class=\"sk-toggleable__content fitted\"><pre>OneHotEncoder(handle_unknown=&#x27;ignore&#x27;)</pre></div> </div></div><div class=\"sk-item\"><div class=\"sk-estimator fitted sk-toggleable\"><input class=\"sk-toggleable__control sk-hidden--visually\" id=\"sk-estimator-id-18\" type=\"checkbox\" ><label for=\"sk-estimator-id-18\" class=\"sk-toggleable__label fitted sk-toggleable__label-arrow fitted\">&nbsp;LinearRegression<a class=\"sk-estimator-doc-link fitted\" rel=\"noreferrer\" target=\"_blank\" href=\"https://scikit-learn.org/1.5/modules/generated/sklearn.linear_model.LinearRegression.html\">?<span>Documentation for LinearRegression</span></a></label><div class=\"sk-toggleable__content fitted\"><pre>LinearRegression()</pre></div> </div></div></div></div></div></div>"
      ],
      "text/plain": [
       "Pipeline(steps=[('onehotencoder', OneHotEncoder(handle_unknown='ignore')),\n",
       "                ('linearregression', LinearRegression())])"
      ]
     },
     "execution_count": 29,
     "metadata": {},
     "output_type": "execute_result"
    }
   ],
   "source": [
    "model_with_std.fit(X_train, y_train)"
   ]
  },
  {
   "cell_type": "code",
   "execution_count": 30,
   "metadata": {},
   "outputs": [
    {
     "name": "stdout",
     "output_type": "stream",
     "text": [
      "=== Evaluation Metrics ===\n",
      "MAE: 2823.25 minutes\n",
      "RMSE: 7388.26 minutes\n",
      "R²: 0.1081\n"
     ]
    }
   ],
   "source": [
    "y_pred = model_with_std.predict(X_test)\n",
    "\n",
    "print(\"=== Evaluation Metrics ===\")\n",
    "print(f\"MAE: {mean_absolute_error(y_test, y_pred):.2f} minutes\")\n",
    "print(f\"RMSE: {root_mean_squared_error(y_test, y_pred):.2f} minutes\")\n",
    "print(f\"R²: {r2_score(y_test, y_pred):.4f}\")"
   ]
  },
  {
   "cell_type": "code",
   "execution_count": null,
   "metadata": {},
   "outputs": [],
   "source": []
  },
  {
   "cell_type": "markdown",
   "metadata": {},
   "source": [
    "## Step 7: Final Model"
   ]
  },
  {
   "cell_type": "markdown",
   "metadata": {},
   "source": [
    "Changes added to the baseline model to improve it: \n",
    "---\n",
    "###  1. We added two new features to give our model more contextual info:\n",
    "\n",
    "- **START_HOUR**  \n",
    "  - This was taken from the `OUTAGE.START` datetime column to represent the hour of the day that an outage would begin  \n",
    "  - This is useful because in real life, outages that start at night (e.g., 4 AM) may be resolved slower than those during daytime hours because more people are up and moving around to attend to the issue.\n",
    "\n",
    "- **POPDEN_URBAN (Transformed)**  \n",
    "  - This is a numeric column representing the urban population density of the affected area.  \n",
    "  - We transformed it using a **QuantileTransformer**, which converts the original skewed distribution into a uniform distribution because it helps spread out the values evenly between 0 and 1. This makes it easier to recognize the relationships even when the original data is not as even. \n",
    "\n",
    "\n",
    "---\n",
    "\n",
    "###  2. Preprocessing Updates\n",
    "\n",
    "We improved our preprocessing pipeline to better handle the different types of features:\n",
    "\n",
    "- **StandardScaler** was applied to:\n",
    "  - `MONTH`, `YEAR`, and our new `START_HOUR` column.\n",
    "  - This standardizes the numeric values so they have a mean of 0 and standard deviation of 1, helping linear models work more effectively.\n",
    "\n",
    "- **QuantileTransformer** was applied to:\n",
    "  - `POPDEN_URBAN`, to reduce skew and improve learnability.\n",
    "\n",
    "---\n",
    "\n",
    "###  Consistent Train/Test Split\n",
    "\n",
    "We used the **same train/test split** (`random_state = 42`) for both the baseline and final models.  \n",
    "This ensures our performance improvements come from better feature engineering and preprocessing — not from differences in the data used for evaluation.\n",
    "\n",
    "---"
   ]
  },
  {
   "cell_type": "code",
   "execution_count": 31,
   "metadata": {
    "ExecuteTime": {
     "end_time": "2019-10-31T23:36:28.662099Z",
     "start_time": "2019-10-31T23:36:28.660016Z"
    }
   },
   "outputs": [],
   "source": [
    "def root_mean_squared_error(y_true, y_pred):\n",
    "    return np.sqrt(mean_squared_error(y_true, y_pred))"
   ]
  },
  {
   "cell_type": "code",
   "execution_count": 32,
   "metadata": {},
   "outputs": [],
   "source": [
    "clean_df = outages_df.copy()\n",
    "clean_df['START_HOUR'] = clean_df['OUTAGE.START'].dt.hour\n",
    "clean_df['OUTAGE.DURATION'] = pd.to_numeric(clean_df['OUTAGE.DURATION'], errors='coerce')\n",
    "\n",
    "required_columns = [\n",
    "    'CAUSE.CATEGORY', 'NERC.REGION', 'U.S._STATE',\n",
    "    'MONTH', 'YEAR', 'POPDEN_URBAN', 'START_HOUR', 'OUTAGE.DURATION'\n",
    "]\n",
    "clean_df = clean_df.dropna(subset=required_columns)\n",
    "\n",
    "features_final = [\n",
    "    'CAUSE.CATEGORY', 'NERC.REGION', 'U.S._STATE',\n",
    "    'MONTH', 'YEAR', 'START_HOUR', 'POPDEN_URBAN'\n",
    "]\n",
    "x = clean_df[features_final]\n",
    "y = clean_df['OUTAGE.DURATION']"
   ]
  },
  {
   "cell_type": "code",
   "execution_count": 33,
   "metadata": {},
   "outputs": [],
   "source": [
    "categorical_cols = ['CAUSE.CATEGORY', 'NERC.REGION', 'U.S._STATE']\n",
    "numerical_cols = ['MONTH', 'YEAR', 'START_HOUR']\n",
    "quantile_cols = ['POPDEN_URBAN']\n",
    "\n",
    "preprocessor = make_column_transformer(\n",
    "    (OneHotEncoder(handle_unknown='ignore'), categorical_cols),\n",
    "    (StandardScaler(), numerical_cols),\n",
    "    (QuantileTransformer(output_distribution='uniform'), quantile_cols)\n",
    ")"
   ]
  },
  {
   "cell_type": "code",
   "execution_count": 34,
   "metadata": {},
   "outputs": [],
   "source": [
    "final_model = Pipeline([\n",
    "    ('preprocessor', preprocessor),\n",
    "    ('regressor', LinearRegression())\n",
    "])"
   ]
  },
  {
   "cell_type": "code",
   "execution_count": 35,
   "metadata": {},
   "outputs": [],
   "source": [
    "X_train, X_test, y_train, y_test = train_test_split(\n",
    "    x, y, test_size=0.2, random_state=42\n",
    ")\n",
    "\n",
    "final_model.fit(X_train, y_train)\n",
    "y_pred = final_model.predict(X_test)"
   ]
  },
  {
   "cell_type": "code",
   "execution_count": 36,
   "metadata": {},
   "outputs": [
    {
     "name": "stdout",
     "output_type": "stream",
     "text": [
      "=== Final Model Evaluation Metrics ===\n",
      "MAE: 2622.27 minutes\n",
      "RMSE: 7221.41 minutes\n",
      "R²: 0.1501\n"
     ]
    },
    {
     "data": {
      "image/png": "[encoded data removed]",
      "text/plain": [
       "<Figure size 1000x600 with 1 Axes>"
      ]
     },
     "metadata": {},
     "output_type": "display_data"
    }
   ],
   "source": [
    "#output \n",
    "\n",
    "print(\"=== Final Model Evaluation Metrics ===\")\n",
    "print(f\"MAE: {mean_absolute_error(y_test, y_pred):.2f} minutes\")\n",
    "print(f\"RMSE: {root_mean_squared_error(y_test, y_pred):.2f} minutes\")\n",
    "print(f\"R²: {r2_score(y_test, y_pred):.4f}\")\n",
    "\n",
    "residuals = y_test - y_pred\n",
    "mean_resid = residuals.mean()\n",
    "\n",
    "plt.figure(figsize=(10, 6))\n",
    "sns.histplot(residuals, bins=40, kde=True, color='tomato', edgecolor='black')\n",
    "\n",
    "plt.axvline(0, color='black', linestyle='--', linewidth=1.5, label='Zero Error')\n",
    "plt.axvline(mean_resid, color='red', linestyle='--', linewidth=1.5, label=f'Mean Residual = {mean_resid:.1f}')\n",
    "\n",
    "plt.title(\"Residuals Histogram\", fontsize=16)\n",
    "plt.xlabel(\"Prediction Error (minutes)\", fontsize=12)\n",
    "plt.ylabel(\"Frequency\", fontsize=12)\n",
    "plt.legend()\n",
    "plt.grid(True, linestyle='--', alpha=0.6)\n",
    "plt.tight_layout()\n",
    "\n",
    "plt.xlim(-10000, 20000)\n",
    "\n",
    "plt.show()"
   ]
  },
  {
   "cell_type": "markdown",
   "metadata": {},
   "source": [
    "### Did we improve our baseline model? \n",
    "\n",
    "These modifications gave our final model more relevant and well-scaled information, allowing it to make more accurate predictions and we know this because our  \n",
    " **MAE and RMSE decreased**, and **R² increased**, indicating improved performance over the baseline."
   ]
  },
  {
   "cell_type": "markdown",
   "metadata": {},
   "source": [
    "## Step 8: Fairness Analysis"
   ]
  },
  {
   "cell_type": "markdown",
   "metadata": {},
   "source": [
    "### Does the Model Perform Worse depending on the Cause of the Outage?\n",
    "\n",
    "We are evaluating fairness in our final regression model by comparing its prediction error (using RMSE) across two groups based on the `CAUSE.CATEGORY` column:\n",
    "\n",
    "- Group X: Outages caused by **Severe Weather**\n",
    "- Group Y: Outages caused by **Equipment Failure**\n",
    "\n",
    "#### Null Hypothesis (H₀):\n",
    "Our model is **fair**. The RMSE is similar for both groups, and any observed difference in prediction error is due to random chance.\n",
    "\n",
    "#### Alternative Hypothesis (H₁):\n",
    "Our model is **unfair**. The RMSE is **higher for the Severe Weather group** compared to the Equipment Failure group, indicating worse model performance for that group."
   ]
  },
  {
   "cell_type": "code",
   "execution_count": 37,
   "metadata": {
    "ExecuteTime": {
     "end_time": "2019-10-31T23:36:28.666489Z",
     "start_time": "2019-10-31T23:36:28.664381Z"
    }
   },
   "outputs": [],
   "source": [
    "def rmse(y_true, y_pred):\n",
    "    return np.sqrt(mean_squared_error(y_true, y_pred))"
   ]
  },
  {
   "cell_type": "code",
   "execution_count": 38,
   "metadata": {},
   "outputs": [],
   "source": [
    "X_raw = clean_df.loc[X_test.index].copy() \n",
    "y_true = y_test.copy()\n",
    "y_pred = final_model.predict(X_test)\n",
    "\n",
    "fair_df = X_raw[['CAUSE.CATEGORY']].copy()\n",
    "fair_df['y_true'] = y_true\n",
    "fair_df['y_pred'] = y_pred\n",
    "\n",
    "fair_df['CAUSE.CATEGORY'] = fair_df['CAUSE.CATEGORY'].str.lower().str.strip()\n",
    "\n",
    "fair_df = fair_df[fair_df['CAUSE.CATEGORY'].isin(['severe weather', 'equipment failure'])].copy()\n"
   ]
  },
  {
   "cell_type": "code",
   "execution_count": 39,
   "metadata": {},
   "outputs": [
    {
     "name": "stdout",
     "output_type": "stream",
     "text": [
      "Group counts:\n",
      " CAUSE.CATEGORY\n",
      "severe weather       149\n",
      "equipment failure     10\n",
      "Name: count, dtype: int64\n",
      "Observed RMSE Difference (Severe - Equipment): 3077.0183\n"
     ]
    }
   ],
   "source": [
    "print(\"Group counts:\\n\", fair_df['CAUSE.CATEGORY'].value_counts())\n",
    "\n",
    "rmse_severe = rmse(\n",
    "    fair_df[fair_df['CAUSE.CATEGORY'] == 'severe weather']['y_true'],\n",
    "    fair_df[fair_df['CAUSE.CATEGORY'] == 'severe weather']['y_pred']\n",
    ")\n",
    "\n",
    "rmse_equipment = rmse(\n",
    "    fair_df[fair_df['CAUSE.CATEGORY'] == 'equipment failure']['y_true'],\n",
    "    fair_df[fair_df['CAUSE.CATEGORY'] == 'equipment failure']['y_pred']\n",
    ")\n",
    "\n",
    "observed_diff = rmse_severe - rmse_equipment\n",
    "print(f\"Observed RMSE Difference (Severe - Equipment): {observed_diff:.4f}\")"
   ]
  },
  {
   "cell_type": "code",
   "execution_count": 40,
   "metadata": {},
   "outputs": [
    {
     "name": "stdout",
     "output_type": "stream",
     "text": [
      "P-value (based on 739 valid reps): 0.1110\n"
     ]
    }
   ],
   "source": [
    "n_reps = 1000\n",
    "diffs = []\n",
    "valid_reps = 0 \n",
    "\n",
    "for _ in range(n_reps):\n",
    "   \n",
    "    shuffled = fair_df['CAUSE.CATEGORY'].sample(frac=1, replace=False).reset_index(drop=True)\n",
    "    fair_df['shuffled_group'] = shuffled\n",
    "\n",
    " \n",
    "    grp_severe = fair_df[fair_df['shuffled_group'] == 'severe weather']\n",
    "    grp_equipment = fair_df[fair_df['shuffled_group'] == 'equipment failure']\n",
    "\n",
    "    if len(grp_severe) == 0 or len(grp_equipment) == 0:\n",
    "        continue\n",
    "\n",
    "    rmse_a = rmse(grp_severe['y_true'], grp_severe['y_pred'])\n",
    "    rmse_b = rmse(grp_equipment['y_true'], grp_equipment['y_pred'])\n",
    "\n",
    "    diffs.append(rmse_a - rmse_b)\n",
    "    valid_reps += 1\n",
    "\n",
    "if valid_reps == 0:\n",
    "    raise ValueError(\"No valid permutation iterations: check your group labels and sample size.\")\n",
    "\n",
    "diffs = np.array(diffs)\n",
    "p_value = np.mean(diffs >= observed_diff)\n",
    "\n",
    "print(f\"P-value (based on {valid_reps} valid reps): {p_value:.4f}\")\n"
   ]
  },
  {
   "cell_type": "code",
   "execution_count": 41,
   "metadata": {},
   "outputs": [
    {
     "data": {
      "image/png": "[encoded data removed]",
      "text/plain": [
       "<Figure size 1000x600 with 1 Axes>"
      ]
     },
     "metadata": {},
     "output_type": "display_data"
    }
   ],
   "source": [
    "plt.figure(figsize=(10, 6))\n",
    "sns.histplot(diffs, bins=30, edgecolor='black', color='coral')\n",
    "\n",
    "plt.axvline(observed_diff, color='red', linestyle='--', linewidth=2, label=f'Observed Diff = {observed_diff:.1f}')\n",
    "plt.axvline(np.mean(diffs), color='black', linestyle='--', linewidth=1, label='Null Mean')\n",
    "\n",
    "plt.title(\"Permutation Test: RMSE Difference\\nSevere Weather vs. Equipment Failure\", fontsize=16)\n",
    "plt.xlabel(\"RMSE Difference (Severe - Equipment)\", fontsize=12)\n",
    "plt.ylabel(\"Frequency\", fontsize=12)\n",
    "plt.legend()\n",
    "plt.grid(True, linestyle='--', alpha=0.5)\n",
    "plt.tight_layout()\n",
    "\n",
    "plt.xlim(min(-10000, min(diffs)), max(4000, max(diffs)))\n",
    "\n",
    "plt.show()"
   ]
  },
  {
   "cell_type": "markdown",
   "metadata": {},
   "source": [
    "## What can we conclude from this graph? \n",
    "\n",
    "We compared our model’s performance on outages caused by:\n",
    "- **Severe Weather**\n",
    "- **Equipment Failure**\n",
    "\n",
    "Using RMSE as the error metric and a permutation test, we found:\n",
    "\n",
    "- **Observed RMSE Difference**: 3077.0 minutes (Severe – Equipment)\n",
    "- **P-value**: 0.0933\n",
    "\n",
    "### Conclusion:\n",
    "The model appears to perform worse for severe weather outages, with RMSE over 3,000 minutes higher on average. While the result is not statistically significant at the 0.05 level, the relatively low p-value suggests a possible performance disparity worth further investigation in future modeling."
   ]
  }
 ],
 "metadata": {
  "kernelspec": {
   "display_name": "dsc80",
   "language": "python",
   "name": "python3"
  },
  "language_info": {
   "codemirror_mode": {
    "name": "ipython",
    "version": 3
   },
   "file_extension": ".py",
   "mimetype": "text/x-python",
   "name": "python",
   "nbconvert_exporter": "python",
   "pygments_lexer": "ipython3",
   "version": "3.12.10"
  }
 },
 "nbformat": 4,
 "nbformat_minor": 4
}
